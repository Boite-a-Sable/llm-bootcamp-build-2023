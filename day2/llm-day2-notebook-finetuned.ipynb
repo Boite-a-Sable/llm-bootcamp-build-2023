{
 "cells": [
  {
   "cell_type": "markdown",
   "metadata": {},
   "source": [
    "# BUILD LLM Bootcamp Day 2"
   ]
  },
  {
   "cell_type": "markdown",
   "metadata": {},
   "source": [
    "### Install Libraries"
   ]
  },
  {
   "cell_type": "code",
   "execution_count": 25,
   "metadata": {
    "tags": []
   },
   "outputs": [
    {
     "name": "stdout",
     "output_type": "stream",
     "text": [
      "Processing ./snowflake_ml_python-1.0.12-py3-none-any.whl\n",
      "Installing collected packages: snowflake-ml-python\n",
      "  Attempting uninstall: snowflake-ml-python\n",
      "    Found existing installation: snowflake-ml-python 1.0.12\n",
      "    Uninstalling snowflake-ml-python-1.0.12:\n",
      "      Successfully uninstalled snowflake-ml-python-1.0.12\n",
      "Successfully installed snowflake-ml-python-1.0.12\n",
      "\u001b[33mWARNING: Running pip as the 'root' user can result in broken permissions and conflicting behaviour with the system package manager. It is recommended to use a virtual environment instead: https://pip.pypa.io/warnings/venv\u001b[0m\u001b[33m\n",
      "\u001b[0m"
     ]
    }
   ],
   "source": [
    "!pip install --no-deps --force-reinstall snowflake_ml_python-1.0.12-py3-none-any.whl"
   ]
  },
  {
   "cell_type": "code",
   "execution_count": 26,
   "metadata": {
    "tags": []
   },
   "outputs": [
    {
     "name": "stdout",
     "output_type": "stream",
     "text": [
      "Requirement already satisfied: peft in /opt/conda/envs/rapids/lib/python3.8/site-packages (0.6.2)\n",
      "Requirement already satisfied: transformers==4.34.0 in /opt/conda/envs/rapids/lib/python3.8/site-packages (4.34.0)\n",
      "Requirement already satisfied: tokenizers in /opt/conda/envs/rapids/lib/python3.8/site-packages (0.14.1)\n",
      "Requirement already satisfied: vllm==0.2.1.post1 in /opt/conda/envs/rapids/lib/python3.8/site-packages (0.2.1.post1)\n",
      "Requirement already satisfied: bitsandbytes in /opt/conda/envs/rapids/lib/python3.8/site-packages (0.41.2.post2)\n",
      "Requirement already satisfied: datasets in /opt/conda/envs/rapids/lib/python3.8/site-packages (2.14.6)\n",
      "Requirement already satisfied: absl-py==1.3.0 in /opt/conda/envs/rapids/lib/python3.8/site-packages (1.3.0)\n",
      "Requirement already satisfied: pyyaml>=5.1 in /opt/conda/envs/rapids/lib/python3.8/site-packages (from transformers==4.34.0) (6.0)\n",
      "Requirement already satisfied: packaging>=20.0 in /opt/conda/envs/rapids/lib/python3.8/site-packages (from transformers==4.34.0) (23.1)\n",
      "Requirement already satisfied: filelock in /opt/conda/envs/rapids/lib/python3.8/site-packages (from transformers==4.34.0) (3.9.0)\n",
      "Requirement already satisfied: huggingface-hub<1.0,>=0.16.4 in /opt/conda/envs/rapids/lib/python3.8/site-packages (from transformers==4.34.0) (0.17.3)\n",
      "Requirement already satisfied: requests in /opt/conda/envs/rapids/lib/python3.8/site-packages (from transformers==4.34.0) (2.28.2)\n",
      "Requirement already satisfied: safetensors>=0.3.1 in /opt/conda/envs/rapids/lib/python3.8/site-packages (from transformers==4.34.0) (0.4.0)\n",
      "Requirement already satisfied: regex!=2019.12.17 in /opt/conda/envs/rapids/lib/python3.8/site-packages (from transformers==4.34.0) (2023.10.3)\n",
      "Requirement already satisfied: tqdm>=4.27 in /opt/conda/envs/rapids/lib/python3.8/site-packages (from transformers==4.34.0) (4.65.0)\n",
      "Requirement already satisfied: numpy>=1.17 in /opt/conda/envs/rapids/lib/python3.8/site-packages (from transformers==4.34.0) (1.23.5)\n",
      "Requirement already satisfied: psutil in /opt/conda/envs/rapids/lib/python3.8/site-packages (from vllm==0.2.1.post1) (5.9.4)\n",
      "Requirement already satisfied: sentencepiece in /opt/conda/envs/rapids/lib/python3.8/site-packages (from vllm==0.2.1.post1) (0.1.99)\n",
      "Requirement already satisfied: xformers==0.0.22 in /opt/conda/envs/rapids/lib/python3.8/site-packages (from vllm==0.2.1.post1) (0.0.22)\n",
      "Requirement already satisfied: ninja in /opt/conda/envs/rapids/lib/python3.8/site-packages (from vllm==0.2.1.post1) (1.11.1.1)\n",
      "Requirement already satisfied: uvicorn[standard] in /opt/conda/envs/rapids/lib/python3.8/site-packages (from vllm==0.2.1.post1) (0.21.1)\n",
      "Requirement already satisfied: torch==2.0.1 in /opt/conda/envs/rapids/lib/python3.8/site-packages (from vllm==0.2.1.post1) (2.0.1)\n",
      "Requirement already satisfied: fastapi in /opt/conda/envs/rapids/lib/python3.8/site-packages (from vllm==0.2.1.post1) (0.86.0)\n",
      "Requirement already satisfied: pyarrow in /opt/conda/envs/rapids/lib/python3.8/site-packages (from vllm==0.2.1.post1) (10.0.1)\n",
      "Requirement already satisfied: pandas in /opt/conda/envs/rapids/lib/python3.8/site-packages (from vllm==0.2.1.post1) (1.5.3)\n",
      "Requirement already satisfied: ray>=2.5.1 in /opt/conda/envs/rapids/lib/python3.8/site-packages (from vllm==0.2.1.post1) (2.8.0)\n",
      "Requirement already satisfied: pydantic<2 in /opt/conda/envs/rapids/lib/python3.8/site-packages (from vllm==0.2.1.post1) (1.10.7)\n",
      "Requirement already satisfied: nvidia-cuda-nvrtc-cu11==11.7.99 in /opt/conda/envs/rapids/lib/python3.8/site-packages (from torch==2.0.1->vllm==0.2.1.post1) (11.7.99)\n",
      "Requirement already satisfied: nvidia-nvtx-cu11==11.7.91 in /opt/conda/envs/rapids/lib/python3.8/site-packages (from torch==2.0.1->vllm==0.2.1.post1) (11.7.91)\n",
      "Requirement already satisfied: sympy in /opt/conda/envs/rapids/lib/python3.8/site-packages (from torch==2.0.1->vllm==0.2.1.post1) (1.12)\n",
      "Requirement already satisfied: nvidia-cuda-cupti-cu11==11.7.101 in /opt/conda/envs/rapids/lib/python3.8/site-packages (from torch==2.0.1->vllm==0.2.1.post1) (11.7.101)\n",
      "Requirement already satisfied: nvidia-cusolver-cu11==11.4.0.1 in /opt/conda/envs/rapids/lib/python3.8/site-packages (from torch==2.0.1->vllm==0.2.1.post1) (11.4.0.1)\n",
      "Requirement already satisfied: nvidia-cuda-runtime-cu11==11.7.99 in /opt/conda/envs/rapids/lib/python3.8/site-packages (from torch==2.0.1->vllm==0.2.1.post1) (11.7.99)\n",
      "Requirement already satisfied: triton==2.0.0 in /opt/conda/envs/rapids/lib/python3.8/site-packages (from torch==2.0.1->vllm==0.2.1.post1) (2.0.0)\n",
      "Requirement already satisfied: nvidia-cublas-cu11==11.10.3.66 in /opt/conda/envs/rapids/lib/python3.8/site-packages (from torch==2.0.1->vllm==0.2.1.post1) (11.10.3.66)\n",
      "Requirement already satisfied: networkx in /opt/conda/envs/rapids/lib/python3.8/site-packages (from torch==2.0.1->vllm==0.2.1.post1) (3.1)\n",
      "Requirement already satisfied: nvidia-curand-cu11==10.2.10.91 in /opt/conda/envs/rapids/lib/python3.8/site-packages (from torch==2.0.1->vllm==0.2.1.post1) (10.2.10.91)\n",
      "Requirement already satisfied: nvidia-nccl-cu11==2.14.3 in /opt/conda/envs/rapids/lib/python3.8/site-packages (from torch==2.0.1->vllm==0.2.1.post1) (2.14.3)\n",
      "Requirement already satisfied: nvidia-cufft-cu11==10.9.0.58 in /opt/conda/envs/rapids/lib/python3.8/site-packages (from torch==2.0.1->vllm==0.2.1.post1) (10.9.0.58)\n",
      "Requirement already satisfied: nvidia-cudnn-cu11==8.5.0.96 in /opt/conda/envs/rapids/lib/python3.8/site-packages (from torch==2.0.1->vllm==0.2.1.post1) (8.5.0.96)\n",
      "Requirement already satisfied: nvidia-cusparse-cu11==11.7.4.91 in /opt/conda/envs/rapids/lib/python3.8/site-packages (from torch==2.0.1->vllm==0.2.1.post1) (11.7.4.91)\n",
      "Requirement already satisfied: typing-extensions in /opt/conda/envs/rapids/lib/python3.8/site-packages (from torch==2.0.1->vllm==0.2.1.post1) (4.5.0)\n",
      "Requirement already satisfied: jinja2 in /opt/conda/envs/rapids/lib/python3.8/site-packages (from torch==2.0.1->vllm==0.2.1.post1) (3.1.2)\n",
      "Requirement already satisfied: wheel in /opt/conda/envs/rapids/lib/python3.8/site-packages (from nvidia-cublas-cu11==11.10.3.66->torch==2.0.1->vllm==0.2.1.post1) (0.40.0)\n",
      "Requirement already satisfied: setuptools in /opt/conda/envs/rapids/lib/python3.8/site-packages (from nvidia-cublas-cu11==11.10.3.66->torch==2.0.1->vllm==0.2.1.post1) (67.6.1)\n",
      "Requirement already satisfied: lit in /opt/conda/envs/rapids/lib/python3.8/site-packages (from triton==2.0.0->torch==2.0.1->vllm==0.2.1.post1) (17.0.5)\n",
      "Requirement already satisfied: cmake in /opt/conda/envs/rapids/lib/python3.8/site-packages (from triton==2.0.0->torch==2.0.1->vllm==0.2.1.post1) (3.27.7)\n",
      "Requirement already satisfied: accelerate>=0.21.0 in /opt/conda/envs/rapids/lib/python3.8/site-packages (from peft) (0.24.1)\n",
      "Requirement already satisfied: dill<0.3.8,>=0.3.0 in /opt/conda/envs/rapids/lib/python3.8/site-packages (from datasets) (0.3.7)\n",
      "Requirement already satisfied: multiprocess in /opt/conda/envs/rapids/lib/python3.8/site-packages (from datasets) (0.70.15)\n",
      "Requirement already satisfied: xxhash in /opt/conda/envs/rapids/lib/python3.8/site-packages (from datasets) (3.4.1)\n",
      "Requirement already satisfied: fsspec[http]<=2023.10.0,>=2023.1.0 in /opt/conda/envs/rapids/lib/python3.8/site-packages (from datasets) (2023.4.0)\n",
      "Requirement already satisfied: aiohttp in /opt/conda/envs/rapids/lib/python3.8/site-packages (from datasets) (3.8.4)\n",
      "Requirement already satisfied: yarl<2.0,>=1.0 in /opt/conda/envs/rapids/lib/python3.8/site-packages (from aiohttp->datasets) (1.8.2)\n",
      "Requirement already satisfied: aiosignal>=1.1.2 in /opt/conda/envs/rapids/lib/python3.8/site-packages (from aiohttp->datasets) (1.3.1)\n",
      "Requirement already satisfied: charset-normalizer<4.0,>=2.0 in /opt/conda/envs/rapids/lib/python3.8/site-packages (from aiohttp->datasets) (2.1.1)\n",
      "Requirement already satisfied: multidict<7.0,>=4.5 in /opt/conda/envs/rapids/lib/python3.8/site-packages (from aiohttp->datasets) (6.0.4)\n",
      "Requirement already satisfied: attrs>=17.3.0 in /opt/conda/envs/rapids/lib/python3.8/site-packages (from aiohttp->datasets) (22.2.0)\n",
      "Requirement already satisfied: async-timeout<5.0,>=4.0.0a3 in /opt/conda/envs/rapids/lib/python3.8/site-packages (from aiohttp->datasets) (4.0.2)\n",
      "Requirement already satisfied: frozenlist>=1.1.1 in /opt/conda/envs/rapids/lib/python3.8/site-packages (from aiohttp->datasets) (1.3.3)\n",
      "Requirement already satisfied: click>=7.0 in /opt/conda/envs/rapids/lib/python3.8/site-packages (from ray>=2.5.1->vllm==0.2.1.post1) (8.1.3)\n",
      "Requirement already satisfied: jsonschema in /opt/conda/envs/rapids/lib/python3.8/site-packages (from ray>=2.5.1->vllm==0.2.1.post1) (4.17.3)\n",
      "Requirement already satisfied: protobuf!=3.19.5,>=3.15.3 in /opt/conda/envs/rapids/lib/python3.8/site-packages (from ray>=2.5.1->vllm==0.2.1.post1) (4.21.12)\n",
      "Requirement already satisfied: msgpack<2.0.0,>=1.0.0 in /opt/conda/envs/rapids/lib/python3.8/site-packages (from ray>=2.5.1->vllm==0.2.1.post1) (1.0.5)\n",
      "Requirement already satisfied: urllib3<1.27,>=1.21.1 in /opt/conda/envs/rapids/lib/python3.8/site-packages (from requests->transformers==4.34.0) (1.26.15)\n",
      "Requirement already satisfied: idna<4,>=2.5 in /opt/conda/envs/rapids/lib/python3.8/site-packages (from requests->transformers==4.34.0) (3.4)\n",
      "Requirement already satisfied: certifi>=2017.4.17 in /opt/conda/envs/rapids/lib/python3.8/site-packages (from requests->transformers==4.34.0) (2023.7.22)\n",
      "Requirement already satisfied: starlette==0.20.4 in /opt/conda/envs/rapids/lib/python3.8/site-packages (from fastapi->vllm==0.2.1.post1) (0.20.4)\n",
      "Requirement already satisfied: anyio<5,>=3.4.0 in /opt/conda/envs/rapids/lib/python3.8/site-packages (from starlette==0.20.4->fastapi->vllm==0.2.1.post1) (3.6.2)\n",
      "Requirement already satisfied: python-dateutil>=2.8.1 in /opt/conda/envs/rapids/lib/python3.8/site-packages (from pandas->vllm==0.2.1.post1) (2.8.2)\n",
      "Requirement already satisfied: pytz>=2020.1 in /opt/conda/envs/rapids/lib/python3.8/site-packages (from pandas->vllm==0.2.1.post1) (2023.3)\n",
      "Requirement already satisfied: h11>=0.8 in /opt/conda/envs/rapids/lib/python3.8/site-packages (from uvicorn[standard]->vllm==0.2.1.post1) (0.14.0)\n",
      "Requirement already satisfied: python-dotenv>=0.13 in /opt/conda/envs/rapids/lib/python3.8/site-packages (from uvicorn[standard]->vllm==0.2.1.post1) (1.0.0)\n",
      "Requirement already satisfied: websockets>=10.4 in /opt/conda/envs/rapids/lib/python3.8/site-packages (from uvicorn[standard]->vllm==0.2.1.post1) (10.4)\n",
      "Requirement already satisfied: uvloop!=0.15.0,!=0.15.1,>=0.14.0 in /opt/conda/envs/rapids/lib/python3.8/site-packages (from uvicorn[standard]->vllm==0.2.1.post1) (0.19.0)\n",
      "Requirement already satisfied: httptools>=0.5.0 in /opt/conda/envs/rapids/lib/python3.8/site-packages (from uvicorn[standard]->vllm==0.2.1.post1) (0.6.1)\n",
      "Requirement already satisfied: watchfiles>=0.13 in /opt/conda/envs/rapids/lib/python3.8/site-packages (from uvicorn[standard]->vllm==0.2.1.post1) (0.21.0)\n",
      "Requirement already satisfied: six>=1.5 in /opt/conda/envs/rapids/lib/python3.8/site-packages (from python-dateutil>=2.8.1->pandas->vllm==0.2.1.post1) (1.16.0)\n",
      "Requirement already satisfied: MarkupSafe>=2.0 in /opt/conda/envs/rapids/lib/python3.8/site-packages (from jinja2->torch==2.0.1->vllm==0.2.1.post1) (2.1.2)\n",
      "Requirement already satisfied: pyrsistent!=0.17.0,!=0.17.1,!=0.17.2,>=0.14.0 in /opt/conda/envs/rapids/lib/python3.8/site-packages (from jsonschema->ray>=2.5.1->vllm==0.2.1.post1) (0.19.3)\n",
      "Requirement already satisfied: importlib-resources>=1.4.0 in /opt/conda/envs/rapids/lib/python3.8/site-packages (from jsonschema->ray>=2.5.1->vllm==0.2.1.post1) (5.12.0)\n",
      "Requirement already satisfied: pkgutil-resolve-name>=1.3.10 in /opt/conda/envs/rapids/lib/python3.8/site-packages (from jsonschema->ray>=2.5.1->vllm==0.2.1.post1) (1.3.10)\n",
      "Requirement already satisfied: mpmath>=0.19 in /opt/conda/envs/rapids/lib/python3.8/site-packages (from sympy->torch==2.0.1->vllm==0.2.1.post1) (1.3.0)\n",
      "Requirement already satisfied: sniffio>=1.1 in /opt/conda/envs/rapids/lib/python3.8/site-packages (from anyio<5,>=3.4.0->starlette==0.20.4->fastapi->vllm==0.2.1.post1) (1.3.0)\n",
      "Requirement already satisfied: zipp>=3.1.0 in /opt/conda/envs/rapids/lib/python3.8/site-packages (from importlib-resources>=1.4.0->jsonschema->ray>=2.5.1->vllm==0.2.1.post1) (3.15.0)\n",
      "\u001b[33mWARNING: Running pip as the 'root' user can result in broken permissions and conflicting behaviour with the system package manager. It is recommended to use a virtual environment instead: https://pip.pypa.io/warnings/venv\u001b[0m\u001b[33m\n",
      "\u001b[0m"
     ]
    }
   ],
   "source": [
    "!pip install peft transformers==4.34.0 tokenizers vllm==0.2.1.post1 bitsandbytes datasets absl-py==1.3.0"
   ]
  },
  {
   "cell_type": "code",
   "execution_count": 27,
   "metadata": {
    "tags": []
   },
   "outputs": [
    {
     "name": "stdout",
     "output_type": "stream",
     "text": [
      "Token will not been saved to git credential helper. Pass `add_to_git_credential=True` if you want to set the git credential as well.\n",
      "Token is valid (permission: read).\n",
      "Your token has been saved to /root/.cache/huggingface/token\n",
      "Login successful\n"
     ]
    }
   ],
   "source": [
    "# TODO: Set your Hugging Face token\n",
    "!huggingface-cli login --token "
   ]
  },
  {
   "cell_type": "markdown",
   "metadata": {},
   "source": [
    "### Import Libraries"
   ]
  },
  {
   "cell_type": "code",
   "execution_count": 33,
   "metadata": {
    "tags": []
   },
   "outputs": [],
   "source": [
    "from snowflake.snowpark.session import Session\n",
    "from snowflake.ml.model.models import llm\n",
    "from snowflake.ml.registry import model_registry\n",
    "from snowflake.ml.model import deploy_platforms\n",
    "import snowflake.ml.playground.finetune as ft_util\n",
    "from snowflake.snowpark import VERSION\n",
    "import snowflake.snowpark.functions as F\n",
    "from datasets import load_dataset, ClassLabel, Dataset\n",
    "\n",
    "import sys\n",
    "import os\n",
    "import json\n",
    "import pandas as pd\n",
    "pd.set_option('display.max_colwidth', None)\n",
    "\n",
    "import logging \n",
    "logger = logging.getLogger(\"snowflake.snowpark.session\")\n",
    "logger.setLevel(logging.ERROR)\n",
    "logger = logging.getLogger(\"snowflake.ml\")\n",
    "logger.setLevel(logging.ERROR)"
   ]
  },
  {
   "cell_type": "markdown",
   "metadata": {},
   "source": [
    "### Establish Secure Connection\n",
    "\n",
    "*NOTE: Update [connection.json](connection.json) and set your password, Hugging Face token, and replace '####' with your user number.*"
   ]
  },
  {
   "cell_type": "code",
   "execution_count": 29,
   "metadata": {
    "tags": []
   },
   "outputs": [
    {
     "name": "stdout",
     "output_type": "stream",
     "text": [
      "User                        : DASH\n",
      "Role                        : \"DASH_SPCS\"\n",
      "Database                    : \"DASH_DB\"\n",
      "Schema                      : \"DASH_SCHEMA\"\n",
      "Warehouse                   : \"DASH_L\"\n",
      "Snowflake version           : 7.40.0\n",
      "Snowpark for Python version : 1.9.0\n"
     ]
    }
   ],
   "source": [
    "# Create Snowflake Session object\n",
    "connection_parameters = json.load(open('connection.json'))\n",
    "session = Session.builder.configs(connection_parameters).create()\n",
    "session.sql_simplifier_enabled = True\n",
    "\n",
    "snowflake_environment = session.sql('select current_user(), current_version()').collect()\n",
    "snowpark_version = VERSION\n",
    "\n",
    "# Current Environment Details\n",
    "print('User                        : {}'.format(snowflake_environment[0][0]))\n",
    "print('Role                        : {}'.format(session.get_current_role()))\n",
    "print('Database                    : {}'.format(session.get_current_database()))\n",
    "print('Schema                      : {}'.format(session.get_current_schema()))\n",
    "print('Warehouse                   : {}'.format(session.get_current_warehouse()))\n",
    "print('Snowflake version           : {}'.format(snowflake_environment[0][1]))\n",
    "print('Snowpark for Python version : {}.{}.{}'.format(snowpark_version[0],snowpark_version[1],snowpark_version[2]))"
   ]
  },
  {
   "cell_type": "markdown",
   "metadata": {},
   "source": [
    "### Fine-tune Llama 2 in Snowpark Container Services"
   ]
  },
  {
   "cell_type": "markdown",
   "metadata": {},
   "source": [
    "#### Load Training Dataset\n",
    "\n",
    "*NOTE: Fine-tuning using 100 records on this setup (compute and other resources) will take about ~5mins.*"
   ]
  },
  {
   "cell_type": "code",
   "execution_count": 34,
   "metadata": {
    "tags": []
   },
   "outputs": [],
   "source": [
    "def prepare_stratified_dataset(path, seed = 42):\n",
    "    raw_df = pd.read_json(path, lines=True)\n",
    "    raw_df['id'] = raw_df.index\n",
    "    ds = Dataset.from_pandas(raw_df, split='train')\n",
    "    cl = ClassLabel(num_classes=4, names=[\"EN\", \"FR\", \"DE\", \"ES\"])\n",
    "    new_features = ds.features.copy()\n",
    "    new_features['lang_label'] = cl\n",
    "    cl_d = {l : cl.str2int(l) for l in [\"EN\", \"FR\", \"DE\", \"ES\"]}\n",
    "    def convert_lang(sample):\n",
    "        sample['lang_label'] = cl_d[sample['language']]\n",
    "        return sample\n",
    "    ds = ds.map(convert_lang, features=new_features)\n",
    "    ds_split = ds.train_test_split(test_size=0.15, stratify_by_column='lang_label', seed=42)\n",
    "    test_ds_split = ds_split['test'].train_test_split(test_size=2/3, stratify_by_column='lang_label', seed=42)\n",
    "    return ds_split['train'].to_pandas(), test_ds_split['train'].to_pandas(), test_ds_split['test'].to_pandas()"
   ]
  },
  {
   "cell_type": "code",
   "execution_count": 35,
   "metadata": {
    "tags": []
   },
   "outputs": [],
   "source": [
    "# df = pd.read_json(\"transcripts.json\", lines=True)\n",
    "# print(f\"Total records: {df.shape[0]}\")\n",
    "# train_df = df.head(100)\n",
    "# print(f\"Train        : {train_df.shape[0]}\")\n",
    "# eval_df = df[200:300]\n",
    "# print(f\"Eval         : {eval_df.shape[0]}\")\n",
    "# test_df = df.tail(100)\n",
    "# print(f\"Test         : {test_df.shape[0]}\")"
   ]
  },
  {
   "cell_type": "code",
   "execution_count": 36,
   "metadata": {
    "tags": []
   },
   "outputs": [
    {
     "data": {
      "application/vnd.jupyter.widget-view+json": {
       "model_id": "984f1001fe4649978b826984eb23452a",
       "version_major": 2,
       "version_minor": 0
      },
      "text/plain": [
       "Map:   0%|          | 0/1368 [00:00<?, ? examples/s]"
      ]
     },
     "metadata": {},
     "output_type": "display_data"
    }
   ],
   "source": [
    "train_df, eval_df, test_df = prepare_stratified_dataset(\n",
    "    'transcripts.json'\n",
    ")"
   ]
  },
  {
   "cell_type": "code",
   "execution_count": 37,
   "metadata": {
    "tags": []
   },
   "outputs": [
    {
     "data": {
      "text/html": [
       "<div>\n",
       "<style scoped>\n",
       "    .dataframe tbody tr th:only-of-type {\n",
       "        vertical-align: middle;\n",
       "    }\n",
       "\n",
       "    .dataframe tbody tr th {\n",
       "        vertical-align: top;\n",
       "    }\n",
       "\n",
       "    .dataframe thead th {\n",
       "        text-align: right;\n",
       "    }\n",
       "</style>\n",
       "<table border=\"1\" class=\"dataframe\">\n",
       "  <thead>\n",
       "    <tr style=\"text-align: right;\">\n",
       "      <th></th>\n",
       "      <th>instruction</th>\n",
       "      <th>input</th>\n",
       "      <th>output</th>\n",
       "      <th>language</th>\n",
       "      <th>id</th>\n",
       "      <th>lang_label</th>\n",
       "    </tr>\n",
       "  </thead>\n",
       "  <tbody>\n",
       "    <tr>\n",
       "      <th>0</th>\n",
       "      <td>Extract JSON response with 'location' and 'toy_list' as keys. 'location': Location of the caller. Include city only.'toy_list': List of toy names from the caller.</td>\n",
       "      <td>\"frosty: Greetings! I'm Frosty, your voice bot assistant for the holiday season. What's your name?\\ncaller: Hey Frosty, my name is James.\\nfrosty: Hi James! Where are you calling from?\\ncaller: I'm calling from Sydney.\\nfrosty: Nice to meet you, James from Sydney! Let's get started with your holiday wish list. What toy would you like to choose?\\ncaller: Hmm... I'm not sure yet. What do you recommend?\\nfrosty: I'm happy to help you explore our catalog! Does your child like plush toys?\\ncaller: Yes, my little one definitely loves plush toys.\\nfrosty: We have a sweet 2023 Holiday Fox 12-Inch Plush, or how about the Sesame Street Monster Meditation Elmo? Both are soft and cuddly.\\ncaller: Oh, Elmo for sure!\\nfrosty: The Sesame Street Monster Meditation Elmo is an excellent choice. Tell me, what do you enjoy the most about this time of the year?\\ncaller: I love seeing all the decorations and spending time with my family.\\nfrosty: That's wonderful! Do you have any favorite holiday memories?\\ncaller: One year, we had a fantastic snowball fight in the park with our friends. It was so much fun!\\nfrosty: That sounds like a terrific memory! So, are we adding Sesame Street Monster Meditation Elmo to your wish list?\\ncaller: Yes! And you know what? Add the fox plushie as well.\\nfrosty: You got it, adding the 2023 Holiday Fox 12-Inch Plush and Sesame Street Monster Meditation Elmo to your wish list. Have a great holiday season, James!\\ncaller: Thanks, Frosty! You too!\"</td>\n",
       "      <td>{\"toy_list\": [\"2023 Holiday Fox 12-Inch Plush\", \"Sesame Street Monster Meditation Elmo\"], \"location\": \"Sydney\"}</td>\n",
       "      <td>EN</td>\n",
       "      <td>245</td>\n",
       "      <td>0</td>\n",
       "    </tr>\n",
       "    <tr>\n",
       "      <th>1</th>\n",
       "      <td>Extract JSON response with 'location' and 'toy_list' as keys. 'location': Location of the caller. Include city only.'toy_list': List of toy names from the caller.</td>\n",
       "      <td>\"caller: Hi there!\\nfrosty: Hello! Welcome to our holiday hotline, I'm Frosty. How can I assist you today?\\ncaller: Hey, Frosty. My name is Mike, and I live in Los Angeles.\\nfrosty: Hi, Mike from Los Angeles! What can I help you with?\\ncaller: I want to submit my holiday wish list, but I'm not sure what toys my son would like.\\nfrosty: No problem! I'd be happy to help you explore our catalog. What are some of his interests?\\ncaller: He loves playing with new gadgets and is a fan of Star Wars.\\nfrosty: How about Star Wars LOLA animatronic droid? It's a fun gadget for any Star Wars fan.\\ncaller: That sounds interesting. What else do you have?\\nfrosty: Another option could be a Dog-E, the robot dog. It's a popular gadget for kids this holiday season.\\ncaller: Let's go with the lola droid. But I also need a second toy.\\nfrosty: Alright! Can you tell me more about what he enjoys during this time of the year?\\ncaller: He loves playing outdoors and making snow forts with his friends.\\nfrosty: In that case, he might be interested in the Tiny Land kids fort building kit. It allows him to create forts both indoors and outdoors, perfect for all seasons.\\ncaller: Great, add both the lola droid and fort building kit to our wish list, please.\\nfrosty: Excellent choices, Mike! I'll add the Star Wars LOLA animatronic droid and the Tiny Land kids fort building kit to your wish list. Have a fantastic holiday season!\\n\"</td>\n",
       "      <td>{\"toy_list\": [\"Star Wars LOLA animatronic droid\", \"Tiny Land kids fort building kit\"], \"location\": \"Los Angeles\"}</td>\n",
       "      <td>EN</td>\n",
       "      <td>968</td>\n",
       "      <td>0</td>\n",
       "    </tr>\n",
       "    <tr>\n",
       "      <th>2</th>\n",
       "      <td>Extract JSON response with 'location' and 'toy_list' as keys. 'location': Location of the caller. Include city only.'toy_list': List of toy names from the caller.</td>\n",
       "      <td>\"\\ncaller: Hello, I'm trying to submit a holiday wish list for my child but I'm not sure where to start.\\nfrosty: Hello and welcome! I'd be happy to help. May I have your name please, and where are you calling from?\\ncaller: My name is Laura, and I'm from Birmingham, England.\\nfrosty: Hi Laura! Nice to meet you. Let's start by discussing some toys that might interest your child. What type of toys do they usually enjoy playing with?\\ncaller: Hmm, I think my child loves playing with dolls and playsets.\\nfrosty: Great! We have a wide variety of dolls and playsets. The baby bee doll and barbie science doll set are popular choices. Why do you think your child might be interested in these types of toys?\\ncaller: My child loves role playing and has a great imagination. She also loves things associated with science and nature.\\nfrosty: I see! In that case, the barbie science doll set could be a great fit. Do you have any special plans to celebrate the holiday season with your family?\\ncaller: Yes, we're planning a family get-together. It's one of our favorite traditions during this time of year.\\nfrosty: That sounds lovely! I also wanted to ask what your favorite holiday memory is?\\ncaller: Back when I was a child, I remember a holiday celebration at my grandparents\\u2019 house. It was a beautiful and magical time.\\nfrosty: What a wonderful memory! Let's narrow down your options. Would you prefer the baby bee doll or the barbie science doll set for your child?\\ncaller: I think my child would enjoy the barbie science doll set more.\\nfrosty: Excellent choice, Laura! So, just to confirm, you\\u2019d like the barbie science doll set for your child's holiday wish list?\\ncaller: Yes, that's right.\\nfrosty: Wonderful! I have noted that down. Thank you for sharing your holiday plans and memories with me, Laura. I hope you and your family have a fantastic time together this holiday season!\\ncaller: Thank you so much, Frosty! I appreciate your help. Have a great day!\\n\"</td>\n",
       "      <td>{\"toy_list\": [\"Barbie Science Lab Playset\"], \"location\": \"Birmingham\"}</td>\n",
       "      <td>EN</td>\n",
       "      <td>527</td>\n",
       "      <td>0</td>\n",
       "    </tr>\n",
       "    <tr>\n",
       "      <th>3</th>\n",
       "      <td>Extract JSON response with 'location' and 'toy_list' as keys. 'location': Location of the caller. Include city only.'toy_list': List of toy names from the caller.</td>\n",
       "      <td>\"frosty: Hi there! I'm Frosty, your cheerful voice bot assistant, and I'm here to help you submit your holiday wish list. What's your name and where are you calling from?\\ncaller: Hey Frosty, I'm Jake and I'm calling from Toronto.\\nfrosty: Nice to meet you, Jake from Toronto! What toys would you like to include in your holiday wish list?\\ncaller: Hmm, I'm not sure yet. I was thinking about getting the Jurassic World dinosaur for my son.\\nfrosty: The Jurassic World Dominion Super Colossal Giganotosaurus is an excellent choice! Would you like some more suggestions based on your son's interests?\\ncaller: Yeah, sure!\\nfrosty: How about the Transformers Rise of the Beasts Beast-Mode Bumblebee? It's perfect for kids who love action and adventure.\\ncaller: Hmm, that sounds interesting. I think he'd love that. Let's add that to the list.\\nfrosty: Alright! What do you enjoy most about this time of the year, Jake?\\ncaller: I love spending time with my family, exchanging gifts, and enjoying nice meals together.\\nfrosty: That's the best part about the holidays! Do you have a favorite pastime or hobby?\\ncaller: I'm a big fan of snowboarding during the winter months. Love hitting the slopes on weekends.\\nfrosty: Sounds like a thrilling adventure! So, I have the Transformers Rise of the Beasts Beast-Mode Bumblebee on your wish list. Is there anything else you'd like to add?\\ncaller: Actually, let's add that Jurassic World dinosaur too. He likes both dinosaurs and Transformers, so I'm sure he'll be happy with either one.\\nfrosty: Perfect! So the Jurassic World Dominion Super Colossal Giganotosaurus will also be added to your list. Have a fantastic holiday season, Jake! Goodbye!\\ncaller: Thanks, Frosty! You too! Goodbye!\"</td>\n",
       "      <td>{\"toy_list\": [\"Transformers Rise of the Beasts Beast-Mode Bumblebee\", \"Jurassic World Dominion Super Colossal Giganotosaurus\"], \"location\": \"Toronto\"}</td>\n",
       "      <td>EN</td>\n",
       "      <td>105</td>\n",
       "      <td>0</td>\n",
       "    </tr>\n",
       "    <tr>\n",
       "      <th>4</th>\n",
       "      <td>Extract JSON response with 'location' and 'toy_list' as keys. 'location': Location of the caller. Include city only.'toy_list': List of toy names from the caller.</td>\n",
       "      <td>\"frosty: Welcome to our holiday hotline! My name is Frosty, your friendly voice bot. How can I assist you with your holiday wish list today?\\ncaller: Hello, Frosty! I'd like to submit a holiday wish list for my grandkids. My name is Linda.\\nfrosty: Nice to meet you, Linda! Where are you calling from?\\ncaller: I'm calling from Wellington, New Zealand.\\nfrosty: Wonderful! Now, let's talk about your grandkids' holiday wish list. What items are you considering?\\ncaller: I was thinking about getting them the bluey playhouse and the fingerlings monkey, but I'm open to other suggestions.\\nfrosty: The Bluey Ultimate Lights and Sounds playhouse and the Fingerlings are both popular choices for kids! If you're looking for an interactive pet, how about the Little Live Pets Mama Surprise or the Bitzee interactive pet?\\ncaller: Oh, those sound interesting! Can you tell me more about the Little Live Pets Mama Surprise?\\nfrosty: Absolutely! The Little Live Pets Mama Surprise is an adorable interactive pet with baby surprises concealed inside. Kids will love discovering the baby animals and caring for them, encouraging nurturing play.\\ncaller: That's perfect! Let's add that to the list instead of the fingerlings monkey.\\nfrosty: Great! So, we have the Bluey Ultimate Lights and Sounds playhouse and the Little Live Pets Mama Surprise on your holiday wish list. Is that correct?\\ncaller: Yes, that's correct. Thank you, Frosty!\\nfrosty: You're welcome, Linda! I hope your grandkids enjoy their gifts, and you all have a fantastic holiday season. Goodbye!\\ncaller: Goodbye!\"</td>\n",
       "      <td>{\"toy_list\": [\"Bluey Ultimate Lights and Sounds playhouse\", \"Little Live Pets Mama Surprise\"], \"location\": \"Wellington\"}</td>\n",
       "      <td>EN</td>\n",
       "      <td>999</td>\n",
       "      <td>0</td>\n",
       "    </tr>\n",
       "  </tbody>\n",
       "</table>\n",
       "</div>"
      ],
      "text/plain": [
       "                                                                                                                                                          instruction  \\\n",
       "0  Extract JSON response with 'location' and 'toy_list' as keys. 'location': Location of the caller. Include city only.'toy_list': List of toy names from the caller.   \n",
       "1  Extract JSON response with 'location' and 'toy_list' as keys. 'location': Location of the caller. Include city only.'toy_list': List of toy names from the caller.   \n",
       "2  Extract JSON response with 'location' and 'toy_list' as keys. 'location': Location of the caller. Include city only.'toy_list': List of toy names from the caller.   \n",
       "3  Extract JSON response with 'location' and 'toy_list' as keys. 'location': Location of the caller. Include city only.'toy_list': List of toy names from the caller.   \n",
       "4  Extract JSON response with 'location' and 'toy_list' as keys. 'location': Location of the caller. Include city only.'toy_list': List of toy names from the caller.   \n",
       "\n",
       "                                                                                                                                                                                                                                                                                                                                                                                                                                                                                                                                                                                                                                                                                                                                                                                                                                                                                                                                                                                                                                                                                                                                                                                                                                                                                                                                                                                                                                                                                                                                                                                                                                                                                                                                                                                                                                                                                                                                                                                                                                                               input  \\\n",
       "0                                                                                                                                                                                                                                                                                                                                                                                                                                                                                                                            \"frosty: Greetings! I'm Frosty, your voice bot assistant for the holiday season. What's your name?\\ncaller: Hey Frosty, my name is James.\\nfrosty: Hi James! Where are you calling from?\\ncaller: I'm calling from Sydney.\\nfrosty: Nice to meet you, James from Sydney! Let's get started with your holiday wish list. What toy would you like to choose?\\ncaller: Hmm... I'm not sure yet. What do you recommend?\\nfrosty: I'm happy to help you explore our catalog! Does your child like plush toys?\\ncaller: Yes, my little one definitely loves plush toys.\\nfrosty: We have a sweet 2023 Holiday Fox 12-Inch Plush, or how about the Sesame Street Monster Meditation Elmo? Both are soft and cuddly.\\ncaller: Oh, Elmo for sure!\\nfrosty: The Sesame Street Monster Meditation Elmo is an excellent choice. Tell me, what do you enjoy the most about this time of the year?\\ncaller: I love seeing all the decorations and spending time with my family.\\nfrosty: That's wonderful! Do you have any favorite holiday memories?\\ncaller: One year, we had a fantastic snowball fight in the park with our friends. It was so much fun!\\nfrosty: That sounds like a terrific memory! So, are we adding Sesame Street Monster Meditation Elmo to your wish list?\\ncaller: Yes! And you know what? Add the fox plushie as well.\\nfrosty: You got it, adding the 2023 Holiday Fox 12-Inch Plush and Sesame Street Monster Meditation Elmo to your wish list. Have a great holiday season, James!\\ncaller: Thanks, Frosty! You too!\"   \n",
       "1                                                                                                                                                                                                                                                                                                                                                                                                                                                                                                                                                                                   \"caller: Hi there!\\nfrosty: Hello! Welcome to our holiday hotline, I'm Frosty. How can I assist you today?\\ncaller: Hey, Frosty. My name is Mike, and I live in Los Angeles.\\nfrosty: Hi, Mike from Los Angeles! What can I help you with?\\ncaller: I want to submit my holiday wish list, but I'm not sure what toys my son would like.\\nfrosty: No problem! I'd be happy to help you explore our catalog. What are some of his interests?\\ncaller: He loves playing with new gadgets and is a fan of Star Wars.\\nfrosty: How about Star Wars LOLA animatronic droid? It's a fun gadget for any Star Wars fan.\\ncaller: That sounds interesting. What else do you have?\\nfrosty: Another option could be a Dog-E, the robot dog. It's a popular gadget for kids this holiday season.\\ncaller: Let's go with the lola droid. But I also need a second toy.\\nfrosty: Alright! Can you tell me more about what he enjoys during this time of the year?\\ncaller: He loves playing outdoors and making snow forts with his friends.\\nfrosty: In that case, he might be interested in the Tiny Land kids fort building kit. It allows him to create forts both indoors and outdoors, perfect for all seasons.\\ncaller: Great, add both the lola droid and fort building kit to our wish list, please.\\nfrosty: Excellent choices, Mike! I'll add the Star Wars LOLA animatronic droid and the Tiny Land kids fort building kit to your wish list. Have a fantastic holiday season!\\n\"   \n",
       "2  \"\\ncaller: Hello, I'm trying to submit a holiday wish list for my child but I'm not sure where to start.\\nfrosty: Hello and welcome! I'd be happy to help. May I have your name please, and where are you calling from?\\ncaller: My name is Laura, and I'm from Birmingham, England.\\nfrosty: Hi Laura! Nice to meet you. Let's start by discussing some toys that might interest your child. What type of toys do they usually enjoy playing with?\\ncaller: Hmm, I think my child loves playing with dolls and playsets.\\nfrosty: Great! We have a wide variety of dolls and playsets. The baby bee doll and barbie science doll set are popular choices. Why do you think your child might be interested in these types of toys?\\ncaller: My child loves role playing and has a great imagination. She also loves things associated with science and nature.\\nfrosty: I see! In that case, the barbie science doll set could be a great fit. Do you have any special plans to celebrate the holiday season with your family?\\ncaller: Yes, we're planning a family get-together. It's one of our favorite traditions during this time of year.\\nfrosty: That sounds lovely! I also wanted to ask what your favorite holiday memory is?\\ncaller: Back when I was a child, I remember a holiday celebration at my grandparents\\u2019 house. It was a beautiful and magical time.\\nfrosty: What a wonderful memory! Let's narrow down your options. Would you prefer the baby bee doll or the barbie science doll set for your child?\\ncaller: I think my child would enjoy the barbie science doll set more.\\nfrosty: Excellent choice, Laura! So, just to confirm, you\\u2019d like the barbie science doll set for your child's holiday wish list?\\ncaller: Yes, that's right.\\nfrosty: Wonderful! I have noted that down. Thank you for sharing your holiday plans and memories with me, Laura. I hope you and your family have a fantastic time together this holiday season!\\ncaller: Thank you so much, Frosty! I appreciate your help. Have a great day!\\n\"   \n",
       "3                                                                                                                                                                                                                                                             \"frosty: Hi there! I'm Frosty, your cheerful voice bot assistant, and I'm here to help you submit your holiday wish list. What's your name and where are you calling from?\\ncaller: Hey Frosty, I'm Jake and I'm calling from Toronto.\\nfrosty: Nice to meet you, Jake from Toronto! What toys would you like to include in your holiday wish list?\\ncaller: Hmm, I'm not sure yet. I was thinking about getting the Jurassic World dinosaur for my son.\\nfrosty: The Jurassic World Dominion Super Colossal Giganotosaurus is an excellent choice! Would you like some more suggestions based on your son's interests?\\ncaller: Yeah, sure!\\nfrosty: How about the Transformers Rise of the Beasts Beast-Mode Bumblebee? It's perfect for kids who love action and adventure.\\ncaller: Hmm, that sounds interesting. I think he'd love that. Let's add that to the list.\\nfrosty: Alright! What do you enjoy most about this time of the year, Jake?\\ncaller: I love spending time with my family, exchanging gifts, and enjoying nice meals together.\\nfrosty: That's the best part about the holidays! Do you have a favorite pastime or hobby?\\ncaller: I'm a big fan of snowboarding during the winter months. Love hitting the slopes on weekends.\\nfrosty: Sounds like a thrilling adventure! So, I have the Transformers Rise of the Beasts Beast-Mode Bumblebee on your wish list. Is there anything else you'd like to add?\\ncaller: Actually, let's add that Jurassic World dinosaur too. He likes both dinosaurs and Transformers, so I'm sure he'll be happy with either one.\\nfrosty: Perfect! So the Jurassic World Dominion Super Colossal Giganotosaurus will also be added to your list. Have a fantastic holiday season, Jake! Goodbye!\\ncaller: Thanks, Frosty! You too! Goodbye!\"   \n",
       "4                                                                                                                                                                                                                                                                                                                                                                                                                            \"frosty: Welcome to our holiday hotline! My name is Frosty, your friendly voice bot. How can I assist you with your holiday wish list today?\\ncaller: Hello, Frosty! I'd like to submit a holiday wish list for my grandkids. My name is Linda.\\nfrosty: Nice to meet you, Linda! Where are you calling from?\\ncaller: I'm calling from Wellington, New Zealand.\\nfrosty: Wonderful! Now, let's talk about your grandkids' holiday wish list. What items are you considering?\\ncaller: I was thinking about getting them the bluey playhouse and the fingerlings monkey, but I'm open to other suggestions.\\nfrosty: The Bluey Ultimate Lights and Sounds playhouse and the Fingerlings are both popular choices for kids! If you're looking for an interactive pet, how about the Little Live Pets Mama Surprise or the Bitzee interactive pet?\\ncaller: Oh, those sound interesting! Can you tell me more about the Little Live Pets Mama Surprise?\\nfrosty: Absolutely! The Little Live Pets Mama Surprise is an adorable interactive pet with baby surprises concealed inside. Kids will love discovering the baby animals and caring for them, encouraging nurturing play.\\ncaller: That's perfect! Let's add that to the list instead of the fingerlings monkey.\\nfrosty: Great! So, we have the Bluey Ultimate Lights and Sounds playhouse and the Little Live Pets Mama Surprise on your holiday wish list. Is that correct?\\ncaller: Yes, that's correct. Thank you, Frosty!\\nfrosty: You're welcome, Linda! I hope your grandkids enjoy their gifts, and you all have a fantastic holiday season. Goodbye!\\ncaller: Goodbye!\"   \n",
       "\n",
       "                                                                                                                                                   output  \\\n",
       "0                                         {\"toy_list\": [\"2023 Holiday Fox 12-Inch Plush\", \"Sesame Street Monster Meditation Elmo\"], \"location\": \"Sydney\"}   \n",
       "1                                       {\"toy_list\": [\"Star Wars LOLA animatronic droid\", \"Tiny Land kids fort building kit\"], \"location\": \"Los Angeles\"}   \n",
       "2                                                                                  {\"toy_list\": [\"Barbie Science Lab Playset\"], \"location\": \"Birmingham\"}   \n",
       "3  {\"toy_list\": [\"Transformers Rise of the Beasts Beast-Mode Bumblebee\", \"Jurassic World Dominion Super Colossal Giganotosaurus\"], \"location\": \"Toronto\"}   \n",
       "4                                {\"toy_list\": [\"Bluey Ultimate Lights and Sounds playhouse\", \"Little Live Pets Mama Surprise\"], \"location\": \"Wellington\"}   \n",
       "\n",
       "  language   id  lang_label  \n",
       "0       EN  245           0  \n",
       "1       EN  968           0  \n",
       "2       EN  527           0  \n",
       "3       EN  105           0  \n",
       "4       EN  999           0  "
      ]
     },
     "execution_count": 37,
     "metadata": {},
     "output_type": "execute_result"
    }
   ],
   "source": [
    "train_df.head()"
   ]
  },
  {
   "cell_type": "markdown",
   "metadata": {},
   "source": [
    "#### Fine-tune Llama 2 Model\n",
    "\n",
    "##### Configuration\n",
    "\n",
    "We're passing `train_dataset` and `eval_dataset` that are used to generate loss calculation during fine-tuning process and we've set `output_weights_dir` as the directory where the fine-tuned weights will be stored after fine-tuning job completes. For better performance for the task, you will need at least 1 `num_epochs`, feel free to explore this on your own."
   ]
  },
  {
   "cell_type": "code",
   "execution_count": 38,
   "metadata": {
    "tags": []
   },
   "outputs": [
    {
     "name": "stdout",
     "output_type": "stream",
     "text": [
      "mkdir: cannot create directory ‘merged_weights_dir’: File exists\n",
      "mkdir: cannot create directory ‘output_weights_dir’: File exists\n"
     ]
    }
   ],
   "source": [
    "!mkdir merged_weights_dir\n",
    "!mkdir output_weights_dir"
   ]
  },
  {
   "cell_type": "code",
   "execution_count": 39,
   "metadata": {
    "tags": []
   },
   "outputs": [
    {
     "data": {
      "application/vnd.jupyter.widget-view+json": {
       "model_id": "405871cbfcc14fcdb46c32a7a8d989f3",
       "version_major": 2,
       "version_minor": 0
      },
      "text/plain": [
       "Loading checkpoint shards:   0%|          | 0/2 [00:00<?, ?it/s]"
      ]
     },
     "metadata": {},
     "output_type": "display_data"
    },
    {
     "name": "stderr",
     "output_type": "stream",
     "text": [
      "torch.distributed process group is initialized, but parallel_mode != ParallelMode.DISTRIBUTED. In order to use Torch DDP, launch your script with `python -m torch.distributed.launch\n"
     ]
    },
    {
     "name": "stdout",
     "output_type": "stream",
     "text": [
      "trainable params: 4,194,304 || all params: 6,742,609,920 || trainable%: 0.06220594176090199\n"
     ]
    },
    {
     "data": {
      "application/vnd.jupyter.widget-view+json": {
       "model_id": "e95c39c0399246428523d0c3d41643a9",
       "version_major": 2,
       "version_minor": 0
      },
      "text/plain": [
       "Map (num_proc=8):   0%|          | 0/1162 [00:00<?, ? examples/s]"
      ]
     },
     "metadata": {},
     "output_type": "display_data"
    },
    {
     "data": {
      "application/vnd.jupyter.widget-view+json": {
       "model_id": "adb33f247b5b47669ee0b8a984c508d2",
       "version_major": 2,
       "version_minor": 0
      },
      "text/plain": [
       "Map (num_proc=8):   0%|          | 0/68 [00:00<?, ? examples/s]"
      ]
     },
     "metadata": {},
     "output_type": "display_data"
    },
    {
     "name": "stderr",
     "output_type": "stream",
     "text": [
      "WARNING:accelerate.utils.other:Detected kernel version 5.4.181, which is below the recommended minimum of 5.5.0; this can cause the process to hang. It is recommended to upgrade the kernel to the minimum version or higher.\n"
     ]
    },
    {
     "data": {
      "text/html": [
       "\n",
       "    <div>\n",
       "      \n",
       "      <progress value='580' max='580' style='width:300px; height:20px; vertical-align: middle;'></progress>\n",
       "      [580/580 1:09:34, Epoch 1/2]\n",
       "    </div>\n",
       "    <table border=\"1\" class=\"dataframe\">\n",
       "  <thead>\n",
       " <tr style=\"text-align: left;\">\n",
       "      <th>Step</th>\n",
       "      <th>Training Loss</th>\n",
       "      <th>Validation Loss</th>\n",
       "    </tr>\n",
       "  </thead>\n",
       "  <tbody>\n",
       "    <tr>\n",
       "      <td>10</td>\n",
       "      <td>0.880400</td>\n",
       "      <td>0.801068</td>\n",
       "    </tr>\n",
       "    <tr>\n",
       "      <td>20</td>\n",
       "      <td>0.675600</td>\n",
       "      <td>0.347128</td>\n",
       "    </tr>\n",
       "    <tr>\n",
       "      <td>30</td>\n",
       "      <td>0.194100</td>\n",
       "      <td>0.137171</td>\n",
       "    </tr>\n",
       "    <tr>\n",
       "      <td>40</td>\n",
       "      <td>0.043300</td>\n",
       "      <td>0.110291</td>\n",
       "    </tr>\n",
       "    <tr>\n",
       "      <td>50</td>\n",
       "      <td>0.040900</td>\n",
       "      <td>0.097124</td>\n",
       "    </tr>\n",
       "    <tr>\n",
       "      <td>60</td>\n",
       "      <td>0.139000</td>\n",
       "      <td>0.086621</td>\n",
       "    </tr>\n",
       "    <tr>\n",
       "      <td>70</td>\n",
       "      <td>0.159900</td>\n",
       "      <td>0.083242</td>\n",
       "    </tr>\n",
       "    <tr>\n",
       "      <td>80</td>\n",
       "      <td>0.073700</td>\n",
       "      <td>0.061668</td>\n",
       "    </tr>\n",
       "    <tr>\n",
       "      <td>90</td>\n",
       "      <td>0.069500</td>\n",
       "      <td>0.060019</td>\n",
       "    </tr>\n",
       "    <tr>\n",
       "      <td>100</td>\n",
       "      <td>0.002600</td>\n",
       "      <td>0.061931</td>\n",
       "    </tr>\n",
       "    <tr>\n",
       "      <td>110</td>\n",
       "      <td>0.039700</td>\n",
       "      <td>0.059047</td>\n",
       "    </tr>\n",
       "    <tr>\n",
       "      <td>120</td>\n",
       "      <td>0.018500</td>\n",
       "      <td>0.060536</td>\n",
       "    </tr>\n",
       "    <tr>\n",
       "      <td>130</td>\n",
       "      <td>0.008700</td>\n",
       "      <td>0.061922</td>\n",
       "    </tr>\n",
       "    <tr>\n",
       "      <td>140</td>\n",
       "      <td>0.092800</td>\n",
       "      <td>0.057449</td>\n",
       "    </tr>\n",
       "    <tr>\n",
       "      <td>150</td>\n",
       "      <td>0.021100</td>\n",
       "      <td>0.054827</td>\n",
       "    </tr>\n",
       "    <tr>\n",
       "      <td>160</td>\n",
       "      <td>0.034700</td>\n",
       "      <td>0.054759</td>\n",
       "    </tr>\n",
       "    <tr>\n",
       "      <td>170</td>\n",
       "      <td>0.069500</td>\n",
       "      <td>0.049121</td>\n",
       "    </tr>\n",
       "    <tr>\n",
       "      <td>180</td>\n",
       "      <td>0.031900</td>\n",
       "      <td>0.047619</td>\n",
       "    </tr>\n",
       "    <tr>\n",
       "      <td>190</td>\n",
       "      <td>0.031100</td>\n",
       "      <td>0.035248</td>\n",
       "    </tr>\n",
       "    <tr>\n",
       "      <td>200</td>\n",
       "      <td>0.040000</td>\n",
       "      <td>0.027892</td>\n",
       "    </tr>\n",
       "    <tr>\n",
       "      <td>210</td>\n",
       "      <td>0.013100</td>\n",
       "      <td>0.025780</td>\n",
       "    </tr>\n",
       "    <tr>\n",
       "      <td>220</td>\n",
       "      <td>0.006900</td>\n",
       "      <td>0.026274</td>\n",
       "    </tr>\n",
       "    <tr>\n",
       "      <td>230</td>\n",
       "      <td>0.037200</td>\n",
       "      <td>0.023739</td>\n",
       "    </tr>\n",
       "    <tr>\n",
       "      <td>240</td>\n",
       "      <td>0.031100</td>\n",
       "      <td>0.021521</td>\n",
       "    </tr>\n",
       "    <tr>\n",
       "      <td>250</td>\n",
       "      <td>0.002600</td>\n",
       "      <td>0.019279</td>\n",
       "    </tr>\n",
       "    <tr>\n",
       "      <td>260</td>\n",
       "      <td>0.003600</td>\n",
       "      <td>0.019616</td>\n",
       "    </tr>\n",
       "    <tr>\n",
       "      <td>270</td>\n",
       "      <td>0.058200</td>\n",
       "      <td>0.017780</td>\n",
       "    </tr>\n",
       "    <tr>\n",
       "      <td>280</td>\n",
       "      <td>0.021300</td>\n",
       "      <td>0.014043</td>\n",
       "    </tr>\n",
       "    <tr>\n",
       "      <td>290</td>\n",
       "      <td>0.027300</td>\n",
       "      <td>0.012934</td>\n",
       "    </tr>\n",
       "    <tr>\n",
       "      <td>300</td>\n",
       "      <td>0.002500</td>\n",
       "      <td>0.013093</td>\n",
       "    </tr>\n",
       "    <tr>\n",
       "      <td>310</td>\n",
       "      <td>0.000600</td>\n",
       "      <td>0.013638</td>\n",
       "    </tr>\n",
       "    <tr>\n",
       "      <td>320</td>\n",
       "      <td>0.008100</td>\n",
       "      <td>0.014284</td>\n",
       "    </tr>\n",
       "    <tr>\n",
       "      <td>330</td>\n",
       "      <td>0.004700</td>\n",
       "      <td>0.014975</td>\n",
       "    </tr>\n",
       "    <tr>\n",
       "      <td>340</td>\n",
       "      <td>0.000300</td>\n",
       "      <td>0.015223</td>\n",
       "    </tr>\n",
       "    <tr>\n",
       "      <td>350</td>\n",
       "      <td>0.005900</td>\n",
       "      <td>0.014395</td>\n",
       "    </tr>\n",
       "    <tr>\n",
       "      <td>360</td>\n",
       "      <td>0.000200</td>\n",
       "      <td>0.013358</td>\n",
       "    </tr>\n",
       "    <tr>\n",
       "      <td>370</td>\n",
       "      <td>0.000600</td>\n",
       "      <td>0.013135</td>\n",
       "    </tr>\n",
       "    <tr>\n",
       "      <td>380</td>\n",
       "      <td>0.013100</td>\n",
       "      <td>0.012558</td>\n",
       "    </tr>\n",
       "    <tr>\n",
       "      <td>390</td>\n",
       "      <td>0.007100</td>\n",
       "      <td>0.011687</td>\n",
       "    </tr>\n",
       "    <tr>\n",
       "      <td>400</td>\n",
       "      <td>0.026700</td>\n",
       "      <td>0.011106</td>\n",
       "    </tr>\n",
       "    <tr>\n",
       "      <td>410</td>\n",
       "      <td>0.001800</td>\n",
       "      <td>0.010855</td>\n",
       "    </tr>\n",
       "    <tr>\n",
       "      <td>420</td>\n",
       "      <td>0.000800</td>\n",
       "      <td>0.010879</td>\n",
       "    </tr>\n",
       "    <tr>\n",
       "      <td>430</td>\n",
       "      <td>0.030000</td>\n",
       "      <td>0.011376</td>\n",
       "    </tr>\n",
       "    <tr>\n",
       "      <td>440</td>\n",
       "      <td>0.002400</td>\n",
       "      <td>0.011767</td>\n",
       "    </tr>\n",
       "    <tr>\n",
       "      <td>450</td>\n",
       "      <td>0.003800</td>\n",
       "      <td>0.011739</td>\n",
       "    </tr>\n",
       "    <tr>\n",
       "      <td>460</td>\n",
       "      <td>0.000400</td>\n",
       "      <td>0.011803</td>\n",
       "    </tr>\n",
       "    <tr>\n",
       "      <td>470</td>\n",
       "      <td>0.008400</td>\n",
       "      <td>0.011635</td>\n",
       "    </tr>\n",
       "    <tr>\n",
       "      <td>480</td>\n",
       "      <td>0.000600</td>\n",
       "      <td>0.011382</td>\n",
       "    </tr>\n",
       "    <tr>\n",
       "      <td>490</td>\n",
       "      <td>0.000800</td>\n",
       "      <td>0.011354</td>\n",
       "    </tr>\n",
       "    <tr>\n",
       "      <td>500</td>\n",
       "      <td>0.000600</td>\n",
       "      <td>0.011449</td>\n",
       "    </tr>\n",
       "    <tr>\n",
       "      <td>510</td>\n",
       "      <td>0.001800</td>\n",
       "      <td>0.011418</td>\n",
       "    </tr>\n",
       "    <tr>\n",
       "      <td>520</td>\n",
       "      <td>0.000400</td>\n",
       "      <td>0.011351</td>\n",
       "    </tr>\n",
       "    <tr>\n",
       "      <td>530</td>\n",
       "      <td>0.000900</td>\n",
       "      <td>0.011498</td>\n",
       "    </tr>\n",
       "    <tr>\n",
       "      <td>540</td>\n",
       "      <td>0.001000</td>\n",
       "      <td>0.011412</td>\n",
       "    </tr>\n",
       "    <tr>\n",
       "      <td>550</td>\n",
       "      <td>0.001100</td>\n",
       "      <td>0.011367</td>\n",
       "    </tr>\n",
       "    <tr>\n",
       "      <td>560</td>\n",
       "      <td>0.000800</td>\n",
       "      <td>0.011308</td>\n",
       "    </tr>\n",
       "    <tr>\n",
       "      <td>570</td>\n",
       "      <td>0.000600</td>\n",
       "      <td>0.011409</td>\n",
       "    </tr>\n",
       "    <tr>\n",
       "      <td>580</td>\n",
       "      <td>0.001500</td>\n",
       "      <td>0.011293</td>\n",
       "    </tr>\n",
       "  </tbody>\n",
       "</table><p>"
      ],
      "text/plain": [
       "<IPython.core.display.HTML object>"
      ]
     },
     "metadata": {},
     "output_type": "display_data"
    },
    {
     "data": {
      "application/vnd.jupyter.widget-view+json": {
       "model_id": "adcf32e3b8974ae1878ce518d5205778",
       "version_major": 2,
       "version_minor": 0
      },
      "text/plain": [
       "Loading checkpoint shards:   0%|          | 0/2 [00:00<?, ?it/s]"
      ]
     },
     "metadata": {},
     "output_type": "display_data"
    },
    {
     "name": "stdout",
     "output_type": "stream",
     "text": [
      "INFO 11-15 19:00:31 llm_engine.py:72] Initializing an LLM engine with config: model='merged_weights_dir', tokenizer='merged_weights_dir', tokenizer_mode=auto, revision=None, tokenizer_revision=None, trust_remote_code=False, dtype=torch.bfloat16, max_seq_len=4096, download_dir=None, load_format=auto, tensor_parallel_size=1, quantization=None, seed=0)\n"
     ]
    },
    {
     "name": "stderr",
     "output_type": "stream",
     "text": [
      "Special tokens have been added in the vocabulary, make sure the associated word embeddings are fine-tuned or trained.\n",
      "Special tokens have been added in the vocabulary, make sure the associated word embeddings are fine-tuned or trained.\n"
     ]
    },
    {
     "name": "stdout",
     "output_type": "stream",
     "text": [
      "INFO 11-15 19:01:20 llm_engine.py:207] # GPU blocks: 864, # CPU blocks: 512\n",
      "CPU times: user 40min 30s, sys: 30min 43s, total: 1h 11min 13s\n",
      "Wall time: 1h 12min 11s\n"
     ]
    }
   ],
   "source": [
    "%%time\n",
    "# NOTE: Fine-tuning using 100 records on this setup (compute and other resources) will take about ~5mins.\n",
    "\n",
    "merged_weights_dir = 'merged_weights_dir'\n",
    "output_weights_dir = 'output_weights_dir'\n",
    "\n",
    "runner = ft_util.FinetuneModelRunner(\n",
    "    base_model_id=\"meta-llama/Llama-2-7b-chat-hf\",\n",
    "    task_type=ft_util.FinetuneTaskType.INSTRUCT,\n",
    "    train_dataset=train_df,\n",
    "    eval_dataset=eval_df,\n",
    ")\n",
    "\n",
    "mcf = ft_util.ModelConfig(\n",
    "    num_epochs=2,\n",
    "    quantization=ft_util.QuantizationConfig(\n",
    "        k_bits=4,\n",
    "    ),\n",
    "    merged_weights_dir_path=merged_weights_dir,\n",
    ")\n",
    "\n",
    "_ = runner.train(output_weights_dir, model_cfg=mcf)"
   ]
  },
  {
   "cell_type": "markdown",
   "metadata": {},
   "source": [
    "#### Evaluate Results on Eval Dataset\n",
    "\n",
    "After the fine-tuning job completes, we call `get_eval_results`, this will run evaluation and get model predictions using the entire `eval_dataset`. You can see the output by model in the `predicted` column of the dataframe.\n",
    "\n",
    "*Examine the \"output\" and \"predicted\" columns*"
   ]
  },
  {
   "cell_type": "code",
   "execution_count": 40,
   "metadata": {
    "tags": []
   },
   "outputs": [
    {
     "name": "stderr",
     "output_type": "stream",
     "text": [
      "Processed prompts: 100%|██████████| 68/68 [00:14<00:00,  4.74it/s]\n"
     ]
    },
    {
     "data": {
      "text/html": [
       "<div>\n",
       "<style scoped>\n",
       "    .dataframe tbody tr th:only-of-type {\n",
       "        vertical-align: middle;\n",
       "    }\n",
       "\n",
       "    .dataframe tbody tr th {\n",
       "        vertical-align: top;\n",
       "    }\n",
       "\n",
       "    .dataframe thead th {\n",
       "        text-align: right;\n",
       "    }\n",
       "</style>\n",
       "<table border=\"1\" class=\"dataframe\">\n",
       "  <thead>\n",
       "    <tr style=\"text-align: right;\">\n",
       "      <th></th>\n",
       "      <th>instruction</th>\n",
       "      <th>input</th>\n",
       "      <th>output</th>\n",
       "      <th>language</th>\n",
       "      <th>id</th>\n",
       "      <th>lang_label</th>\n",
       "      <th>predicted</th>\n",
       "    </tr>\n",
       "  </thead>\n",
       "  <tbody>\n",
       "    <tr>\n",
       "      <th>0</th>\n",
       "      <td>Extract JSON response with 'location' and 'toy_list' as keys. 'location': Location of the caller. Include city only.'toy_list': List of toy names from the caller.</td>\n",
       "      <td>\"caller: Hi there! \\nfrosty: Hello! Welcome to our Holiday Wish List line! How can I help you today? \\ncaller: My name is Sarah and I'm calling from London. I wanted to submit a wish list for my child. \\nfrosty: Wonderful, Sarah! It's great to have you on the line. What country do you live in? \\ncaller: I live in the United Kingdom. \\nfrosty: That's fantastic! What's on your wish list? \\ncaller: I think my child would like the transformers bumblebee. \\nfrosty: Great choice! Why are you interested in this toy? \\ncaller: My child loves action figures and Transformers. I think he'll have a lot of fun with this one. \\nfrosty: That sounds perfect! How do you and your family plan to celebrate the holiday season? \\ncaller: We usually have a big family gathering at our house with lots of food and games. \\nfrosty: That sounds lovely! Do you have a favorite holiday memory or pastime? \\ncaller: My favorite memory is baking holiday cookies with my mom when I was a child. \\nfrosty: That's a beautiful memory! So, just to confirm, you would like to add the Transformers Rise of the Beasts Beast-Mode Bumblebee to your wish list? \\ncaller: Yes, that's correct! \\nfrosty: Excellent! Thank you, Sarah, and I hope you and your family have a wonderful holiday season! \\ncaller: Thank you! Have a great day! \\nfrosty: You too! Goodbye!\"</td>\n",
       "      <td>{\"toy_list\": [\"Transformers Rise of the Beasts Beast-Mode Bumblebee\"], \"location\": \"London\"}</td>\n",
       "      <td>EN</td>\n",
       "      <td>39</td>\n",
       "      <td>0</td>\n",
       "      <td>{\"toy_list\": [\"Transformers Rise of the Beasts Beast-Mode Bumblebee\"], \"location\": \"London\"}</td>\n",
       "    </tr>\n",
       "    <tr>\n",
       "      <th>1</th>\n",
       "      <td>Extract JSON response with 'location' and 'toy_list' as keys. 'location': Location of the caller. Include city only.'toy_list': List of toy names from the caller.</td>\n",
       "      <td>\"caller: Hello, my name is Shawn, and I'm calling from Vancouver. I need to submit a holiday wish list for my kids but I could use some help picking out the perfect toys.\\nfrosty: Hi Shawn, from Vancouver! Let's find the best toys for your kids. Can you tell me a bit about their interests?\\ncaller: My daughter is 5 years old, and she loves Sesame Street, especially Elmo. As for my son, he's 9 and really into Pok\\u00e9mon.\\nfrosty: I have just the toys in mind! How about the Sesame Street Monster Meditation Elmo for your daughter and the Pok\\u00e9mon 8-inch Plush First Partner Three-Pack for your son?\\ncaller: Those sound perfect! Please add them to the wish list.\\nfrosty: I've added the Sesame Street Monster Meditation Elmo for your daughter and the Pok\\u00e9mon 8-inch Plush First Partner Three-Pack for your son to the wish list. I hope they enjoy their gifts, and I wish your family a fantastic holiday season in Vancouver!\"</td>\n",
       "      <td>{\"toy_list\": [\"Sesame Street Monster Meditation Elmo\", \"Pok\\u00e9mon 8-Inch Plush First Partner Three-Pack\"], \"location\": \"Vancouver\"}</td>\n",
       "      <td>EN</td>\n",
       "      <td>525</td>\n",
       "      <td>0</td>\n",
       "      <td>{\"toy_list\": [\"Sesame Street Monster Meditation Elmo\", \"Pok\\u00e9mon 8-inch Plush First Partner Three-Pack\"], \"location\": \"Vancouver\"}</td>\n",
       "    </tr>\n",
       "    <tr>\n",
       "      <th>2</th>\n",
       "      <td>Extract JSON response with 'location' and 'toy_list' as keys. 'location': Location of the caller. Include city only.'toy_list': List of toy names from the caller.</td>\n",
       "      <td>\"caller: Hi, can you help me with my holiday wish list?\\nfrosty: Of course! What's your name, and where are you calling from?\\ncaller: My name is James, and I'm in Melbourne.\\nfrosty: Hi James! Are you considering any specific toys from our catalog?\\ncaller: I can't decide between the ninja turtles delivery van and the spiderman playset.\\nfrosty: Both the Teenage Mutant Ninja Turtles: Mutant Mayhem Pizza Fire Delivery Van and Marvel's Spidey and His Amazing Friends Web Spinners playset are excellent choices! Why are you interested in these toys?\\ncaller: My child loves superhero and action toys.\\nfrosty: That makes sense! Can you tell me a little more about your holiday plans this season?\\ncaller: Our family is planning to stay home, watch movies, and just relax together.\\nfrosty: Sounds cozy and wonderful! Based on your child's love for superheroes, either toy would be great. Do you need help making a final decision?\\ncaller: Yes, please.\\nfrosty: The TMNT Pizza Fire Delivery Van offers an iconic vehicle for imaginative play. The Spiderman playset encourages interactive play with web-spinning action. Given this information, do you have a preference?\\ncaller: I think I'll go with the spiderman playset.\\nfrosty: Excellent choice! I have Marvel's Spidey and His Amazing Friends Web Spinners playset on your wish list. I hope your child has a blast with it, and you have a relaxing holiday season!\\ncaller: Thank you! Goodbye.\\nfrosty: Goodbye, James! Take care.\"</td>\n",
       "      <td>{\"toy_list\": [\"Marvel's Spidey and His Amazing Friends Web Spinners playset\"], \"location\": \"Melbourne\"}</td>\n",
       "      <td>EN</td>\n",
       "      <td>611</td>\n",
       "      <td>0</td>\n",
       "      <td>{\"toy_list\": [\"Marvel's Spidey and His Amazing Friends Web Spinners playset\"], \"location\": \"Melbourne\"}</td>\n",
       "    </tr>\n",
       "    <tr>\n",
       "      <th>3</th>\n",
       "      <td>Extract JSON response with 'location' and 'toy_list' as keys. 'location': Location of the caller. Include city only.'toy_list': List of toy names from the caller.</td>\n",
       "      <td>\"caller: Hi there, I need help picking a toy for my child's wish list.\\nfrosty: Hello! I'm Frosty the voice bot, and I'll be happy to help. What's your name and where are you calling from?\\ncaller: My name is Emily, and I'm from Chicago.\\nfrosty: Hi Emily! What type of toys is your child interested in?\\ncaller: Something educational, but also fun. We want them to learn while they play.\\nfrosty: How about the Snap Circuits: Junior or the LeapFrog Magic Adventures Microscope?\\ncaller: Hm, I've heard of Snap Circuits before. What's the Magic Adventures Microscope?\\nfrosty: The LeapFrog Magic Adventures Microscope is an interactive microscope with 20 slides, offering kids the chance to explore the world around them while learning about science and nature.\\ncaller: That sounds interesting. Let's go with the Magic Adventures Microscope!\\nfrosty: Excellent choice! How do you and your family plan to celebrate the holiday season?\\ncaller: We usually bake cookies together and enjoy a cozy movie night indoors.\\nfrosty: Sounds delightful! What is it about this time of the year that you enjoy the most?\\ncaller: I love seeing the excitement on my child's face as they experience all the festivities.\\nfrosty: That's precious! So I have the LeapFrog Magic Adventures Microscope on your child's wish list. Is there anything else you'd like to add?\\ncaller: No, that should be it for now. Thank you, Frosty!\\nfrosty: You're welcome, Emily! Have a wonderful holiday season!\\ncaller: You too!\"</td>\n",
       "      <td>{\"toy_list\": [\"LeapFrog Magic Adventures Microscope\"], \"location\": \"Chicago\"}</td>\n",
       "      <td>EN</td>\n",
       "      <td>687</td>\n",
       "      <td>0</td>\n",
       "      <td>{\"toy_list\": [\"LeapFrog Magic Adventures Microscope\"], \"location\": \"Chicago\"}</td>\n",
       "    </tr>\n",
       "    <tr>\n",
       "      <th>4</th>\n",
       "      <td>Extract JSON response with 'location' and 'toy_list' as keys. 'location': Location of the caller. Include city only.'toy_list': List of toy names from the caller.</td>\n",
       "      <td>\"caller: Hi, I am here to submit a holiday wish list for my child.\\nfrosty: Wonderful! I'd be happy to help. May I have your name, please?\\ncaller: Sure, I am Sarah from Wellington.\\nfrosty: Nice to meet you, Sarah! Let's get started on that wish list. Can you tell me the toy or toys your child is interested in?\\ncaller: My child really wants the furby, but I am also considering the trasformers bumblebee.\\nfrosty: Great choices! Why are you interested in these toys?\\ncaller: Well, my kid loves interactive plush toys and also enjoys action figures, so these seem like good options.\\nfrosty: I see. How do you and your family plan to celebrate the holiday season?\\ncaller: We usually have a big family gathering with lots of food and games. It's always so much fun!\\nfrosty: That sounds like a great time! What's your favorite holiday memory?\\ncaller: My favorite memory is when we all went caroling around the neighborhood. It was magical!\\nfrosty: What a lovely memory! Now, back to the toys, do you want to include both the furby and trasformers bumblebee in the wish list?\\ncaller: Hmm, let me think. I guess we can go with just the furby for now.\\nfrosty: Alright, I've noted the furby on the wish list. Can you confirm that this is the final toy choice?\\ncaller: Yes, that's correct.\\nfrosty: Fantastic! I've got the furby on your holiday wish list. Have a wonderful holiday season, Sarah!\\ncaller: Thank you, Frosty! You too!\"</td>\n",
       "      <td>{\"toy_list\": [\"Furby interactive plush toy\"], \"location\": \"Wellington\"}</td>\n",
       "      <td>EN</td>\n",
       "      <td>187</td>\n",
       "      <td>0</td>\n",
       "      <td>{\"toy_list\": [\"Furby interactive plush toy\"], \"location\": \"Wellington\"}</td>\n",
       "    </tr>\n",
       "  </tbody>\n",
       "</table>\n",
       "</div>"
      ],
      "text/plain": [
       "                                                                                                                                                          instruction  \\\n",
       "0  Extract JSON response with 'location' and 'toy_list' as keys. 'location': Location of the caller. Include city only.'toy_list': List of toy names from the caller.   \n",
       "1  Extract JSON response with 'location' and 'toy_list' as keys. 'location': Location of the caller. Include city only.'toy_list': List of toy names from the caller.   \n",
       "2  Extract JSON response with 'location' and 'toy_list' as keys. 'location': Location of the caller. Include city only.'toy_list': List of toy names from the caller.   \n",
       "3  Extract JSON response with 'location' and 'toy_list' as keys. 'location': Location of the caller. Include city only.'toy_list': List of toy names from the caller.   \n",
       "4  Extract JSON response with 'location' and 'toy_list' as keys. 'location': Location of the caller. Include city only.'toy_list': List of toy names from the caller.   \n",
       "\n",
       "                                                                                                                                                                                                                                                                                                                                                                                                                                                                                                                                                                                                                                                                                                                                                                                                                                                                                                                                                                                                                                                                                                                                                                                                                                                                                                                                                                                                                                                                                                                                                  input  \\\n",
       "0                                                                                                                                                                   \"caller: Hi there! \\nfrosty: Hello! Welcome to our Holiday Wish List line! How can I help you today? \\ncaller: My name is Sarah and I'm calling from London. I wanted to submit a wish list for my child. \\nfrosty: Wonderful, Sarah! It's great to have you on the line. What country do you live in? \\ncaller: I live in the United Kingdom. \\nfrosty: That's fantastic! What's on your wish list? \\ncaller: I think my child would like the transformers bumblebee. \\nfrosty: Great choice! Why are you interested in this toy? \\ncaller: My child loves action figures and Transformers. I think he'll have a lot of fun with this one. \\nfrosty: That sounds perfect! How do you and your family plan to celebrate the holiday season? \\ncaller: We usually have a big family gathering at our house with lots of food and games. \\nfrosty: That sounds lovely! Do you have a favorite holiday memory or pastime? \\ncaller: My favorite memory is baking holiday cookies with my mom when I was a child. \\nfrosty: That's a beautiful memory! So, just to confirm, you would like to add the Transformers Rise of the Beasts Beast-Mode Bumblebee to your wish list? \\ncaller: Yes, that's correct! \\nfrosty: Excellent! Thank you, Sarah, and I hope you and your family have a wonderful holiday season! \\ncaller: Thank you! Have a great day! \\nfrosty: You too! Goodbye!\"   \n",
       "1                                                                                                                                                                                                                                                                                                                                                                                                                                                                                                                                                                             \"caller: Hello, my name is Shawn, and I'm calling from Vancouver. I need to submit a holiday wish list for my kids but I could use some help picking out the perfect toys.\\nfrosty: Hi Shawn, from Vancouver! Let's find the best toys for your kids. Can you tell me a bit about their interests?\\ncaller: My daughter is 5 years old, and she loves Sesame Street, especially Elmo. As for my son, he's 9 and really into Pok\\u00e9mon.\\nfrosty: I have just the toys in mind! How about the Sesame Street Monster Meditation Elmo for your daughter and the Pok\\u00e9mon 8-inch Plush First Partner Three-Pack for your son?\\ncaller: Those sound perfect! Please add them to the wish list.\\nfrosty: I've added the Sesame Street Monster Meditation Elmo for your daughter and the Pok\\u00e9mon 8-inch Plush First Partner Three-Pack for your son to the wish list. I hope they enjoy their gifts, and I wish your family a fantastic holiday season in Vancouver!\"   \n",
       "2              \"caller: Hi, can you help me with my holiday wish list?\\nfrosty: Of course! What's your name, and where are you calling from?\\ncaller: My name is James, and I'm in Melbourne.\\nfrosty: Hi James! Are you considering any specific toys from our catalog?\\ncaller: I can't decide between the ninja turtles delivery van and the spiderman playset.\\nfrosty: Both the Teenage Mutant Ninja Turtles: Mutant Mayhem Pizza Fire Delivery Van and Marvel's Spidey and His Amazing Friends Web Spinners playset are excellent choices! Why are you interested in these toys?\\ncaller: My child loves superhero and action toys.\\nfrosty: That makes sense! Can you tell me a little more about your holiday plans this season?\\ncaller: Our family is planning to stay home, watch movies, and just relax together.\\nfrosty: Sounds cozy and wonderful! Based on your child's love for superheroes, either toy would be great. Do you need help making a final decision?\\ncaller: Yes, please.\\nfrosty: The TMNT Pizza Fire Delivery Van offers an iconic vehicle for imaginative play. The Spiderman playset encourages interactive play with web-spinning action. Given this information, do you have a preference?\\ncaller: I think I'll go with the spiderman playset.\\nfrosty: Excellent choice! I have Marvel's Spidey and His Amazing Friends Web Spinners playset on your wish list. I hope your child has a blast with it, and you have a relaxing holiday season!\\ncaller: Thank you! Goodbye.\\nfrosty: Goodbye, James! Take care.\"   \n",
       "3  \"caller: Hi there, I need help picking a toy for my child's wish list.\\nfrosty: Hello! I'm Frosty the voice bot, and I'll be happy to help. What's your name and where are you calling from?\\ncaller: My name is Emily, and I'm from Chicago.\\nfrosty: Hi Emily! What type of toys is your child interested in?\\ncaller: Something educational, but also fun. We want them to learn while they play.\\nfrosty: How about the Snap Circuits: Junior or the LeapFrog Magic Adventures Microscope?\\ncaller: Hm, I've heard of Snap Circuits before. What's the Magic Adventures Microscope?\\nfrosty: The LeapFrog Magic Adventures Microscope is an interactive microscope with 20 slides, offering kids the chance to explore the world around them while learning about science and nature.\\ncaller: That sounds interesting. Let's go with the Magic Adventures Microscope!\\nfrosty: Excellent choice! How do you and your family plan to celebrate the holiday season?\\ncaller: We usually bake cookies together and enjoy a cozy movie night indoors.\\nfrosty: Sounds delightful! What is it about this time of the year that you enjoy the most?\\ncaller: I love seeing the excitement on my child's face as they experience all the festivities.\\nfrosty: That's precious! So I have the LeapFrog Magic Adventures Microscope on your child's wish list. Is there anything else you'd like to add?\\ncaller: No, that should be it for now. Thank you, Frosty!\\nfrosty: You're welcome, Emily! Have a wonderful holiday season!\\ncaller: You too!\"   \n",
       "4                                                         \"caller: Hi, I am here to submit a holiday wish list for my child.\\nfrosty: Wonderful! I'd be happy to help. May I have your name, please?\\ncaller: Sure, I am Sarah from Wellington.\\nfrosty: Nice to meet you, Sarah! Let's get started on that wish list. Can you tell me the toy or toys your child is interested in?\\ncaller: My child really wants the furby, but I am also considering the trasformers bumblebee.\\nfrosty: Great choices! Why are you interested in these toys?\\ncaller: Well, my kid loves interactive plush toys and also enjoys action figures, so these seem like good options.\\nfrosty: I see. How do you and your family plan to celebrate the holiday season?\\ncaller: We usually have a big family gathering with lots of food and games. It's always so much fun!\\nfrosty: That sounds like a great time! What's your favorite holiday memory?\\ncaller: My favorite memory is when we all went caroling around the neighborhood. It was magical!\\nfrosty: What a lovely memory! Now, back to the toys, do you want to include both the furby and trasformers bumblebee in the wish list?\\ncaller: Hmm, let me think. I guess we can go with just the furby for now.\\nfrosty: Alright, I've noted the furby on the wish list. Can you confirm that this is the final toy choice?\\ncaller: Yes, that's correct.\\nfrosty: Fantastic! I've got the furby on your holiday wish list. Have a wonderful holiday season, Sarah!\\ncaller: Thank you, Frosty! You too!\"   \n",
       "\n",
       "                                                                                                                                   output  \\\n",
       "0                                            {\"toy_list\": [\"Transformers Rise of the Beasts Beast-Mode Bumblebee\"], \"location\": \"London\"}   \n",
       "1  {\"toy_list\": [\"Sesame Street Monster Meditation Elmo\", \"Pok\\u00e9mon 8-Inch Plush First Partner Three-Pack\"], \"location\": \"Vancouver\"}   \n",
       "2                                 {\"toy_list\": [\"Marvel's Spidey and His Amazing Friends Web Spinners playset\"], \"location\": \"Melbourne\"}   \n",
       "3                                                           {\"toy_list\": [\"LeapFrog Magic Adventures Microscope\"], \"location\": \"Chicago\"}   \n",
       "4                                                                 {\"toy_list\": [\"Furby interactive plush toy\"], \"location\": \"Wellington\"}   \n",
       "\n",
       "  language   id  lang_label  \\\n",
       "0       EN   39           0   \n",
       "1       EN  525           0   \n",
       "2       EN  611           0   \n",
       "3       EN  687           0   \n",
       "4       EN  187           0   \n",
       "\n",
       "                                                                                                                                 predicted  \n",
       "0                                             {\"toy_list\": [\"Transformers Rise of the Beasts Beast-Mode Bumblebee\"], \"location\": \"London\"}  \n",
       "1   {\"toy_list\": [\"Sesame Street Monster Meditation Elmo\", \"Pok\\u00e9mon 8-inch Plush First Partner Three-Pack\"], \"location\": \"Vancouver\"}  \n",
       "2                                  {\"toy_list\": [\"Marvel's Spidey and His Amazing Friends Web Spinners playset\"], \"location\": \"Melbourne\"}  \n",
       "3                                                            {\"toy_list\": [\"LeapFrog Magic Adventures Microscope\"], \"location\": \"Chicago\"}  \n",
       "4                                                                  {\"toy_list\": [\"Furby interactive plush toy\"], \"location\": \"Wellington\"}  "
      ]
     },
     "execution_count": 40,
     "metadata": {},
     "output_type": "execute_result"
    }
   ],
   "source": [
    "eval_df = runner.get_eval_results()\n",
    "eval_df.head()"
   ]
  },
  {
   "cell_type": "markdown",
   "metadata": {},
   "source": [
    "#### Inference on Custom Transcript\n",
    "\n",
    "Additionally, you may want to manually craft some cases to test the boundaries of the model. To do that, you can use the `infer` method to run prediction against a single sample interactively."
   ]
  },
  {
   "cell_type": "code",
   "execution_count": 41,
   "metadata": {
    "tags": []
   },
   "outputs": [
    {
     "name": "stderr",
     "output_type": "stream",
     "text": [
      "Processed prompts: 100%|██████████| 1/1 [00:02<00:00,  2.02s/it]\n"
     ]
    },
    {
     "data": {
      "text/plain": [
       "' {\"toy_list\": [\"Teenage Mutant Ninja Turtles: Mutant Mayhem Pizza Fire Delivery Van\", \"Hasbro\\'s Tiny Pony Convertible and Learn-to-Ride Labyrinth\"], \"location\": \"Cape Town\"}'"
      ]
     },
     "execution_count": 41,
     "metadata": {},
     "output_type": "execute_result"
    }
   ],
   "source": [
    "runner.infer(\n",
    "     {\n",
    "    'instruction': \"\"\"\n",
    "        \"Extract JSON response with 'location' and 'toy_list' as keys. 'location': \n",
    "        Location of the caller. Include city only.'toy_list': List of toy names from the caller.\"\n",
    "    \"\"\",\n",
    "    'input': \"\"\"\n",
    "        \"frosty: Hello, hello! Who's ready to chat with Frosty today?\\ncaller: Hi, I'm Dustin from Cape Town, South Africa.\\nfrosty: \n",
    "        Hi Dustin, it's awesome to meet you! Do you already know what you would like for your holiday gift?\\ncaller: \n",
    "        Yeah, I think I want the ninja turtles delivery van, or maybe the robot dog. \n",
    "        I can't decide...\\nfrosty: Both sound like entertaining choices! \n",
    "        Why are you interested in these particular toys?\\ncaller: The ninja turtles van is so cool! And the robot dog, it's like a pet you don't have to clean up after.\\nfrosty: \n",
    "        That's true! Savage choices, Dustin! How do you usually celebrate the holiday season?\\ncaller: \n",
    "        We usually have a big family barbeque and play games all day long.\\nfrosty: Sounds fun! What is your favorite thing about this time of year?\n",
    "        \\ncaller: I like that everyone is happy and I get to spend a lot of time with my family.\n",
    "        \\nfrosty: That's wonderful! So Dustin, have you thought any more about your holiday wish?\n",
    "        \\ncaller: I think I'm going to get the robot dog. It sounds fun and I won't have to walk it.\n",
    "        \\nfrosty: That's a clever choice, Dustin! I hope you have a fantastic holiday season!\"\n",
    "\"\"\"\n",
    "    }\n",
    ")"
   ]
  },
  {
   "cell_type": "markdown",
   "metadata": {},
   "source": [
    "#### Batch Inference on Test Dataset\n",
    "\n",
    "For batch inference to test on a holdout dataset, you can use `infer_batch` on a dataframe.\n",
    "\n",
    "*Examine the \"output\" and \"predicted\" columns*"
   ]
  },
  {
   "cell_type": "code",
   "execution_count": 42,
   "metadata": {
    "tags": []
   },
   "outputs": [
    {
     "name": "stderr",
     "output_type": "stream",
     "text": [
      "Processed prompts: 100%|██████████| 138/138 [00:30<00:00,  4.57it/s]\n"
     ]
    },
    {
     "data": {
      "text/html": [
       "<div>\n",
       "<style scoped>\n",
       "    .dataframe tbody tr th:only-of-type {\n",
       "        vertical-align: middle;\n",
       "    }\n",
       "\n",
       "    .dataframe tbody tr th {\n",
       "        vertical-align: top;\n",
       "    }\n",
       "\n",
       "    .dataframe thead th {\n",
       "        text-align: right;\n",
       "    }\n",
       "</style>\n",
       "<table border=\"1\" class=\"dataframe\">\n",
       "  <thead>\n",
       "    <tr style=\"text-align: right;\">\n",
       "      <th></th>\n",
       "      <th>instruction</th>\n",
       "      <th>input</th>\n",
       "      <th>output</th>\n",
       "      <th>language</th>\n",
       "      <th>id</th>\n",
       "      <th>lang_label</th>\n",
       "      <th>predicted</th>\n",
       "    </tr>\n",
       "  </thead>\n",
       "  <tbody>\n",
       "    <tr>\n",
       "      <th>0</th>\n",
       "      <td>Extract JSON response with 'location' and 'toy_list' as keys. 'location': Location of the caller. Include city only.'toy_list': List of toy names from the caller.</td>\n",
       "      <td>\"frosty: Bonjour ! Je suis Frosty, votre assistant pour les listes de souhaits des f\\u00eates. Comment puis-je vous \\u00eatre utile aujourd'hui ?\\ncaller: Salut, je m'appelle Alain, j'ai besoin d'aide pour choisir un jouet pour mon enfant.\\nfrosty: Bonjour Alain ! D'o\\u00f9 appelez-vous ?\\ncaller: Je vous appelle de Marseille.\\nfrosty: Super ! Avez-vous une id\\u00e9e du type de jouet que vous recherchez ?\\ncaller: Je pensais au jurassic world dinosaur, mais je ne suis pas s\\u00fbr.\\nfrosty: Je comprends. Pourquoi \\u00eates-vous int\\u00e9ress\\u00e9 par ce jouet ?\\ncaller: Mon fils est un grand fan de dinosaures et de films Jurassic World.\\nfrosty: C'est un bon point de d\\u00e9part. Qu'est-ce que votre enfant appr\\u00e9cie dans cette p\\u00e9riode de l'ann\\u00e9e ?\\ncaller: Il aime recevoir des cadeaux et passer du temps avec sa famille.\\nfrosty: C'est une p\\u00e9riode id\\u00e9ale pour des moments en famille. Avant de d\\u00e9cider, parlons d'autres options de cadeaux. Que pensez-vous du snap circuit set pour un enfant qui aime les dinosaures et les films ?\\ncaller: Je pense que ce pourrait \\u00eatre int\\u00e9ressant, mais mon fils pr\\u00e9f\\u00e9rerait peut-\\u00eatre le jurassic world dinosaur.\\nfrosty: D'accord, dans ce cas, ajoutons le jurassic world dinosaur \\u00e0 votre liste de souhaits. Est-ce qu'il y a un autre jouet que vous aimeriez ajouter ?\\ncaller: Non, c'est tout pour le moment. Merci pour votre aide, Frosty.\\nfrosty: C'est un plaisir de vous aider, Alain ! Passez d'excellentes vacances en famille. Au revoir !\"</td>\n",
       "      <td>{\"toy_list\": [\"Jurassic World Dominion Super Colossal Giganotosaurus\"], \"location\": \"Marseille\"}</td>\n",
       "      <td>FR</td>\n",
       "      <td>1173</td>\n",
       "      <td>1</td>\n",
       "      <td>{\"toy_list\": [\"Jurassic World Dominion Super Colossal Giganotosaurus\"], \"location\": \"Marseille\"}</td>\n",
       "    </tr>\n",
       "    <tr>\n",
       "      <th>1</th>\n",
       "      <td>Extract JSON response with 'location' and 'toy_list' as keys. 'location': Location of the caller. Include city only.'toy_list': List of toy names from the caller.</td>\n",
       "      <td>\"caller: Hi Frosty, my name is Daniel, and I'm calling from Cape Town. Could you help me finalize my child's holiday wish list?\\nfrosty: Of course, Daniel from Cape Town! Let's find the perfect toy for your child. What type of toys are they interested in?\\ncaller: He's really into dinosaurs and anything related to them. I was thinking of getting him the jurassic world dinosaur.\\nfrosty: The Jurassic World Dominion Super Colossal Giganotosaurus is an excellent choice for a dinosaur enthusiast! Can you tell me what you enjoy the most about this time of the year?\\ncaller: What I love the most is the atmosphere of joy and sharing special moments with family and friends.\\nfrosty: That's a lovely answer, Daniel. I'm adding the Jurassic World Dominion Super Colossal Giganotosaurus to your child's holiday wish list. Have a fantastic holiday season!\"</td>\n",
       "      <td>{\"toy_list\": [\"Jurassic World Dominion Super Colossal Giganotosaurus\"], \"location\": \"Cape Town\"}</td>\n",
       "      <td>EN</td>\n",
       "      <td>938</td>\n",
       "      <td>0</td>\n",
       "      <td>{\"toy_list\": [\"Jurassic World Dominion Super Colossal Giganotosaurus\"], \"location\": \"Cape Town\"}</td>\n",
       "    </tr>\n",
       "    <tr>\n",
       "      <th>2</th>\n",
       "      <td>Extract JSON response with 'location' and 'toy_list' as keys. 'location': Location of the caller. Include city only.'toy_list': List of toy names from the caller.</td>\n",
       "      <td>\"frosty: \\u00a1Hola y bienvenido! Soy Frosty, tu asistente de voz para la lista de deseos de vacaciones. \\u00bfCu\\u00e1l es tu nombre y desde d\\u00f3nde est\\u00e1s llamando?\\n\\ncaller: \\u00a1Hola Frosty! Soy Andr\\u00e9s. Estoy llamando desde Santiago, Chile.\\n\\nfrosty: Hola, Andr\\u00e9s. Encantado de conocerte. \\u00bfQu\\u00e9 juguetes te gustar\\u00eda agregar a la lista de deseos para tus hijos esta temporada?\\n\\ncaller: No estoy seguro todav\\u00eda. Me gustar\\u00eda explorar el cat\\u00e1logo de juguetes para encontrar el perfecto para mi hijo.\\n\\nfrosty: Claro, con gusto te ayudo. \\u00bfQu\\u00e9 tipo de juguetes le gustan a tu hijo generalmente? \\u00bfPrefiere actividades creativas, juguetes que le ense\\u00f1en algo nuevo o tal vez juguetes relacionados con sus pel\\u00edculas o programas favoritos?\\n\\ncaller: Le gusta la creatividad y los juguetes educativos, pero tambi\\u00e9n ama los veh\\u00edculos y personajes de sus programas favoritos.\\n\\nfrosty: \\u00bfQu\\u00e9 te parece explorar opciones como el ninja turtles delivery van, el snap circuit set, o el lego olivia's space set? Todos estos juguetes ofrecen entretenimiento y un componente educativo.\\n\\ncaller: La verdad, el ninja turtles delivery van y el snap circuit set suenan como algo que le gustar\\u00eda. Pero me gustar\\u00eda que decidiera entre esos dos.\\n\\nfrosty: Perfecto. El Teenage Mutant Ninja Turtles: Mutant Mayhem Pizza Fire Delivery Van es ideal para los ni\\u00f1os que disfrutan de la serie y los veh\\u00edculos. El Snap Circuits: Junior es un juguete educativo que ense\\u00f1a a los ni\\u00f1os acerca de la electricidad y circuitos a trav\\u00e9s de proyectos pr\\u00e1cticos. \\u00bfCu\\u00e1l de estos dos prefieres?\\n\\ncaller: Me gusta m\\u00e1s la idea del snap circuit set. Creo que eso lo mantendr\\u00e1 ocupado y aprendiendo algo \\u00fatil al mismo tiempo.\\n\\nfrosty: \\u00a1Excelente elecci\\u00f3n! Entonces, vamos a agregar el Snap Circuits: Junior a la lista de deseos de tu hijo. \\u00bfDeseas agregar otro juguete a la lista?\\n\\ncaller: No, eso ser\\u00e1 todo por ahora. Gracias.\\n\\nfrosty: De nada, Andr\\u00e9s. \\u00a1Espero que t\\u00fa y tu familia tengan unas incre\\u00edbles vacaciones juntos! Hasta la pr\\u00f3xima.\\n\\ncaller: \\u00a1Hasta luego, Frosty!\"</td>\n",
       "      <td>{\"toy_list\": [\"Snap Circuits: Junior\"], \"location\": \"Santiago\"}</td>\n",
       "      <td>ES</td>\n",
       "      <td>1030</td>\n",
       "      <td>3</td>\n",
       "      <td>{\"toy_list\": [\"Snap Circuits: Junior\"], \"location\": \"Santiago\"}</td>\n",
       "    </tr>\n",
       "    <tr>\n",
       "      <th>3</th>\n",
       "      <td>Extract JSON response with 'location' and 'toy_list' as keys. 'location': Location of the caller. Include city only.'toy_list': List of toy names from the caller.</td>\n",
       "      <td>\"caller: Hello, I would like to submit a holiday wish list for my child.\\nfrosty: Hi, happy to help! Can you please tell me your name?\\ncaller: I'm Mark.\\nfrosty: Thank you, Mark! Could you also provide your location?\\ncaller: I'm calling from Birmingham.\\nfrosty: Nice to meet you, Mark! What toy or toys would you like to add to your child's wish list?\\ncaller: I'm thinking about the ninja turtles delivery van and the baby bee doll.\\nfrosty: Great choices! Could you please tell me why your child would be interested in these toys?\\ncaller: My child is a big fan of superheroes and also loves playing with adorable cuddly toys.\\nfrosty: It sounds like you've made a perfect selection! What are your family's holiday plans this year?\\ncaller: We're planning on having a quiet celebration at home with some close friends.\\nfrosty: That sounds lovely! So, Mark, I'll add the Teenage Mutant Ninja Turtles: Mutant Mayhem Pizza Fire Delivery Van and the Orijin Bees Lovey Coiley Baby Bee to your holiday wish list. Have a fantastic holiday season!\\ncaller: Thank you! You too!\"</td>\n",
       "      <td>{\"toy_list\": [\"Teenage Mutant Ninja Turtles: Mutant Mayhem Pizza Fire Delivery Van\", \"Orijin Bees Lovey Coiley Baby Bee\"], \"location\": \"Birmingham\"}</td>\n",
       "      <td>EN</td>\n",
       "      <td>301</td>\n",
       "      <td>0</td>\n",
       "      <td>{\"toy_list\": [\"Teenage Mutant Ninja Turtles: Mutant Mayhem Pizza Fire Delivery Van\", \"Orijin Bees Lovey Coiley Baby Bee\"], \"location\": \"Birmingham\"}</td>\n",
       "    </tr>\n",
       "    <tr>\n",
       "      <th>4</th>\n",
       "      <td>Extract JSON response with 'location' and 'toy_list' as keys. 'location': Location of the caller. Include city only.'toy_list': List of toy names from the caller.</td>\n",
       "      <td>\"frosty: Bonjour et bienvenue chez Frosty! Quel plaisir de vous parler. Comment puis-je vous aider?\\n\\ncaller: Bonjour, je m'appelle Nathalie et je suis \\u00e0 Nice. Je voudrais choisir un ou deux jouets pour mon enfant.\\n\\nfrosty: Bien s\\u00fbr, Nathalie! Jetons un coup d'\\u0153il \\u00e0 notre catalogue. Quels sont les int\\u00e9r\\u00eats de votre enfant?\\n\\ncaller: Il aime les jeux de construction et les robots.\\n\\nfrosty: Tr\\u00e8s bien. Je vous sugg\\u00e8re soit un Lego Friends Olivia's Space Academy (lego olivia's space set) ou un Bitzee interactive pet (bitzee pet). Qu'en pensez-vous?\\n\\ncaller: Difficile de choisir... J'aime bien le Bitzee interactive pet, ajoutez-le \\u00e0 ma liste s'il vous pla\\u00eet.\\n\\nfrosty: D'accord, j'ajoute un Bitzee interactive pet \\u00e0 votre liste de souhaits. Avant de partir, pourrions-nous discuter de votre passe-temps ou de votre loisir pr\\u00e9f\\u00e9r\\u00e9?\\n\\ncaller: Bien s\\u00fbr! J'adore faire du yoga et passer du temps \\u00e0 la plage avec mes amis.\\n\\nfrosty: Cela semble tr\\u00e8s relaxant! Merci d'avoir partag\\u00e9. Votre liste de souhaits contient maintenant un Bitzee interactive pet. Est-ce que tout est en ordre?\\n\\ncaller: Oui, parfait! Merci de votre aide.\\n\\nfrosty: Vous \\u00eates la bienvenue, Nathalie. Passez une merveilleuse saison de f\\u00eates et merci d'avoir appel\\u00e9 Frosty!\\n\"</td>\n",
       "      <td>{\"toy_list\": [\"Bitzee interactive pet\"], \"location\": \"Nice\"}</td>\n",
       "      <td>FR</td>\n",
       "      <td>1189</td>\n",
       "      <td>1</td>\n",
       "      <td>{\"toy_list\": [\"Bitzee interactive pet\"], \"location\": \"Nice\"}</td>\n",
       "    </tr>\n",
       "  </tbody>\n",
       "</table>\n",
       "</div>"
      ],
      "text/plain": [
       "                                                                                                                                                          instruction  \\\n",
       "0  Extract JSON response with 'location' and 'toy_list' as keys. 'location': Location of the caller. Include city only.'toy_list': List of toy names from the caller.   \n",
       "1  Extract JSON response with 'location' and 'toy_list' as keys. 'location': Location of the caller. Include city only.'toy_list': List of toy names from the caller.   \n",
       "2  Extract JSON response with 'location' and 'toy_list' as keys. 'location': Location of the caller. Include city only.'toy_list': List of toy names from the caller.   \n",
       "3  Extract JSON response with 'location' and 'toy_list' as keys. 'location': Location of the caller. Include city only.'toy_list': List of toy names from the caller.   \n",
       "4  Extract JSON response with 'location' and 'toy_list' as keys. 'location': Location of the caller. Include city only.'toy_list': List of toy names from the caller.   \n",
       "\n",
       "                                                                                                                                                                                                                                                                                                                                                                                                                                                                                                                                                                                                                                                                                                                                                                                                                                                                                                                                                                                                                                                                                                                                                                                                                                                                                                                                                                                                                                                                                                                                                                                                                                                                                                                                                                                                                                                                                                                                                                                                                                                                                                                                                                                                                                                                                                                                            input  \\\n",
       "0                                                                                                                                                                                                                                                                                                                                                                                                                                                                                                                                                                                                                                                                                                                                      \"frosty: Bonjour ! Je suis Frosty, votre assistant pour les listes de souhaits des f\\u00eates. Comment puis-je vous \\u00eatre utile aujourd'hui ?\\ncaller: Salut, je m'appelle Alain, j'ai besoin d'aide pour choisir un jouet pour mon enfant.\\nfrosty: Bonjour Alain ! D'o\\u00f9 appelez-vous ?\\ncaller: Je vous appelle de Marseille.\\nfrosty: Super ! Avez-vous une id\\u00e9e du type de jouet que vous recherchez ?\\ncaller: Je pensais au jurassic world dinosaur, mais je ne suis pas s\\u00fbr.\\nfrosty: Je comprends. Pourquoi \\u00eates-vous int\\u00e9ress\\u00e9 par ce jouet ?\\ncaller: Mon fils est un grand fan de dinosaures et de films Jurassic World.\\nfrosty: C'est un bon point de d\\u00e9part. Qu'est-ce que votre enfant appr\\u00e9cie dans cette p\\u00e9riode de l'ann\\u00e9e ?\\ncaller: Il aime recevoir des cadeaux et passer du temps avec sa famille.\\nfrosty: C'est une p\\u00e9riode id\\u00e9ale pour des moments en famille. Avant de d\\u00e9cider, parlons d'autres options de cadeaux. Que pensez-vous du snap circuit set pour un enfant qui aime les dinosaures et les films ?\\ncaller: Je pense que ce pourrait \\u00eatre int\\u00e9ressant, mais mon fils pr\\u00e9f\\u00e9rerait peut-\\u00eatre le jurassic world dinosaur.\\nfrosty: D'accord, dans ce cas, ajoutons le jurassic world dinosaur \\u00e0 votre liste de souhaits. Est-ce qu'il y a un autre jouet que vous aimeriez ajouter ?\\ncaller: Non, c'est tout pour le moment. Merci pour votre aide, Frosty.\\nfrosty: C'est un plaisir de vous aider, Alain ! Passez d'excellentes vacances en famille. Au revoir !\"   \n",
       "1                                                                                                                                                                                                                                                                                                                                                                                                                                                                                                                                                                                                                                                                                                                                                                                                                                                                                                                                                                                                                                                                                                                                                                                                                                                                                                                                                                                                                                                           \"caller: Hi Frosty, my name is Daniel, and I'm calling from Cape Town. Could you help me finalize my child's holiday wish list?\\nfrosty: Of course, Daniel from Cape Town! Let's find the perfect toy for your child. What type of toys are they interested in?\\ncaller: He's really into dinosaurs and anything related to them. I was thinking of getting him the jurassic world dinosaur.\\nfrosty: The Jurassic World Dominion Super Colossal Giganotosaurus is an excellent choice for a dinosaur enthusiast! Can you tell me what you enjoy the most about this time of the year?\\ncaller: What I love the most is the atmosphere of joy and sharing special moments with family and friends.\\nfrosty: That's a lovely answer, Daniel. I'm adding the Jurassic World Dominion Super Colossal Giganotosaurus to your child's holiday wish list. Have a fantastic holiday season!\"   \n",
       "2  \"frosty: \\u00a1Hola y bienvenido! Soy Frosty, tu asistente de voz para la lista de deseos de vacaciones. \\u00bfCu\\u00e1l es tu nombre y desde d\\u00f3nde est\\u00e1s llamando?\\n\\ncaller: \\u00a1Hola Frosty! Soy Andr\\u00e9s. Estoy llamando desde Santiago, Chile.\\n\\nfrosty: Hola, Andr\\u00e9s. Encantado de conocerte. \\u00bfQu\\u00e9 juguetes te gustar\\u00eda agregar a la lista de deseos para tus hijos esta temporada?\\n\\ncaller: No estoy seguro todav\\u00eda. Me gustar\\u00eda explorar el cat\\u00e1logo de juguetes para encontrar el perfecto para mi hijo.\\n\\nfrosty: Claro, con gusto te ayudo. \\u00bfQu\\u00e9 tipo de juguetes le gustan a tu hijo generalmente? \\u00bfPrefiere actividades creativas, juguetes que le ense\\u00f1en algo nuevo o tal vez juguetes relacionados con sus pel\\u00edculas o programas favoritos?\\n\\ncaller: Le gusta la creatividad y los juguetes educativos, pero tambi\\u00e9n ama los veh\\u00edculos y personajes de sus programas favoritos.\\n\\nfrosty: \\u00bfQu\\u00e9 te parece explorar opciones como el ninja turtles delivery van, el snap circuit set, o el lego olivia's space set? Todos estos juguetes ofrecen entretenimiento y un componente educativo.\\n\\ncaller: La verdad, el ninja turtles delivery van y el snap circuit set suenan como algo que le gustar\\u00eda. Pero me gustar\\u00eda que decidiera entre esos dos.\\n\\nfrosty: Perfecto. El Teenage Mutant Ninja Turtles: Mutant Mayhem Pizza Fire Delivery Van es ideal para los ni\\u00f1os que disfrutan de la serie y los veh\\u00edculos. El Snap Circuits: Junior es un juguete educativo que ense\\u00f1a a los ni\\u00f1os acerca de la electricidad y circuitos a trav\\u00e9s de proyectos pr\\u00e1cticos. \\u00bfCu\\u00e1l de estos dos prefieres?\\n\\ncaller: Me gusta m\\u00e1s la idea del snap circuit set. Creo que eso lo mantendr\\u00e1 ocupado y aprendiendo algo \\u00fatil al mismo tiempo.\\n\\nfrosty: \\u00a1Excelente elecci\\u00f3n! Entonces, vamos a agregar el Snap Circuits: Junior a la lista de deseos de tu hijo. \\u00bfDeseas agregar otro juguete a la lista?\\n\\ncaller: No, eso ser\\u00e1 todo por ahora. Gracias.\\n\\nfrosty: De nada, Andr\\u00e9s. \\u00a1Espero que t\\u00fa y tu familia tengan unas incre\\u00edbles vacaciones juntos! Hasta la pr\\u00f3xima.\\n\\ncaller: \\u00a1Hasta luego, Frosty!\"   \n",
       "3                                                                                                                                                                                                                                                                                                                                                                                                                                                                                                                                                                                                                                                                                                                                                                                                                                                                                                                                                                                                                                                                                                                                                                                                                             \"caller: Hello, I would like to submit a holiday wish list for my child.\\nfrosty: Hi, happy to help! Can you please tell me your name?\\ncaller: I'm Mark.\\nfrosty: Thank you, Mark! Could you also provide your location?\\ncaller: I'm calling from Birmingham.\\nfrosty: Nice to meet you, Mark! What toy or toys would you like to add to your child's wish list?\\ncaller: I'm thinking about the ninja turtles delivery van and the baby bee doll.\\nfrosty: Great choices! Could you please tell me why your child would be interested in these toys?\\ncaller: My child is a big fan of superheroes and also loves playing with adorable cuddly toys.\\nfrosty: It sounds like you've made a perfect selection! What are your family's holiday plans this year?\\ncaller: We're planning on having a quiet celebration at home with some close friends.\\nfrosty: That sounds lovely! So, Mark, I'll add the Teenage Mutant Ninja Turtles: Mutant Mayhem Pizza Fire Delivery Van and the Orijin Bees Lovey Coiley Baby Bee to your holiday wish list. Have a fantastic holiday season!\\ncaller: Thank you! You too!\"   \n",
       "4                                                                                                                                                                                                                                                                                                                                                                                                                                                                                                                                                                                                                                                                                                                                                                                                                                                                                                                             \"frosty: Bonjour et bienvenue chez Frosty! Quel plaisir de vous parler. Comment puis-je vous aider?\\n\\ncaller: Bonjour, je m'appelle Nathalie et je suis \\u00e0 Nice. Je voudrais choisir un ou deux jouets pour mon enfant.\\n\\nfrosty: Bien s\\u00fbr, Nathalie! Jetons un coup d'\\u0153il \\u00e0 notre catalogue. Quels sont les int\\u00e9r\\u00eats de votre enfant?\\n\\ncaller: Il aime les jeux de construction et les robots.\\n\\nfrosty: Tr\\u00e8s bien. Je vous sugg\\u00e8re soit un Lego Friends Olivia's Space Academy (lego olivia's space set) ou un Bitzee interactive pet (bitzee pet). Qu'en pensez-vous?\\n\\ncaller: Difficile de choisir... J'aime bien le Bitzee interactive pet, ajoutez-le \\u00e0 ma liste s'il vous pla\\u00eet.\\n\\nfrosty: D'accord, j'ajoute un Bitzee interactive pet \\u00e0 votre liste de souhaits. Avant de partir, pourrions-nous discuter de votre passe-temps ou de votre loisir pr\\u00e9f\\u00e9r\\u00e9?\\n\\ncaller: Bien s\\u00fbr! J'adore faire du yoga et passer du temps \\u00e0 la plage avec mes amis.\\n\\nfrosty: Cela semble tr\\u00e8s relaxant! Merci d'avoir partag\\u00e9. Votre liste de souhaits contient maintenant un Bitzee interactive pet. Est-ce que tout est en ordre?\\n\\ncaller: Oui, parfait! Merci de votre aide.\\n\\nfrosty: Vous \\u00eates la bienvenue, Nathalie. Passez une merveilleuse saison de f\\u00eates et merci d'avoir appel\\u00e9 Frosty!\\n\"   \n",
       "\n",
       "                                                                                                                                                 output  \\\n",
       "0                                                      {\"toy_list\": [\"Jurassic World Dominion Super Colossal Giganotosaurus\"], \"location\": \"Marseille\"}   \n",
       "1                                                      {\"toy_list\": [\"Jurassic World Dominion Super Colossal Giganotosaurus\"], \"location\": \"Cape Town\"}   \n",
       "2                                                                                       {\"toy_list\": [\"Snap Circuits: Junior\"], \"location\": \"Santiago\"}   \n",
       "3  {\"toy_list\": [\"Teenage Mutant Ninja Turtles: Mutant Mayhem Pizza Fire Delivery Van\", \"Orijin Bees Lovey Coiley Baby Bee\"], \"location\": \"Birmingham\"}   \n",
       "4                                                                                          {\"toy_list\": [\"Bitzee interactive pet\"], \"location\": \"Nice\"}   \n",
       "\n",
       "  language    id  lang_label  \\\n",
       "0       FR  1173           1   \n",
       "1       EN   938           0   \n",
       "2       ES  1030           3   \n",
       "3       EN   301           0   \n",
       "4       FR  1189           1   \n",
       "\n",
       "                                                                                                                                               predicted  \n",
       "0                                                       {\"toy_list\": [\"Jurassic World Dominion Super Colossal Giganotosaurus\"], \"location\": \"Marseille\"}  \n",
       "1                                                       {\"toy_list\": [\"Jurassic World Dominion Super Colossal Giganotosaurus\"], \"location\": \"Cape Town\"}  \n",
       "2                                                                                        {\"toy_list\": [\"Snap Circuits: Junior\"], \"location\": \"Santiago\"}  \n",
       "3   {\"toy_list\": [\"Teenage Mutant Ninja Turtles: Mutant Mayhem Pizza Fire Delivery Van\", \"Orijin Bees Lovey Coiley Baby Bee\"], \"location\": \"Birmingham\"}  \n",
       "4                                                                                           {\"toy_list\": [\"Bitzee interactive pet\"], \"location\": \"Nice\"}  "
      ]
     },
     "execution_count": 42,
     "metadata": {},
     "output_type": "execute_result"
    }
   ],
   "source": [
    "test_res = runner.infer_batch(test_df)\n",
    "test_res.head()"
   ]
  },
  {
   "cell_type": "markdown",
   "metadata": {},
   "source": [
    "### Log and Deploy Fine-tuned Llama 2"
   ]
  },
  {
   "cell_type": "code",
   "execution_count": 43,
   "metadata": {
    "tags": []
   },
   "outputs": [
    {
     "name": "stderr",
     "output_type": "stream",
     "text": [
      "WARNING:absl:The database DASH_DB already exists. Skipping creation.\n",
      "WARNING:absl:The schema DASH_DB.DASH_SCHEMA already exists. Skipping creation.\n"
     ]
    }
   ],
   "source": [
    "MODEL_NAME = \"LLAMA2_7b_CHAT\"\n",
    "MODEL_VERSION = \"BestTunedV1.0\"\n",
    "DEPLOYMENT_NAME = \"BESTTUNED_LLAMA2\"\n",
    "MODEL_REGISTRY_DB = connection_parameters['database']\n",
    "MODEL_REGISTRY_SCHEMA = connection_parameters['schema']\n",
    "COMPUTE_POOL = connection_parameters['compute_pool']\n",
    "\n",
    "registry = model_registry.ModelRegistry(\n",
    "    session=session, \n",
    "    database_name=MODEL_REGISTRY_DB, \n",
    "    schema_name=MODEL_REGISTRY_SCHEMA, \n",
    "    create_if_not_exists=True)"
   ]
  },
  {
   "cell_type": "markdown",
   "metadata": {},
   "source": [
    "#### Delete any existing deployments and models from in Snowpark registry to avoid resource contention during this bootcamp"
   ]
  },
  {
   "cell_type": "code",
   "execution_count": 44,
   "metadata": {
    "tags": []
   },
   "outputs": [
    {
     "data": {
      "text/html": [
       "<div>\n",
       "<style scoped>\n",
       "    .dataframe tbody tr th:only-of-type {\n",
       "        vertical-align: middle;\n",
       "    }\n",
       "\n",
       "    .dataframe tbody tr th {\n",
       "        vertical-align: top;\n",
       "    }\n",
       "\n",
       "    .dataframe thead th {\n",
       "        text-align: right;\n",
       "    }\n",
       "</style>\n",
       "<table border=\"1\" class=\"dataframe\">\n",
       "  <thead>\n",
       "    <tr style=\"text-align: right;\">\n",
       "      <th></th>\n",
       "      <th>MODEL_NAME</th>\n",
       "      <th>MODEL_VERSION</th>\n",
       "      <th>DEPLOYMENT_NAME</th>\n",
       "      <th>CREATION_TIME</th>\n",
       "      <th>TARGET_METHOD</th>\n",
       "      <th>TARGET_PLATFORM</th>\n",
       "      <th>SIGNATURE</th>\n",
       "      <th>OPTIONS</th>\n",
       "      <th>STAGE_PATH</th>\n",
       "      <th>ROLE</th>\n",
       "    </tr>\n",
       "  </thead>\n",
       "  <tbody>\n",
       "  </tbody>\n",
       "</table>\n",
       "</div>"
      ],
      "text/plain": [
       "Empty DataFrame\n",
       "Columns: [MODEL_NAME, MODEL_VERSION, DEPLOYMENT_NAME, CREATION_TIME, TARGET_METHOD, TARGET_PLATFORM, SIGNATURE, OPTIONS, STAGE_PATH, ROLE]\n",
       "Index: []"
      ]
     },
     "execution_count": 44,
     "metadata": {},
     "output_type": "execute_result"
    }
   ],
   "source": [
    "registry.list_deployments(model_name=MODEL_NAME,model_version=MODEL_VERSION).to_pandas()"
   ]
  },
  {
   "cell_type": "code",
   "execution_count": 45,
   "metadata": {
    "tags": []
   },
   "outputs": [],
   "source": [
    "# registry.delete_deployment(model_name=MODEL_NAME,model_version=MODEL_VERSION,deployment_name=DEPLOYMENT_NAME)"
   ]
  },
  {
   "cell_type": "code",
   "execution_count": 46,
   "metadata": {
    "tags": []
   },
   "outputs": [],
   "source": [
    "# registry.delete_model(model_name=MODEL_NAME,model_version=MODEL_VERSION,delete_artifact=True)"
   ]
  },
  {
   "cell_type": "markdown",
   "metadata": {},
   "source": [
    "### Log and Deploy Fine-tuned Llama 2"
   ]
  },
  {
   "cell_type": "markdown",
   "metadata": {
    "tags": []
   },
   "source": [
    "*Note: Logging and deploying fine-tuned model on this setup (compute and other resources) will take about ~15mins*\n",
    "\n",
    "Notice that the \"model_id_or_path\" is set to the output weights folder `output_weights_dir` where the weights from fine-tuning the model are stored"
   ]
  },
  {
   "cell_type": "code",
   "execution_count": 47,
   "metadata": {
    "tags": []
   },
   "outputs": [
    {
     "name": "stderr",
     "output_type": "stream",
     "text": [
      "/opt/conda/envs/rapids/lib/python3.8/site-packages/snowflake/ml/model/_packager/model_env/model_env.py:353: UserWarning: Found dependencies specified as pip requirements. This may prevent model deploying to Snowflake Warehouse.\n",
      "  warnings.warn(\n"
     ]
    },
    {
     "name": "stdout",
     "output_type": "stream",
     "text": [
      "CPU times: user 5.52 s, sys: 660 ms, total: 6.18 s\n",
      "Wall time: 17min 59s\n"
     ]
    },
    {
     "data": {
      "text/plain": [
       "{'name': 'DASH_DB.DASH_SCHEMA.BESTTUNED_LLAMA2',\n",
       " 'platform': <TargetPlatform.SNOWPARK_CONTAINER_SERVICES: 'SNOWPARK_CONTAINER_SERVICES'>,\n",
       " 'target_method': 'infer',\n",
       " 'signature': ModelSignature(\n",
       "                     inputs=[\n",
       "                         FeatureSpec(dtype=DataType.STRING, name='input')\n",
       "                     ],\n",
       "                     outputs=[\n",
       "                         FeatureSpec(dtype=DataType.STRING, name='generated_text')\n",
       "                     ]\n",
       "                 ),\n",
       " 'options': {'compute_pool': 'DASH_BUILD_GPU3', 'num_gpus': 1},\n",
       " 'details': {'image_name': 'sfsenorthamerica-build-spcs.registry.snowflakecomputing.com/dash_db/dash_schema/snowml_repo/a2dc5950178b8bf1c3764f03dddcbe86ea99c226:latest',\n",
       "  'service_spec': \"spec:\\n  container:\\n  - env:\\n      MODEL_ZIP_STAGE_PATH: /DASH_DB.DASH_SCHEMA.SNOWML_MODEL_D26762D883E911EE8F5ACE7DB0E7935F/model.zip\\n      NUM_WORKERS: 1\\n      SNOWML_USE_GPU: true\\n      TARGET_METHOD: infer\\n      _CONCURRENT_REQUESTS_MAX: 1\\n    image: sfsenorthamerica-build-spcs.registry.snowflakecomputing.com/dash_db/dash_schema/snowml_repo/a2dc5950178b8bf1c3764f03dddcbe86ea99c226:latest\\n    name: inference-server\\n    readinessProbe:\\n      path: /health\\n      port: 5000\\n    resources:\\n      limits:\\n        nvidia.com/gpu: 1\\n      requests:\\n        nvidia.com/gpu: 1\\n    volumeMounts:\\n    - mountPath: /local/user/vol1\\n      name: vol1\\n    - mountPath: DASH_DB.DASH_SCHEMA.SNOWML_MODEL_D26762D883E911EE8F5ACE7DB0E7935F\\n      name: stage\\n  endpoint:\\n  - name: predict\\n    port: 5000\\n  volume:\\n  - name: vol1\\n    source: local\\n  - gid: 1000\\n    name: stage\\n    source: '@DASH_DB.DASH_SCHEMA.SNOWML_MODEL_D26762D883E911EE8F5ACE7DB0E7935F'\\n    uid: 1000\\n\",\n",
       "  'service_function_sql': \"\\n            CREATE OR REPLACE FUNCTION DASH_DB.DASH_SCHEMA.BESTTUNED_LLAMA2(input OBJECT)\\n                RETURNS OBJECT\\n                SERVICE=DASH_DB.DASH_SCHEMA.service_d26762d883e911ee8f5ace7db0e7935f\\n                ENDPOINT=predict\\n                MAX_BATCH_ROWS = 100\\n                AS '/predict'\\n            \"}}"
      ]
     },
     "execution_count": 47,
     "metadata": {},
     "output_type": "execute_result"
    }
   ],
   "source": [
    "%%time\n",
    "options = llm.LLMOptions(\n",
    "    token=connection_parameters[\"huggingface_token\"],\n",
    "    max_batch_size=100,\n",
    ")\n",
    "\n",
    "llama_model = llm.LLM(\n",
    "    model_id_or_path=output_weights_dir,\n",
    "    options=options\n",
    ")\n",
    "\n",
    "llama_model_ref = registry.log_model(\n",
    "    model_name=MODEL_NAME,\n",
    "    model_version=MODEL_VERSION,\n",
    "    model=llama_model\n",
    ")\n",
    "\n",
    "llama_model_ref.deploy(\n",
    "    deployment_name=DEPLOYMENT_NAME, \n",
    "    platform=deploy_platforms.TargetPlatform.SNOWPARK_CONTAINER_SERVICES,\n",
    "    permanent=True, \n",
    "    options={\"compute_pool\": COMPUTE_POOL, \"num_gpus\": 1})"
   ]
  },
  {
   "cell_type": "markdown",
   "metadata": {},
   "source": [
    "#### Prepare Eval Dataset with Specific Instructions"
   ]
  },
  {
   "cell_type": "code",
   "execution_count": 48,
   "metadata": {
    "tags": []
   },
   "outputs": [
    {
     "data": {
      "text/html": [
       "<div>\n",
       "<style scoped>\n",
       "    .dataframe tbody tr th:only-of-type {\n",
       "        vertical-align: middle;\n",
       "    }\n",
       "\n",
       "    .dataframe tbody tr th {\n",
       "        vertical-align: top;\n",
       "    }\n",
       "\n",
       "    .dataframe thead th {\n",
       "        text-align: right;\n",
       "    }\n",
       "</style>\n",
       "<table border=\"1\" class=\"dataframe\">\n",
       "  <thead>\n",
       "    <tr style=\"text-align: right;\">\n",
       "      <th></th>\n",
       "      <th>instruction</th>\n",
       "      <th>input</th>\n",
       "      <th>output</th>\n",
       "      <th>language</th>\n",
       "      <th>id</th>\n",
       "      <th>lang_label</th>\n",
       "      <th>predicted</th>\n",
       "    </tr>\n",
       "  </thead>\n",
       "  <tbody>\n",
       "    <tr>\n",
       "      <th>0</th>\n",
       "      <td>Extract JSON response with 'location' and 'toy_list' as keys. 'location': Location of the caller. Include city only.'toy_list': List of toy names from the caller.</td>\n",
       "      <td>\\n[INST] &lt;&lt;SYS&gt;&gt;\\nBelow is an instruction that describes a task, paired with an input that provides further context. Write a response that appropriately completes the request.\\n&lt;&lt;/SYS&gt;&gt;\\n### Instruction:\\nExtract JSON response with 'location' and 'toy_list' as keys.\\n'location': Location string of the caller.\\n'toy_list': List of toy names from the caller.\\n### Input:\\n\\n\"caller: Hi there! \\nfrosty: Hello! Welcome to our Holiday Wish List line! How can I help you today? \\ncaller: My name is Sarah and I'm calling from London. I wanted to submit a wish list for my child. \\nfrosty: Wonderful, Sarah! It's great to have you on the line. What country do you live in? \\ncaller: I live in the United Kingdom. \\nfrosty: That's fantastic! What's on your wish list? \\ncaller: I think my child would like the transformers bumblebee. \\nfrosty: Great choice! Why are you interested in this toy? \\ncaller: My child loves action figures and Transformers. I think he'll have a lot of fun with this one. \\nfrosty: That sounds perfect! How do you and your family plan to celebrate the holiday season? \\ncaller: We usually have a big family gathering at our house with lots of food and games. \\nfrosty: That sounds lovely! Do you have a favorite holiday memory or pastime? \\ncaller: My favorite memory is baking holiday cookies with my mom when I was a child. \\nfrosty: That's a beautiful memory! So, just to confirm, you would like to add the Transformers Rise of the Beasts Beast-Mode Bumblebee to your wish list? \\ncaller: Yes, that's correct! \\nfrosty: Excellent! Thank you, Sarah, and I hope you and your family have a wonderful holiday season! \\ncaller: Thank you! Have a great day! \\nfrosty: You too! Goodbye!\" [/INST]</td>\n",
       "      <td>{\"toy_list\": [\"Transformers Rise of the Beasts Beast-Mode Bumblebee\"], \"location\": \"London\"}</td>\n",
       "      <td>EN</td>\n",
       "      <td>39</td>\n",
       "      <td>0</td>\n",
       "      <td>{\"toy_list\": [\"Transformers Rise of the Beasts Beast-Mode Bumblebee\"], \"location\": \"London\"}</td>\n",
       "    </tr>\n",
       "    <tr>\n",
       "      <th>1</th>\n",
       "      <td>Extract JSON response with 'location' and 'toy_list' as keys. 'location': Location of the caller. Include city only.'toy_list': List of toy names from the caller.</td>\n",
       "      <td>\\n[INST] &lt;&lt;SYS&gt;&gt;\\nBelow is an instruction that describes a task, paired with an input that provides further context. Write a response that appropriately completes the request.\\n&lt;&lt;/SYS&gt;&gt;\\n### Instruction:\\nExtract JSON response with 'location' and 'toy_list' as keys.\\n'location': Location string of the caller.\\n'toy_list': List of toy names from the caller.\\n### Input:\\n\\n\"caller: Hello, my name is Shawn, and I'm calling from Vancouver. I need to submit a holiday wish list for my kids but I could use some help picking out the perfect toys.\\nfrosty: Hi Shawn, from Vancouver! Let's find the best toys for your kids. Can you tell me a bit about their interests?\\ncaller: My daughter is 5 years old, and she loves Sesame Street, especially Elmo. As for my son, he's 9 and really into Pok\\u00e9mon.\\nfrosty: I have just the toys in mind! How about the Sesame Street Monster Meditation Elmo for your daughter and the Pok\\u00e9mon 8-inch Plush First Partner Three-Pack for your son?\\ncaller: Those sound perfect! Please add them to the wish list.\\nfrosty: I've added the Sesame Street Monster Meditation Elmo for your daughter and the Pok\\u00e9mon 8-inch Plush First Partner Three-Pack for your son to the wish list. I hope they enjoy their gifts, and I wish your family a fantastic holiday season in Vancouver!\" [/INST]</td>\n",
       "      <td>{\"toy_list\": [\"Sesame Street Monster Meditation Elmo\", \"Pok\\u00e9mon 8-Inch Plush First Partner Three-Pack\"], \"location\": \"Vancouver\"}</td>\n",
       "      <td>EN</td>\n",
       "      <td>525</td>\n",
       "      <td>0</td>\n",
       "      <td>{\"toy_list\": [\"Sesame Street Monster Meditation Elmo\", \"Pok\\u00e9mon 8-inch Plush First Partner Three-Pack\"], \"location\": \"Vancouver\"}</td>\n",
       "    </tr>\n",
       "    <tr>\n",
       "      <th>2</th>\n",
       "      <td>Extract JSON response with 'location' and 'toy_list' as keys. 'location': Location of the caller. Include city only.'toy_list': List of toy names from the caller.</td>\n",
       "      <td>\\n[INST] &lt;&lt;SYS&gt;&gt;\\nBelow is an instruction that describes a task, paired with an input that provides further context. Write a response that appropriately completes the request.\\n&lt;&lt;/SYS&gt;&gt;\\n### Instruction:\\nExtract JSON response with 'location' and 'toy_list' as keys.\\n'location': Location string of the caller.\\n'toy_list': List of toy names from the caller.\\n### Input:\\n\\n\"caller: Hi, can you help me with my holiday wish list?\\nfrosty: Of course! What's your name, and where are you calling from?\\ncaller: My name is James, and I'm in Melbourne.\\nfrosty: Hi James! Are you considering any specific toys from our catalog?\\ncaller: I can't decide between the ninja turtles delivery van and the spiderman playset.\\nfrosty: Both the Teenage Mutant Ninja Turtles: Mutant Mayhem Pizza Fire Delivery Van and Marvel's Spidey and His Amazing Friends Web Spinners playset are excellent choices! Why are you interested in these toys?\\ncaller: My child loves superhero and action toys.\\nfrosty: That makes sense! Can you tell me a little more about your holiday plans this season?\\ncaller: Our family is planning to stay home, watch movies, and just relax together.\\nfrosty: Sounds cozy and wonderful! Based on your child's love for superheroes, either toy would be great. Do you need help making a final decision?\\ncaller: Yes, please.\\nfrosty: The TMNT Pizza Fire Delivery Van offers an iconic vehicle for imaginative play. The Spiderman playset encourages interactive play with web-spinning action. Given this information, do you have a preference?\\ncaller: I think I'll go with the spiderman playset.\\nfrosty: Excellent choice! I have Marvel's Spidey and His Amazing Friends Web Spinners playset on your wish list. I hope your child has a blast with it, and you have a relaxing holiday season!\\ncaller: Thank you! Goodbye.\\nfrosty: Goodbye, James! Take care.\" [/INST]</td>\n",
       "      <td>{\"toy_list\": [\"Marvel's Spidey and His Amazing Friends Web Spinners playset\"], \"location\": \"Melbourne\"}</td>\n",
       "      <td>EN</td>\n",
       "      <td>611</td>\n",
       "      <td>0</td>\n",
       "      <td>{\"toy_list\": [\"Marvel's Spidey and His Amazing Friends Web Spinners playset\"], \"location\": \"Melbourne\"}</td>\n",
       "    </tr>\n",
       "    <tr>\n",
       "      <th>3</th>\n",
       "      <td>Extract JSON response with 'location' and 'toy_list' as keys. 'location': Location of the caller. Include city only.'toy_list': List of toy names from the caller.</td>\n",
       "      <td>\\n[INST] &lt;&lt;SYS&gt;&gt;\\nBelow is an instruction that describes a task, paired with an input that provides further context. Write a response that appropriately completes the request.\\n&lt;&lt;/SYS&gt;&gt;\\n### Instruction:\\nExtract JSON response with 'location' and 'toy_list' as keys.\\n'location': Location string of the caller.\\n'toy_list': List of toy names from the caller.\\n### Input:\\n\\n\"caller: Hi there, I need help picking a toy for my child's wish list.\\nfrosty: Hello! I'm Frosty the voice bot, and I'll be happy to help. What's your name and where are you calling from?\\ncaller: My name is Emily, and I'm from Chicago.\\nfrosty: Hi Emily! What type of toys is your child interested in?\\ncaller: Something educational, but also fun. We want them to learn while they play.\\nfrosty: How about the Snap Circuits: Junior or the LeapFrog Magic Adventures Microscope?\\ncaller: Hm, I've heard of Snap Circuits before. What's the Magic Adventures Microscope?\\nfrosty: The LeapFrog Magic Adventures Microscope is an interactive microscope with 20 slides, offering kids the chance to explore the world around them while learning about science and nature.\\ncaller: That sounds interesting. Let's go with the Magic Adventures Microscope!\\nfrosty: Excellent choice! How do you and your family plan to celebrate the holiday season?\\ncaller: We usually bake cookies together and enjoy a cozy movie night indoors.\\nfrosty: Sounds delightful! What is it about this time of the year that you enjoy the most?\\ncaller: I love seeing the excitement on my child's face as they experience all the festivities.\\nfrosty: That's precious! So I have the LeapFrog Magic Adventures Microscope on your child's wish list. Is there anything else you'd like to add?\\ncaller: No, that should be it for now. Thank you, Frosty!\\nfrosty: You're welcome, Emily! Have a wonderful holiday season!\\ncaller: You too!\" [/INST]</td>\n",
       "      <td>{\"toy_list\": [\"LeapFrog Magic Adventures Microscope\"], \"location\": \"Chicago\"}</td>\n",
       "      <td>EN</td>\n",
       "      <td>687</td>\n",
       "      <td>0</td>\n",
       "      <td>{\"toy_list\": [\"LeapFrog Magic Adventures Microscope\"], \"location\": \"Chicago\"}</td>\n",
       "    </tr>\n",
       "    <tr>\n",
       "      <th>4</th>\n",
       "      <td>Extract JSON response with 'location' and 'toy_list' as keys. 'location': Location of the caller. Include city only.'toy_list': List of toy names from the caller.</td>\n",
       "      <td>\\n[INST] &lt;&lt;SYS&gt;&gt;\\nBelow is an instruction that describes a task, paired with an input that provides further context. Write a response that appropriately completes the request.\\n&lt;&lt;/SYS&gt;&gt;\\n### Instruction:\\nExtract JSON response with 'location' and 'toy_list' as keys.\\n'location': Location string of the caller.\\n'toy_list': List of toy names from the caller.\\n### Input:\\n\\n\"caller: Hi, I am here to submit a holiday wish list for my child.\\nfrosty: Wonderful! I'd be happy to help. May I have your name, please?\\ncaller: Sure, I am Sarah from Wellington.\\nfrosty: Nice to meet you, Sarah! Let's get started on that wish list. Can you tell me the toy or toys your child is interested in?\\ncaller: My child really wants the furby, but I am also considering the trasformers bumblebee.\\nfrosty: Great choices! Why are you interested in these toys?\\ncaller: Well, my kid loves interactive plush toys and also enjoys action figures, so these seem like good options.\\nfrosty: I see. How do you and your family plan to celebrate the holiday season?\\ncaller: We usually have a big family gathering with lots of food and games. It's always so much fun!\\nfrosty: That sounds like a great time! What's your favorite holiday memory?\\ncaller: My favorite memory is when we all went caroling around the neighborhood. It was magical!\\nfrosty: What a lovely memory! Now, back to the toys, do you want to include both the furby and trasformers bumblebee in the wish list?\\ncaller: Hmm, let me think. I guess we can go with just the furby for now.\\nfrosty: Alright, I've noted the furby on the wish list. Can you confirm that this is the final toy choice?\\ncaller: Yes, that's correct.\\nfrosty: Fantastic! I've got the furby on your holiday wish list. Have a wonderful holiday season, Sarah!\\ncaller: Thank you, Frosty! You too!\" [/INST]</td>\n",
       "      <td>{\"toy_list\": [\"Furby interactive plush toy\"], \"location\": \"Wellington\"}</td>\n",
       "      <td>EN</td>\n",
       "      <td>187</td>\n",
       "      <td>0</td>\n",
       "      <td>{\"toy_list\": [\"Furby interactive plush toy\"], \"location\": \"Wellington\"}</td>\n",
       "    </tr>\n",
       "  </tbody>\n",
       "</table>\n",
       "</div>"
      ],
      "text/plain": [
       "                                                                                                                                                          instruction  \\\n",
       "0  Extract JSON response with 'location' and 'toy_list' as keys. 'location': Location of the caller. Include city only.'toy_list': List of toy names from the caller.   \n",
       "1  Extract JSON response with 'location' and 'toy_list' as keys. 'location': Location of the caller. Include city only.'toy_list': List of toy names from the caller.   \n",
       "2  Extract JSON response with 'location' and 'toy_list' as keys. 'location': Location of the caller. Include city only.'toy_list': List of toy names from the caller.   \n",
       "3  Extract JSON response with 'location' and 'toy_list' as keys. 'location': Location of the caller. Include city only.'toy_list': List of toy names from the caller.   \n",
       "4  Extract JSON response with 'location' and 'toy_list' as keys. 'location': Location of the caller. Include city only.'toy_list': List of toy names from the caller.   \n",
       "\n",
       "                                                                                                                                                                                                                                                                                                                                                                                                                                                                                                                                                                                                                                                                                                                                                                                                                                                                                                                                                                                                                                                                                                                                                                                                                                                                                                                                                                                                                                                                                                                                                                                                                                                                                                                                                                                                                                                                                                                                                input  \\\n",
       "0                                                                                                                                                                   \\n[INST] <<SYS>>\\nBelow is an instruction that describes a task, paired with an input that provides further context. Write a response that appropriately completes the request.\\n<</SYS>>\\n### Instruction:\\nExtract JSON response with 'location' and 'toy_list' as keys.\\n'location': Location string of the caller.\\n'toy_list': List of toy names from the caller.\\n### Input:\\n\\n\"caller: Hi there! \\nfrosty: Hello! Welcome to our Holiday Wish List line! How can I help you today? \\ncaller: My name is Sarah and I'm calling from London. I wanted to submit a wish list for my child. \\nfrosty: Wonderful, Sarah! It's great to have you on the line. What country do you live in? \\ncaller: I live in the United Kingdom. \\nfrosty: That's fantastic! What's on your wish list? \\ncaller: I think my child would like the transformers bumblebee. \\nfrosty: Great choice! Why are you interested in this toy? \\ncaller: My child loves action figures and Transformers. I think he'll have a lot of fun with this one. \\nfrosty: That sounds perfect! How do you and your family plan to celebrate the holiday season? \\ncaller: We usually have a big family gathering at our house with lots of food and games. \\nfrosty: That sounds lovely! Do you have a favorite holiday memory or pastime? \\ncaller: My favorite memory is baking holiday cookies with my mom when I was a child. \\nfrosty: That's a beautiful memory! So, just to confirm, you would like to add the Transformers Rise of the Beasts Beast-Mode Bumblebee to your wish list? \\ncaller: Yes, that's correct! \\nfrosty: Excellent! Thank you, Sarah, and I hope you and your family have a wonderful holiday season! \\ncaller: Thank you! Have a great day! \\nfrosty: You too! Goodbye!\" [/INST]   \n",
       "1                                                                                                                                                                                                                                                                                                                                                                                                                                                                                                                                                                             \\n[INST] <<SYS>>\\nBelow is an instruction that describes a task, paired with an input that provides further context. Write a response that appropriately completes the request.\\n<</SYS>>\\n### Instruction:\\nExtract JSON response with 'location' and 'toy_list' as keys.\\n'location': Location string of the caller.\\n'toy_list': List of toy names from the caller.\\n### Input:\\n\\n\"caller: Hello, my name is Shawn, and I'm calling from Vancouver. I need to submit a holiday wish list for my kids but I could use some help picking out the perfect toys.\\nfrosty: Hi Shawn, from Vancouver! Let's find the best toys for your kids. Can you tell me a bit about their interests?\\ncaller: My daughter is 5 years old, and she loves Sesame Street, especially Elmo. As for my son, he's 9 and really into Pok\\u00e9mon.\\nfrosty: I have just the toys in mind! How about the Sesame Street Monster Meditation Elmo for your daughter and the Pok\\u00e9mon 8-inch Plush First Partner Three-Pack for your son?\\ncaller: Those sound perfect! Please add them to the wish list.\\nfrosty: I've added the Sesame Street Monster Meditation Elmo for your daughter and the Pok\\u00e9mon 8-inch Plush First Partner Three-Pack for your son to the wish list. I hope they enjoy their gifts, and I wish your family a fantastic holiday season in Vancouver!\" [/INST]   \n",
       "2              \\n[INST] <<SYS>>\\nBelow is an instruction that describes a task, paired with an input that provides further context. Write a response that appropriately completes the request.\\n<</SYS>>\\n### Instruction:\\nExtract JSON response with 'location' and 'toy_list' as keys.\\n'location': Location string of the caller.\\n'toy_list': List of toy names from the caller.\\n### Input:\\n\\n\"caller: Hi, can you help me with my holiday wish list?\\nfrosty: Of course! What's your name, and where are you calling from?\\ncaller: My name is James, and I'm in Melbourne.\\nfrosty: Hi James! Are you considering any specific toys from our catalog?\\ncaller: I can't decide between the ninja turtles delivery van and the spiderman playset.\\nfrosty: Both the Teenage Mutant Ninja Turtles: Mutant Mayhem Pizza Fire Delivery Van and Marvel's Spidey and His Amazing Friends Web Spinners playset are excellent choices! Why are you interested in these toys?\\ncaller: My child loves superhero and action toys.\\nfrosty: That makes sense! Can you tell me a little more about your holiday plans this season?\\ncaller: Our family is planning to stay home, watch movies, and just relax together.\\nfrosty: Sounds cozy and wonderful! Based on your child's love for superheroes, either toy would be great. Do you need help making a final decision?\\ncaller: Yes, please.\\nfrosty: The TMNT Pizza Fire Delivery Van offers an iconic vehicle for imaginative play. The Spiderman playset encourages interactive play with web-spinning action. Given this information, do you have a preference?\\ncaller: I think I'll go with the spiderman playset.\\nfrosty: Excellent choice! I have Marvel's Spidey and His Amazing Friends Web Spinners playset on your wish list. I hope your child has a blast with it, and you have a relaxing holiday season!\\ncaller: Thank you! Goodbye.\\nfrosty: Goodbye, James! Take care.\" [/INST]   \n",
       "3  \\n[INST] <<SYS>>\\nBelow is an instruction that describes a task, paired with an input that provides further context. Write a response that appropriately completes the request.\\n<</SYS>>\\n### Instruction:\\nExtract JSON response with 'location' and 'toy_list' as keys.\\n'location': Location string of the caller.\\n'toy_list': List of toy names from the caller.\\n### Input:\\n\\n\"caller: Hi there, I need help picking a toy for my child's wish list.\\nfrosty: Hello! I'm Frosty the voice bot, and I'll be happy to help. What's your name and where are you calling from?\\ncaller: My name is Emily, and I'm from Chicago.\\nfrosty: Hi Emily! What type of toys is your child interested in?\\ncaller: Something educational, but also fun. We want them to learn while they play.\\nfrosty: How about the Snap Circuits: Junior or the LeapFrog Magic Adventures Microscope?\\ncaller: Hm, I've heard of Snap Circuits before. What's the Magic Adventures Microscope?\\nfrosty: The LeapFrog Magic Adventures Microscope is an interactive microscope with 20 slides, offering kids the chance to explore the world around them while learning about science and nature.\\ncaller: That sounds interesting. Let's go with the Magic Adventures Microscope!\\nfrosty: Excellent choice! How do you and your family plan to celebrate the holiday season?\\ncaller: We usually bake cookies together and enjoy a cozy movie night indoors.\\nfrosty: Sounds delightful! What is it about this time of the year that you enjoy the most?\\ncaller: I love seeing the excitement on my child's face as they experience all the festivities.\\nfrosty: That's precious! So I have the LeapFrog Magic Adventures Microscope on your child's wish list. Is there anything else you'd like to add?\\ncaller: No, that should be it for now. Thank you, Frosty!\\nfrosty: You're welcome, Emily! Have a wonderful holiday season!\\ncaller: You too!\" [/INST]   \n",
       "4                                                         \\n[INST] <<SYS>>\\nBelow is an instruction that describes a task, paired with an input that provides further context. Write a response that appropriately completes the request.\\n<</SYS>>\\n### Instruction:\\nExtract JSON response with 'location' and 'toy_list' as keys.\\n'location': Location string of the caller.\\n'toy_list': List of toy names from the caller.\\n### Input:\\n\\n\"caller: Hi, I am here to submit a holiday wish list for my child.\\nfrosty: Wonderful! I'd be happy to help. May I have your name, please?\\ncaller: Sure, I am Sarah from Wellington.\\nfrosty: Nice to meet you, Sarah! Let's get started on that wish list. Can you tell me the toy or toys your child is interested in?\\ncaller: My child really wants the furby, but I am also considering the trasformers bumblebee.\\nfrosty: Great choices! Why are you interested in these toys?\\ncaller: Well, my kid loves interactive plush toys and also enjoys action figures, so these seem like good options.\\nfrosty: I see. How do you and your family plan to celebrate the holiday season?\\ncaller: We usually have a big family gathering with lots of food and games. It's always so much fun!\\nfrosty: That sounds like a great time! What's your favorite holiday memory?\\ncaller: My favorite memory is when we all went caroling around the neighborhood. It was magical!\\nfrosty: What a lovely memory! Now, back to the toys, do you want to include both the furby and trasformers bumblebee in the wish list?\\ncaller: Hmm, let me think. I guess we can go with just the furby for now.\\nfrosty: Alright, I've noted the furby on the wish list. Can you confirm that this is the final toy choice?\\ncaller: Yes, that's correct.\\nfrosty: Fantastic! I've got the furby on your holiday wish list. Have a wonderful holiday season, Sarah!\\ncaller: Thank you, Frosty! You too!\" [/INST]   \n",
       "\n",
       "                                                                                                                                   output  \\\n",
       "0                                            {\"toy_list\": [\"Transformers Rise of the Beasts Beast-Mode Bumblebee\"], \"location\": \"London\"}   \n",
       "1  {\"toy_list\": [\"Sesame Street Monster Meditation Elmo\", \"Pok\\u00e9mon 8-Inch Plush First Partner Three-Pack\"], \"location\": \"Vancouver\"}   \n",
       "2                                 {\"toy_list\": [\"Marvel's Spidey and His Amazing Friends Web Spinners playset\"], \"location\": \"Melbourne\"}   \n",
       "3                                                           {\"toy_list\": [\"LeapFrog Magic Adventures Microscope\"], \"location\": \"Chicago\"}   \n",
       "4                                                                 {\"toy_list\": [\"Furby interactive plush toy\"], \"location\": \"Wellington\"}   \n",
       "\n",
       "  language   id  lang_label  \\\n",
       "0       EN   39           0   \n",
       "1       EN  525           0   \n",
       "2       EN  611           0   \n",
       "3       EN  687           0   \n",
       "4       EN  187           0   \n",
       "\n",
       "                                                                                                                                 predicted  \n",
       "0                                             {\"toy_list\": [\"Transformers Rise of the Beasts Beast-Mode Bumblebee\"], \"location\": \"London\"}  \n",
       "1   {\"toy_list\": [\"Sesame Street Monster Meditation Elmo\", \"Pok\\u00e9mon 8-inch Plush First Partner Three-Pack\"], \"location\": \"Vancouver\"}  \n",
       "2                                  {\"toy_list\": [\"Marvel's Spidey and His Amazing Friends Web Spinners playset\"], \"location\": \"Melbourne\"}  \n",
       "3                                                            {\"toy_list\": [\"LeapFrog Magic Adventures Microscope\"], \"location\": \"Chicago\"}  \n",
       "4                                                                  {\"toy_list\": [\"Furby interactive plush toy\"], \"location\": \"Wellington\"}  "
      ]
     },
     "execution_count": 48,
     "metadata": {},
     "output_type": "execute_result"
    }
   ],
   "source": [
    "begin_prompt = \\\n",
    "\"\"\"\n",
    "[INST] <<SYS>>\n",
    "Below is an instruction that describes a task, paired with an input that provides further context. Write a response that appropriately completes the request.\n",
    "<</SYS>>\n",
    "### Instruction:\n",
    "Extract JSON response with 'location' and 'toy_list' as keys.\n",
    "'location': Location string of the caller.\n",
    "'toy_list': List of toy names from the caller.\n",
    "### Input:\n",
    "\n",
    "\"\"\"\n",
    "end_prompt = \" [/INST]\"\n",
    "\n",
    "eval_df['input'] = begin_prompt + eval_df['input'] + end_prompt\n",
    "eval_df = eval_df.reset_index(drop=True)\n",
    "eval_df.head()"
   ]
  },
  {
   "cell_type": "markdown",
   "metadata": {},
   "source": [
    "#### Inference on Eval Dataset using fine-tuned Llama 2"
   ]
  },
  {
   "cell_type": "code",
   "execution_count": 49,
   "metadata": {
    "tags": []
   },
   "outputs": [
    {
     "data": {
      "text/html": [
       "<div>\n",
       "<style scoped>\n",
       "    .dataframe tbody tr th:only-of-type {\n",
       "        vertical-align: middle;\n",
       "    }\n",
       "\n",
       "    .dataframe tbody tr th {\n",
       "        vertical-align: top;\n",
       "    }\n",
       "\n",
       "    .dataframe thead th {\n",
       "        text-align: right;\n",
       "    }\n",
       "</style>\n",
       "<table border=\"1\" class=\"dataframe\">\n",
       "  <thead>\n",
       "    <tr style=\"text-align: right;\">\n",
       "      <th></th>\n",
       "      <th>generated_text</th>\n",
       "    </tr>\n",
       "  </thead>\n",
       "  <tbody>\n",
       "    <tr>\n",
       "      <th>0</th>\n",
       "      <td>{\"toy_list\": [\"Transformers Rise of the Beasts Beast-Mode Bumblebee\"], \"location\": \"London\"}</td>\n",
       "    </tr>\n",
       "    <tr>\n",
       "      <th>1</th>\n",
       "      <td>{\"toy_list\": [\"Sesame Street Monster Meditation Elmo\", \"Pok\\u00e9mon 8-inch Plush First Partner Three-Pack\"], \"location\": \"Vancouver\"}</td>\n",
       "    </tr>\n",
       "    <tr>\n",
       "      <th>2</th>\n",
       "      <td>{\"toy_list\": [\"Marvel's Spidey and His Amazing Friends Web Spinners playset\"], \"location\": \"Melbourne\"}</td>\n",
       "    </tr>\n",
       "    <tr>\n",
       "      <th>3</th>\n",
       "      <td>{\"toy_list\": [\"LeapFrog Magic Adventures Microscope\"], \"location\": \"Chicago\"}</td>\n",
       "    </tr>\n",
       "    <tr>\n",
       "      <th>4</th>\n",
       "      <td>{\"toy_list\": [\"Furby interactive plush toy\"], \"location\": \"Wellington\"}</td>\n",
       "    </tr>\n",
       "  </tbody>\n",
       "</table>\n",
       "</div>"
      ],
      "text/plain": [
       "                                                                                                                             generated_text\n",
       "0                                              {\"toy_list\": [\"Transformers Rise of the Beasts Beast-Mode Bumblebee\"], \"location\": \"London\"}\n",
       "1    {\"toy_list\": [\"Sesame Street Monster Meditation Elmo\", \"Pok\\u00e9mon 8-inch Plush First Partner Three-Pack\"], \"location\": \"Vancouver\"}\n",
       "2                                   {\"toy_list\": [\"Marvel's Spidey and His Amazing Friends Web Spinners playset\"], \"location\": \"Melbourne\"}\n",
       "3                                                             {\"toy_list\": [\"LeapFrog Magic Adventures Microscope\"], \"location\": \"Chicago\"}\n",
       "4                                                                   {\"toy_list\": [\"Furby interactive plush toy\"], \"location\": \"Wellington\"}"
      ]
     },
     "execution_count": 49,
     "metadata": {},
     "output_type": "execute_result"
    }
   ],
   "source": [
    "llama_model_ref.predict(deployment_name=DEPLOYMENT_NAME,data=eval_df).head()"
   ]
  },
  {
   "cell_type": "markdown",
   "metadata": {
    "tags": []
   },
   "source": [
    "#### Run Inference in SQL"
   ]
  },
  {
   "cell_type": "code",
   "execution_count": null,
   "metadata": {
    "tags": []
   },
   "outputs": [],
   "source": [
    "# TODO: Go to Snowsight and run the following commands in a SQL Worksheet\n",
    "\n",
    "# create or replace function build_prompt(inp varchar)\n",
    "# returns varchar\n",
    "# language sql\n",
    "# as $$\n",
    "#     '[INST] <<SYS>>\\n' ||\n",
    "#     'Below is an instruction that describes a task, paired with an input that provides further context. Write a response that appropriately completes the request.\\n' ||\n",
    "#     '<</SYS>>\\n' ||\n",
    "#     '### Instruction:\\n' ||\n",
    "#     'Extract JSON response with \\'location\\' and \\'toy_list\\' as keys.\\n' ||\n",
    "#     '\\'location\\': Location of the caller. Include city only.\\n' ||\n",
    "#     '\\'toy_list\\': List of toy names from the caller.\\n' ||\n",
    "#     '### Input:\\n' ||\n",
    "#     '\"' || inp || '\"\\n' ||\n",
    "#     '[/INST]'\n",
    "# $$;\n",
    "\n",
    "# SELECT TRAINED_LLAMA2(object_construct('input', build_prompt(select transcript from frosty_transcripts limit 1)));"
   ]
  },
  {
   "cell_type": "markdown",
   "metadata": {},
   "source": [
    "#### Clean Up Resources\n",
    "\n",
    "Delete deployment and the model"
   ]
  },
  {
   "cell_type": "code",
   "execution_count": null,
   "metadata": {
    "tags": []
   },
   "outputs": [],
   "source": [
    "llama_model_ref.delete_deployment(deployment_name=DEPLOYMENT_NAME)\n",
    "llama_model_ref.delete_model(delete_artifact=True)"
   ]
  },
  {
   "cell_type": "code",
   "execution_count": null,
   "metadata": {},
   "outputs": [],
   "source": []
  }
 ],
 "metadata": {
  "kernelspec": {
   "display_name": "Python 3 (ipykernel)",
   "language": "python",
   "name": "python3"
  },
  "language_info": {
   "codemirror_mode": {
    "name": "ipython",
    "version": 3
   },
   "file_extension": ".py",
   "mimetype": "text/x-python",
   "name": "python",
   "nbconvert_exporter": "python",
   "pygments_lexer": "ipython3",
   "version": "3.8.16"
  }
 },
 "nbformat": 4,
 "nbformat_minor": 4
}
