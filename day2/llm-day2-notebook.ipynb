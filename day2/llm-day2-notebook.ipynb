{
 "cells": [
  {
   "cell_type": "code",
   "execution_count": 5,
   "metadata": {
    "tags": []
   },
   "outputs": [],
   "source": [
    "# !pip install --no-deps --force-reinstall snowflake_ml_python-1.0.12-py3-none-any.whl"
   ]
  },
  {
   "cell_type": "code",
   "execution_count": 11,
   "metadata": {
    "tags": []
   },
   "outputs": [],
   "source": [
    "# !pip install peft transformers tokenizers vllm bitsandbytes datasets absl-py"
   ]
  },
  {
   "cell_type": "markdown",
   "metadata": {},
   "source": [
    "### Import Libraries"
   ]
  },
  {
   "cell_type": "code",
   "execution_count": 10,
   "metadata": {
    "tags": []
   },
   "outputs": [],
   "source": [
    "from snowflake.snowpark.session import Session\n",
    "from snowflake.ml.model.models import llm\n",
    "from snowflake.ml.registry import model_registry\n",
    "from snowflake.ml.model import deploy_platforms\n",
    "import snowflake.ml.playground.finetune as ft_util\n",
    "from snowflake.snowpark import VERSION\n",
    "import snowflake.snowpark.functions as F\n",
    "\n",
    "import sys\n",
    "import os\n",
    "import json\n",
    "import pandas as pd\n",
    "pd.set_option('display.max_colwidth', None)"
   ]
  },
  {
   "cell_type": "markdown",
   "metadata": {},
   "source": [
    "### Establish Secure Connection"
   ]
  },
  {
   "cell_type": "code",
   "execution_count": 13,
   "metadata": {
    "tags": []
   },
   "outputs": [
    {
     "name": "stdout",
     "output_type": "stream",
     "text": [
      "User                        : DASH\n",
      "Role                        : \"DASH_SPCS\"\n",
      "Database                    : \"DASH_DB\"\n",
      "Schema                      : \"DASH_SCHEMA\"\n",
      "Warehouse                   : \"DASH_L\"\n",
      "Snowflake version           : 7.39.4\n",
      "Snowpark for Python version : 1.9.0\n"
     ]
    }
   ],
   "source": [
    "# Create Snowflake Session object\n",
    "connection_parameters = json.load(open('connection.json'))\n",
    "session = Session.builder.configs(connection_parameters).create()\n",
    "session.sql_simplifier_enabled = True\n",
    "\n",
    "snowflake_environment = session.sql('select current_user(), current_version()').collect()\n",
    "snowpark_version = VERSION\n",
    "\n",
    "# Current Environment Details\n",
    "print('User                        : {}'.format(snowflake_environment[0][0]))\n",
    "print('Role                        : {}'.format(session.get_current_role()))\n",
    "print('Database                    : {}'.format(session.get_current_database()))\n",
    "print('Schema                      : {}'.format(session.get_current_schema()))\n",
    "print('Warehouse                   : {}'.format(session.get_current_warehouse()))\n",
    "print('Snowflake version           : {}'.format(snowflake_environment[0][1]))\n",
    "print('Snowpark for Python version : {}.{}.{}'.format(snowpark_version[0],snowpark_version[1],snowpark_version[2]))"
   ]
  },
  {
   "cell_type": "markdown",
   "metadata": {},
   "source": [
    "### Reference Llama 2 from Huggingface"
   ]
  },
  {
   "cell_type": "code",
   "execution_count": 14,
   "metadata": {
    "tags": []
   },
   "outputs": [
    {
     "data": {
      "application/vnd.jupyter.widget-view+json": {
       "model_id": "b1441bb627ac4dabb8a3d1b3a9f74a25",
       "version_major": 2,
       "version_minor": 0
      },
      "text/plain": [
       "Downloading (…)lve/main/config.json:   0%|          | 0.00/614 [00:00<?, ?B/s]"
      ]
     },
     "metadata": {},
     "output_type": "display_data"
    }
   ],
   "source": [
    "options = llm.LLMOptions(\n",
    "    token=connection_parameters['huggingface_token'],\n",
    "    max_batch_size=100,\n",
    ")\n",
    "llama_model = llm.LLM(\n",
    "    model_id_or_path=\"meta-llama/Llama-2-7b-chat-hf\",\n",
    "    options=options\n",
    ")"
   ]
  },
  {
   "cell_type": "markdown",
   "metadata": {},
   "source": [
    "### Register and Deploy Llama 2 into Snowpark Container Services \n",
    "\n",
    "*NOTE: Logging and deploying the same model are one time operations. Once the model is logged and deployed, use ModeReference to get the reference to the model.*"
   ]
  },
  {
   "cell_type": "code",
   "execution_count": 15,
   "metadata": {
    "tags": []
   },
   "outputs": [
    {
     "name": "stderr",
     "output_type": "stream",
     "text": [
      "create_model_registry() is in private preview since 0.2.0. Do not use it in production. \n",
      "WARNING:absl:The database DASH_DB already exists. Skipping creation.\n",
      "WARNING:absl:The schema DASH_DB.DASH_SCHEMA already exists. Skipping creation.\n",
      "WARNING:snowflake.snowpark:ModelRegistry.list_models() is in private preview since 0.2.0. Do not use it in production. \n"
     ]
    },
    {
     "data": {
      "text/plain": [
       "<snowflake.ml.registry.model_registry.ModelReference at 0x7f26e10c1c10>"
      ]
     },
     "execution_count": 15,
     "metadata": {},
     "output_type": "execute_result"
    }
   ],
   "source": [
    "MODEL_NAME    = 'LLAMA2_7b_CHAT'\n",
    "MODEL_VERSION = \"1.0.2\"\n",
    "MODEL_REGISTRY_DB  = \"DASH_DB\"\n",
    "MODEL_REGISTRY_SCHEMA  = \"DASH_SCHEMA\"\n",
    "COMPUTE_POOL  = \"DASH_BUILD_GPU3\"\n",
    "\n",
    "registry = model_registry.ModelRegistry(\n",
    "    session=session, \n",
    "    database_name=MODEL_REGISTRY_DB, \n",
    "    schema_name=MODEL_REGISTRY_SCHEMA, \n",
    "    create_if_not_exists=True)\n",
    "\n",
    "# llama_model_ref = registry.log_model(\n",
    "#     model_name=MODEL_NAME,\n",
    "#     model_version=MODEL_VERSION,\n",
    "#     model=llama_model\n",
    "# )\n",
    "\n",
    "# llama_model_ref.deploy(\n",
    "#     deployment_name=\"llama_predict\", \n",
    "#     platform=deploy_platforms.TargetPlatform.SNOWPARK_CONTAINER_SERVICES,\n",
    "#     permanent=True, \n",
    "#     options={\"compute_pool\": COMPUTE_POOL, \"num_gpus\": 1})\n",
    "\n",
    "llama_model_ref = model_registry.ModelReference(registry=registry,model_name=MODEL_NAME,model_version=MODEL_VERSION)\n",
    "llama_model_ref"
   ]
  },
  {
   "cell_type": "markdown",
   "metadata": {},
   "source": [
    "### Load Data from JSON into Snowflake\n",
    "\n",
    "*NOTE: Reading data in JSON and storing it in a Snowflake table are one time operations. Once the data is loaded, use Snowpark to load the data from the existing table.*"
   ]
  },
  {
   "cell_type": "code",
   "execution_count": 16,
   "metadata": {
    "tags": []
   },
   "outputs": [
    {
     "name": "stdout",
     "output_type": "stream",
     "text": [
      "-----------------------------------------------------------------------------------------------------------------------------------------------------------------------------------------------------------------------------------------------------------------------------------------------------------\n",
      "|\"LANGUAGE\"  |\"TRANSCRIPT\"                                                                                                                                                                               |\"NAME\"  |\"LOCATION\"  |\"TOY_LIST\"                                                                |\n",
      "-----------------------------------------------------------------------------------------------------------------------------------------------------------------------------------------------------------------------------------------------------------------------------------------------------------\n",
      "|EN          |caller: Hello!                                                                                                                                                                             |Max     |Sydney      |[                                                                         |\n",
      "|            |frosty: Well, hello! Who's spreading holiday cheer with me today?                                                                                                                          |        |            |  \"Bluey Convertible and Figures\"                                         |\n",
      "|            |caller: I'm Max from Sydney.                                                                                                                                                               |        |            |]                                                                         |\n",
      "|            |frosty: Hello, Max! Can you tell me what's on your wish list this holiday?                                                                                                                 |        |            |                                                                          |\n",
      "|            |caller: Hmm, I am not sure. I guess I like cars.                                                                                                                                           |        |            |                                                                          |\n",
      "|            |frosty: We have a fun Bluey car. It's very cool. And also, there's a Teenage Mutant Ninja Turtles pizza delivery van! It's really fun.                                                     |        |            |                                                                          |\n",
      "|            |caller: Oh, the bluey car sounds cool.                                                                                                                                                     |        |            |                                                                          |\n",
      "|            |frosty: Great choice, Max! By the way, how do you plan to celebrate the holiday season with your family?                                                                                   |        |            |                                                                          |\n",
      "|            |caller: We're going to the beach! It's summer here in Sydney.                                                                                                                              |        |            |                                                                          |\n",
      "|            |frosty: Oh, that sounds wonderful, Max. So, we will put the Bluey car on your holiday wish list, okay?                                                                                     |        |            |                                                                          |\n",
      "|            |caller: Yes, please!                                                                                                                                                                       |        |            |                                                                          |\n",
      "|            |frosty: It’s all done. I hope your holiday is filled with joy and fun!                                                                                                                     |        |            |                                                                          |\n",
      "|EN          |caller: Hi, Frosty                                                                                                                                                                         |Lily    |London      |[                                                                         |\n",
      "|            |frosty: Hello there, bundle of joy! Can you share your name?                                                                                                                               |        |            |  \"Furby interactive plush toy\",                                          |\n",
      "|            |caller: I'm Lily.                                                                                                                                                                          |        |            |  \"Transformers Rise of the Beasts Beast-Mode Bumblebee\"                  |\n",
      "|            |frosty: Hello, Lily! And where are you calling from?                                                                                                                                       |        |            |]                                                                         |\n",
      "|            |caller: I'm from London.                                                                                                                                                                   |        |            |                                                                          |\n",
      "|            |frosty: Beautiful London! Now, Lily, what are your two most wished toys this holiday season?                                                                                               |        |            |                                                                          |\n",
      "|            |caller: I think I want the furby and... or maybe the transformers bumblebee. I can't decide.                                                                                               |        |            |                                                                          |\n",
      "|            |frosty: Both are fascinating choices, Lily! Why are you interested in these toys?                                                                                                          |        |            |                                                                          |\n",
      "|            |caller: I like furby because it can talk, and transformers bumblebee because I like robots.                                                                                                |        |            |                                                                          |\n",
      "|            |frosty: How about we put both on your wish list for now and you can decide later?                                                                                                          |        |            |                                                                          |\n",
      "|            |caller: Yes, let's do that.                                                                                                                                                                |        |            |                                                                          |\n",
      "|            |frosty: Alright, Lily, both toys are now on your wish list. Enjoy your holiday and stay joyful!                                                                                            |        |            |                                                                          |\n",
      "|EN          |caller: Hi Frosty! It's Benny here.                                                                                                                                                        |Benny   |Auckland    |[                                                                         |\n",
      "|            |frosty: Hello, Benny! Nice to hear from you. Where are you calling from?                                                                                                                   |        |            |  \"Teenage Mutant Ninja Turtles: Mutant Mayhem Pizza Fire Delivery Van\"   |\n",
      "|            |caller: From Auckland.                                                                                                                                                                     |        |            |]                                                                         |\n",
      "|            |frosty: Beautiful Auckland! Now, tell Frosty your holiday wish, Benny.                                                                                                                     |        |            |                                                                          |\n",
      "|            |caller: Can I have the ninja turtles delivery van?                                                                                                                                         |        |            |                                                                          |\n",
      "|            |frosty: Of course, you can. By the way, Benny, what do you enjoy the most about this time of the year?                                                                                     |        |            |                                                                          |\n",
      "|            |caller: I like when we light up our house with beautiful lights.                                                                                                                           |        |            |                                                                          |\n",
      "|            |frosty: That sounds like a sparkling time! So, I'll put the ninja turtles delivery van on your wish list. Does that sound good?                                                            |        |            |                                                                          |\n",
      "|            |caller: Yes, that's perfect!                                                                                                                                                               |        |            |                                                                          |\n",
      "|            |frosty: I wish you the best and super fun holidays, Benny!                                                                                                                                 |        |            |                                                                          |\n",
      "|EN          |frosty: Hello there! I'm Frosty, how can I add some sparkle to your holiday season?                                                                                                        |Billy   |Denver      |[                                                                         |\n",
      "|            |caller: Hi Frosty! I'm Billy from Denver, United States.                                                                                                                                   |        |            |  \"Transformers Rise of the Beasts Beast-Mode Bumblebee\"                  |\n",
      "|            |frosty: Hi Billy! It's great to hear from you. What brings you to me today?                                                                                                                |        |            |]                                                                         |\n",
      "|            |caller: Well I'm trying to decide which toy I'd like to ask for.                                                                                                                           |        |            |                                                                          |\n",
      "|            |frosty: That sounds exciting! What options are you contemplating?                                                                                                                          |        |            |                                                                          |\n",
      "|            |caller: Well I've always been a fan of transformers. But the new barbie dreamhouse is also very tempting.                                                                                  |        |            |                                                                          |\n",
      "|            |frosty: Wow! Both are excellent choices. What does the holiday season mean to you and your family?                                                                                         |        |            |                                                                          |\n",
      "|            |caller: We usually just spend a lot of time together, play games, eat good food, and exchange gifts.                                                                                       |        |            |                                                                          |\n",
      "|            |frosty: That sounds lovely. Considering that, what about the trasformers bumblebee or the new barbie dreamhouse do you find interesting?                                                   |        |            |                                                                          |\n",
      "|            |caller: I like the fact that the bumblebee can transform. But I like how the dreamhouse has so many rooms.                                                                                 |        |            |                                                                          |\n",
      "|            |frosty: Great to hear that Billy. Now, just a random question. What do you usually do for fun?                                                                                             |        |            |                                                                          |\n",
      "|            |caller: I love to read adventure novels.                                                                                                                                                   |        |            |                                                                          |\n",
      "|            |frosty: Aha! Maybe the bumblebee transformer, being an action character, could be brought to life in your adventure stories. What do you think?                                            |        |            |                                                                          |\n",
      "|            |caller: You're right! I'd pick the transformers bumblebee then.                                                                                                                            |        |            |                                                                          |\n",
      "|            |frosty: Excellent choice, Billy! And just to be sure, you're finalizing on the transformers bumblebee, right?                                                                              |        |            |                                                                          |\n",
      "|            |caller: Yes frosty!                                                                                                                                                                        |        |            |                                                                          |\n",
      "|            |frosty: That's wonderful, Billy! We're so happy to make your holiday brighter. Expect your transformer bumblebee and have a magical holiday!                                               |        |            |                                                                          |\n",
      "|EN          |frosty: Hi! It's Frosty here. Who do I have the pleasure to speak with today?                                                                                                              |Emily   |Sydney      |[                                                                         |\n",
      "|            |caller: Hello Frosty! I'm Emily.                                                                                                                                                           |        |            |  \"Barbie Dreamhouse 2023\"                                                |\n",
      "|            |frosty: Hi Emily! Where are you calling from?                                                                                                                                              |        |            |]                                                                         |\n",
      "|            |caller: I'm calling from Sydney, Australia.                                                                                                                                                |        |            |                                                                          |\n",
      "|            |frosty: Wonderful Emily! How may I assist you?                                                                                                                                             |        |            |                                                                          |\n",
      "|            |caller: I would like a toy ...                                                                                                                                                             |        |            |                                                                          |\n",
      "|            |frosty: That's great Emily! What are you thinking of?                                                                                                                                      |        |            |                                                                          |\n",
      "|            |caller: I love small things like fingerlings monkey and pretty stuff like the new barbie dreamhouse.                                                                                       |        |            |                                                                          |\n",
      "|            |frosty: Sounds lovely, Emily! Why are you interested in these toys?                                                                                                                        |        |            |                                                                          |\n",
      "|            |caller: I like the monkey because it can hold onto things and I love barbie.                                                                                                               |        |            |                                                                          |\n",
      "|            |frosty: Great! What do you love most about this time of the year?                                                                                                                          |        |            |                                                                          |\n",
      "|            |caller: I love decorating the house and the scent of sweet treats baking!                                                                                                                  |        |            |                                                                          |\n",
      "|            |frosty: Lovely! Maybe the barbie from the barbie dreamhouse could join you in decorating your house. What do you think?                                                                    |        |            |                                                                          |\n",
      "|            |caller: Yes, that is a great idea! I want the new barbie dreamhouse.                                                                                                                       |        |            |                                                                          |\n",
      "|            |frosty: Just to be sure, Emily. Your final choice is the new barbie dreamhouse, right?                                                                                                     |        |            |                                                                          |\n",
      "|            |caller: Yes Frosty, I'm sure!                                                                                                                                                              |        |            |                                                                          |\n",
      "|            |frosty: Exciting! Emily, expect your barbie dreamhouse soon and enjoy your holiday season!                                                                                                 |        |            |                                                                          |\n",
      "|EN          |frosty: Hello, hello! It's Frosty! I'm so excited to hear what you'll be putting on your wish list this year! May I know your name, please?                                                |Jimmy   |Houston     |[                                                                         |\n",
      "|            |                 caller: Hi Frosty! My name is Jimmy!                                                                                                                                      |        |            |  \"Barbie Science Lab Playset\",                                           |\n",
      "|            |                 frosty: Lovely to meet you, Jimmy! Where are you calling from?                                                                                                            |        |            |  \"Fisher-Price Little People Mickey and Friends Playset\"                 |\n",
      "|            |                 caller: I'm from Houston, Texas.                                                                                                                                          |        |            |]                                                                         |\n",
      "|            |                 frosty: Wonderful, Jimmy from Houston! Now, what would you like for a gift this holiday?                                                                                  |        |            |                                                                          |\n",
      "|            |                 caller: Hmm.. I think I want a furby or maybe barbie science doll set.                                                                                                    |        |            |                                                                          |\n",
      "|            |                 frosty: Those are awesome choices, Jimmy! Just curious, why are you interested in these toys?                                                                             |        |            |                                                                          |\n",
      "|            |                 caller: Well, furby talks and that's so cool. And for the barbie thing, I love science at school.                                                                         |        |            |                                                                          |\n",
      "|            |                 frosty: Sounds like you love interacting and learning, Jimmy! Now, how does your family plan to celebrate the holiday season?                                             |        |            |                                                                          |\n",
      "|            |                 caller: We are going to bake cookies and watch holiday movies together. Also, we are going on a short trip to Grandpa's house in Austin.                                  |        |            |                                                                          |\n",
      "|            |                 frosty: That's awesome, Jimmy! Now, I will be happy to add furby and barbie science doll set to your wish list. Shall I?                                                  |        |            |                                                                          |\n",
      "|            |                 caller: Hmm.. Wait, can I change furby to mickey playset?                                                                                                                 |        |            |                                                                          |\n",
      "|            |                 frosty: Of course, Jimmy. So, your final wish list is barbie science doll set and mickey playset. Right?                                                                  |        |            |                                                                          |\n",
      "|            |                 caller: Yep, that's my final wish list Frosty!                                                                                                                            |        |            |                                                                          |\n",
      "|            |                 frosty: Great choices, Jimmy! I'm sure you would have a lot of fun with those. Have a blast this holiday season!                                                          |        |            |                                                                          |\n",
      "|EN          |frosty: Hey there, I'm Frosty! Ready to talk about your holiday wish list? Can you tell me your name, please?                                                                              |Emma    |Sydney      |[                                                                         |\n",
      "|            |                 caller: Hiya Frosty, I'm Emma!                                                                                                                                            |        |            |  \"Star Wars LOLA animatronic droid\",                                     |\n",
      "|            |                 frosty: Beautiful name, Emma! Where are you joining us from?                                                                                                              |        |            |  \"Bluey Convertible and Figures\"                                         |\n",
      "|            |                 caller: I'm from Sydney, Australia.                                                                                                                                       |        |            |]                                                                         |\n",
      "|            |                 frosty: Fantastic! Emma, Could you tell me what you'd like from your wish list?                                                                                           |        |            |                                                                          |\n",
      "|            |                 caller: Ummm... maybe... no, definitely, lola droid. Oh but, I also love the spiderman playset.                                                                           |        |            |                                                                          |\n",
      "|            |                 frosty: Both fantastic choices, Emma! Why are you interested in these toys?                                                                                               |        |            |                                                                          |\n",
      "|            |                 caller: Well, I love watching Star Wars and Spiderman movies with my family.                                                                                              |        |            |                                                                          |\n",
      "|            |                 frosty: That's great, Emma! How do you and your family plan to celebrate the holiday season?                                                                              |        |            |                                                                          |\n",
      "|            |                 caller: We're going to visit grandmother's house and have a big fun family party                                                                                          |        |            |                                                                          |\n",
      "|            |                 frosty: Sounds fantastic! I'll go ahead and put down a lola droid and spiderman playset on your wish list.                                                                |        |            |                                                                          |\n",
      "|            |                 caller: Actually, I think I'll go for the bluey car instead of the spiderman playset.                                                                                     |        |            |                                                                          |\n",
      "|            |                 frosty: No worries Emma, so your final wish list is lola droid and bluey car. Correct?                                                                                    |        |            |                                                                          |\n",
      "|            |                 caller: Yes, Frosty. That's perfect!                                                                                                                                      |        |            |                                                                          |\n",
      "|            |                 frosty: Lovely! I'm sure you'll have amazing adventures with those. Enjoy your holiday!                                                                                   |        |            |                                                                          |\n",
      "|EN          |frosty: Hello, I'm Frosty! Can't wait to chat about your dream toys for the holiday! What's your name?                                                                                     |Lily    |Dublin      |[                                                                         |\n",
      "|            |                 caller: Hi Frosty! I'm Lily!                                                                                                                                              |        |            |  \"Teenage Mutant Ninja Turtles: Mutant Mayhem Pizza Fire Delivery Van\",  |\n",
      "|            |                 frosty: Great to meet you Lily! Where are you calling from?                                                                                                               |        |            |  \"Bitzee interactive pet\"                                                |\n",
      "|            |                 caller: Dublin, Ireland.                                                                                                                                                  |        |            |]                                                                         |\n",
      "|            |                 frosty: That's wonderful, Lily! Why don't you tell me what you'd like for a gift?                                                                                         |        |            |                                                                          |\n",
      "|            |                 caller: Could I have the ninja turtles delivery van, please? Oh, and the bitzee pet too, please!                                                                          |        |            |                                                                          |\n",
      "|            |                 frosty: Awesome choices, Lily! Can you tell me why are you interested in these toys?                                                                                      |        |            |                                                                          |\n",
      "|            |                 caller: I love the Ninja Turtles and bitzee pet looks so cute!                                                                                                            |        |            |                                                                          |\n",
      "|            |                 frosty: They do, don't they? How are you and your family going to celebrate the holiday season?                                                                           |        |            |                                                                          |\n",
      "|            |                 caller: We always decorate the house and have a big family dinner!                                                                                                        |        |            |                                                                          |\n",
      "|            |                 frosty: Sounds fantastic, Lily! So, your final wish list is ninja turtles delivery van and bitzee pet, right?                                                             |        |            |                                                                          |\n",
      "|            |                 caller: Yes, Frosty. That's what I want!                                                                                                                                  |        |            |                                                                          |\n",
      "|            |                 frosty: Brilliant choices, Lily! You're going to have such fun with those! Enjoy your celebrations!                                                                       |        |            |                                                                          |\n",
      "|EN          |frosty: Hello there! It's Frosty. I'm excited to know your wish list for the holiday season. May I know your name?                                                                         |Jacob   |Melbourne   |[                                                                         |\n",
      "|            |caller: Hi Frosty, I'm Jacob.                                                                                                                                                              |        |            |  \"Barbie Science Lab Playset\"                                            |\n",
      "|            |frosty: Delighted to meet you Jacob. And could you tell me which city are you calling from?                                                                                                |        |            |]                                                                         |\n",
      "|            |caller: I'm from Melbourne, Australia.                                                                                                                                                     |        |            |                                                                          |\n",
      "|            |frosty: That's a beautiful place, Jacob. Now, tell me what would you like for the holiday season?                                                                                          |        |            |                                                                          |\n",
      "|            |caller: Well, I really like barbie science doll set. My sister loves it too.                                                                                                               |        |            |                                                                          |\n",
      "|            |frosty: That's a lovely choice, Jacob. May I ask, why this toy?                                                                                                                            |        |            |                                                                          |\n",
      "|            |caller: It's very cool. We can do fun experiments, it's like a real lab.                                                                                                                   |        |            |                                                                          |\n",
      "|            |frosty: That does sound fun. And how are you going to celebrate this holiday season with your family?                                                                                      |        |            |                                                                          |\n",
      "|            |caller: We usually play games and have a special dinner.                                                                                                                                   |        |            |                                                                          |\n",
      "|            |frosty: That sounds lovely. So, to confirm, you would like to add Barbie Science Lab Playset to your wish list?                                                                            |        |            |                                                                          |\n",
      "|            |caller: Yes, Frosty.                                                                                                                                                                       |        |            |                                                                          |\n",
      "|            |frosty: Fantastic. I'll add that to your wish list, Jacob. Enjoy your holiday season!                                                                                                      |        |            |                                                                          |\n",
      "|EN          |frosty: Hi there, little friend! I'm your pal, Frosty. Could I know your name, please?                                                                                                     |Emma    |Toronto     |[                                                                         |\n",
      "|            |caller: I'm Emma.                                                                                                                                                                          |        |            |  \"Sesame Street Monster Meditation Elmo\"                                 |\n",
      "|            |frosty: Nice to meet you, Emma. And from where are you calling today?                                                                                                                      |        |            |]                                                                         |\n",
      "|            |caller: I'm from Toronto, Canada.                                                                                                                                                          |        |            |                                                                          |\n",
      "|            |frosty: Lovely! Now, what are you dreaming of this holiday season, Emma?                                                                                                                   |        |            |                                                                          |\n",
      "|            |caller: Hmm... I'm not sure... Maybe elmo plushie. Or should I go for barbie dream house. I can't decide.                                                                                  |        |            |                                                                          |\n",
      "|            |frosty: Both are excellent choices, Emma. Remember, Elmo is a great friend to play with and talk to, while the Barbie Dreamhouse would let you create your own adventure. Does that help?  |        |            |                                                                          |\n",
      "|            |caller: Yes, I think I'll go for elmo plushie.                                                                                                                                             |        |            |                                                                          |\n",
      "|            |frosty: Excellent choice! That's going to be a lot of fun. Your holiday season sounds already exciting. May I put Sesame Street Monster Meditation Elmo on your wish list?                 |        |            |                                                                          |\n",
      "|            |caller: Yes, please.                                                                                                                                                                       |        |            |                                                                          |\n",
      "|            |frosty: There we go! All set, Emma. Have a fantastic holiday!                                                                                                                              |        |            |                                                                          |\n",
      "-----------------------------------------------------------------------------------------------------------------------------------------------------------------------------------------------------------------------------------------------------------------------------------------------------------\n",
      "\n"
     ]
    }
   ],
   "source": [
    "# df = pd.read_json(\"../day1/data/frosty_transcripts_all_v8.json\",lines=True)\n",
    "# sf_df = session.write_pandas(df,'frosty_transcripts',auto_create_table=True,quote_identifiers=False)\n",
    "\n",
    "sf_df = session.table('frosty_transcripts')\n",
    "sf_df.show(max_width=600)"
   ]
  },
  {
   "cell_type": "markdown",
   "metadata": {},
   "source": [
    "### Prompt Engineering Example"
   ]
  },
  {
   "cell_type": "code",
   "execution_count": 17,
   "metadata": {
    "tags": []
   },
   "outputs": [
    {
     "name": "stdout",
     "output_type": "stream",
     "text": [
      "---------------------------------------------------------------------------------------------------------------------------------------------------------------------------------------------\n",
      "|\"input\"                                                                                                                                                                                    |\n",
      "---------------------------------------------------------------------------------------------------------------------------------------------------------------------------------------------\n",
      "|                                                                                                                                                                                           |\n",
      "|[INST] Summarize this transcript in less than 200 words:                                                                                                                                   |\n",
      "| caller: Hello!                                                                                                                                                                            |\n",
      "|frosty: Well, hello! Who's spreading holiday cheer with me today?                                                                                                                          |\n",
      "|caller: I'm Max from Sydney.                                                                                                                                                               |\n",
      "|frosty: Hello, Max! Can you tell me what's on your wish list this holiday?                                                                                                                 |\n",
      "|caller: Hmm, I am not sure. I guess I like cars.                                                                                                                                           |\n",
      "|frosty: We have a fun Bluey car. It's very cool. And also, there's a Teenage Mutant Ninja Turtles pizza delivery van! It's really fun.                                                     |\n",
      "|caller: Oh, the bluey car sounds cool.                                                                                                                                                     |\n",
      "|frosty: Great choice, Max! By the way, how do you plan to celebrate the holiday season with your family?                                                                                   |\n",
      "|caller: We're going to the beach! It's summer here in Sydney.                                                                                                                              |\n",
      "|frosty: Oh, that sounds wonderful, Max. So, we will put the Bluey car on your holiday wish list, okay?                                                                                     |\n",
      "|caller: Yes, please!                                                                                                                                                                       |\n",
      "|frosty: It’s all done. I hope your holiday is filled with joy and fun!  [/INST]                                                                                                            |\n",
      "|                                                                                                                                                                                           |\n",
      "|[INST] Summarize this transcript in less than 200 words:                                                                                                                                   |\n",
      "| caller: Hi, Frosty                                                                                                                                                                        |\n",
      "|frosty: Hello there, bundle of joy! Can you share your name?                                                                                                                               |\n",
      "|caller: I'm Lily.                                                                                                                                                                          |\n",
      "|frosty: Hello, Lily! And where are you calling from?                                                                                                                                       |\n",
      "|caller: I'm from London.                                                                                                                                                                   |\n",
      "|frosty: Beautiful London! Now, Lily, what are your two most wished toys this holiday season?                                                                                               |\n",
      "|caller: I think I want the furby and... or maybe the transformers bumblebee. I can't decide.                                                                                               |\n",
      "|frosty: Both are fascinating choices, Lily! Why are you interested in these toys?                                                                                                          |\n",
      "|caller: I like furby because it can talk, and transformers bumblebee because I like robots.                                                                                                |\n",
      "|frosty: How about we put both on your wish list for now and you can decide later?                                                                                                          |\n",
      "|caller: Yes, let's do that.                                                                                                                                                                |\n",
      "|frosty: Alright, Lily, both toys are now on your wish list. Enjoy your holiday and stay joyful!  [/INST]                                                                                   |\n",
      "|                                                                                                                                                                                           |\n",
      "|[INST] Summarize this transcript in less than 200 words:                                                                                                                                   |\n",
      "| caller: Hi Frosty! It's Benny here.                                                                                                                                                       |\n",
      "|frosty: Hello, Benny! Nice to hear from you. Where are you calling from?                                                                                                                   |\n",
      "|caller: From Auckland.                                                                                                                                                                     |\n",
      "|frosty: Beautiful Auckland! Now, tell Frosty your holiday wish, Benny.                                                                                                                     |\n",
      "|caller: Can I have the ninja turtles delivery van?                                                                                                                                         |\n",
      "|frosty: Of course, you can. By the way, Benny, what do you enjoy the most about this time of the year?                                                                                     |\n",
      "|caller: I like when we light up our house with beautiful lights.                                                                                                                           |\n",
      "|frosty: That sounds like a sparkling time! So, I'll put the ninja turtles delivery van on your wish list. Does that sound good?                                                            |\n",
      "|caller: Yes, that's perfect!                                                                                                                                                               |\n",
      "|frosty: I wish you the best and super fun holidays, Benny!  [/INST]                                                                                                                        |\n",
      "|                                                                                                                                                                                           |\n",
      "|[INST] Summarize this transcript in less than 200 words:                                                                                                                                   |\n",
      "| frosty: Hello there! I'm Frosty, how can I add some sparkle to your holiday season?                                                                                                       |\n",
      "|caller: Hi Frosty! I'm Billy from Denver, United States.                                                                                                                                   |\n",
      "|frosty: Hi Billy! It's great to hear from you. What brings you to me today?                                                                                                                |\n",
      "|caller: Well I'm trying to decide which toy I'd like to ask for.                                                                                                                           |\n",
      "|frosty: That sounds exciting! What options are you contemplating?                                                                                                                          |\n",
      "|caller: Well I've always been a fan of transformers. But the new barbie dreamhouse is also very tempting.                                                                                  |\n",
      "|frosty: Wow! Both are excellent choices. What does the holiday season mean to you and your family?                                                                                         |\n",
      "|caller: We usually just spend a lot of time together, play games, eat good food, and exchange gifts.                                                                                       |\n",
      "|frosty: That sounds lovely. Considering that, what about the trasformers bumblebee or the new barbie dreamhouse do you find interesting?                                                   |\n",
      "|caller: I like the fact that the bumblebee can transform. But I like how the dreamhouse has so many rooms.                                                                                 |\n",
      "|frosty: Great to hear that Billy. Now, just a random question. What do you usually do for fun?                                                                                             |\n",
      "|caller: I love to read adventure novels.                                                                                                                                                   |\n",
      "|frosty: Aha! Maybe the bumblebee transformer, being an action character, could be brought to life in your adventure stories. What do you think?                                            |\n",
      "|caller: You're right! I'd pick the transformers bumblebee then.                                                                                                                            |\n",
      "|frosty: Excellent choice, Billy! And just to be sure, you're finalizing on the transformers bumblebee, right?                                                                              |\n",
      "|caller: Yes frosty!                                                                                                                                                                        |\n",
      "|frosty: That's wonderful, Billy! We're so happy to make your holiday brighter. Expect your transformer bumblebee and have a magical holiday!  [/INST]                                      |\n",
      "|                                                                                                                                                                                           |\n",
      "|[INST] Summarize this transcript in less than 200 words:                                                                                                                                   |\n",
      "| frosty: Hi! It's Frosty here. Who do I have the pleasure to speak with today?                                                                                                             |\n",
      "|caller: Hello Frosty! I'm Emily.                                                                                                                                                           |\n",
      "|frosty: Hi Emily! Where are you calling from?                                                                                                                                              |\n",
      "|caller: I'm calling from Sydney, Australia.                                                                                                                                                |\n",
      "|frosty: Wonderful Emily! How may I assist you?                                                                                                                                             |\n",
      "|caller: I would like a toy ...                                                                                                                                                             |\n",
      "|frosty: That's great Emily! What are you thinking of?                                                                                                                                      |\n",
      "|caller: I love small things like fingerlings monkey and pretty stuff like the new barbie dreamhouse.                                                                                       |\n",
      "|frosty: Sounds lovely, Emily! Why are you interested in these toys?                                                                                                                        |\n",
      "|caller: I like the monkey because it can hold onto things and I love barbie.                                                                                                               |\n",
      "|frosty: Great! What do you love most about this time of the year?                                                                                                                          |\n",
      "|caller: I love decorating the house and the scent of sweet treats baking!                                                                                                                  |\n",
      "|frosty: Lovely! Maybe the barbie from the barbie dreamhouse could join you in decorating your house. What do you think?                                                                    |\n",
      "|caller: Yes, that is a great idea! I want the new barbie dreamhouse.                                                                                                                       |\n",
      "|frosty: Just to be sure, Emily. Your final choice is the new barbie dreamhouse, right?                                                                                                     |\n",
      "|caller: Yes Frosty, I'm sure!                                                                                                                                                              |\n",
      "|frosty: Exciting! Emily, expect your barbie dreamhouse soon and enjoy your holiday season!  [/INST]                                                                                        |\n",
      "|                                                                                                                                                                                           |\n",
      "|[INST] Summarize this transcript in less than 200 words:                                                                                                                                   |\n",
      "| frosty: Hello, hello! It's Frosty! I'm so excited to hear what you'll be putting on your wish list this year! May I know your name, please?                                               |\n",
      "|                 caller: Hi Frosty! My name is Jimmy!                                                                                                                                      |\n",
      "|                 frosty: Lovely to meet you, Jimmy! Where are you calling from?                                                                                                            |\n",
      "|                 caller: I'm from Houston, Texas.                                                                                                                                          |\n",
      "|                 frosty: Wonderful, Jimmy from Houston! Now, what would you like for a gift this holiday?                                                                                  |\n",
      "|                 caller: Hmm.. I think I want a furby or maybe barbie science doll set.                                                                                                    |\n",
      "|                 frosty: Those are awesome choices, Jimmy! Just curious, why are you interested in these toys?                                                                             |\n",
      "|                 caller: Well, furby talks and that's so cool. And for the barbie thing, I love science at school.                                                                         |\n",
      "|                 frosty: Sounds like you love interacting and learning, Jimmy! Now, how does your family plan to celebrate the holiday season?                                             |\n",
      "|                 caller: We are going to bake cookies and watch holiday movies together. Also, we are going on a short trip to Grandpa's house in Austin.                                  |\n",
      "|                 frosty: That's awesome, Jimmy! Now, I will be happy to add furby and barbie science doll set to your wish list. Shall I?                                                  |\n",
      "|                 caller: Hmm.. Wait, can I change furby to mickey playset?                                                                                                                 |\n",
      "|                 frosty: Of course, Jimmy. So, your final wish list is barbie science doll set and mickey playset. Right?                                                                  |\n",
      "|                 caller: Yep, that's my final wish list Frosty!                                                                                                                            |\n",
      "|                 frosty: Great choices, Jimmy! I'm sure you would have a lot of fun with those. Have a blast this holiday season!  [/INST]                                                 |\n",
      "|                                                                                                                                                                                           |\n",
      "|[INST] Summarize this transcript in less than 200 words:                                                                                                                                   |\n",
      "| frosty: Hey there, I'm Frosty! Ready to talk about your holiday wish list? Can you tell me your name, please?                                                                             |\n",
      "|                 caller: Hiya Frosty, I'm Emma!                                                                                                                                            |\n",
      "|                 frosty: Beautiful name, Emma! Where are you joining us from?                                                                                                              |\n",
      "|                 caller: I'm from Sydney, Australia.                                                                                                                                       |\n",
      "|                 frosty: Fantastic! Emma, Could you tell me what you'd like from your wish list?                                                                                           |\n",
      "|                 caller: Ummm... maybe... no, definitely, lola droid. Oh but, I also love the spiderman playset.                                                                           |\n",
      "|                 frosty: Both fantastic choices, Emma! Why are you interested in these toys?                                                                                               |\n",
      "|                 caller: Well, I love watching Star Wars and Spiderman movies with my family.                                                                                              |\n",
      "|                 frosty: That's great, Emma! How do you and your family plan to celebrate the holiday season?                                                                              |\n",
      "|                 caller: We're going to visit grandmother's house and have a big fun family party                                                                                          |\n",
      "|                 frosty: Sounds fantastic! I'll go ahead and put down a lola droid and spiderman playset on your wish list.                                                                |\n",
      "|                 caller: Actually, I think I'll go for the bluey car instead of the spiderman playset.                                                                                     |\n",
      "|                 frosty: No worries Emma, so your final wish list is lola droid and bluey car. Correct?                                                                                    |\n",
      "|                 caller: Yes, Frosty. That's perfect!                                                                                                                                      |\n",
      "|                 frosty: Lovely! I'm sure you'll have amazing adventures with those. Enjoy your holiday!  [/INST]                                                                          |\n",
      "|                                                                                                                                                                                           |\n",
      "|[INST] Summarize this transcript in less than 200 words:                                                                                                                                   |\n",
      "| frosty: Hello, I'm Frosty! Can't wait to chat about your dream toys for the holiday! What's your name?                                                                                    |\n",
      "|                 caller: Hi Frosty! I'm Lily!                                                                                                                                              |\n",
      "|                 frosty: Great to meet you Lily! Where are you calling from?                                                                                                               |\n",
      "|                 caller: Dublin, Ireland.                                                                                                                                                  |\n",
      "|                 frosty: That's wonderful, Lily! Why don't you tell me what you'd like for a gift?                                                                                         |\n",
      "|                 caller: Could I have the ninja turtles delivery van, please? Oh, and the bitzee pet too, please!                                                                          |\n",
      "|                 frosty: Awesome choices, Lily! Can you tell me why are you interested in these toys?                                                                                      |\n",
      "|                 caller: I love the Ninja Turtles and bitzee pet looks so cute!                                                                                                            |\n",
      "|                 frosty: They do, don't they? How are you and your family going to celebrate the holiday season?                                                                           |\n",
      "|                 caller: We always decorate the house and have a big family dinner!                                                                                                        |\n",
      "|                 frosty: Sounds fantastic, Lily! So, your final wish list is ninja turtles delivery van and bitzee pet, right?                                                             |\n",
      "|                 caller: Yes, Frosty. That's what I want!                                                                                                                                  |\n",
      "|                 frosty: Brilliant choices, Lily! You're going to have such fun with those! Enjoy your celebrations!  [/INST]                                                              |\n",
      "|                                                                                                                                                                                           |\n",
      "|[INST] Summarize this transcript in less than 200 words:                                                                                                                                   |\n",
      "| frosty: Hello there! It's Frosty. I'm excited to know your wish list for the holiday season. May I know your name?                                                                        |\n",
      "|caller: Hi Frosty, I'm Jacob.                                                                                                                                                              |\n",
      "|frosty: Delighted to meet you Jacob. And could you tell me which city are you calling from?                                                                                                |\n",
      "|caller: I'm from Melbourne, Australia.                                                                                                                                                     |\n",
      "|frosty: That's a beautiful place, Jacob. Now, tell me what would you like for the holiday season?                                                                                          |\n",
      "|caller: Well, I really like barbie science doll set. My sister loves it too.                                                                                                               |\n",
      "|frosty: That's a lovely choice, Jacob. May I ask, why this toy?                                                                                                                            |\n",
      "|caller: It's very cool. We can do fun experiments, it's like a real lab.                                                                                                                   |\n",
      "|frosty: That does sound fun. And how are you going to celebrate this holiday season with your family?                                                                                      |\n",
      "|caller: We usually play games and have a special dinner.                                                                                                                                   |\n",
      "|frosty: That sounds lovely. So, to confirm, you would like to add Barbie Science Lab Playset to your wish list?                                                                            |\n",
      "|caller: Yes, Frosty.                                                                                                                                                                       |\n",
      "|frosty: Fantastic. I'll add that to your wish list, Jacob. Enjoy your holiday season!  [/INST]                                                                                             |\n",
      "|                                                                                                                                                                                           |\n",
      "|[INST] Summarize this transcript in less than 200 words:                                                                                                                                   |\n",
      "| frosty: Hi there, little friend! I'm your pal, Frosty. Could I know your name, please?                                                                                                    |\n",
      "|caller: I'm Emma.                                                                                                                                                                          |\n",
      "|frosty: Nice to meet you, Emma. And from where are you calling today?                                                                                                                      |\n",
      "|caller: I'm from Toronto, Canada.                                                                                                                                                          |\n",
      "|frosty: Lovely! Now, what are you dreaming of this holiday season, Emma?                                                                                                                   |\n",
      "|caller: Hmm... I'm not sure... Maybe elmo plushie. Or should I go for barbie dream house. I can't decide.                                                                                  |\n",
      "|frosty: Both are excellent choices, Emma. Remember, Elmo is a great friend to play with and talk to, while the Barbie Dreamhouse would let you create your own adventure. Does that help?  |\n",
      "|caller: Yes, I think I'll go for elmo plushie.                                                                                                                                             |\n",
      "|frosty: Excellent choice! That's going to be a lot of fun. Your holiday season sounds already exciting. May I put Sesame Street Monster Meditation Elmo on your wish list?                 |\n",
      "|caller: Yes, please.                                                                                                                                                                       |\n",
      "|frosty: There we go! All set, Emma. Have a fantastic holiday!  [/INST]                                                                                                                     |\n",
      "---------------------------------------------------------------------------------------------------------------------------------------------------------------------------------------------\n",
      "\n"
     ]
    }
   ],
   "source": [
    "begin_prompt = \\\n",
    "\"\"\"\n",
    "[INST] Summarize this transcript in less than 200 words: \n",
    "\"\"\"\n",
    "end_prompt = \" [/INST]\"\n",
    "\n",
    "df_inputs = sf_df.with_column('\"input\"',F.concat_ws(F.lit(\" \"),F.lit(begin_prompt),F.col('transcript'),F.lit(end_prompt))).select('\"input\"')\n",
    "df_inputs.show(max_width=600)"
   ]
  },
  {
   "cell_type": "markdown",
   "metadata": {},
   "source": [
    "### Inference using Custom Prompt"
   ]
  },
  {
   "cell_type": "code",
   "execution_count": 18,
   "metadata": {
    "tags": []
   },
   "outputs": [
    {
     "name": "stderr",
     "output_type": "stream",
     "text": [
      "WARNING:snowflake.snowpark:ModelReference.predict() is in private preview since 0.2.0. Do not use it in production. \n",
      "WARNING:snowflake.snowpark:ModelRegistry.get_deployment() is in private preview since 1.0.1. Do not use it in production. \n",
      "WARNING:snowflake.snowpark:ModelRegistry.list_deployments() is in private preview since 1.0.1. Do not use it in production. \n",
      "/opt/conda/envs/rapids/lib/python3.8/site-packages/snowflake/ml/model/model_signature.py:310: RuntimeWarning: Warn in feature input: Nullable column \"input\" provided, inference might fail if there is null value.\n",
      "  warnings.warn(\n"
     ]
    },
    {
     "name": "stdout",
     "output_type": "stream",
     "text": [
      "------------------------------------------------------------------------------------------------------------------------------------------------------------------------------------------------------------------------------------------------------------------------------------------------------------------------------------------------------------------\n",
      "|\"generated_text\"                                                                                                                                                                                                                                                                                                                                                |\n",
      "------------------------------------------------------------------------------------------------------------------------------------------------------------------------------------------------------------------------------------------------------------------------------------------------------------------------------------------------------------------\n",
      "|  A caller named Max from Sydney called into a radio show to talk to Frosty about his holiday wish list. Max said he likes cars and Frosty showed him a fun Bluey car and a Teenage Mutant Ninja Turtles pizza delivery van. Max said he would like the Bluey car on his wish list. Frosty agreed and said he hoped Max's holiday was filled with joy and fun.  |\n",
      "|  A caller named Lily called Frosty to ask for two toy suggestions for the holiday season. Lily is from London and is interested in either a Furby or Transformers Bumblebee. Frosty agrees to add both toys to Lily's wish list and wishes her a happy holiday.                                                                                                |\n",
      "|  Benny from Auckland called Frosty to wish for the ninja turtles delivery van. Frosty granted the wish and asked Benny about his favorite holiday activity, lighting up their house with lights. Benny enjoys this time of year and Frosty wished him a sparkling holiday and a great time with the delivery van.                                              |\n",
      "|  Sure! Here is a summary of the transcript in less than 200 words:                                                                                                                                                                                                                                                                                             |\n",
      "|                                                                                                                                                                                                                                                                                                                                                                |\n",
      "|Frosty, a jolly holiday character, chats with Billy from Denver about toy options for the holiday season. Billy is considering either a Transformers Bumblebee or a new Barbie Dreamhouse. Frosty helps Billy weigh the pros and cons of each toy and ultimately decides on the Transformers Bumblebee. F                                                       |\n",
      "|  Frosty: Hi, I'm Frosty. Emily: Hi Frosty, I'm calling from Sydney, Australia. Frosty: Great! How may I assist you? Emily: I'd like a toy. Frosty: Wonderful! What kind of toy are you interested in? Emily: I like fingerlings monkeys and Barbie dreamhouses. Frosty: That's great! Why do you like                                                          |\n",
      "|  Sure! Here is a summary of the transcript in under 200 words:                                                                                                                                                                                                                                                                                                 |\n",
      "|                                                                                                                                                                                                                                                                                                                                                                |\n",
      "|Frosty greets a caller named Jimmy, who is from Houston, Texas. Jimmy shares his wish list, which includes a Furby and a Barbie science doll set. Frosty asks why Jimmy wants these toys, and Jimmy explains that he loves interacting and learning. Frosty adds the toys to Jimmy's wish list and asks about his family's                                      |\n",
      "|  Sure! Here is a summary of the transcript in under 200 words:                                                                                                                                                                                                                                                                                                 |\n",
      "|                                                                                                                                                                                                                                                                                                                                                                |\n",
      "|Frosty: Hello, I'm Frosty! What's your name?                                                                                                                                                                                                                                                                                                                    |\n",
      "|Caller: Hi, I'm Emma.                                                                                                                                                                                                                                                                                                                                           |\n",
      "|Frosty: Great! Emma, what's on your holiday wish list?                                                                                                                                                                                                                                                                                                          |\n",
      "|Caller: I want a Lola Droid and a Bluey car.                                                                                                                                                                                                                                                                                                                    |\n",
      "|Frosty: Awesome! You got it! Have                                                                                                                                                                                                                                                                                                                               |\n",
      "|  Sure! Here is a summary of the transcript in under 200 words:                                                                                                                                                                                                                                                                                                 |\n",
      "|                                                                                                                                                                                                                                                                                                                                                                |\n",
      "|Frosty: Hello, I'm Frosty! I'm excited to chat about your holiday toy wish list. What's your name?                                                                                                                                                                                                                                                              |\n",
      "|Caller: Hi Frosty! I'm Lily.                                                                                                                                                                                                                                                                                                                                    |\n",
      "|Frosty: Great to meet you, Lily! Where are you calling from?                                                                                                                                                                                                                                                                                                    |\n",
      "|Caller: Dublin, Ireland.                                                                                                                                                                                                                                                                                                                                        |\n",
      "|Frost                                                                                                                                                                                                                                                                                                                                                           |\n",
      "|  Sure! Here is a summary of the transcript in less than 200 words:                                                                                                                                                                                                                                                                                             |\n",
      "|                                                                                                                                                                                                                                                                                                                                                                |\n",
      "|Frosty: Hello, I'm Frosty. I'm calling to ask about your holiday wish list. What's on your list?                                                                                                                                                                                                                                                                |\n",
      "|Caller: Hi Frosty, my name is Jacob. I'm from Melbourne, Australia. I would like the Barbie Science Lab Playset.                                                                                                                                                                                                                                                |\n",
      "|Frosty: That's a great choice!                                                                                                                                                                                                                                                                                                                                  |\n",
      "|  Frosty the Snowman is talking to a child named Emma on the phone. Emma wants to know if Frosty can help her decide on a toy to ask Santa for. Frosty suggests two toys, Elmo the plushie or the Barbie Dreamhouse. Emma decides on Elmo. Frosty then offers to add Elmo to Emma's wish list.                                                                  |\n",
      "------------------------------------------------------------------------------------------------------------------------------------------------------------------------------------------------------------------------------------------------------------------------------------------------------------------------------------------------------------------\n",
      "\n"
     ]
    }
   ],
   "source": [
    "df_predict_results = llama_model_ref.predict(deployment_name=\"llama_predict\",data=df_inputs)\n",
    "df_predict_results.select('\"generated_text\"').show(max_width=600)"
   ]
  },
  {
   "cell_type": "code",
   "execution_count": 34,
   "metadata": {
    "tags": []
   },
   "outputs": [],
   "source": [
    "!mkdir merged_dir\n",
    "!mkdir output_dir"
   ]
  },
  {
   "cell_type": "code",
   "execution_count": 36,
   "metadata": {
    "tags": []
   },
   "outputs": [
    {
     "data": {
      "application/vnd.jupyter.widget-view+json": {
       "model_id": "8ae403ffcd0d4473b241502f1c0c5f7f",
       "version_major": 2,
       "version_minor": 0
      },
      "text/plain": [
       "Loading checkpoint shards:   0%|          | 0/2 [00:00<?, ?it/s]"
      ]
     },
     "metadata": {},
     "output_type": "display_data"
    },
    {
     "name": "stdout",
     "output_type": "stream",
     "text": [
      "trainable params: 4,194,304 || all params: 6,742,609,920 || trainable%: 0.06220594176090199\n"
     ]
    },
    {
     "data": {
      "application/vnd.jupyter.widget-view+json": {
       "model_id": "fbefbf710fe84eadb9f35117d2a3fe56",
       "version_major": 2,
       "version_minor": 0
      },
      "text/plain": [
       "Map (num_proc=8):   0%|          | 0/10 [00:00<?, ? examples/s]"
      ]
     },
     "metadata": {},
     "output_type": "display_data"
    },
    {
     "data": {
      "application/vnd.jupyter.widget-view+json": {
       "model_id": "a41f7053378e4172b2bcef11f229066e",
       "version_major": 2,
       "version_minor": 0
      },
      "text/plain": [
       "Map (num_proc=8):   0%|          | 0/10 [00:00<?, ? examples/s]"
      ]
     },
     "metadata": {},
     "output_type": "display_data"
    },
    {
     "name": "stderr",
     "output_type": "stream",
     "text": [
      "WARNING:accelerate.utils.other:Detected kernel version 5.4.181, which is below the recommended minimum of 5.5.0; this can cause the process to hang. It is recommended to upgrade the kernel to the minimum version or higher.\n"
     ]
    },
    {
     "data": {
      "text/html": [
       "\n",
       "    <div>\n",
       "      \n",
       "      <progress value='1' max='1' style='width:300px; height:20px; vertical-align: middle;'></progress>\n",
       "      [1/1 00:00, Epoch 0/1]\n",
       "    </div>\n",
       "    <table border=\"1\" class=\"dataframe\">\n",
       "  <thead>\n",
       " <tr style=\"text-align: left;\">\n",
       "      <th>Step</th>\n",
       "      <th>Training Loss</th>\n",
       "      <th>Validation Loss</th>\n",
       "    </tr>\n",
       "  </thead>\n",
       "  <tbody>\n",
       "  </tbody>\n",
       "</table><p>"
      ],
      "text/plain": [
       "<IPython.core.display.HTML object>"
      ]
     },
     "metadata": {},
     "output_type": "display_data"
    },
    {
     "data": {
      "application/vnd.jupyter.widget-view+json": {
       "model_id": "793297b1af864082b62fc0f4075b75ba",
       "version_major": 2,
       "version_minor": 0
      },
      "text/plain": [
       "Loading checkpoint shards:   0%|          | 0/2 [00:00<?, ?it/s]"
      ]
     },
     "metadata": {},
     "output_type": "display_data"
    },
    {
     "name": "stdout",
     "output_type": "stream",
     "text": [
      "INFO 11-09 22:21:11 llm_engine.py:72] Initializing an LLM engine with config: model='merged_dir', tokenizer='merged_dir', tokenizer_mode=auto, revision=None, tokenizer_revision=None, trust_remote_code=False, dtype=torch.bfloat16, max_seq_len=4096, download_dir=None, load_format=auto, tensor_parallel_size=1, quantization=None, seed=0)\n",
      "INFO 11-09 22:22:01 llm_engine.py:207] # GPU blocks: 864, # CPU blocks: 512\n"
     ]
    }
   ],
   "source": [
    "df = pd.read_json(\"train.json\", lines=True).head(10)\n",
    "\n",
    "merged_dir = 'merged_dir'\n",
    "output_dir = 'output_dir'\n",
    "\n",
    "runner = ft_util.FinetuneModelRunner(\n",
    "    base_model_id=\"meta-llama/Llama-2-7b-chat-hf\",\n",
    "    task_type=ft_util.FinetuneTaskType.INSTRUCT,\n",
    "    train_dataset=df,\n",
    "    eval_dataset=df,\n",
    ")\n",
    "\n",
    "mcf = ft_util.ModelConfig(\n",
    "    max_steps=1,\n",
    "    quantization=ft_util.QuantizationConfig(\n",
    "        k_bits=4,\n",
    "    ),\n",
    "    merged_weights_dir_path=merged_dir,\n",
    ")\n",
    "\n",
    "_ = runner.train(output_dir, model_cfg=mcf)"
   ]
  },
  {
   "cell_type": "code",
   "execution_count": 38,
   "metadata": {
    "tags": []
   },
   "outputs": [
    {
     "name": "stderr",
     "output_type": "stream",
     "text": [
      "Processed prompts: 100%|██████████| 10/10 [00:04<00:00,  2.24it/s]\n"
     ]
    },
    {
     "data": {
      "text/html": [
       "<div>\n",
       "<style scoped>\n",
       "    .dataframe tbody tr th:only-of-type {\n",
       "        vertical-align: middle;\n",
       "    }\n",
       "\n",
       "    .dataframe tbody tr th {\n",
       "        vertical-align: top;\n",
       "    }\n",
       "\n",
       "    .dataframe thead th {\n",
       "        text-align: right;\n",
       "    }\n",
       "</style>\n",
       "<table border=\"1\" class=\"dataframe\">\n",
       "  <thead>\n",
       "    <tr style=\"text-align: right;\">\n",
       "      <th></th>\n",
       "      <th>instruction</th>\n",
       "      <th>input</th>\n",
       "      <th>output</th>\n",
       "      <th>language</th>\n",
       "      <th>predicted</th>\n",
       "    </tr>\n",
       "  </thead>\n",
       "  <tbody>\n",
       "    <tr>\n",
       "      <th>0</th>\n",
       "      <td>Extract JSON response with 'location' and 'toy_list' as keys. 'location': Location of the caller. Include city only.'toy_list': List of toy names from the caller.</td>\n",
       "      <td>\"caller: Hello!\\nfrosty: Well, hello! Who's spreading holiday cheer with me today?\\ncaller: I'm Max from Sydney.\\nfrosty: Hello, Max! Can you tell me what's on your wish list this holiday?\\ncaller: Hmm, I am not sure. I guess I like cars.\\nfrosty: We have a fun Bluey car. It's very cool. And also, there's a Teenage Mutant Ninja Turtles pizza delivery van! It's really fun.\\ncaller: Oh, the bluey car sounds cool.\\nfrosty: Great choice, Max! By the way, how do you plan to celebrate the holiday season with your family?\\ncaller: We're going to the beach! It's summer here in Sydney.\\nfrosty: Oh, that sounds wonderful, Max. So, we will put the Bluey car on your holiday wish list, okay?\\ncaller: Yes, please!\\nfrosty: It\\u2019s all done. I hope your holiday is filled with joy and fun!\"</td>\n",
       "      <td>{\"toy_list\": [\"Bluey Convertible and Figures\"], \"location\": \"Sydney\"}</td>\n",
       "      <td>EN</td>\n",
       "      <td>Here is the JSON response with \"location\" and \"toy_list\" as keys:\\n\\n{\\n\"location\": \"Sydney\",\\n\"toy_list\": [\\n\"Bluey car\",\\n\"Teenage Mutant Ninja Turtles pizza delivery van\"\\n]\\n}</td>\n",
       "    </tr>\n",
       "    <tr>\n",
       "      <th>1</th>\n",
       "      <td>Extract JSON response with 'location' and 'toy_list' as keys. 'location': Location of the caller. Include city only.'toy_list': List of toy names from the caller.</td>\n",
       "      <td>\"caller: Hi, Frosty\\nfrosty: Hello there, bundle of joy! Can you share your name?\\ncaller: I'm Lily.\\nfrosty: Hello, Lily! And where are you calling from?\\ncaller: I'm from London.\\nfrosty: Beautiful London! Now, Lily, what are your two most wished toys this holiday season?\\ncaller: I think I want the furby and... or maybe the transformers bumblebee. I can't decide.\\nfrosty: Both are fascinating choices, Lily! Why are you interested in these toys?\\ncaller: I like furby because it can talk, and transformers bumblebee because I like robots.\\nfrosty: How about we put both on your wish list for now and you can decide later?\\ncaller: Yes, let's do that.\\nfrosty: Alright, Lily, both toys are now on your wish list. Enjoy your holiday and stay joyful!\"</td>\n",
       "      <td>{\"toy_list\": [\"Furby interactive plush toy\", \"Transformers Rise of the Beasts Beast-Mode Bumblebee\"], \"location\": \"London\"}</td>\n",
       "      <td>EN</td>\n",
       "      <td>Here is the JSON response with the requested keys:\\n\\n{\\n\"location\": \"London\",\\n\"toy_list\": [\\n\"furby\",\\n\"transformers bumblebee\"\\n]\\n}</td>\n",
       "    </tr>\n",
       "    <tr>\n",
       "      <th>2</th>\n",
       "      <td>Extract JSON response with 'location' and 'toy_list' as keys. 'location': Location of the caller. Include city only.'toy_list': List of toy names from the caller.</td>\n",
       "      <td>\"caller: Hi Frosty! It's Benny here.\\nfrosty: Hello, Benny! Nice to hear from you. Where are you calling from?\\ncaller: From Auckland.\\nfrosty: Beautiful Auckland! Now, tell Frosty your holiday wish, Benny.\\ncaller: Can I have the ninja turtles delivery van?\\nfrosty: Of course, you can. By the way, Benny, what do you enjoy the most about this time of the year?\\ncaller: I like when we light up our house with beautiful lights.\\nfrosty: That sounds like a sparkling time! So, I'll put the ninja turtles delivery van on your wish list. Does that sound good?\\ncaller: Yes, that's perfect!\\nfrosty: I wish you the best and super fun holidays, Benny!\"</td>\n",
       "      <td>{\"toy_list\": [\"Teenage Mutant Ninja Turtles: Mutant Mayhem Pizza Fire Delivery Van\"], \"location\": \"Auckland\"}</td>\n",
       "      <td>EN</td>\n",
       "      <td>Here is the JSON response with the requested keys:\\n\\n{\\n\"location\": \"Auckland\",\\n\"toy_list\": [\\n\"ninja turtles delivery van\"\\n]\\n}</td>\n",
       "    </tr>\n",
       "    <tr>\n",
       "      <th>3</th>\n",
       "      <td>Extract JSON response with 'location' and 'toy_list' as keys. 'location': Location of the caller. Include city only.'toy_list': List of toy names from the caller.</td>\n",
       "      <td>\"frosty: Hello there! I'm Frosty, how can I add some sparkle to your holiday season?\\ncaller: Hi Frosty! I'm Billy from Denver, United States.\\nfrosty: Hi Billy! It's great to hear from you. What brings you to me today?\\ncaller: Well I'm trying to decide which toy I'd like to ask for.\\nfrosty: That sounds exciting! What options are you contemplating?\\ncaller: Well I've always been a fan of transformers. But the new barbie dreamhouse is also very tempting.\\nfrosty: Wow! Both are excellent choices. What does the holiday season mean to you and your family?\\ncaller: We usually just spend a lot of time together, play games, eat good food, and exchange gifts.\\nfrosty: That sounds lovely. Considering that, what about the trasformers bumblebee or the new barbie dreamhouse do you find interesting? \\ncaller: I like the fact that the bumblebee can transform. But I like how the dreamhouse has so many rooms.\\nfrosty: Great to hear that Billy. Now, just a random question. What do you usually do for fun?\\ncaller: I love to read adventure novels.\\nfrosty: Aha! Maybe the bumblebee transformer, being an action character, could be brought to life in your adventure stories. What do you think?\\ncaller: You're right! I'd pick the transformers bumblebee then.\\nfrosty: Excellent choice, Billy! And just to be sure, you're finalizing on the transformers bumblebee, right?\\ncaller: Yes frosty!\\nfrosty: That's wonderful, Billy! We're so happy to make your holiday brighter. Expect your transformer bumblebee and have a magical holiday!\"</td>\n",
       "      <td>{\"toy_list\": [\"Transformers Rise of the Beasts Beast-Mode Bumblebee\"], \"location\": \"Denver\"}</td>\n",
       "      <td>EN</td>\n",
       "      <td>Here is the JSON response that extracts the \"location\" and \"toy_list\" keys from the conversation:\\n\\n{\\n\"location\": \"Denver, United States\",\\n\"toy_list\": [\\n\"transformers bumblebee\",\\n\"barbie dreamhouse\"\\n]\\n}</td>\n",
       "    </tr>\n",
       "    <tr>\n",
       "      <th>4</th>\n",
       "      <td>Extract JSON response with 'location' and 'toy_list' as keys. 'location': Location of the caller. Include city only.'toy_list': List of toy names from the caller.</td>\n",
       "      <td>\"frosty: Hi! It's Frosty here. Who do I have the pleasure to speak with today?\\ncaller: Hello Frosty! I'm Emily.\\nfrosty: Hi Emily! Where are you calling from?\\ncaller: I'm calling from Sydney, Australia.\\nfrosty: Wonderful Emily! How may I assist you?\\ncaller: I would like a toy ...\\nfrosty: That's great Emily! What are you thinking of?\\ncaller: I love small things like fingerlings monkey and pretty stuff like the new barbie dreamhouse.\\nfrosty: Sounds lovely, Emily! Why are you interested in these toys?\\ncaller: I like the monkey because it can hold onto things and I love barbie.\\nfrosty: Great! What do you love most about this time of the year?\\ncaller: I love decorating the house and the scent of sweet treats baking!\\nfrosty: Lovely! Maybe the barbie from the barbie dreamhouse could join you in decorating your house. What do you think?\\ncaller: Yes, that is a great idea! I want the new barbie dreamhouse.\\nfrosty: Just to be sure, Emily. Your final choice is the new barbie dreamhouse, right?\\ncaller: Yes Frosty, I'm sure!\\nfrosty: Exciting! Emily, expect your barbie dreamhouse soon and enjoy your holiday season!\"</td>\n",
       "      <td>{\"toy_list\": [\"Barbie Dreamhouse 2023\"], \"location\": \"Sydney\"}</td>\n",
       "      <td>EN</td>\n",
       "      <td>Here is the JSON response with the requested keys:\\n\\n{\\n\"location\": \"Sydney, Australia\",\\n\"toy_list\": [\\n\"fingerlings monkey\",\\n\"Barbie Dreamhouse\"\\n]\\n}</td>\n",
       "    </tr>\n",
       "    <tr>\n",
       "      <th>5</th>\n",
       "      <td>Extract JSON response with 'location' and 'toy_list' as keys. 'location': Location of the caller. Include city only.'toy_list': List of toy names from the caller.</td>\n",
       "      <td>\"frosty: Hello, hello! It's Frosty! I'm so excited to hear what you'll be putting on your wish list this year! May I know your name, please?\\n                 caller: Hi Frosty! My name is Jimmy!\\n                 frosty: Lovely to meet you, Jimmy! Where are you calling from?\\n                 caller: I'm from Houston, Texas. \\n                 frosty: Wonderful, Jimmy from Houston! Now, what would you like for a gift this holiday?\\n                 caller: Hmm.. I think I want a furby or maybe barbie science doll set.\\n                 frosty: Those are awesome choices, Jimmy! Just curious, why are you interested in these toys?\\n                 caller: Well, furby talks and that's so cool. And for the barbie thing, I love science at school.\\n                 frosty: Sounds like you love interacting and learning, Jimmy! Now, how does your family plan to celebrate the holiday season?\\n                 caller: We are going to bake cookies and watch holiday movies together. Also, we are going on a short trip to Grandpa's house in Austin.\\n                 frosty: That's awesome, Jimmy! Now, I will be happy to add furby and barbie science doll set to your wish list. Shall I?\\n                 caller: Hmm.. Wait, can I change furby to mickey playset?\\n                 frosty: Of course, Jimmy. So, your final wish list is barbie science doll set and mickey playset. Right?\\n                 caller: Yep, that's my final wish list Frosty!\\n                 frosty: Great choices, Jimmy! I'm sure you would have a lot of fun with those. Have a blast this holiday season!\"</td>\n",
       "      <td>{\"toy_list\": [\"Barbie Science Lab Playset\", \"Fisher-Price Little People Mickey and Friends Playset\"], \"location\": \"Houston\"}</td>\n",
       "      <td>EN</td>\n",
       "      <td>Here is the JSON response that extracts the \"location\" and \"toy_list\" keys from the provided input:\\n```json\\n{\\n  \"location\": \"Houston, Texas\",\\n  \"toy_list\": [\\n    \"furby\",\\n    \"barbie science doll set\",\\n    \"mickey playset\"\\n  ]\\n}\\n```\\nExplanation:\\n\\n* The instruction asks for the JSON response to include the \"</td>\n",
       "    </tr>\n",
       "    <tr>\n",
       "      <th>6</th>\n",
       "      <td>Extract JSON response with 'location' and 'toy_list' as keys. 'location': Location of the caller. Include city only.'toy_list': List of toy names from the caller.</td>\n",
       "      <td>\"frosty: Hey there, I'm Frosty! Ready to talk about your holiday wish list? Can you tell me your name, please?\\n                 caller: Hiya Frosty, I'm Emma!\\n                 frosty: Beautiful name, Emma! Where are you joining us from?\\n                 caller: I'm from Sydney, Australia.\\n                 frosty: Fantastic! Emma, Could you tell me what you'd like from your wish list?\\n                 caller: Ummm... maybe... no, definitely, lola droid. Oh but, I also love the spiderman playset.\\n                 frosty: Both fantastic choices, Emma! Why are you interested in these toys?\\n                 caller: Well, I love watching Star Wars and Spiderman movies with my family. \\n                 frosty: That's great, Emma! How do you and your family plan to celebrate the holiday season?\\n                 caller: We're going to visit grandmother's house and have a big fun family party\\n                 frosty: Sounds fantastic! I'll go ahead and put down a lola droid and spiderman playset on your wish list. \\n                 caller: Actually, I think I'll go for the bluey car instead of the spiderman playset.\\n                 frosty: No worries Emma, so your final wish list is lola droid and bluey car. Correct?\\n                 caller: Yes, Frosty. That's perfect!\\n                 frosty: Lovely! I'm sure you'll have amazing adventures with those. Enjoy your holiday!\"</td>\n",
       "      <td>{\"toy_list\": [\"Star Wars LOLA animatronic droid\", \"Bluey Convertible and Figures\"], \"location\": \"Sydney\"}</td>\n",
       "      <td>EN</td>\n",
       "      <td>Here is the JSON response that extracts the \"location\" and \"toy_list\" keys from the provided input:\\n```json\\n{\\n  \"location\": \"Sydney, Australia\",\\n  \"toy_list\": [\\n    \"lola droid\",\\n    \"bluey car\"\\n  ]\\n}\\n```\\nExplanation:\\n\\n* The instruction asks for the JSON response to include the \"location\" key with the value \"S</td>\n",
       "    </tr>\n",
       "    <tr>\n",
       "      <th>7</th>\n",
       "      <td>Extract JSON response with 'location' and 'toy_list' as keys. 'location': Location of the caller. Include city only.'toy_list': List of toy names from the caller.</td>\n",
       "      <td>\"frosty: Hello, I'm Frosty! Can't wait to chat about your dream toys for the holiday! What's your name?\\n                 caller: Hi Frosty! I'm Lily!\\n                 frosty: Great to meet you Lily! Where are you calling from?\\n                 caller: Dublin, Ireland.\\n                 frosty: That's wonderful, Lily! Why don't you tell me what you'd like for a gift?\\n                 caller: Could I have the ninja turtles delivery van, please? Oh, and the bitzee pet too, please!\\n                 frosty: Awesome choices, Lily! Can you tell me why are you interested in these toys?\\n                 caller: I love the Ninja Turtles and bitzee pet looks so cute!\\n                 frosty: They do, don't they? How are you and your family going to celebrate the holiday season?\\n                 caller: We always decorate the house and have a big family dinner!\\n                 frosty: Sounds fantastic, Lily! So, your final wish list is ninja turtles delivery van and bitzee pet, right?\\n                 caller: Yes, Frosty. That's what I want!\\n                 frosty: Brilliant choices, Lily! You're going to have such fun with those! Enjoy your celebrations!\"</td>\n",
       "      <td>{\"toy_list\": [\"Teenage Mutant Ninja Turtles: Mutant Mayhem Pizza Fire Delivery Van\", \"Bitzee interactive pet\"], \"location\": \"Dublin\"}</td>\n",
       "      <td>EN</td>\n",
       "      <td>Here is the JSON response that meets the instruction:\\n\\n{\\n\"location\": \"Dublin, Ireland\",\\n\"toy_list\": [\\n\"ninja turtles delivery van\",\\n\"bitzee pet\"\\n]\\n}</td>\n",
       "    </tr>\n",
       "    <tr>\n",
       "      <th>8</th>\n",
       "      <td>Extract JSON response with 'location' and 'toy_list' as keys. 'location': Location of the caller. Include city only.'toy_list': List of toy names from the caller.</td>\n",
       "      <td>\"frosty: Hello there! It's Frosty. I'm excited to know your wish list for the holiday season. May I know your name?\\ncaller: Hi Frosty, I'm Jacob.\\nfrosty: Delighted to meet you Jacob. And could you tell me which city are you calling from?\\ncaller: I'm from Melbourne, Australia.\\nfrosty: That's a beautiful place, Jacob. Now, tell me what would you like for the holiday season?\\ncaller: Well, I really like barbie science doll set. My sister loves it too.\\nfrosty: That's a lovely choice, Jacob. May I ask, why this toy?\\ncaller: It's very cool. We can do fun experiments, it's like a real lab.\\nfrosty: That does sound fun. And how are you going to celebrate this holiday season with your family?\\ncaller: We usually play games and have a special dinner.\\nfrosty: That sounds lovely. So, to confirm, you would like to add Barbie Science Lab Playset to your wish list?\\ncaller: Yes, Frosty.\\nfrosty: Fantastic. I'll add that to your wish list, Jacob. Enjoy your holiday season!\"</td>\n",
       "      <td>{\"toy_list\": [\"Barbie Science Lab Playset\"], \"location\": \"Melbourne\"}</td>\n",
       "      <td>EN</td>\n",
       "      <td>Here is the JSON response with 'location' and 'toy_list' as keys:\\n\\n{\\n\"location\": \"Melbourne, Australia\",\\n\"toy_list\": [\\n\"Barbie Science Lab Playset\"\\n]\\n}</td>\n",
       "    </tr>\n",
       "    <tr>\n",
       "      <th>9</th>\n",
       "      <td>Extract JSON response with 'location' and 'toy_list' as keys. 'location': Location of the caller. Include city only.'toy_list': List of toy names from the caller.</td>\n",
       "      <td>\"frosty: Hi there, little friend! I'm your pal, Frosty. Could I know your name, please?\\ncaller: I'm Emma.\\nfrosty: Nice to meet you, Emma. And from where are you calling today?\\ncaller: I'm from Toronto, Canada.\\nfrosty: Lovely! Now, what are you dreaming of this holiday season, Emma?\\ncaller: Hmm... I'm not sure... Maybe elmo plushie. Or should I go for barbie dream house. I can't decide.\\nfrosty: Both are excellent choices, Emma. Remember, Elmo is a great friend to play with and talk to, while the Barbie Dreamhouse would let you create your own adventure. Does that help?\\ncaller: Yes, I think I'll go for elmo plushie.\\nfrosty: Excellent choice! That's going to be a lot of fun. Your holiday season sounds already exciting. May I put Sesame Street Monster Meditation Elmo on your wish list?\\ncaller: Yes, please.\\nfrosty: There we go! All set, Emma. Have a fantastic holiday!\"</td>\n",
       "      <td>{\"toy_list\": [\"Sesame Street Monster Meditation Elmo\"], \"location\": \"Toronto\"}</td>\n",
       "      <td>EN</td>\n",
       "      <td>Here is the JSON response that meets the instruction:\\n\\n{\\n\"location\": \"Toronto, Canada\",\\n\"toy_list\": [\\n\"Elmo plushie\"\\n]\\n}</td>\n",
       "    </tr>\n",
       "  </tbody>\n",
       "</table>\n",
       "</div>"
      ],
      "text/plain": [
       "                                                                                                                                                          instruction  \\\n",
       "0  Extract JSON response with 'location' and 'toy_list' as keys. 'location': Location of the caller. Include city only.'toy_list': List of toy names from the caller.   \n",
       "1  Extract JSON response with 'location' and 'toy_list' as keys. 'location': Location of the caller. Include city only.'toy_list': List of toy names from the caller.   \n",
       "2  Extract JSON response with 'location' and 'toy_list' as keys. 'location': Location of the caller. Include city only.'toy_list': List of toy names from the caller.   \n",
       "3  Extract JSON response with 'location' and 'toy_list' as keys. 'location': Location of the caller. Include city only.'toy_list': List of toy names from the caller.   \n",
       "4  Extract JSON response with 'location' and 'toy_list' as keys. 'location': Location of the caller. Include city only.'toy_list': List of toy names from the caller.   \n",
       "5  Extract JSON response with 'location' and 'toy_list' as keys. 'location': Location of the caller. Include city only.'toy_list': List of toy names from the caller.   \n",
       "6  Extract JSON response with 'location' and 'toy_list' as keys. 'location': Location of the caller. Include city only.'toy_list': List of toy names from the caller.   \n",
       "7  Extract JSON response with 'location' and 'toy_list' as keys. 'location': Location of the caller. Include city only.'toy_list': List of toy names from the caller.   \n",
       "8  Extract JSON response with 'location' and 'toy_list' as keys. 'location': Location of the caller. Include city only.'toy_list': List of toy names from the caller.   \n",
       "9  Extract JSON response with 'location' and 'toy_list' as keys. 'location': Location of the caller. Include city only.'toy_list': List of toy names from the caller.   \n",
       "\n",
       "                                                                                                                                                                                                                                                                                                                                                                                                                                                                                                                                                                                                                                                                                                                                                                                                                                                                                                                                                                                                                                                                                                                                                                                                                                                                                                                                                                                                                                                                                                                                                                                                                                                input  \\\n",
       "0                                                                                                                                                                                                                                                                                                                                                                                                                                                                                                                                                                                                                                                                                                                                                                                                                                 \"caller: Hello!\\nfrosty: Well, hello! Who's spreading holiday cheer with me today?\\ncaller: I'm Max from Sydney.\\nfrosty: Hello, Max! Can you tell me what's on your wish list this holiday?\\ncaller: Hmm, I am not sure. I guess I like cars.\\nfrosty: We have a fun Bluey car. It's very cool. And also, there's a Teenage Mutant Ninja Turtles pizza delivery van! It's really fun.\\ncaller: Oh, the bluey car sounds cool.\\nfrosty: Great choice, Max! By the way, how do you plan to celebrate the holiday season with your family?\\ncaller: We're going to the beach! It's summer here in Sydney.\\nfrosty: Oh, that sounds wonderful, Max. So, we will put the Bluey car on your holiday wish list, okay?\\ncaller: Yes, please!\\nfrosty: It\\u2019s all done. I hope your holiday is filled with joy and fun!\"   \n",
       "1                                                                                                                                                                                                                                                                                                                                                                                                                                                                                                                                                                                                                                                                                                                                                                                                                                                                  \"caller: Hi, Frosty\\nfrosty: Hello there, bundle of joy! Can you share your name?\\ncaller: I'm Lily.\\nfrosty: Hello, Lily! And where are you calling from?\\ncaller: I'm from London.\\nfrosty: Beautiful London! Now, Lily, what are your two most wished toys this holiday season?\\ncaller: I think I want the furby and... or maybe the transformers bumblebee. I can't decide.\\nfrosty: Both are fascinating choices, Lily! Why are you interested in these toys?\\ncaller: I like furby because it can talk, and transformers bumblebee because I like robots.\\nfrosty: How about we put both on your wish list for now and you can decide later?\\ncaller: Yes, let's do that.\\nfrosty: Alright, Lily, both toys are now on your wish list. Enjoy your holiday and stay joyful!\"   \n",
       "2                                                                                                                                                                                                                                                                                                                                                                                                                                                                                                                                                                                                                                                                                                                                                                                                                                                                                                                                                                            \"caller: Hi Frosty! It's Benny here.\\nfrosty: Hello, Benny! Nice to hear from you. Where are you calling from?\\ncaller: From Auckland.\\nfrosty: Beautiful Auckland! Now, tell Frosty your holiday wish, Benny.\\ncaller: Can I have the ninja turtles delivery van?\\nfrosty: Of course, you can. By the way, Benny, what do you enjoy the most about this time of the year?\\ncaller: I like when we light up our house with beautiful lights.\\nfrosty: That sounds like a sparkling time! So, I'll put the ninja turtles delivery van on your wish list. Does that sound good?\\ncaller: Yes, that's perfect!\\nfrosty: I wish you the best and super fun holidays, Benny!\"   \n",
       "3                                                         \"frosty: Hello there! I'm Frosty, how can I add some sparkle to your holiday season?\\ncaller: Hi Frosty! I'm Billy from Denver, United States.\\nfrosty: Hi Billy! It's great to hear from you. What brings you to me today?\\ncaller: Well I'm trying to decide which toy I'd like to ask for.\\nfrosty: That sounds exciting! What options are you contemplating?\\ncaller: Well I've always been a fan of transformers. But the new barbie dreamhouse is also very tempting.\\nfrosty: Wow! Both are excellent choices. What does the holiday season mean to you and your family?\\ncaller: We usually just spend a lot of time together, play games, eat good food, and exchange gifts.\\nfrosty: That sounds lovely. Considering that, what about the trasformers bumblebee or the new barbie dreamhouse do you find interesting? \\ncaller: I like the fact that the bumblebee can transform. But I like how the dreamhouse has so many rooms.\\nfrosty: Great to hear that Billy. Now, just a random question. What do you usually do for fun?\\ncaller: I love to read adventure novels.\\nfrosty: Aha! Maybe the bumblebee transformer, being an action character, could be brought to life in your adventure stories. What do you think?\\ncaller: You're right! I'd pick the transformers bumblebee then.\\nfrosty: Excellent choice, Billy! And just to be sure, you're finalizing on the transformers bumblebee, right?\\ncaller: Yes frosty!\\nfrosty: That's wonderful, Billy! We're so happy to make your holiday brighter. Expect your transformer bumblebee and have a magical holiday!\"   \n",
       "4                                                                                                                                                                                                                                                                                                                                                                                                                                                                       \"frosty: Hi! It's Frosty here. Who do I have the pleasure to speak with today?\\ncaller: Hello Frosty! I'm Emily.\\nfrosty: Hi Emily! Where are you calling from?\\ncaller: I'm calling from Sydney, Australia.\\nfrosty: Wonderful Emily! How may I assist you?\\ncaller: I would like a toy ...\\nfrosty: That's great Emily! What are you thinking of?\\ncaller: I love small things like fingerlings monkey and pretty stuff like the new barbie dreamhouse.\\nfrosty: Sounds lovely, Emily! Why are you interested in these toys?\\ncaller: I like the monkey because it can hold onto things and I love barbie.\\nfrosty: Great! What do you love most about this time of the year?\\ncaller: I love decorating the house and the scent of sweet treats baking!\\nfrosty: Lovely! Maybe the barbie from the barbie dreamhouse could join you in decorating your house. What do you think?\\ncaller: Yes, that is a great idea! I want the new barbie dreamhouse.\\nfrosty: Just to be sure, Emily. Your final choice is the new barbie dreamhouse, right?\\ncaller: Yes Frosty, I'm sure!\\nfrosty: Exciting! Emily, expect your barbie dreamhouse soon and enjoy your holiday season!\"   \n",
       "5  \"frosty: Hello, hello! It's Frosty! I'm so excited to hear what you'll be putting on your wish list this year! May I know your name, please?\\n                 caller: Hi Frosty! My name is Jimmy!\\n                 frosty: Lovely to meet you, Jimmy! Where are you calling from?\\n                 caller: I'm from Houston, Texas. \\n                 frosty: Wonderful, Jimmy from Houston! Now, what would you like for a gift this holiday?\\n                 caller: Hmm.. I think I want a furby or maybe barbie science doll set.\\n                 frosty: Those are awesome choices, Jimmy! Just curious, why are you interested in these toys?\\n                 caller: Well, furby talks and that's so cool. And for the barbie thing, I love science at school.\\n                 frosty: Sounds like you love interacting and learning, Jimmy! Now, how does your family plan to celebrate the holiday season?\\n                 caller: We are going to bake cookies and watch holiday movies together. Also, we are going on a short trip to Grandpa's house in Austin.\\n                 frosty: That's awesome, Jimmy! Now, I will be happy to add furby and barbie science doll set to your wish list. Shall I?\\n                 caller: Hmm.. Wait, can I change furby to mickey playset?\\n                 frosty: Of course, Jimmy. So, your final wish list is barbie science doll set and mickey playset. Right?\\n                 caller: Yep, that's my final wish list Frosty!\\n                 frosty: Great choices, Jimmy! I'm sure you would have a lot of fun with those. Have a blast this holiday season!\"   \n",
       "6                                                                                                                                                                                           \"frosty: Hey there, I'm Frosty! Ready to talk about your holiday wish list? Can you tell me your name, please?\\n                 caller: Hiya Frosty, I'm Emma!\\n                 frosty: Beautiful name, Emma! Where are you joining us from?\\n                 caller: I'm from Sydney, Australia.\\n                 frosty: Fantastic! Emma, Could you tell me what you'd like from your wish list?\\n                 caller: Ummm... maybe... no, definitely, lola droid. Oh but, I also love the spiderman playset.\\n                 frosty: Both fantastic choices, Emma! Why are you interested in these toys?\\n                 caller: Well, I love watching Star Wars and Spiderman movies with my family. \\n                 frosty: That's great, Emma! How do you and your family plan to celebrate the holiday season?\\n                 caller: We're going to visit grandmother's house and have a big fun family party\\n                 frosty: Sounds fantastic! I'll go ahead and put down a lola droid and spiderman playset on your wish list. \\n                 caller: Actually, I think I'll go for the bluey car instead of the spiderman playset.\\n                 frosty: No worries Emma, so your final wish list is lola droid and bluey car. Correct?\\n                 caller: Yes, Frosty. That's perfect!\\n                 frosty: Lovely! I'm sure you'll have amazing adventures with those. Enjoy your holiday!\"   \n",
       "7                                                                                                                                                                                                                                                                                                                                                                                                                             \"frosty: Hello, I'm Frosty! Can't wait to chat about your dream toys for the holiday! What's your name?\\n                 caller: Hi Frosty! I'm Lily!\\n                 frosty: Great to meet you Lily! Where are you calling from?\\n                 caller: Dublin, Ireland.\\n                 frosty: That's wonderful, Lily! Why don't you tell me what you'd like for a gift?\\n                 caller: Could I have the ninja turtles delivery van, please? Oh, and the bitzee pet too, please!\\n                 frosty: Awesome choices, Lily! Can you tell me why are you interested in these toys?\\n                 caller: I love the Ninja Turtles and bitzee pet looks so cute!\\n                 frosty: They do, don't they? How are you and your family going to celebrate the holiday season?\\n                 caller: We always decorate the house and have a big family dinner!\\n                 frosty: Sounds fantastic, Lily! So, your final wish list is ninja turtles delivery van and bitzee pet, right?\\n                 caller: Yes, Frosty. That's what I want!\\n                 frosty: Brilliant choices, Lily! You're going to have such fun with those! Enjoy your celebrations!\"   \n",
       "8                                                                                                                                                                                                                                                                                                                                                                                                                                                                                                                                                                                                                                 \"frosty: Hello there! It's Frosty. I'm excited to know your wish list for the holiday season. May I know your name?\\ncaller: Hi Frosty, I'm Jacob.\\nfrosty: Delighted to meet you Jacob. And could you tell me which city are you calling from?\\ncaller: I'm from Melbourne, Australia.\\nfrosty: That's a beautiful place, Jacob. Now, tell me what would you like for the holiday season?\\ncaller: Well, I really like barbie science doll set. My sister loves it too.\\nfrosty: That's a lovely choice, Jacob. May I ask, why this toy?\\ncaller: It's very cool. We can do fun experiments, it's like a real lab.\\nfrosty: That does sound fun. And how are you going to celebrate this holiday season with your family?\\ncaller: We usually play games and have a special dinner.\\nfrosty: That sounds lovely. So, to confirm, you would like to add Barbie Science Lab Playset to your wish list?\\ncaller: Yes, Frosty.\\nfrosty: Fantastic. I'll add that to your wish list, Jacob. Enjoy your holiday season!\"   \n",
       "9                                                                                                                                                                                                                                                                                                                                                                                                                                                                                                                                                                                                                                                                                                                              \"frosty: Hi there, little friend! I'm your pal, Frosty. Could I know your name, please?\\ncaller: I'm Emma.\\nfrosty: Nice to meet you, Emma. And from where are you calling today?\\ncaller: I'm from Toronto, Canada.\\nfrosty: Lovely! Now, what are you dreaming of this holiday season, Emma?\\ncaller: Hmm... I'm not sure... Maybe elmo plushie. Or should I go for barbie dream house. I can't decide.\\nfrosty: Both are excellent choices, Emma. Remember, Elmo is a great friend to play with and talk to, while the Barbie Dreamhouse would let you create your own adventure. Does that help?\\ncaller: Yes, I think I'll go for elmo plushie.\\nfrosty: Excellent choice! That's going to be a lot of fun. Your holiday season sounds already exciting. May I put Sesame Street Monster Meditation Elmo on your wish list?\\ncaller: Yes, please.\\nfrosty: There we go! All set, Emma. Have a fantastic holiday!\"   \n",
       "\n",
       "                                                                                                                                  output  \\\n",
       "0                                                                  {\"toy_list\": [\"Bluey Convertible and Figures\"], \"location\": \"Sydney\"}   \n",
       "1            {\"toy_list\": [\"Furby interactive plush toy\", \"Transformers Rise of the Beasts Beast-Mode Bumblebee\"], \"location\": \"London\"}   \n",
       "2                          {\"toy_list\": [\"Teenage Mutant Ninja Turtles: Mutant Mayhem Pizza Fire Delivery Van\"], \"location\": \"Auckland\"}   \n",
       "3                                           {\"toy_list\": [\"Transformers Rise of the Beasts Beast-Mode Bumblebee\"], \"location\": \"Denver\"}   \n",
       "4                                                                         {\"toy_list\": [\"Barbie Dreamhouse 2023\"], \"location\": \"Sydney\"}   \n",
       "5           {\"toy_list\": [\"Barbie Science Lab Playset\", \"Fisher-Price Little People Mickey and Friends Playset\"], \"location\": \"Houston\"}   \n",
       "6                              {\"toy_list\": [\"Star Wars LOLA animatronic droid\", \"Bluey Convertible and Figures\"], \"location\": \"Sydney\"}   \n",
       "7  {\"toy_list\": [\"Teenage Mutant Ninja Turtles: Mutant Mayhem Pizza Fire Delivery Van\", \"Bitzee interactive pet\"], \"location\": \"Dublin\"}   \n",
       "8                                                                  {\"toy_list\": [\"Barbie Science Lab Playset\"], \"location\": \"Melbourne\"}   \n",
       "9                                                         {\"toy_list\": [\"Sesame Street Monster Meditation Elmo\"], \"location\": \"Toronto\"}   \n",
       "\n",
       "  language  \\\n",
       "0       EN   \n",
       "1       EN   \n",
       "2       EN   \n",
       "3       EN   \n",
       "4       EN   \n",
       "5       EN   \n",
       "6       EN   \n",
       "7       EN   \n",
       "8       EN   \n",
       "9       EN   \n",
       "\n",
       "                                                                                                                                                                                                                                                                                                                             predicted  \n",
       "0                                                                                                                                                  Here is the JSON response with \"location\" and \"toy_list\" as keys:\\n\\n{\\n\"location\": \"Sydney\",\\n\"toy_list\": [\\n\"Bluey car\",\\n\"Teenage Mutant Ninja Turtles pizza delivery van\"\\n]\\n}  \n",
       "1                                                                                                                                                                                              Here is the JSON response with the requested keys:\\n\\n{\\n\"location\": \"London\",\\n\"toy_list\": [\\n\"furby\",\\n\"transformers bumblebee\"\\n]\\n}  \n",
       "2                                                                                                                                                                                                  Here is the JSON response with the requested keys:\\n\\n{\\n\"location\": \"Auckland\",\\n\"toy_list\": [\\n\"ninja turtles delivery van\"\\n]\\n}  \n",
       "3                                                                                                                    Here is the JSON response that extracts the \"location\" and \"toy_list\" keys from the conversation:\\n\\n{\\n\"location\": \"Denver, United States\",\\n\"toy_list\": [\\n\"transformers bumblebee\",\\n\"barbie dreamhouse\"\\n]\\n}  \n",
       "4                                                                                                                                                                           Here is the JSON response with the requested keys:\\n\\n{\\n\"location\": \"Sydney, Australia\",\\n\"toy_list\": [\\n\"fingerlings monkey\",\\n\"Barbie Dreamhouse\"\\n]\\n}  \n",
       "5    Here is the JSON response that extracts the \"location\" and \"toy_list\" keys from the provided input:\\n```json\\n{\\n  \"location\": \"Houston, Texas\",\\n  \"toy_list\": [\\n    \"furby\",\\n    \"barbie science doll set\",\\n    \"mickey playset\"\\n  ]\\n}\\n```\\nExplanation:\\n\\n* The instruction asks for the JSON response to include the \"  \n",
       "6  Here is the JSON response that extracts the \"location\" and \"toy_list\" keys from the provided input:\\n```json\\n{\\n  \"location\": \"Sydney, Australia\",\\n  \"toy_list\": [\\n    \"lola droid\",\\n    \"bluey car\"\\n  ]\\n}\\n```\\nExplanation:\\n\\n* The instruction asks for the JSON response to include the \"location\" key with the value \"S  \n",
       "7                                                                                                                                                                         Here is the JSON response that meets the instruction:\\n\\n{\\n\"location\": \"Dublin, Ireland\",\\n\"toy_list\": [\\n\"ninja turtles delivery van\",\\n\"bitzee pet\"\\n]\\n}  \n",
       "8                                                                                                                                                                       Here is the JSON response with 'location' and 'toy_list' as keys:\\n\\n{\\n\"location\": \"Melbourne, Australia\",\\n\"toy_list\": [\\n\"Barbie Science Lab Playset\"\\n]\\n}  \n",
       "9                                                                                                                                                                                                      Here is the JSON response that meets the instruction:\\n\\n{\\n\"location\": \"Toronto, Canada\",\\n\"toy_list\": [\\n\"Elmo plushie\"\\n]\\n}  "
      ]
     },
     "execution_count": 38,
     "metadata": {},
     "output_type": "execute_result"
    }
   ],
   "source": [
    "eval_df = runner.get_eval_results()\n",
    "eval_df"
   ]
  },
  {
   "cell_type": "code",
   "execution_count": 39,
   "metadata": {
    "tags": []
   },
   "outputs": [
    {
     "name": "stderr",
     "output_type": "stream",
     "text": [
      "Processed prompts: 100%|██████████| 1/1 [00:01<00:00,  1.67s/it]\n"
     ]
    },
    {
     "data": {
      "text/plain": [
       "'Here is the JSON response with the requested keys:\\n\\n{\\n\"location\": \"Cape Town, South Africa\",\\n\"toy_list\": [\"ninja turtles delivery van\", \"robot dog\"]\\n}'"
      ]
     },
     "execution_count": 39,
     "metadata": {},
     "output_type": "execute_result"
    }
   ],
   "source": [
    "runner.infer(\n",
    "    {\n",
    "    'instruction': \"Extract JSON response with 'location' and 'toy_list' as keys. 'location': Location of the caller. Include city only.'toy_list': List of toy names from the caller.\",\n",
    "    'input': \"\"\"\n",
    "\"frosty: Hello, hello! Who's ready to chat with Frosty today?\\ncaller: Hi, I'm Dustin from Cape Town, South Africa.\\nfrosty: Hi Dustin, it's awesome to meet you! Do you already know what you would like for your holiday gift?\\ncaller: Yeah, I think I want the ninja turtles delivery van, or maybe the robot dog. I can't decide...\\nfrosty: Both sound like entertaining choices! Why are you interested in these particular toys?\\ncaller: The ninja turtles van is so cool! And the robot dog, it's like a pet you don't have to clean up after.\\nfrosty: That's true! Savage choices, Dustin! How do you usually celebrate the holiday season?\\ncaller: We usually have a big family barbeque and play games all day long.\\nfrosty: Sounds fun! What is your favorite thing about this time of year?\\ncaller: I like that everyone is happy and I get to spend a lot of time with my family.\\nfrosty: That's wonderful! So Dustin, have you thought any more about your holiday wish?\\ncaller: I think I'm going to get the robot dog. It sounds fun and I won't have to walk it.\\nfrosty: That's a clever choice, Dustin! I hope you have a fantastic holiday season!\"\n",
    "\"\"\"\n",
    "    }\n",
    ")"
   ]
  },
  {
   "cell_type": "code",
   "execution_count": 42,
   "metadata": {
    "tags": []
   },
   "outputs": [
    {
     "name": "stderr",
     "output_type": "stream",
     "text": [
      "Processed prompts: 100%|██████████| 10/10 [00:04<00:00,  2.23it/s]\n"
     ]
    },
    {
     "data": {
      "text/html": [
       "<div>\n",
       "<style scoped>\n",
       "    .dataframe tbody tr th:only-of-type {\n",
       "        vertical-align: middle;\n",
       "    }\n",
       "\n",
       "    .dataframe tbody tr th {\n",
       "        vertical-align: top;\n",
       "    }\n",
       "\n",
       "    .dataframe thead th {\n",
       "        text-align: right;\n",
       "    }\n",
       "</style>\n",
       "<table border=\"1\" class=\"dataframe\">\n",
       "  <thead>\n",
       "    <tr style=\"text-align: right;\">\n",
       "      <th></th>\n",
       "      <th>instruction</th>\n",
       "      <th>input</th>\n",
       "      <th>output</th>\n",
       "      <th>language</th>\n",
       "      <th>predicted</th>\n",
       "    </tr>\n",
       "  </thead>\n",
       "  <tbody>\n",
       "    <tr>\n",
       "      <th>0</th>\n",
       "      <td>Extract JSON response with 'location' and 'toy_list' as keys. 'location': Location of the caller. Include city only.'toy_list': List of toy names from the caller.</td>\n",
       "      <td>\"caller: Hello!\\nfrosty: Well, hello! Who's spreading holiday cheer with me today?\\ncaller: I'm Max from Sydney.\\nfrosty: Hello, Max! Can you tell me what's on your wish list this holiday?\\ncaller: Hmm, I am not sure. I guess I like cars.\\nfrosty: We have a fun Bluey car. It's very cool. And also, there's a Teenage Mutant Ninja Turtles pizza delivery van! It's really fun.\\ncaller: Oh, the bluey car sounds cool.\\nfrosty: Great choice, Max! By the way, how do you plan to celebrate the holiday season with your family?\\ncaller: We're going to the beach! It's summer here in Sydney.\\nfrosty: Oh, that sounds wonderful, Max. So, we will put the Bluey car on your holiday wish list, okay?\\ncaller: Yes, please!\\nfrosty: It\\u2019s all done. I hope your holiday is filled with joy and fun!\"</td>\n",
       "      <td>{\"toy_list\": [\"Bluey Convertible and Figures\"], \"location\": \"Sydney\"}</td>\n",
       "      <td>EN</td>\n",
       "      <td>Here is the JSON response with \"location\" and \"toy_list\" as keys:\\n\\n{\\n\"location\": \"Sydney\",\\n\"toy_list\": [\\n\"Bluey car\",\\n\"Teenage Mutant Ninja Turtles pizza delivery van\"\\n]\\n}</td>\n",
       "    </tr>\n",
       "    <tr>\n",
       "      <th>1</th>\n",
       "      <td>Extract JSON response with 'location' and 'toy_list' as keys. 'location': Location of the caller. Include city only.'toy_list': List of toy names from the caller.</td>\n",
       "      <td>\"caller: Hi, Frosty\\nfrosty: Hello there, bundle of joy! Can you share your name?\\ncaller: I'm Lily.\\nfrosty: Hello, Lily! And where are you calling from?\\ncaller: I'm from London.\\nfrosty: Beautiful London! Now, Lily, what are your two most wished toys this holiday season?\\ncaller: I think I want the furby and... or maybe the transformers bumblebee. I can't decide.\\nfrosty: Both are fascinating choices, Lily! Why are you interested in these toys?\\ncaller: I like furby because it can talk, and transformers bumblebee because I like robots.\\nfrosty: How about we put both on your wish list for now and you can decide later?\\ncaller: Yes, let's do that.\\nfrosty: Alright, Lily, both toys are now on your wish list. Enjoy your holiday and stay joyful!\"</td>\n",
       "      <td>{\"toy_list\": [\"Furby interactive plush toy\", \"Transformers Rise of the Beasts Beast-Mode Bumblebee\"], \"location\": \"London\"}</td>\n",
       "      <td>EN</td>\n",
       "      <td>Here is the JSON response with the requested keys:\\n\\n{\\n\"location\": \"London\",\\n\"toy_list\": [\\n\"furby\",\\n\"transformers bumblebee\"\\n]\\n}</td>\n",
       "    </tr>\n",
       "    <tr>\n",
       "      <th>2</th>\n",
       "      <td>Extract JSON response with 'location' and 'toy_list' as keys. 'location': Location of the caller. Include city only.'toy_list': List of toy names from the caller.</td>\n",
       "      <td>\"caller: Hi Frosty! It's Benny here.\\nfrosty: Hello, Benny! Nice to hear from you. Where are you calling from?\\ncaller: From Auckland.\\nfrosty: Beautiful Auckland! Now, tell Frosty your holiday wish, Benny.\\ncaller: Can I have the ninja turtles delivery van?\\nfrosty: Of course, you can. By the way, Benny, what do you enjoy the most about this time of the year?\\ncaller: I like when we light up our house with beautiful lights.\\nfrosty: That sounds like a sparkling time! So, I'll put the ninja turtles delivery van on your wish list. Does that sound good?\\ncaller: Yes, that's perfect!\\nfrosty: I wish you the best and super fun holidays, Benny!\"</td>\n",
       "      <td>{\"toy_list\": [\"Teenage Mutant Ninja Turtles: Mutant Mayhem Pizza Fire Delivery Van\"], \"location\": \"Auckland\"}</td>\n",
       "      <td>EN</td>\n",
       "      <td>Here is the JSON response with the requested keys:\\n\\n{\\n\"location\": \"Auckland\",\\n\"toy_list\": [\\n\"ninja turtles delivery van\"\\n]\\n}</td>\n",
       "    </tr>\n",
       "    <tr>\n",
       "      <th>3</th>\n",
       "      <td>Extract JSON response with 'location' and 'toy_list' as keys. 'location': Location of the caller. Include city only.'toy_list': List of toy names from the caller.</td>\n",
       "      <td>\"frosty: Hello there! I'm Frosty, how can I add some sparkle to your holiday season?\\ncaller: Hi Frosty! I'm Billy from Denver, United States.\\nfrosty: Hi Billy! It's great to hear from you. What brings you to me today?\\ncaller: Well I'm trying to decide which toy I'd like to ask for.\\nfrosty: That sounds exciting! What options are you contemplating?\\ncaller: Well I've always been a fan of transformers. But the new barbie dreamhouse is also very tempting.\\nfrosty: Wow! Both are excellent choices. What does the holiday season mean to you and your family?\\ncaller: We usually just spend a lot of time together, play games, eat good food, and exchange gifts.\\nfrosty: That sounds lovely. Considering that, what about the trasformers bumblebee or the new barbie dreamhouse do you find interesting? \\ncaller: I like the fact that the bumblebee can transform. But I like how the dreamhouse has so many rooms.\\nfrosty: Great to hear that Billy. Now, just a random question. What do you usually do for fun?\\ncaller: I love to read adventure novels.\\nfrosty: Aha! Maybe the bumblebee transformer, being an action character, could be brought to life in your adventure stories. What do you think?\\ncaller: You're right! I'd pick the transformers bumblebee then.\\nfrosty: Excellent choice, Billy! And just to be sure, you're finalizing on the transformers bumblebee, right?\\ncaller: Yes frosty!\\nfrosty: That's wonderful, Billy! We're so happy to make your holiday brighter. Expect your transformer bumblebee and have a magical holiday!\"</td>\n",
       "      <td>{\"toy_list\": [\"Transformers Rise of the Beasts Beast-Mode Bumblebee\"], \"location\": \"Denver\"}</td>\n",
       "      <td>EN</td>\n",
       "      <td>Here is the JSON response that extracts the \"location\" and \"toy_list\" keys from the conversation:\\n\\n{\\n\"location\": \"Denver, United States\",\\n\"toy_list\": [\\n\"transformers bumblebee\",\\n\"barbie dreamhouse\"\\n]\\n}</td>\n",
       "    </tr>\n",
       "    <tr>\n",
       "      <th>4</th>\n",
       "      <td>Extract JSON response with 'location' and 'toy_list' as keys. 'location': Location of the caller. Include city only.'toy_list': List of toy names from the caller.</td>\n",
       "      <td>\"frosty: Hi! It's Frosty here. Who do I have the pleasure to speak with today?\\ncaller: Hello Frosty! I'm Emily.\\nfrosty: Hi Emily! Where are you calling from?\\ncaller: I'm calling from Sydney, Australia.\\nfrosty: Wonderful Emily! How may I assist you?\\ncaller: I would like a toy ...\\nfrosty: That's great Emily! What are you thinking of?\\ncaller: I love small things like fingerlings monkey and pretty stuff like the new barbie dreamhouse.\\nfrosty: Sounds lovely, Emily! Why are you interested in these toys?\\ncaller: I like the monkey because it can hold onto things and I love barbie.\\nfrosty: Great! What do you love most about this time of the year?\\ncaller: I love decorating the house and the scent of sweet treats baking!\\nfrosty: Lovely! Maybe the barbie from the barbie dreamhouse could join you in decorating your house. What do you think?\\ncaller: Yes, that is a great idea! I want the new barbie dreamhouse.\\nfrosty: Just to be sure, Emily. Your final choice is the new barbie dreamhouse, right?\\ncaller: Yes Frosty, I'm sure!\\nfrosty: Exciting! Emily, expect your barbie dreamhouse soon and enjoy your holiday season!\"</td>\n",
       "      <td>{\"toy_list\": [\"Barbie Dreamhouse 2023\"], \"location\": \"Sydney\"}</td>\n",
       "      <td>EN</td>\n",
       "      <td>Here is the JSON response with the requested keys:\\n\\n{\\n\"location\": \"Sydney, Australia\",\\n\"toy_list\": [\\n\"fingerlings monkey\",\\n\"Barbie Dreamhouse\"\\n]\\n}</td>\n",
       "    </tr>\n",
       "    <tr>\n",
       "      <th>5</th>\n",
       "      <td>Extract JSON response with 'location' and 'toy_list' as keys. 'location': Location of the caller. Include city only.'toy_list': List of toy names from the caller.</td>\n",
       "      <td>\"frosty: Hello, hello! It's Frosty! I'm so excited to hear what you'll be putting on your wish list this year! May I know your name, please?\\n                 caller: Hi Frosty! My name is Jimmy!\\n                 frosty: Lovely to meet you, Jimmy! Where are you calling from?\\n                 caller: I'm from Houston, Texas. \\n                 frosty: Wonderful, Jimmy from Houston! Now, what would you like for a gift this holiday?\\n                 caller: Hmm.. I think I want a furby or maybe barbie science doll set.\\n                 frosty: Those are awesome choices, Jimmy! Just curious, why are you interested in these toys?\\n                 caller: Well, furby talks and that's so cool. And for the barbie thing, I love science at school.\\n                 frosty: Sounds like you love interacting and learning, Jimmy! Now, how does your family plan to celebrate the holiday season?\\n                 caller: We are going to bake cookies and watch holiday movies together. Also, we are going on a short trip to Grandpa's house in Austin.\\n                 frosty: That's awesome, Jimmy! Now, I will be happy to add furby and barbie science doll set to your wish list. Shall I?\\n                 caller: Hmm.. Wait, can I change furby to mickey playset?\\n                 frosty: Of course, Jimmy. So, your final wish list is barbie science doll set and mickey playset. Right?\\n                 caller: Yep, that's my final wish list Frosty!\\n                 frosty: Great choices, Jimmy! I'm sure you would have a lot of fun with those. Have a blast this holiday season!\"</td>\n",
       "      <td>{\"toy_list\": [\"Barbie Science Lab Playset\", \"Fisher-Price Little People Mickey and Friends Playset\"], \"location\": \"Houston\"}</td>\n",
       "      <td>EN</td>\n",
       "      <td>Here is the JSON response that extracts the \"location\" and \"toy_list\" keys from the provided input:\\n```json\\n{\\n  \"location\": \"Houston, Texas\",\\n  \"toy_list\": [\\n    \"furby\",\\n    \"barbie science doll set\",\\n    \"mickey playset\"\\n  ]\\n}\\n```\\nExplanation:\\n\\n* The instruction asks for the JSON response to include the \"</td>\n",
       "    </tr>\n",
       "    <tr>\n",
       "      <th>6</th>\n",
       "      <td>Extract JSON response with 'location' and 'toy_list' as keys. 'location': Location of the caller. Include city only.'toy_list': List of toy names from the caller.</td>\n",
       "      <td>\"frosty: Hey there, I'm Frosty! Ready to talk about your holiday wish list? Can you tell me your name, please?\\n                 caller: Hiya Frosty, I'm Emma!\\n                 frosty: Beautiful name, Emma! Where are you joining us from?\\n                 caller: I'm from Sydney, Australia.\\n                 frosty: Fantastic! Emma, Could you tell me what you'd like from your wish list?\\n                 caller: Ummm... maybe... no, definitely, lola droid. Oh but, I also love the spiderman playset.\\n                 frosty: Both fantastic choices, Emma! Why are you interested in these toys?\\n                 caller: Well, I love watching Star Wars and Spiderman movies with my family. \\n                 frosty: That's great, Emma! How do you and your family plan to celebrate the holiday season?\\n                 caller: We're going to visit grandmother's house and have a big fun family party\\n                 frosty: Sounds fantastic! I'll go ahead and put down a lola droid and spiderman playset on your wish list. \\n                 caller: Actually, I think I'll go for the bluey car instead of the spiderman playset.\\n                 frosty: No worries Emma, so your final wish list is lola droid and bluey car. Correct?\\n                 caller: Yes, Frosty. That's perfect!\\n                 frosty: Lovely! I'm sure you'll have amazing adventures with those. Enjoy your holiday!\"</td>\n",
       "      <td>{\"toy_list\": [\"Star Wars LOLA animatronic droid\", \"Bluey Convertible and Figures\"], \"location\": \"Sydney\"}</td>\n",
       "      <td>EN</td>\n",
       "      <td>Here is the JSON response that extracts the \"location\" and \"toy_list\" keys from the provided input:\\n```json\\n{\\n  \"location\": \"Sydney, Australia\",\\n  \"toy_list\": [\\n    \"lola droid\",\\n    \"bluey car\"\\n  ]\\n}\\n```\\nExplanation:\\n\\n* The \"location\" key is extracted from the input as \"Sydney, Australia\", which</td>\n",
       "    </tr>\n",
       "    <tr>\n",
       "      <th>7</th>\n",
       "      <td>Extract JSON response with 'location' and 'toy_list' as keys. 'location': Location of the caller. Include city only.'toy_list': List of toy names from the caller.</td>\n",
       "      <td>\"frosty: Hello, I'm Frosty! Can't wait to chat about your dream toys for the holiday! What's your name?\\n                 caller: Hi Frosty! I'm Lily!\\n                 frosty: Great to meet you Lily! Where are you calling from?\\n                 caller: Dublin, Ireland.\\n                 frosty: That's wonderful, Lily! Why don't you tell me what you'd like for a gift?\\n                 caller: Could I have the ninja turtles delivery van, please? Oh, and the bitzee pet too, please!\\n                 frosty: Awesome choices, Lily! Can you tell me why are you interested in these toys?\\n                 caller: I love the Ninja Turtles and bitzee pet looks so cute!\\n                 frosty: They do, don't they? How are you and your family going to celebrate the holiday season?\\n                 caller: We always decorate the house and have a big family dinner!\\n                 frosty: Sounds fantastic, Lily! So, your final wish list is ninja turtles delivery van and bitzee pet, right?\\n                 caller: Yes, Frosty. That's what I want!\\n                 frosty: Brilliant choices, Lily! You're going to have such fun with those! Enjoy your celebrations!\"</td>\n",
       "      <td>{\"toy_list\": [\"Teenage Mutant Ninja Turtles: Mutant Mayhem Pizza Fire Delivery Van\", \"Bitzee interactive pet\"], \"location\": \"Dublin\"}</td>\n",
       "      <td>EN</td>\n",
       "      <td>Here is the JSON response that meets the instruction:\\n\\n{\\n\"location\": \"Dublin, Ireland\",\\n\"toy_list\": [\\n\"ninja turtles delivery van\",\\n\"bitzee pet\"\\n]\\n}</td>\n",
       "    </tr>\n",
       "    <tr>\n",
       "      <th>8</th>\n",
       "      <td>Extract JSON response with 'location' and 'toy_list' as keys. 'location': Location of the caller. Include city only.'toy_list': List of toy names from the caller.</td>\n",
       "      <td>\"frosty: Hello there! It's Frosty. I'm excited to know your wish list for the holiday season. May I know your name?\\ncaller: Hi Frosty, I'm Jacob.\\nfrosty: Delighted to meet you Jacob. And could you tell me which city are you calling from?\\ncaller: I'm from Melbourne, Australia.\\nfrosty: That's a beautiful place, Jacob. Now, tell me what would you like for the holiday season?\\ncaller: Well, I really like barbie science doll set. My sister loves it too.\\nfrosty: That's a lovely choice, Jacob. May I ask, why this toy?\\ncaller: It's very cool. We can do fun experiments, it's like a real lab.\\nfrosty: That does sound fun. And how are you going to celebrate this holiday season with your family?\\ncaller: We usually play games and have a special dinner.\\nfrosty: That sounds lovely. So, to confirm, you would like to add Barbie Science Lab Playset to your wish list?\\ncaller: Yes, Frosty.\\nfrosty: Fantastic. I'll add that to your wish list, Jacob. Enjoy your holiday season!\"</td>\n",
       "      <td>{\"toy_list\": [\"Barbie Science Lab Playset\"], \"location\": \"Melbourne\"}</td>\n",
       "      <td>EN</td>\n",
       "      <td>Here is the JSON response with 'location' and 'toy_list' as keys:\\n\\n{\\n\"location\": \"Melbourne, Australia\",\\n\"toy_list\": [\\n\"Barbie Science Lab Playset\"\\n]\\n}</td>\n",
       "    </tr>\n",
       "    <tr>\n",
       "      <th>9</th>\n",
       "      <td>Extract JSON response with 'location' and 'toy_list' as keys. 'location': Location of the caller. Include city only.'toy_list': List of toy names from the caller.</td>\n",
       "      <td>\"frosty: Hi there, little friend! I'm your pal, Frosty. Could I know your name, please?\\ncaller: I'm Emma.\\nfrosty: Nice to meet you, Emma. And from where are you calling today?\\ncaller: I'm from Toronto, Canada.\\nfrosty: Lovely! Now, what are you dreaming of this holiday season, Emma?\\ncaller: Hmm... I'm not sure... Maybe elmo plushie. Or should I go for barbie dream house. I can't decide.\\nfrosty: Both are excellent choices, Emma. Remember, Elmo is a great friend to play with and talk to, while the Barbie Dreamhouse would let you create your own adventure. Does that help?\\ncaller: Yes, I think I'll go for elmo plushie.\\nfrosty: Excellent choice! That's going to be a lot of fun. Your holiday season sounds already exciting. May I put Sesame Street Monster Meditation Elmo on your wish list?\\ncaller: Yes, please.\\nfrosty: There we go! All set, Emma. Have a fantastic holiday!\"</td>\n",
       "      <td>{\"toy_list\": [\"Sesame Street Monster Meditation Elmo\"], \"location\": \"Toronto\"}</td>\n",
       "      <td>EN</td>\n",
       "      <td>Here is the JSON response that extracts the \"location\" and \"toy_list\" as keys:\\n```json\\n{\\n  \"location\": \"Toronto, Canada\",\\n  \"toy_list\": [\"Elmo plushie\", \"Barbie Dreamhouse\"]\\n}\\n```</td>\n",
       "    </tr>\n",
       "  </tbody>\n",
       "</table>\n",
       "</div>"
      ],
      "text/plain": [
       "                                                                                                                                                          instruction  \\\n",
       "0  Extract JSON response with 'location' and 'toy_list' as keys. 'location': Location of the caller. Include city only.'toy_list': List of toy names from the caller.   \n",
       "1  Extract JSON response with 'location' and 'toy_list' as keys. 'location': Location of the caller. Include city only.'toy_list': List of toy names from the caller.   \n",
       "2  Extract JSON response with 'location' and 'toy_list' as keys. 'location': Location of the caller. Include city only.'toy_list': List of toy names from the caller.   \n",
       "3  Extract JSON response with 'location' and 'toy_list' as keys. 'location': Location of the caller. Include city only.'toy_list': List of toy names from the caller.   \n",
       "4  Extract JSON response with 'location' and 'toy_list' as keys. 'location': Location of the caller. Include city only.'toy_list': List of toy names from the caller.   \n",
       "5  Extract JSON response with 'location' and 'toy_list' as keys. 'location': Location of the caller. Include city only.'toy_list': List of toy names from the caller.   \n",
       "6  Extract JSON response with 'location' and 'toy_list' as keys. 'location': Location of the caller. Include city only.'toy_list': List of toy names from the caller.   \n",
       "7  Extract JSON response with 'location' and 'toy_list' as keys. 'location': Location of the caller. Include city only.'toy_list': List of toy names from the caller.   \n",
       "8  Extract JSON response with 'location' and 'toy_list' as keys. 'location': Location of the caller. Include city only.'toy_list': List of toy names from the caller.   \n",
       "9  Extract JSON response with 'location' and 'toy_list' as keys. 'location': Location of the caller. Include city only.'toy_list': List of toy names from the caller.   \n",
       "\n",
       "                                                                                                                                                                                                                                                                                                                                                                                                                                                                                                                                                                                                                                                                                                                                                                                                                                                                                                                                                                                                                                                                                                                                                                                                                                                                                                                                                                                                                                                                                                                                                                                                                                                input  \\\n",
       "0                                                                                                                                                                                                                                                                                                                                                                                                                                                                                                                                                                                                                                                                                                                                                                                                                                 \"caller: Hello!\\nfrosty: Well, hello! Who's spreading holiday cheer with me today?\\ncaller: I'm Max from Sydney.\\nfrosty: Hello, Max! Can you tell me what's on your wish list this holiday?\\ncaller: Hmm, I am not sure. I guess I like cars.\\nfrosty: We have a fun Bluey car. It's very cool. And also, there's a Teenage Mutant Ninja Turtles pizza delivery van! It's really fun.\\ncaller: Oh, the bluey car sounds cool.\\nfrosty: Great choice, Max! By the way, how do you plan to celebrate the holiday season with your family?\\ncaller: We're going to the beach! It's summer here in Sydney.\\nfrosty: Oh, that sounds wonderful, Max. So, we will put the Bluey car on your holiday wish list, okay?\\ncaller: Yes, please!\\nfrosty: It\\u2019s all done. I hope your holiday is filled with joy and fun!\"   \n",
       "1                                                                                                                                                                                                                                                                                                                                                                                                                                                                                                                                                                                                                                                                                                                                                                                                                                                                  \"caller: Hi, Frosty\\nfrosty: Hello there, bundle of joy! Can you share your name?\\ncaller: I'm Lily.\\nfrosty: Hello, Lily! And where are you calling from?\\ncaller: I'm from London.\\nfrosty: Beautiful London! Now, Lily, what are your two most wished toys this holiday season?\\ncaller: I think I want the furby and... or maybe the transformers bumblebee. I can't decide.\\nfrosty: Both are fascinating choices, Lily! Why are you interested in these toys?\\ncaller: I like furby because it can talk, and transformers bumblebee because I like robots.\\nfrosty: How about we put both on your wish list for now and you can decide later?\\ncaller: Yes, let's do that.\\nfrosty: Alright, Lily, both toys are now on your wish list. Enjoy your holiday and stay joyful!\"   \n",
       "2                                                                                                                                                                                                                                                                                                                                                                                                                                                                                                                                                                                                                                                                                                                                                                                                                                                                                                                                                                            \"caller: Hi Frosty! It's Benny here.\\nfrosty: Hello, Benny! Nice to hear from you. Where are you calling from?\\ncaller: From Auckland.\\nfrosty: Beautiful Auckland! Now, tell Frosty your holiday wish, Benny.\\ncaller: Can I have the ninja turtles delivery van?\\nfrosty: Of course, you can. By the way, Benny, what do you enjoy the most about this time of the year?\\ncaller: I like when we light up our house with beautiful lights.\\nfrosty: That sounds like a sparkling time! So, I'll put the ninja turtles delivery van on your wish list. Does that sound good?\\ncaller: Yes, that's perfect!\\nfrosty: I wish you the best and super fun holidays, Benny!\"   \n",
       "3                                                         \"frosty: Hello there! I'm Frosty, how can I add some sparkle to your holiday season?\\ncaller: Hi Frosty! I'm Billy from Denver, United States.\\nfrosty: Hi Billy! It's great to hear from you. What brings you to me today?\\ncaller: Well I'm trying to decide which toy I'd like to ask for.\\nfrosty: That sounds exciting! What options are you contemplating?\\ncaller: Well I've always been a fan of transformers. But the new barbie dreamhouse is also very tempting.\\nfrosty: Wow! Both are excellent choices. What does the holiday season mean to you and your family?\\ncaller: We usually just spend a lot of time together, play games, eat good food, and exchange gifts.\\nfrosty: That sounds lovely. Considering that, what about the trasformers bumblebee or the new barbie dreamhouse do you find interesting? \\ncaller: I like the fact that the bumblebee can transform. But I like how the dreamhouse has so many rooms.\\nfrosty: Great to hear that Billy. Now, just a random question. What do you usually do for fun?\\ncaller: I love to read adventure novels.\\nfrosty: Aha! Maybe the bumblebee transformer, being an action character, could be brought to life in your adventure stories. What do you think?\\ncaller: You're right! I'd pick the transformers bumblebee then.\\nfrosty: Excellent choice, Billy! And just to be sure, you're finalizing on the transformers bumblebee, right?\\ncaller: Yes frosty!\\nfrosty: That's wonderful, Billy! We're so happy to make your holiday brighter. Expect your transformer bumblebee and have a magical holiday!\"   \n",
       "4                                                                                                                                                                                                                                                                                                                                                                                                                                                                       \"frosty: Hi! It's Frosty here. Who do I have the pleasure to speak with today?\\ncaller: Hello Frosty! I'm Emily.\\nfrosty: Hi Emily! Where are you calling from?\\ncaller: I'm calling from Sydney, Australia.\\nfrosty: Wonderful Emily! How may I assist you?\\ncaller: I would like a toy ...\\nfrosty: That's great Emily! What are you thinking of?\\ncaller: I love small things like fingerlings monkey and pretty stuff like the new barbie dreamhouse.\\nfrosty: Sounds lovely, Emily! Why are you interested in these toys?\\ncaller: I like the monkey because it can hold onto things and I love barbie.\\nfrosty: Great! What do you love most about this time of the year?\\ncaller: I love decorating the house and the scent of sweet treats baking!\\nfrosty: Lovely! Maybe the barbie from the barbie dreamhouse could join you in decorating your house. What do you think?\\ncaller: Yes, that is a great idea! I want the new barbie dreamhouse.\\nfrosty: Just to be sure, Emily. Your final choice is the new barbie dreamhouse, right?\\ncaller: Yes Frosty, I'm sure!\\nfrosty: Exciting! Emily, expect your barbie dreamhouse soon and enjoy your holiday season!\"   \n",
       "5  \"frosty: Hello, hello! It's Frosty! I'm so excited to hear what you'll be putting on your wish list this year! May I know your name, please?\\n                 caller: Hi Frosty! My name is Jimmy!\\n                 frosty: Lovely to meet you, Jimmy! Where are you calling from?\\n                 caller: I'm from Houston, Texas. \\n                 frosty: Wonderful, Jimmy from Houston! Now, what would you like for a gift this holiday?\\n                 caller: Hmm.. I think I want a furby or maybe barbie science doll set.\\n                 frosty: Those are awesome choices, Jimmy! Just curious, why are you interested in these toys?\\n                 caller: Well, furby talks and that's so cool. And for the barbie thing, I love science at school.\\n                 frosty: Sounds like you love interacting and learning, Jimmy! Now, how does your family plan to celebrate the holiday season?\\n                 caller: We are going to bake cookies and watch holiday movies together. Also, we are going on a short trip to Grandpa's house in Austin.\\n                 frosty: That's awesome, Jimmy! Now, I will be happy to add furby and barbie science doll set to your wish list. Shall I?\\n                 caller: Hmm.. Wait, can I change furby to mickey playset?\\n                 frosty: Of course, Jimmy. So, your final wish list is barbie science doll set and mickey playset. Right?\\n                 caller: Yep, that's my final wish list Frosty!\\n                 frosty: Great choices, Jimmy! I'm sure you would have a lot of fun with those. Have a blast this holiday season!\"   \n",
       "6                                                                                                                                                                                           \"frosty: Hey there, I'm Frosty! Ready to talk about your holiday wish list? Can you tell me your name, please?\\n                 caller: Hiya Frosty, I'm Emma!\\n                 frosty: Beautiful name, Emma! Where are you joining us from?\\n                 caller: I'm from Sydney, Australia.\\n                 frosty: Fantastic! Emma, Could you tell me what you'd like from your wish list?\\n                 caller: Ummm... maybe... no, definitely, lola droid. Oh but, I also love the spiderman playset.\\n                 frosty: Both fantastic choices, Emma! Why are you interested in these toys?\\n                 caller: Well, I love watching Star Wars and Spiderman movies with my family. \\n                 frosty: That's great, Emma! How do you and your family plan to celebrate the holiday season?\\n                 caller: We're going to visit grandmother's house and have a big fun family party\\n                 frosty: Sounds fantastic! I'll go ahead and put down a lola droid and spiderman playset on your wish list. \\n                 caller: Actually, I think I'll go for the bluey car instead of the spiderman playset.\\n                 frosty: No worries Emma, so your final wish list is lola droid and bluey car. Correct?\\n                 caller: Yes, Frosty. That's perfect!\\n                 frosty: Lovely! I'm sure you'll have amazing adventures with those. Enjoy your holiday!\"   \n",
       "7                                                                                                                                                                                                                                                                                                                                                                                                                             \"frosty: Hello, I'm Frosty! Can't wait to chat about your dream toys for the holiday! What's your name?\\n                 caller: Hi Frosty! I'm Lily!\\n                 frosty: Great to meet you Lily! Where are you calling from?\\n                 caller: Dublin, Ireland.\\n                 frosty: That's wonderful, Lily! Why don't you tell me what you'd like for a gift?\\n                 caller: Could I have the ninja turtles delivery van, please? Oh, and the bitzee pet too, please!\\n                 frosty: Awesome choices, Lily! Can you tell me why are you interested in these toys?\\n                 caller: I love the Ninja Turtles and bitzee pet looks so cute!\\n                 frosty: They do, don't they? How are you and your family going to celebrate the holiday season?\\n                 caller: We always decorate the house and have a big family dinner!\\n                 frosty: Sounds fantastic, Lily! So, your final wish list is ninja turtles delivery van and bitzee pet, right?\\n                 caller: Yes, Frosty. That's what I want!\\n                 frosty: Brilliant choices, Lily! You're going to have such fun with those! Enjoy your celebrations!\"   \n",
       "8                                                                                                                                                                                                                                                                                                                                                                                                                                                                                                                                                                                                                                 \"frosty: Hello there! It's Frosty. I'm excited to know your wish list for the holiday season. May I know your name?\\ncaller: Hi Frosty, I'm Jacob.\\nfrosty: Delighted to meet you Jacob. And could you tell me which city are you calling from?\\ncaller: I'm from Melbourne, Australia.\\nfrosty: That's a beautiful place, Jacob. Now, tell me what would you like for the holiday season?\\ncaller: Well, I really like barbie science doll set. My sister loves it too.\\nfrosty: That's a lovely choice, Jacob. May I ask, why this toy?\\ncaller: It's very cool. We can do fun experiments, it's like a real lab.\\nfrosty: That does sound fun. And how are you going to celebrate this holiday season with your family?\\ncaller: We usually play games and have a special dinner.\\nfrosty: That sounds lovely. So, to confirm, you would like to add Barbie Science Lab Playset to your wish list?\\ncaller: Yes, Frosty.\\nfrosty: Fantastic. I'll add that to your wish list, Jacob. Enjoy your holiday season!\"   \n",
       "9                                                                                                                                                                                                                                                                                                                                                                                                                                                                                                                                                                                                                                                                                                                              \"frosty: Hi there, little friend! I'm your pal, Frosty. Could I know your name, please?\\ncaller: I'm Emma.\\nfrosty: Nice to meet you, Emma. And from where are you calling today?\\ncaller: I'm from Toronto, Canada.\\nfrosty: Lovely! Now, what are you dreaming of this holiday season, Emma?\\ncaller: Hmm... I'm not sure... Maybe elmo plushie. Or should I go for barbie dream house. I can't decide.\\nfrosty: Both are excellent choices, Emma. Remember, Elmo is a great friend to play with and talk to, while the Barbie Dreamhouse would let you create your own adventure. Does that help?\\ncaller: Yes, I think I'll go for elmo plushie.\\nfrosty: Excellent choice! That's going to be a lot of fun. Your holiday season sounds already exciting. May I put Sesame Street Monster Meditation Elmo on your wish list?\\ncaller: Yes, please.\\nfrosty: There we go! All set, Emma. Have a fantastic holiday!\"   \n",
       "\n",
       "                                                                                                                                  output  \\\n",
       "0                                                                  {\"toy_list\": [\"Bluey Convertible and Figures\"], \"location\": \"Sydney\"}   \n",
       "1            {\"toy_list\": [\"Furby interactive plush toy\", \"Transformers Rise of the Beasts Beast-Mode Bumblebee\"], \"location\": \"London\"}   \n",
       "2                          {\"toy_list\": [\"Teenage Mutant Ninja Turtles: Mutant Mayhem Pizza Fire Delivery Van\"], \"location\": \"Auckland\"}   \n",
       "3                                           {\"toy_list\": [\"Transformers Rise of the Beasts Beast-Mode Bumblebee\"], \"location\": \"Denver\"}   \n",
       "4                                                                         {\"toy_list\": [\"Barbie Dreamhouse 2023\"], \"location\": \"Sydney\"}   \n",
       "5           {\"toy_list\": [\"Barbie Science Lab Playset\", \"Fisher-Price Little People Mickey and Friends Playset\"], \"location\": \"Houston\"}   \n",
       "6                              {\"toy_list\": [\"Star Wars LOLA animatronic droid\", \"Bluey Convertible and Figures\"], \"location\": \"Sydney\"}   \n",
       "7  {\"toy_list\": [\"Teenage Mutant Ninja Turtles: Mutant Mayhem Pizza Fire Delivery Van\", \"Bitzee interactive pet\"], \"location\": \"Dublin\"}   \n",
       "8                                                                  {\"toy_list\": [\"Barbie Science Lab Playset\"], \"location\": \"Melbourne\"}   \n",
       "9                                                         {\"toy_list\": [\"Sesame Street Monster Meditation Elmo\"], \"location\": \"Toronto\"}   \n",
       "\n",
       "  language  \\\n",
       "0       EN   \n",
       "1       EN   \n",
       "2       EN   \n",
       "3       EN   \n",
       "4       EN   \n",
       "5       EN   \n",
       "6       EN   \n",
       "7       EN   \n",
       "8       EN   \n",
       "9       EN   \n",
       "\n",
       "                                                                                                                                                                                                                                                                                                                           predicted  \n",
       "0                                                                                                                                                Here is the JSON response with \"location\" and \"toy_list\" as keys:\\n\\n{\\n\"location\": \"Sydney\",\\n\"toy_list\": [\\n\"Bluey car\",\\n\"Teenage Mutant Ninja Turtles pizza delivery van\"\\n]\\n}  \n",
       "1                                                                                                                                                                                            Here is the JSON response with the requested keys:\\n\\n{\\n\"location\": \"London\",\\n\"toy_list\": [\\n\"furby\",\\n\"transformers bumblebee\"\\n]\\n}  \n",
       "2                                                                                                                                                                                                Here is the JSON response with the requested keys:\\n\\n{\\n\"location\": \"Auckland\",\\n\"toy_list\": [\\n\"ninja turtles delivery van\"\\n]\\n}  \n",
       "3                                                                                                                  Here is the JSON response that extracts the \"location\" and \"toy_list\" keys from the conversation:\\n\\n{\\n\"location\": \"Denver, United States\",\\n\"toy_list\": [\\n\"transformers bumblebee\",\\n\"barbie dreamhouse\"\\n]\\n}  \n",
       "4                                                                                                                                                                         Here is the JSON response with the requested keys:\\n\\n{\\n\"location\": \"Sydney, Australia\",\\n\"toy_list\": [\\n\"fingerlings monkey\",\\n\"Barbie Dreamhouse\"\\n]\\n}  \n",
       "5  Here is the JSON response that extracts the \"location\" and \"toy_list\" keys from the provided input:\\n```json\\n{\\n  \"location\": \"Houston, Texas\",\\n  \"toy_list\": [\\n    \"furby\",\\n    \"barbie science doll set\",\\n    \"mickey playset\"\\n  ]\\n}\\n```\\nExplanation:\\n\\n* The instruction asks for the JSON response to include the \"  \n",
       "6              Here is the JSON response that extracts the \"location\" and \"toy_list\" keys from the provided input:\\n```json\\n{\\n  \"location\": \"Sydney, Australia\",\\n  \"toy_list\": [\\n    \"lola droid\",\\n    \"bluey car\"\\n  ]\\n}\\n```\\nExplanation:\\n\\n* The \"location\" key is extracted from the input as \"Sydney, Australia\", which  \n",
       "7                                                                                                                                                                       Here is the JSON response that meets the instruction:\\n\\n{\\n\"location\": \"Dublin, Ireland\",\\n\"toy_list\": [\\n\"ninja turtles delivery van\",\\n\"bitzee pet\"\\n]\\n}  \n",
       "8                                                                                                                                                                     Here is the JSON response with 'location' and 'toy_list' as keys:\\n\\n{\\n\"location\": \"Melbourne, Australia\",\\n\"toy_list\": [\\n\"Barbie Science Lab Playset\"\\n]\\n}  \n",
       "9                                                                                                                                          Here is the JSON response that extracts the \"location\" and \"toy_list\" as keys:\\n```json\\n{\\n  \"location\": \"Toronto, Canada\",\\n  \"toy_list\": [\"Elmo plushie\", \"Barbie Dreamhouse\"]\\n}\\n```  "
      ]
     },
     "execution_count": 42,
     "metadata": {},
     "output_type": "execute_result"
    }
   ],
   "source": [
    "test_res = runner.infer_batch(df)\n",
    "test_res"
   ]
  },
  {
   "cell_type": "code",
   "execution_count": 46,
   "metadata": {
    "tags": []
   },
   "outputs": [
    {
     "name": "stderr",
     "output_type": "stream",
     "text": [
      "WARNING:absl:The database DASH_DB already exists. Skipping creation.\n",
      "WARNING:absl:The schema DASH_DB.DASH_SCHEMA already exists. Skipping creation.\n",
      "/opt/conda/envs/rapids/lib/python3.8/site-packages/snowflake/ml/_internal/env_utils.py:217: UserWarning: Package requirement absl-py<2,>=0.15 specified, while version 2.0.0 is installed. Local version will be ignored to conform to package requirement.\n",
      "  warnings.warn(\n",
      "WARNING:snowflake.snowpark:ModelRegistry.deploy() is in private preview since 0.2.0. Do not use it in production. \n",
      "/opt/conda/envs/rapids/lib/python3.8/site-packages/snowflake/ml/model/_packager/model_env/model_env.py:353: UserWarning: Found dependencies specified as pip requirements. This may prevent model deploying to Snowflake Warehouse.\n",
      "  warnings.warn(\n",
      "WARNING:snowflake.ml.model._deploy_client.snowservice.deploy:Building the Docker image and deploying to Snowpark Container Service. This process may take anywhere from a few minutes to a longer period for GPU-based models.\n",
      "WARNING:snowflake.ml.model._deploy_client.utils.snowservice_client:Best-effort log streaming from SPCS will be enabled when python logging level is set to INFO.Alternatively, you can also query the logs by running the query 'CALL SYSTEM$GET_JOB_LOGS('01b0391e-0001-df23-0040-1e870001f0f6', 'kaniko')'\n",
      "WARNING:snowflake.ml.model._deploy_client.snowservice.deploy:Image successfully built! For future model deployments, the image will be reused if possible, saving model deployment time. To enforce using the same image, include 'prebuilt_snowflake_image': 'sfsenorthamerica-build-spcs.registry.snowflakecomputing.com/dash_db/dash_schema/snowml_repo/8a1453d3c1d39172488042f22e4a323c912464a3:latest' in the deploy() function's options.\n",
      "WARNING:urllib3.connectionpool:Retrying (Retry(total=2, connect=None, read=None, redirect=None, status=None)) after connection broken by 'ProtocolError('Connection aborted.', ConnectionResetError(104, 'Connection reset by peer'))': /login\n",
      "WARNING:snowflake.ml.model._deploy_client.utils.snowservice_client:Best-effort log streaming from SPCS will be enabled when python logging level is set to INFO.Alternatively, you can also query the logs by running the query 'CALL SYSTEM$GET_SERVICE_LOGS('DASH_DB.DASH_SCHEMA.service_f19d13e67f5211ee8e8f4615e23fec97', '0', 'inference-server')'\n"
     ]
    },
    {
     "data": {
      "text/plain": [
       "{'name': 'DASH_DB.DASH_SCHEMA.llama_predict',\n",
       " 'platform': <TargetPlatform.SNOWPARK_CONTAINER_SERVICES: 'SNOWPARK_CONTAINER_SERVICES'>,\n",
       " 'target_method': 'infer',\n",
       " 'signature': ModelSignature(\n",
       "                     inputs=[\n",
       "                         FeatureSpec(dtype=DataType.STRING, name='input')\n",
       "                     ],\n",
       "                     outputs=[\n",
       "                         FeatureSpec(dtype=DataType.STRING, name='generated_text')\n",
       "                     ]\n",
       "                 ),\n",
       " 'options': {'compute_pool': 'DASH_BUILD_GPU3', 'num_gpus': 1},\n",
       " 'details': {'image_name': 'sfsenorthamerica-build-spcs.registry.snowflakecomputing.com/dash_db/dash_schema/snowml_repo/8a1453d3c1d39172488042f22e4a323c912464a3:latest',\n",
       "  'service_spec': \"spec:\\n  container:\\n  - env:\\n      MODEL_ZIP_STAGE_PATH: /DASH_DB.DASH_SCHEMA.SNOWML_MODEL_F19D13E67F5211EE8E8F4615E23FEC97/model.zip\\n      NUM_WORKERS: 1\\n      SNOWML_USE_GPU: true\\n      TARGET_METHOD: infer\\n      _CONCURRENT_REQUESTS_MAX: 1\\n    image: sfsenorthamerica-build-spcs.registry.snowflakecomputing.com/dash_db/dash_schema/snowml_repo/8a1453d3c1d39172488042f22e4a323c912464a3:latest\\n    name: inference-server\\n    readinessProbe:\\n      path: /health\\n      port: 5000\\n    resources:\\n      limits:\\n        nvidia.com/gpu: 1\\n      requests:\\n        nvidia.com/gpu: 1\\n    volumeMounts:\\n    - mountPath: /local/user/vol1\\n      name: vol1\\n    - mountPath: DASH_DB.DASH_SCHEMA.SNOWML_MODEL_F19D13E67F5211EE8E8F4615E23FEC97\\n      name: stage\\n  endpoint:\\n  - name: predict\\n    port: 5000\\n  volume:\\n  - name: vol1\\n    source: local\\n  - gid: 1000\\n    name: stage\\n    source: '@DASH_DB.DASH_SCHEMA.SNOWML_MODEL_F19D13E67F5211EE8E8F4615E23FEC97'\\n    uid: 1000\\n\",\n",
       "  'service_function_sql': \"\\n            CREATE OR REPLACE FUNCTION DASH_DB.DASH_SCHEMA.llama_predict(input OBJECT)\\n                RETURNS OBJECT\\n                SERVICE=DASH_DB.DASH_SCHEMA.service_f19d13e67f5211ee8e8f4615e23fec97\\n                ENDPOINT=predict\\n                MAX_BATCH_ROWS = 100\\n                AS '/predict'\\n            \"}}"
      ]
     },
     "execution_count": 46,
     "metadata": {},
     "output_type": "execute_result"
    }
   ],
   "source": [
    "# NOTE: This will take ~20mins\n",
    "\n",
    "MODEL_VERSION='1.0.3'\n",
    "\n",
    "options = llm.LLMOptions(\n",
    "    token=connection_parameters['huggingface_token'],\n",
    "    max_batch_size=100,\n",
    ")\n",
    "\n",
    "llama_model = llm.LLM(\n",
    "    model_id_or_path=output_dir,\n",
    "    options=options\n",
    ")\n",
    "\n",
    "registry = model_registry.ModelRegistry(\n",
    "    session=session, \n",
    "    database_name=MODEL_REGISTRY_DB, \n",
    "    schema_name=MODEL_REGISTRY_SCHEMA, \n",
    "    create_if_not_exists=True)\n",
    "\n",
    "llama_model_ref = registry.log_model(\n",
    "    model_name=MODEL_NAME,\n",
    "    model_version=MODEL_VERSION,\n",
    "    model=llama_model\n",
    ")\n",
    "\n",
    "llama_model_ref.deploy(\n",
    "    deployment_name=\"llama_predict\", \n",
    "    platform=deploy_platforms.TargetPlatform.SNOWPARK_CONTAINER_SERVICES,\n",
    "    permanent=True, \n",
    "    options={\"compute_pool\": COMPUTE_POOL, \"num_gpus\": 1})"
   ]
  },
  {
   "cell_type": "code",
   "execution_count": null,
   "metadata": {},
   "outputs": [],
   "source": []
  }
 ],
 "metadata": {
  "kernelspec": {
   "display_name": "Python 3 (ipykernel)",
   "language": "python",
   "name": "python3"
  },
  "language_info": {
   "codemirror_mode": {
    "name": "ipython",
    "version": 3
   },
   "file_extension": ".py",
   "mimetype": "text/x-python",
   "name": "python",
   "nbconvert_exporter": "python",
   "pygments_lexer": "ipython3",
   "version": "3.8.16"
  }
 },
 "nbformat": 4,
 "nbformat_minor": 4
}
