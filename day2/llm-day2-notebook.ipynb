{
 "cells": [
  {
   "cell_type": "code",
   "execution_count": 1,
   "metadata": {
    "tags": []
   },
   "outputs": [],
   "source": [
    "# !pip install --no-deps --force-reinstall snowflake_ml_python-1.0.12-py3-none-any.whl"
   ]
  },
  {
   "cell_type": "code",
   "execution_count": 2,
   "metadata": {
    "tags": []
   },
   "outputs": [],
   "source": [
    "# !pip install peft transformers tokenizers vllm bitsandbytes datasets absl-py"
   ]
  },
  {
   "cell_type": "markdown",
   "metadata": {},
   "source": [
    "### Import Libraries"
   ]
  },
  {
   "cell_type": "code",
   "execution_count": 3,
   "metadata": {
    "tags": []
   },
   "outputs": [],
   "source": [
    "from snowflake.snowpark.session import Session\n",
    "from snowflake.ml.model.models import llm\n",
    "from snowflake.ml.registry import model_registry\n",
    "from snowflake.ml.model import deploy_platforms\n",
    "import snowflake.ml.playground.finetune as ft_util\n",
    "from snowflake.snowpark import VERSION\n",
    "import snowflake.snowpark.functions as F\n",
    "\n",
    "import sys\n",
    "import os\n",
    "import json\n",
    "import pandas as pd\n",
    "pd.set_option('display.max_colwidth', None)"
   ]
  },
  {
   "cell_type": "markdown",
   "metadata": {},
   "source": [
    "### Establish Secure Connection"
   ]
  },
  {
   "cell_type": "code",
   "execution_count": 4,
   "metadata": {
    "tags": []
   },
   "outputs": [
    {
     "name": "stdout",
     "output_type": "stream",
     "text": [
      "User                        : DASH\n",
      "Role                        : \"DASH_SPCS\"\n",
      "Database                    : \"DASH_DB\"\n",
      "Schema                      : \"DASH_SCHEMA\"\n",
      "Warehouse                   : \"DASH_L\"\n",
      "Snowflake version           : 7.40.0\n",
      "Snowpark for Python version : 1.9.0\n"
     ]
    }
   ],
   "source": [
    "# Create Snowflake Session object\n",
    "connection_parameters = json.load(open('connection.json'))\n",
    "session = Session.builder.configs(connection_parameters).create()\n",
    "session.sql_simplifier_enabled = True\n",
    "\n",
    "snowflake_environment = session.sql('select current_user(), current_version()').collect()\n",
    "snowpark_version = VERSION\n",
    "\n",
    "# Current Environment Details\n",
    "print('User                        : {}'.format(snowflake_environment[0][0]))\n",
    "print('Role                        : {}'.format(session.get_current_role()))\n",
    "print('Database                    : {}'.format(session.get_current_database()))\n",
    "print('Schema                      : {}'.format(session.get_current_schema()))\n",
    "print('Warehouse                   : {}'.format(session.get_current_warehouse()))\n",
    "print('Snowflake version           : {}'.format(snowflake_environment[0][1]))\n",
    "print('Snowpark for Python version : {}.{}.{}'.format(snowpark_version[0],snowpark_version[1],snowpark_version[2]))"
   ]
  },
  {
   "cell_type": "markdown",
   "metadata": {},
   "source": [
    "### Train Llama 2 in Snowpark Container Services"
   ]
  },
  {
   "cell_type": "code",
   "execution_count": 5,
   "metadata": {
    "tags": []
   },
   "outputs": [
    {
     "name": "stdout",
     "output_type": "stream",
     "text": [
      "mkdir: cannot create directory ‘merged_weights_dir’: File exists\n",
      "mkdir: cannot create directory ‘output_weights_dir’: File exists\n"
     ]
    }
   ],
   "source": [
    "!mkdir merged_weights_dir\n",
    "!mkdir output_weights_dir"
   ]
  },
  {
   "cell_type": "markdown",
   "metadata": {},
   "source": [
    "#### Load Training Dataset"
   ]
  },
  {
   "cell_type": "code",
   "execution_count": 6,
   "metadata": {
    "tags": []
   },
   "outputs": [],
   "source": [
    "# In the interest of time we will train and test on 10 records\n",
    "train_df = pd.read_json(\"train.json\", lines=True).head(10)\n",
    "test_df = pd.read_json(\"train.json\", lines=True).tail(10)"
   ]
  },
  {
   "cell_type": "markdown",
   "metadata": {},
   "source": [
    "#### Train Llama 2"
   ]
  },
  {
   "cell_type": "code",
   "execution_count": 7,
   "metadata": {
    "tags": []
   },
   "outputs": [
    {
     "data": {
      "application/vnd.jupyter.widget-view+json": {
       "model_id": "d43ee709995745d78bdd46815a3ecf81",
       "version_major": 2,
       "version_minor": 0
      },
      "text/plain": [
       "Loading checkpoint shards:   0%|          | 0/2 [00:00<?, ?it/s]"
      ]
     },
     "metadata": {},
     "output_type": "display_data"
    },
    {
     "name": "stdout",
     "output_type": "stream",
     "text": [
      "trainable params: 4,194,304 || all params: 6,742,609,920 || trainable%: 0.06220594176090199\n"
     ]
    },
    {
     "data": {
      "application/vnd.jupyter.widget-view+json": {
       "model_id": "1be679f00c7c49248c0c402ca99e6fc2",
       "version_major": 2,
       "version_minor": 0
      },
      "text/plain": [
       "Map (num_proc=8):   0%|          | 0/10 [00:00<?, ? examples/s]"
      ]
     },
     "metadata": {},
     "output_type": "display_data"
    },
    {
     "data": {
      "application/vnd.jupyter.widget-view+json": {
       "model_id": "5b49779b8a7249e9802288f3566fcbf6",
       "version_major": 2,
       "version_minor": 0
      },
      "text/plain": [
       "Map (num_proc=8):   0%|          | 0/10 [00:00<?, ? examples/s]"
      ]
     },
     "metadata": {},
     "output_type": "display_data"
    },
    {
     "name": "stderr",
     "output_type": "stream",
     "text": [
      "Detected kernel version 5.4.181, which is below the recommended minimum of 5.5.0; this can cause the process to hang. It is recommended to upgrade the kernel to the minimum version or higher.\n"
     ]
    },
    {
     "data": {
      "text/html": [
       "\n",
       "    <div>\n",
       "      \n",
       "      <progress value='1' max='1' style='width:300px; height:20px; vertical-align: middle;'></progress>\n",
       "      [1/1 00:00, Epoch 0/1]\n",
       "    </div>\n",
       "    <table border=\"1\" class=\"dataframe\">\n",
       "  <thead>\n",
       " <tr style=\"text-align: left;\">\n",
       "      <th>Step</th>\n",
       "      <th>Training Loss</th>\n",
       "      <th>Validation Loss</th>\n",
       "    </tr>\n",
       "  </thead>\n",
       "  <tbody>\n",
       "  </tbody>\n",
       "</table><p>"
      ],
      "text/plain": [
       "<IPython.core.display.HTML object>"
      ]
     },
     "metadata": {},
     "output_type": "display_data"
    },
    {
     "data": {
      "application/vnd.jupyter.widget-view+json": {
       "model_id": "c483e91d3a154a35ad9d8ad3b204f11e",
       "version_major": 2,
       "version_minor": 0
      },
      "text/plain": [
       "Loading checkpoint shards:   0%|          | 0/2 [00:00<?, ?it/s]"
      ]
     },
     "metadata": {},
     "output_type": "display_data"
    },
    {
     "name": "stdout",
     "output_type": "stream",
     "text": [
      "INFO 11-10 02:30:49 llm_engine.py:72] Initializing an LLM engine with config: model='merged_weights_dir', tokenizer='merged_weights_dir', tokenizer_mode=auto, revision=None, tokenizer_revision=None, trust_remote_code=False, dtype=torch.bfloat16, max_seq_len=4096, download_dir=None, load_format=auto, tensor_parallel_size=1, quantization=None, seed=0)\n",
      "INFO 11-10 02:31:39 llm_engine.py:207] # GPU blocks: 864, # CPU blocks: 512\n"
     ]
    }
   ],
   "source": [
    "# Takes about ~3mins\n",
    "\n",
    "merged_weights_dir = 'merged_weights_dir'\n",
    "output_weights_dir = 'output_weights_dir'\n",
    "\n",
    "runner = ft_util.FinetuneModelRunner(\n",
    "    base_model_id=\"meta-llama/Llama-2-7b-chat-hf\",\n",
    "    task_type=ft_util.FinetuneTaskType.INSTRUCT,\n",
    "    train_dataset=train_df,\n",
    "    eval_dataset=train_df,\n",
    ")\n",
    "\n",
    "mcf = ft_util.ModelConfig(\n",
    "    max_steps=1,\n",
    "    quantization=ft_util.QuantizationConfig(\n",
    "        k_bits=4,\n",
    "    ),\n",
    "    merged_weights_dir_path=merged_weights_dir,\n",
    ")\n",
    "\n",
    "_ = runner.train(output_weights_dir, model_cfg=mcf)"
   ]
  },
  {
   "cell_type": "markdown",
   "metadata": {},
   "source": [
    "#### *Once the training completes, notice the \"trainable params\" and \"all params\" -- it should indicate that the total number of params are ~7billion; whereas we only trained using ~4million additional params*\n",
    "\n",
    "#### *Also examine the contents of merged_weights_dir and output_weights_dir*"
   ]
  },
  {
   "cell_type": "markdown",
   "metadata": {},
   "source": [
    "#### Evaluate Results on Training Dataset\n",
    "\n",
    "*Examine the \"output\" and \"predicted\" columns*"
   ]
  },
  {
   "cell_type": "code",
   "execution_count": 8,
   "metadata": {
    "tags": []
   },
   "outputs": [
    {
     "name": "stderr",
     "output_type": "stream",
     "text": [
      "Processed prompts: 100%|██████████| 10/10 [00:04<00:00,  2.24it/s]\n"
     ]
    },
    {
     "data": {
      "text/html": [
       "<div>\n",
       "<style scoped>\n",
       "    .dataframe tbody tr th:only-of-type {\n",
       "        vertical-align: middle;\n",
       "    }\n",
       "\n",
       "    .dataframe tbody tr th {\n",
       "        vertical-align: top;\n",
       "    }\n",
       "\n",
       "    .dataframe thead th {\n",
       "        text-align: right;\n",
       "    }\n",
       "</style>\n",
       "<table border=\"1\" class=\"dataframe\">\n",
       "  <thead>\n",
       "    <tr style=\"text-align: right;\">\n",
       "      <th></th>\n",
       "      <th>instruction</th>\n",
       "      <th>input</th>\n",
       "      <th>output</th>\n",
       "      <th>language</th>\n",
       "      <th>predicted</th>\n",
       "    </tr>\n",
       "  </thead>\n",
       "  <tbody>\n",
       "    <tr>\n",
       "      <th>0</th>\n",
       "      <td>Extract JSON response with 'location' and 'toy_list' as keys. 'location': Location of the caller. Include city only.'toy_list': List of toy names from the caller.</td>\n",
       "      <td>\"caller: Hello!\\nfrosty: Well, hello! Who's spreading holiday cheer with me today?\\ncaller: I'm Max from Sydney.\\nfrosty: Hello, Max! Can you tell me what's on your wish list this holiday?\\ncaller: Hmm, I am not sure. I guess I like cars.\\nfrosty: We have a fun Bluey car. It's very cool. And also, there's a Teenage Mutant Ninja Turtles pizza delivery van! It's really fun.\\ncaller: Oh, the bluey car sounds cool.\\nfrosty: Great choice, Max! By the way, how do you plan to celebrate the holiday season with your family?\\ncaller: We're going to the beach! It's summer here in Sydney.\\nfrosty: Oh, that sounds wonderful, Max. So, we will put the Bluey car on your holiday wish list, okay?\\ncaller: Yes, please!\\nfrosty: It\\u2019s all done. I hope your holiday is filled with joy and fun!\"</td>\n",
       "      <td>{\"toy_list\": [\"Bluey Convertible and Figures\"], \"location\": \"Sydney\"}</td>\n",
       "      <td>EN</td>\n",
       "      <td>Here is the JSON response with \"location\" and \"toy_list\" as keys:\\n\\n{\\n\"location\": \"Sydney\",\\n\"toy_list\": [\\n\"Bluey car\",\\n\"Teenage Mutant Ninja Turtles pizza delivery van\"\\n]\\n}</td>\n",
       "    </tr>\n",
       "    <tr>\n",
       "      <th>1</th>\n",
       "      <td>Extract JSON response with 'location' and 'toy_list' as keys. 'location': Location of the caller. Include city only.'toy_list': List of toy names from the caller.</td>\n",
       "      <td>\"caller: Hi, Frosty\\nfrosty: Hello there, bundle of joy! Can you share your name?\\ncaller: I'm Lily.\\nfrosty: Hello, Lily! And where are you calling from?\\ncaller: I'm from London.\\nfrosty: Beautiful London! Now, Lily, what are your two most wished toys this holiday season?\\ncaller: I think I want the furby and... or maybe the transformers bumblebee. I can't decide.\\nfrosty: Both are fascinating choices, Lily! Why are you interested in these toys?\\ncaller: I like furby because it can talk, and transformers bumblebee because I like robots.\\nfrosty: How about we put both on your wish list for now and you can decide later?\\ncaller: Yes, let's do that.\\nfrosty: Alright, Lily, both toys are now on your wish list. Enjoy your holiday and stay joyful!\"</td>\n",
       "      <td>{\"toy_list\": [\"Furby interactive plush toy\", \"Transformers Rise of the Beasts Beast-Mode Bumblebee\"], \"location\": \"London\"}</td>\n",
       "      <td>EN</td>\n",
       "      <td>Here is the JSON response with the requested keys:\\n\\n{\\n\"location\": \"London\",\\n\"toy_list\": [\\n\"furby\",\\n\"transformers bumblebee\"\\n]\\n}</td>\n",
       "    </tr>\n",
       "    <tr>\n",
       "      <th>2</th>\n",
       "      <td>Extract JSON response with 'location' and 'toy_list' as keys. 'location': Location of the caller. Include city only.'toy_list': List of toy names from the caller.</td>\n",
       "      <td>\"caller: Hi Frosty! It's Benny here.\\nfrosty: Hello, Benny! Nice to hear from you. Where are you calling from?\\ncaller: From Auckland.\\nfrosty: Beautiful Auckland! Now, tell Frosty your holiday wish, Benny.\\ncaller: Can I have the ninja turtles delivery van?\\nfrosty: Of course, you can. By the way, Benny, what do you enjoy the most about this time of the year?\\ncaller: I like when we light up our house with beautiful lights.\\nfrosty: That sounds like a sparkling time! So, I'll put the ninja turtles delivery van on your wish list. Does that sound good?\\ncaller: Yes, that's perfect!\\nfrosty: I wish you the best and super fun holidays, Benny!\"</td>\n",
       "      <td>{\"toy_list\": [\"Teenage Mutant Ninja Turtles: Mutant Mayhem Pizza Fire Delivery Van\"], \"location\": \"Auckland\"}</td>\n",
       "      <td>EN</td>\n",
       "      <td>Here is the JSON response with the requested keys:\\n\\n{\\n\"location\": \"Auckland\",\\n\"toy_list\": [\\n\"ninja turtles delivery van\"\\n]\\n}</td>\n",
       "    </tr>\n",
       "    <tr>\n",
       "      <th>3</th>\n",
       "      <td>Extract JSON response with 'location' and 'toy_list' as keys. 'location': Location of the caller. Include city only.'toy_list': List of toy names from the caller.</td>\n",
       "      <td>\"frosty: Hello there! I'm Frosty, how can I add some sparkle to your holiday season?\\ncaller: Hi Frosty! I'm Billy from Denver, United States.\\nfrosty: Hi Billy! It's great to hear from you. What brings you to me today?\\ncaller: Well I'm trying to decide which toy I'd like to ask for.\\nfrosty: That sounds exciting! What options are you contemplating?\\ncaller: Well I've always been a fan of transformers. But the new barbie dreamhouse is also very tempting.\\nfrosty: Wow! Both are excellent choices. What does the holiday season mean to you and your family?\\ncaller: We usually just spend a lot of time together, play games, eat good food, and exchange gifts.\\nfrosty: That sounds lovely. Considering that, what about the trasformers bumblebee or the new barbie dreamhouse do you find interesting? \\ncaller: I like the fact that the bumblebee can transform. But I like how the dreamhouse has so many rooms.\\nfrosty: Great to hear that Billy. Now, just a random question. What do you usually do for fun?\\ncaller: I love to read adventure novels.\\nfrosty: Aha! Maybe the bumblebee transformer, being an action character, could be brought to life in your adventure stories. What do you think?\\ncaller: You're right! I'd pick the transformers bumblebee then.\\nfrosty: Excellent choice, Billy! And just to be sure, you're finalizing on the transformers bumblebee, right?\\ncaller: Yes frosty!\\nfrosty: That's wonderful, Billy! We're so happy to make your holiday brighter. Expect your transformer bumblebee and have a magical holiday!\"</td>\n",
       "      <td>{\"toy_list\": [\"Transformers Rise of the Beasts Beast-Mode Bumblebee\"], \"location\": \"Denver\"}</td>\n",
       "      <td>EN</td>\n",
       "      <td>Here is the JSON response that extracts the \"location\" and \"toy_list\" keys from the conversation:\\n\\n{\\n\"location\": \"Denver, United States\",\\n\"toy_list\": [\\n\"transformers bumblebee\",\\n\"barbie dreamhouse\"\\n]\\n}</td>\n",
       "    </tr>\n",
       "    <tr>\n",
       "      <th>4</th>\n",
       "      <td>Extract JSON response with 'location' and 'toy_list' as keys. 'location': Location of the caller. Include city only.'toy_list': List of toy names from the caller.</td>\n",
       "      <td>\"frosty: Hi! It's Frosty here. Who do I have the pleasure to speak with today?\\ncaller: Hello Frosty! I'm Emily.\\nfrosty: Hi Emily! Where are you calling from?\\ncaller: I'm calling from Sydney, Australia.\\nfrosty: Wonderful Emily! How may I assist you?\\ncaller: I would like a toy ...\\nfrosty: That's great Emily! What are you thinking of?\\ncaller: I love small things like fingerlings monkey and pretty stuff like the new barbie dreamhouse.\\nfrosty: Sounds lovely, Emily! Why are you interested in these toys?\\ncaller: I like the monkey because it can hold onto things and I love barbie.\\nfrosty: Great! What do you love most about this time of the year?\\ncaller: I love decorating the house and the scent of sweet treats baking!\\nfrosty: Lovely! Maybe the barbie from the barbie dreamhouse could join you in decorating your house. What do you think?\\ncaller: Yes, that is a great idea! I want the new barbie dreamhouse.\\nfrosty: Just to be sure, Emily. Your final choice is the new barbie dreamhouse, right?\\ncaller: Yes Frosty, I'm sure!\\nfrosty: Exciting! Emily, expect your barbie dreamhouse soon and enjoy your holiday season!\"</td>\n",
       "      <td>{\"toy_list\": [\"Barbie Dreamhouse 2023\"], \"location\": \"Sydney\"}</td>\n",
       "      <td>EN</td>\n",
       "      <td>Here is the JSON response that meets the instruction:\\n\\n{\\n\"location\": \"Sydney, Australia\",\\n\"toy_list\": [\"fingerlings monkey\", \"barbie dreamhouse\"]\\n}</td>\n",
       "    </tr>\n",
       "    <tr>\n",
       "      <th>5</th>\n",
       "      <td>Extract JSON response with 'location' and 'toy_list' as keys. 'location': Location of the caller. Include city only.'toy_list': List of toy names from the caller.</td>\n",
       "      <td>\"frosty: Hello, hello! It's Frosty! I'm so excited to hear what you'll be putting on your wish list this year! May I know your name, please?\\n                 caller: Hi Frosty! My name is Jimmy!\\n                 frosty: Lovely to meet you, Jimmy! Where are you calling from?\\n                 caller: I'm from Houston, Texas. \\n                 frosty: Wonderful, Jimmy from Houston! Now, what would you like for a gift this holiday?\\n                 caller: Hmm.. I think I want a furby or maybe barbie science doll set.\\n                 frosty: Those are awesome choices, Jimmy! Just curious, why are you interested in these toys?\\n                 caller: Well, furby talks and that's so cool. And for the barbie thing, I love science at school.\\n                 frosty: Sounds like you love interacting and learning, Jimmy! Now, how does your family plan to celebrate the holiday season?\\n                 caller: We are going to bake cookies and watch holiday movies together. Also, we are going on a short trip to Grandpa's house in Austin.\\n                 frosty: That's awesome, Jimmy! Now, I will be happy to add furby and barbie science doll set to your wish list. Shall I?\\n                 caller: Hmm.. Wait, can I change furby to mickey playset?\\n                 frosty: Of course, Jimmy. So, your final wish list is barbie science doll set and mickey playset. Right?\\n                 caller: Yep, that's my final wish list Frosty!\\n                 frosty: Great choices, Jimmy! I'm sure you would have a lot of fun with those. Have a blast this holiday season!\"</td>\n",
       "      <td>{\"toy_list\": [\"Barbie Science Lab Playset\", \"Fisher-Price Little People Mickey and Friends Playset\"], \"location\": \"Houston\"}</td>\n",
       "      <td>EN</td>\n",
       "      <td>Here is the JSON response that extracts the \"location\" and \"toy_list\" keys from the provided input:\\n```json\\n{\\n  \"location\": \"Houston, Texas\",\\n  \"toy_list\": [\\n    \"furby\",\\n    \"barbie science doll set\",\\n    \"mickey playset\"\\n  ]\\n}\\n```\\nExplanation:\\n\\n* The instruction asks for the JSON response to include the \"</td>\n",
       "    </tr>\n",
       "    <tr>\n",
       "      <th>6</th>\n",
       "      <td>Extract JSON response with 'location' and 'toy_list' as keys. 'location': Location of the caller. Include city only.'toy_list': List of toy names from the caller.</td>\n",
       "      <td>\"frosty: Hey there, I'm Frosty! Ready to talk about your holiday wish list? Can you tell me your name, please?\\n                 caller: Hiya Frosty, I'm Emma!\\n                 frosty: Beautiful name, Emma! Where are you joining us from?\\n                 caller: I'm from Sydney, Australia.\\n                 frosty: Fantastic! Emma, Could you tell me what you'd like from your wish list?\\n                 caller: Ummm... maybe... no, definitely, lola droid. Oh but, I also love the spiderman playset.\\n                 frosty: Both fantastic choices, Emma! Why are you interested in these toys?\\n                 caller: Well, I love watching Star Wars and Spiderman movies with my family. \\n                 frosty: That's great, Emma! How do you and your family plan to celebrate the holiday season?\\n                 caller: We're going to visit grandmother's house and have a big fun family party\\n                 frosty: Sounds fantastic! I'll go ahead and put down a lola droid and spiderman playset on your wish list. \\n                 caller: Actually, I think I'll go for the bluey car instead of the spiderman playset.\\n                 frosty: No worries Emma, so your final wish list is lola droid and bluey car. Correct?\\n                 caller: Yes, Frosty. That's perfect!\\n                 frosty: Lovely! I'm sure you'll have amazing adventures with those. Enjoy your holiday!\"</td>\n",
       "      <td>{\"toy_list\": [\"Star Wars LOLA animatronic droid\", \"Bluey Convertible and Figures\"], \"location\": \"Sydney\"}</td>\n",
       "      <td>EN</td>\n",
       "      <td>Here is the JSON response that extracts the \"location\" and \"toy_list\" keys from the provided input:\\n```json\\n{\\n  \"location\": \"Sydney, Australia\",\\n  \"toy_list\": [\\n    \"lola droid\",\\n    \"bluey car\"\\n  ]\\n}\\n```\\nExplanation:\\n\\n* The instruction asks for the JSON response to include the \"location\" key with the value \"S</td>\n",
       "    </tr>\n",
       "    <tr>\n",
       "      <th>7</th>\n",
       "      <td>Extract JSON response with 'location' and 'toy_list' as keys. 'location': Location of the caller. Include city only.'toy_list': List of toy names from the caller.</td>\n",
       "      <td>\"frosty: Hello, I'm Frosty! Can't wait to chat about your dream toys for the holiday! What's your name?\\n                 caller: Hi Frosty! I'm Lily!\\n                 frosty: Great to meet you Lily! Where are you calling from?\\n                 caller: Dublin, Ireland.\\n                 frosty: That's wonderful, Lily! Why don't you tell me what you'd like for a gift?\\n                 caller: Could I have the ninja turtles delivery van, please? Oh, and the bitzee pet too, please!\\n                 frosty: Awesome choices, Lily! Can you tell me why are you interested in these toys?\\n                 caller: I love the Ninja Turtles and bitzee pet looks so cute!\\n                 frosty: They do, don't they? How are you and your family going to celebrate the holiday season?\\n                 caller: We always decorate the house and have a big family dinner!\\n                 frosty: Sounds fantastic, Lily! So, your final wish list is ninja turtles delivery van and bitzee pet, right?\\n                 caller: Yes, Frosty. That's what I want!\\n                 frosty: Brilliant choices, Lily! You're going to have such fun with those! Enjoy your celebrations!\"</td>\n",
       "      <td>{\"toy_list\": [\"Teenage Mutant Ninja Turtles: Mutant Mayhem Pizza Fire Delivery Van\", \"Bitzee interactive pet\"], \"location\": \"Dublin\"}</td>\n",
       "      <td>EN</td>\n",
       "      <td>Here is the JSON response that meets the instruction:\\n\\n{\\n\"location\": \"Dublin, Ireland\",\\n\"toy_list\": [\\n\"ninja turtles delivery van\",\\n\"bitzee pet\"\\n]\\n}</td>\n",
       "    </tr>\n",
       "    <tr>\n",
       "      <th>8</th>\n",
       "      <td>Extract JSON response with 'location' and 'toy_list' as keys. 'location': Location of the caller. Include city only.'toy_list': List of toy names from the caller.</td>\n",
       "      <td>\"frosty: Hello there! It's Frosty. I'm excited to know your wish list for the holiday season. May I know your name?\\ncaller: Hi Frosty, I'm Jacob.\\nfrosty: Delighted to meet you Jacob. And could you tell me which city are you calling from?\\ncaller: I'm from Melbourne, Australia.\\nfrosty: That's a beautiful place, Jacob. Now, tell me what would you like for the holiday season?\\ncaller: Well, I really like barbie science doll set. My sister loves it too.\\nfrosty: That's a lovely choice, Jacob. May I ask, why this toy?\\ncaller: It's very cool. We can do fun experiments, it's like a real lab.\\nfrosty: That does sound fun. And how are you going to celebrate this holiday season with your family?\\ncaller: We usually play games and have a special dinner.\\nfrosty: That sounds lovely. So, to confirm, you would like to add Barbie Science Lab Playset to your wish list?\\ncaller: Yes, Frosty.\\nfrosty: Fantastic. I'll add that to your wish list, Jacob. Enjoy your holiday season!\"</td>\n",
       "      <td>{\"toy_list\": [\"Barbie Science Lab Playset\"], \"location\": \"Melbourne\"}</td>\n",
       "      <td>EN</td>\n",
       "      <td>Here is the JSON response with the requested keys:\\n\\n{\\n\"location\": \"Melbourne, Australia\",\\n\"toy_list\": [\\n\"Barbie Science Lab Playset\"\\n]\\n}</td>\n",
       "    </tr>\n",
       "    <tr>\n",
       "      <th>9</th>\n",
       "      <td>Extract JSON response with 'location' and 'toy_list' as keys. 'location': Location of the caller. Include city only.'toy_list': List of toy names from the caller.</td>\n",
       "      <td>\"frosty: Hi there, little friend! I'm your pal, Frosty. Could I know your name, please?\\ncaller: I'm Emma.\\nfrosty: Nice to meet you, Emma. And from where are you calling today?\\ncaller: I'm from Toronto, Canada.\\nfrosty: Lovely! Now, what are you dreaming of this holiday season, Emma?\\ncaller: Hmm... I'm not sure... Maybe elmo plushie. Or should I go for barbie dream house. I can't decide.\\nfrosty: Both are excellent choices, Emma. Remember, Elmo is a great friend to play with and talk to, while the Barbie Dreamhouse would let you create your own adventure. Does that help?\\ncaller: Yes, I think I'll go for elmo plushie.\\nfrosty: Excellent choice! That's going to be a lot of fun. Your holiday season sounds already exciting. May I put Sesame Street Monster Meditation Elmo on your wish list?\\ncaller: Yes, please.\\nfrosty: There we go! All set, Emma. Have a fantastic holiday!\"</td>\n",
       "      <td>{\"toy_list\": [\"Sesame Street Monster Meditation Elmo\"], \"location\": \"Toronto\"}</td>\n",
       "      <td>EN</td>\n",
       "      <td>Here is the JSON response that meets the instruction:\\n\\n{\\n\"location\": \"Toronto, Canada\",\\n\"toy_list\": [\\n\"Elmo plushie\"\\n]\\n}</td>\n",
       "    </tr>\n",
       "  </tbody>\n",
       "</table>\n",
       "</div>"
      ],
      "text/plain": [
       "                                                                                                                                                          instruction  \\\n",
       "0  Extract JSON response with 'location' and 'toy_list' as keys. 'location': Location of the caller. Include city only.'toy_list': List of toy names from the caller.   \n",
       "1  Extract JSON response with 'location' and 'toy_list' as keys. 'location': Location of the caller. Include city only.'toy_list': List of toy names from the caller.   \n",
       "2  Extract JSON response with 'location' and 'toy_list' as keys. 'location': Location of the caller. Include city only.'toy_list': List of toy names from the caller.   \n",
       "3  Extract JSON response with 'location' and 'toy_list' as keys. 'location': Location of the caller. Include city only.'toy_list': List of toy names from the caller.   \n",
       "4  Extract JSON response with 'location' and 'toy_list' as keys. 'location': Location of the caller. Include city only.'toy_list': List of toy names from the caller.   \n",
       "5  Extract JSON response with 'location' and 'toy_list' as keys. 'location': Location of the caller. Include city only.'toy_list': List of toy names from the caller.   \n",
       "6  Extract JSON response with 'location' and 'toy_list' as keys. 'location': Location of the caller. Include city only.'toy_list': List of toy names from the caller.   \n",
       "7  Extract JSON response with 'location' and 'toy_list' as keys. 'location': Location of the caller. Include city only.'toy_list': List of toy names from the caller.   \n",
       "8  Extract JSON response with 'location' and 'toy_list' as keys. 'location': Location of the caller. Include city only.'toy_list': List of toy names from the caller.   \n",
       "9  Extract JSON response with 'location' and 'toy_list' as keys. 'location': Location of the caller. Include city only.'toy_list': List of toy names from the caller.   \n",
       "\n",
       "                                                                                                                                                                                                                                                                                                                                                                                                                                                                                                                                                                                                                                                                                                                                                                                                                                                                                                                                                                                                                                                                                                                                                                                                                                                                                                                                                                                                                                                                                                                                                                                                                                                input  \\\n",
       "0                                                                                                                                                                                                                                                                                                                                                                                                                                                                                                                                                                                                                                                                                                                                                                                                                                 \"caller: Hello!\\nfrosty: Well, hello! Who's spreading holiday cheer with me today?\\ncaller: I'm Max from Sydney.\\nfrosty: Hello, Max! Can you tell me what's on your wish list this holiday?\\ncaller: Hmm, I am not sure. I guess I like cars.\\nfrosty: We have a fun Bluey car. It's very cool. And also, there's a Teenage Mutant Ninja Turtles pizza delivery van! It's really fun.\\ncaller: Oh, the bluey car sounds cool.\\nfrosty: Great choice, Max! By the way, how do you plan to celebrate the holiday season with your family?\\ncaller: We're going to the beach! It's summer here in Sydney.\\nfrosty: Oh, that sounds wonderful, Max. So, we will put the Bluey car on your holiday wish list, okay?\\ncaller: Yes, please!\\nfrosty: It\\u2019s all done. I hope your holiday is filled with joy and fun!\"   \n",
       "1                                                                                                                                                                                                                                                                                                                                                                                                                                                                                                                                                                                                                                                                                                                                                                                                                                                                  \"caller: Hi, Frosty\\nfrosty: Hello there, bundle of joy! Can you share your name?\\ncaller: I'm Lily.\\nfrosty: Hello, Lily! And where are you calling from?\\ncaller: I'm from London.\\nfrosty: Beautiful London! Now, Lily, what are your two most wished toys this holiday season?\\ncaller: I think I want the furby and... or maybe the transformers bumblebee. I can't decide.\\nfrosty: Both are fascinating choices, Lily! Why are you interested in these toys?\\ncaller: I like furby because it can talk, and transformers bumblebee because I like robots.\\nfrosty: How about we put both on your wish list for now and you can decide later?\\ncaller: Yes, let's do that.\\nfrosty: Alright, Lily, both toys are now on your wish list. Enjoy your holiday and stay joyful!\"   \n",
       "2                                                                                                                                                                                                                                                                                                                                                                                                                                                                                                                                                                                                                                                                                                                                                                                                                                                                                                                                                                            \"caller: Hi Frosty! It's Benny here.\\nfrosty: Hello, Benny! Nice to hear from you. Where are you calling from?\\ncaller: From Auckland.\\nfrosty: Beautiful Auckland! Now, tell Frosty your holiday wish, Benny.\\ncaller: Can I have the ninja turtles delivery van?\\nfrosty: Of course, you can. By the way, Benny, what do you enjoy the most about this time of the year?\\ncaller: I like when we light up our house with beautiful lights.\\nfrosty: That sounds like a sparkling time! So, I'll put the ninja turtles delivery van on your wish list. Does that sound good?\\ncaller: Yes, that's perfect!\\nfrosty: I wish you the best and super fun holidays, Benny!\"   \n",
       "3                                                         \"frosty: Hello there! I'm Frosty, how can I add some sparkle to your holiday season?\\ncaller: Hi Frosty! I'm Billy from Denver, United States.\\nfrosty: Hi Billy! It's great to hear from you. What brings you to me today?\\ncaller: Well I'm trying to decide which toy I'd like to ask for.\\nfrosty: That sounds exciting! What options are you contemplating?\\ncaller: Well I've always been a fan of transformers. But the new barbie dreamhouse is also very tempting.\\nfrosty: Wow! Both are excellent choices. What does the holiday season mean to you and your family?\\ncaller: We usually just spend a lot of time together, play games, eat good food, and exchange gifts.\\nfrosty: That sounds lovely. Considering that, what about the trasformers bumblebee or the new barbie dreamhouse do you find interesting? \\ncaller: I like the fact that the bumblebee can transform. But I like how the dreamhouse has so many rooms.\\nfrosty: Great to hear that Billy. Now, just a random question. What do you usually do for fun?\\ncaller: I love to read adventure novels.\\nfrosty: Aha! Maybe the bumblebee transformer, being an action character, could be brought to life in your adventure stories. What do you think?\\ncaller: You're right! I'd pick the transformers bumblebee then.\\nfrosty: Excellent choice, Billy! And just to be sure, you're finalizing on the transformers bumblebee, right?\\ncaller: Yes frosty!\\nfrosty: That's wonderful, Billy! We're so happy to make your holiday brighter. Expect your transformer bumblebee and have a magical holiday!\"   \n",
       "4                                                                                                                                                                                                                                                                                                                                                                                                                                                                       \"frosty: Hi! It's Frosty here. Who do I have the pleasure to speak with today?\\ncaller: Hello Frosty! I'm Emily.\\nfrosty: Hi Emily! Where are you calling from?\\ncaller: I'm calling from Sydney, Australia.\\nfrosty: Wonderful Emily! How may I assist you?\\ncaller: I would like a toy ...\\nfrosty: That's great Emily! What are you thinking of?\\ncaller: I love small things like fingerlings monkey and pretty stuff like the new barbie dreamhouse.\\nfrosty: Sounds lovely, Emily! Why are you interested in these toys?\\ncaller: I like the monkey because it can hold onto things and I love barbie.\\nfrosty: Great! What do you love most about this time of the year?\\ncaller: I love decorating the house and the scent of sweet treats baking!\\nfrosty: Lovely! Maybe the barbie from the barbie dreamhouse could join you in decorating your house. What do you think?\\ncaller: Yes, that is a great idea! I want the new barbie dreamhouse.\\nfrosty: Just to be sure, Emily. Your final choice is the new barbie dreamhouse, right?\\ncaller: Yes Frosty, I'm sure!\\nfrosty: Exciting! Emily, expect your barbie dreamhouse soon and enjoy your holiday season!\"   \n",
       "5  \"frosty: Hello, hello! It's Frosty! I'm so excited to hear what you'll be putting on your wish list this year! May I know your name, please?\\n                 caller: Hi Frosty! My name is Jimmy!\\n                 frosty: Lovely to meet you, Jimmy! Where are you calling from?\\n                 caller: I'm from Houston, Texas. \\n                 frosty: Wonderful, Jimmy from Houston! Now, what would you like for a gift this holiday?\\n                 caller: Hmm.. I think I want a furby or maybe barbie science doll set.\\n                 frosty: Those are awesome choices, Jimmy! Just curious, why are you interested in these toys?\\n                 caller: Well, furby talks and that's so cool. And for the barbie thing, I love science at school.\\n                 frosty: Sounds like you love interacting and learning, Jimmy! Now, how does your family plan to celebrate the holiday season?\\n                 caller: We are going to bake cookies and watch holiday movies together. Also, we are going on a short trip to Grandpa's house in Austin.\\n                 frosty: That's awesome, Jimmy! Now, I will be happy to add furby and barbie science doll set to your wish list. Shall I?\\n                 caller: Hmm.. Wait, can I change furby to mickey playset?\\n                 frosty: Of course, Jimmy. So, your final wish list is barbie science doll set and mickey playset. Right?\\n                 caller: Yep, that's my final wish list Frosty!\\n                 frosty: Great choices, Jimmy! I'm sure you would have a lot of fun with those. Have a blast this holiday season!\"   \n",
       "6                                                                                                                                                                                           \"frosty: Hey there, I'm Frosty! Ready to talk about your holiday wish list? Can you tell me your name, please?\\n                 caller: Hiya Frosty, I'm Emma!\\n                 frosty: Beautiful name, Emma! Where are you joining us from?\\n                 caller: I'm from Sydney, Australia.\\n                 frosty: Fantastic! Emma, Could you tell me what you'd like from your wish list?\\n                 caller: Ummm... maybe... no, definitely, lola droid. Oh but, I also love the spiderman playset.\\n                 frosty: Both fantastic choices, Emma! Why are you interested in these toys?\\n                 caller: Well, I love watching Star Wars and Spiderman movies with my family. \\n                 frosty: That's great, Emma! How do you and your family plan to celebrate the holiday season?\\n                 caller: We're going to visit grandmother's house and have a big fun family party\\n                 frosty: Sounds fantastic! I'll go ahead and put down a lola droid and spiderman playset on your wish list. \\n                 caller: Actually, I think I'll go for the bluey car instead of the spiderman playset.\\n                 frosty: No worries Emma, so your final wish list is lola droid and bluey car. Correct?\\n                 caller: Yes, Frosty. That's perfect!\\n                 frosty: Lovely! I'm sure you'll have amazing adventures with those. Enjoy your holiday!\"   \n",
       "7                                                                                                                                                                                                                                                                                                                                                                                                                             \"frosty: Hello, I'm Frosty! Can't wait to chat about your dream toys for the holiday! What's your name?\\n                 caller: Hi Frosty! I'm Lily!\\n                 frosty: Great to meet you Lily! Where are you calling from?\\n                 caller: Dublin, Ireland.\\n                 frosty: That's wonderful, Lily! Why don't you tell me what you'd like for a gift?\\n                 caller: Could I have the ninja turtles delivery van, please? Oh, and the bitzee pet too, please!\\n                 frosty: Awesome choices, Lily! Can you tell me why are you interested in these toys?\\n                 caller: I love the Ninja Turtles and bitzee pet looks so cute!\\n                 frosty: They do, don't they? How are you and your family going to celebrate the holiday season?\\n                 caller: We always decorate the house and have a big family dinner!\\n                 frosty: Sounds fantastic, Lily! So, your final wish list is ninja turtles delivery van and bitzee pet, right?\\n                 caller: Yes, Frosty. That's what I want!\\n                 frosty: Brilliant choices, Lily! You're going to have such fun with those! Enjoy your celebrations!\"   \n",
       "8                                                                                                                                                                                                                                                                                                                                                                                                                                                                                                                                                                                                                                 \"frosty: Hello there! It's Frosty. I'm excited to know your wish list for the holiday season. May I know your name?\\ncaller: Hi Frosty, I'm Jacob.\\nfrosty: Delighted to meet you Jacob. And could you tell me which city are you calling from?\\ncaller: I'm from Melbourne, Australia.\\nfrosty: That's a beautiful place, Jacob. Now, tell me what would you like for the holiday season?\\ncaller: Well, I really like barbie science doll set. My sister loves it too.\\nfrosty: That's a lovely choice, Jacob. May I ask, why this toy?\\ncaller: It's very cool. We can do fun experiments, it's like a real lab.\\nfrosty: That does sound fun. And how are you going to celebrate this holiday season with your family?\\ncaller: We usually play games and have a special dinner.\\nfrosty: That sounds lovely. So, to confirm, you would like to add Barbie Science Lab Playset to your wish list?\\ncaller: Yes, Frosty.\\nfrosty: Fantastic. I'll add that to your wish list, Jacob. Enjoy your holiday season!\"   \n",
       "9                                                                                                                                                                                                                                                                                                                                                                                                                                                                                                                                                                                                                                                                                                                              \"frosty: Hi there, little friend! I'm your pal, Frosty. Could I know your name, please?\\ncaller: I'm Emma.\\nfrosty: Nice to meet you, Emma. And from where are you calling today?\\ncaller: I'm from Toronto, Canada.\\nfrosty: Lovely! Now, what are you dreaming of this holiday season, Emma?\\ncaller: Hmm... I'm not sure... Maybe elmo plushie. Or should I go for barbie dream house. I can't decide.\\nfrosty: Both are excellent choices, Emma. Remember, Elmo is a great friend to play with and talk to, while the Barbie Dreamhouse would let you create your own adventure. Does that help?\\ncaller: Yes, I think I'll go for elmo plushie.\\nfrosty: Excellent choice! That's going to be a lot of fun. Your holiday season sounds already exciting. May I put Sesame Street Monster Meditation Elmo on your wish list?\\ncaller: Yes, please.\\nfrosty: There we go! All set, Emma. Have a fantastic holiday!\"   \n",
       "\n",
       "                                                                                                                                  output  \\\n",
       "0                                                                  {\"toy_list\": [\"Bluey Convertible and Figures\"], \"location\": \"Sydney\"}   \n",
       "1            {\"toy_list\": [\"Furby interactive plush toy\", \"Transformers Rise of the Beasts Beast-Mode Bumblebee\"], \"location\": \"London\"}   \n",
       "2                          {\"toy_list\": [\"Teenage Mutant Ninja Turtles: Mutant Mayhem Pizza Fire Delivery Van\"], \"location\": \"Auckland\"}   \n",
       "3                                           {\"toy_list\": [\"Transformers Rise of the Beasts Beast-Mode Bumblebee\"], \"location\": \"Denver\"}   \n",
       "4                                                                         {\"toy_list\": [\"Barbie Dreamhouse 2023\"], \"location\": \"Sydney\"}   \n",
       "5           {\"toy_list\": [\"Barbie Science Lab Playset\", \"Fisher-Price Little People Mickey and Friends Playset\"], \"location\": \"Houston\"}   \n",
       "6                              {\"toy_list\": [\"Star Wars LOLA animatronic droid\", \"Bluey Convertible and Figures\"], \"location\": \"Sydney\"}   \n",
       "7  {\"toy_list\": [\"Teenage Mutant Ninja Turtles: Mutant Mayhem Pizza Fire Delivery Van\", \"Bitzee interactive pet\"], \"location\": \"Dublin\"}   \n",
       "8                                                                  {\"toy_list\": [\"Barbie Science Lab Playset\"], \"location\": \"Melbourne\"}   \n",
       "9                                                         {\"toy_list\": [\"Sesame Street Monster Meditation Elmo\"], \"location\": \"Toronto\"}   \n",
       "\n",
       "  language  \\\n",
       "0       EN   \n",
       "1       EN   \n",
       "2       EN   \n",
       "3       EN   \n",
       "4       EN   \n",
       "5       EN   \n",
       "6       EN   \n",
       "7       EN   \n",
       "8       EN   \n",
       "9       EN   \n",
       "\n",
       "                                                                                                                                                                                                                                                                                                                             predicted  \n",
       "0                                                                                                                                                  Here is the JSON response with \"location\" and \"toy_list\" as keys:\\n\\n{\\n\"location\": \"Sydney\",\\n\"toy_list\": [\\n\"Bluey car\",\\n\"Teenage Mutant Ninja Turtles pizza delivery van\"\\n]\\n}  \n",
       "1                                                                                                                                                                                              Here is the JSON response with the requested keys:\\n\\n{\\n\"location\": \"London\",\\n\"toy_list\": [\\n\"furby\",\\n\"transformers bumblebee\"\\n]\\n}  \n",
       "2                                                                                                                                                                                                  Here is the JSON response with the requested keys:\\n\\n{\\n\"location\": \"Auckland\",\\n\"toy_list\": [\\n\"ninja turtles delivery van\"\\n]\\n}  \n",
       "3                                                                                                                    Here is the JSON response that extracts the \"location\" and \"toy_list\" keys from the conversation:\\n\\n{\\n\"location\": \"Denver, United States\",\\n\"toy_list\": [\\n\"transformers bumblebee\",\\n\"barbie dreamhouse\"\\n]\\n}  \n",
       "4                                                                                                                                                                             Here is the JSON response that meets the instruction:\\n\\n{\\n\"location\": \"Sydney, Australia\",\\n\"toy_list\": [\"fingerlings monkey\", \"barbie dreamhouse\"]\\n}  \n",
       "5    Here is the JSON response that extracts the \"location\" and \"toy_list\" keys from the provided input:\\n```json\\n{\\n  \"location\": \"Houston, Texas\",\\n  \"toy_list\": [\\n    \"furby\",\\n    \"barbie science doll set\",\\n    \"mickey playset\"\\n  ]\\n}\\n```\\nExplanation:\\n\\n* The instruction asks for the JSON response to include the \"  \n",
       "6  Here is the JSON response that extracts the \"location\" and \"toy_list\" keys from the provided input:\\n```json\\n{\\n  \"location\": \"Sydney, Australia\",\\n  \"toy_list\": [\\n    \"lola droid\",\\n    \"bluey car\"\\n  ]\\n}\\n```\\nExplanation:\\n\\n* The instruction asks for the JSON response to include the \"location\" key with the value \"S  \n",
       "7                                                                                                                                                                         Here is the JSON response that meets the instruction:\\n\\n{\\n\"location\": \"Dublin, Ireland\",\\n\"toy_list\": [\\n\"ninja turtles delivery van\",\\n\"bitzee pet\"\\n]\\n}  \n",
       "8                                                                                                                                                                                      Here is the JSON response with the requested keys:\\n\\n{\\n\"location\": \"Melbourne, Australia\",\\n\"toy_list\": [\\n\"Barbie Science Lab Playset\"\\n]\\n}  \n",
       "9                                                                                                                                                                                                      Here is the JSON response that meets the instruction:\\n\\n{\\n\"location\": \"Toronto, Canada\",\\n\"toy_list\": [\\n\"Elmo plushie\"\\n]\\n}  "
      ]
     },
     "execution_count": 8,
     "metadata": {},
     "output_type": "execute_result"
    }
   ],
   "source": [
    "eval_df = runner.get_eval_results()\n",
    "eval_df"
   ]
  },
  {
   "cell_type": "markdown",
   "metadata": {},
   "source": [
    "#### Inference on Custom Transcript"
   ]
  },
  {
   "cell_type": "code",
   "execution_count": 9,
   "metadata": {
    "tags": []
   },
   "outputs": [
    {
     "name": "stderr",
     "output_type": "stream",
     "text": [
      "Processed prompts: 100%|██████████| 1/1 [00:01<00:00,  1.58s/it]\n"
     ]
    },
    {
     "data": {
      "text/plain": [
       "'Here is the JSON response with the requested keys:\\n\\n{\\n\"location\": \"Cape Town\",\\n\"toy_list\": [\"ninja turtles delivery van\", \"robot dog\"]\\n}'"
      ]
     },
     "execution_count": 9,
     "metadata": {},
     "output_type": "execute_result"
    }
   ],
   "source": [
    "runner.infer(\n",
    "     {\n",
    "    'instruction': \"\"\"\n",
    "        \"Extract JSON response with 'location' and 'toy_list' as keys. 'location': \n",
    "        Location of the caller. Include city only.'toy_list': List of toy names from the caller.\"\n",
    "    \"\"\",\n",
    "    'input': \"\"\"\n",
    "        \"frosty: Hello, hello! Who's ready to chat with Frosty today?\\ncaller: Hi, I'm Dustin from Cape Town, South Africa.\\nfrosty: \n",
    "        Hi Dustin, it's awesome to meet you! Do you already know what you would like for your holiday gift?\\ncaller: \n",
    "        Yeah, I think I want the ninja turtles delivery van, or maybe the robot dog. \n",
    "        I can't decide...\\nfrosty: Both sound like entertaining choices! \n",
    "        Why are you interested in these particular toys?\\ncaller: The ninja turtles van is so cool! And the robot dog, it's like a pet you don't have to clean up after.\\nfrosty: \n",
    "        That's true! Savage choices, Dustin! How do you usually celebrate the holiday season?\\ncaller: \n",
    "        We usually have a big family barbeque and play games all day long.\\nfrosty: Sounds fun! What is your favorite thing about this time of year?\n",
    "        \\ncaller: I like that everyone is happy and I get to spend a lot of time with my family.\n",
    "        \\nfrosty: That's wonderful! So Dustin, have you thought any more about your holiday wish?\n",
    "        \\ncaller: I think I'm going to get the robot dog. It sounds fun and I won't have to walk it.\n",
    "        \\nfrosty: That's a clever choice, Dustin! I hope you have a fantastic holiday season!\"\n",
    "\"\"\"\n",
    "    }\n",
    ")"
   ]
  },
  {
   "cell_type": "markdown",
   "metadata": {},
   "source": [
    "#### Inference on Test Dataset\n",
    "*Examine the \"output\" and \"predicted\" columns*"
   ]
  },
  {
   "cell_type": "code",
   "execution_count": 10,
   "metadata": {
    "tags": []
   },
   "outputs": [
    {
     "name": "stderr",
     "output_type": "stream",
     "text": [
      "Processed prompts: 100%|██████████| 10/10 [00:04<00:00,  2.03it/s]\n"
     ]
    },
    {
     "data": {
      "text/html": [
       "<div>\n",
       "<style scoped>\n",
       "    .dataframe tbody tr th:only-of-type {\n",
       "        vertical-align: middle;\n",
       "    }\n",
       "\n",
       "    .dataframe tbody tr th {\n",
       "        vertical-align: top;\n",
       "    }\n",
       "\n",
       "    .dataframe thead th {\n",
       "        text-align: right;\n",
       "    }\n",
       "</style>\n",
       "<table border=\"1\" class=\"dataframe\">\n",
       "  <thead>\n",
       "    <tr style=\"text-align: right;\">\n",
       "      <th></th>\n",
       "      <th>instruction</th>\n",
       "      <th>input</th>\n",
       "      <th>output</th>\n",
       "      <th>language</th>\n",
       "      <th>predicted</th>\n",
       "    </tr>\n",
       "  </thead>\n",
       "  <tbody>\n",
       "    <tr>\n",
       "      <th>980</th>\n",
       "      <td>Extract JSON response with 'location' and 'toy_list' as keys. 'location': Location of the caller. Include city only.'toy_list': List of toy names from the caller.</td>\n",
       "      <td>\"frosty: Hello! Welcome to Frosty's Holiday Hotline. I'm Frosty, your festive voice bot. How may I help you today?\\ncaller: Hi Frosty! I'm Ethan, and I need help picking a toy for the holidays.\\nfrosty: Hi Ethan! I'd love to help you find a toy. What are your interests?\\ncaller: I like superheroes and playing with action figures.\\nfrosty: Awesome! How about Marvel's Spidey and His Amazing Friends Web Spinners playset or the Teenage Mutant Ninja Turtles: Mutant Mayhem Pizza Fire Delivery Van? Which one do you like more?\\ncaller: I really like the Spiderman playset! Can you tell me more about it?\\nfrosty:  Sure! The Marvel's Spidey and His Amazing Friends Web Spinners playset features Spiderman and his friends, along with a web-spinning feature and various accessories. It's perfect for kids who love action figures and superheroes.\\ncaller: That's perfect for me! Can you add that to my wish list?\\nfrosty: Of course, Ethan! I have added Marvel's Spidey and His Amazing Friends Web Spinners playset to your wish list. Can you please tell me where you're calling from?\\ncaller: I'm calling from Auckland, New Zealand.\\nfrosty: Thank you, Ethan! Before we finish, can you share your favorite holiday memory with me?\\ncaller: I remember when we went on a family trip to the mountains during the holidays. It was so much fun!\\nfrosty: That sounds like a fantastic memory, Ethan. Thank you for calling Frosty's Holiday Hotline, and have an incredible holiday season!\"</td>\n",
       "      <td>{\"toy_list\": [\"Marvel's Spidey and His Amazing Friends Web Spinners playset\"], \"location\": \"Auckland\"}</td>\n",
       "      <td>EN</td>\n",
       "      <td>Here is the JSON response that meets the instruction:\\n\\n{\\n\"location\": \"Auckland, New Zealand\",\\n\"toy_list\": [\\n\"Marvel's Spidey and His Amazing Friends Web Spinners playset\"\\n]\\n}</td>\n",
       "    </tr>\n",
       "    <tr>\n",
       "      <th>981</th>\n",
       "      <td>Extract JSON response with 'location' and 'toy_list' as keys. 'location': Location of the caller. Include city only.'toy_list': List of toy names from the caller.</td>\n",
       "      <td>\"frosty: Welcome to Frosty's Holiday Hotline! I'm Frosty, your fun-loving voice bot. How can I help you today?\\ncaller: Hi Frosty! My name is Mia, and I want to add a toy to my holiday wish list.\\nfrosty: Hi Mia! It's great to meet you. What type of toy are you interested in?\\ncaller: I like playing with dolls and making my own stories.\\nfrosty: That's fantastic, Mia! How about the Calico Critters Pony's Stylish Hair Salon or Gabbys Dollhouse Cruise Ship? Which one do you prefer?\\ncaller: I think the Gabbys Dollhouse Cruise Ship sounds fun! Can you tell me more?\\nfrosty: Sure! The Gabbys Dollhouse Cruise Ship is a beautifully designed playset featuring Gabby's favorite characters, along with a variety of accessories for creating exciting adventures on the high seas.\\ncaller: That sounds perfect! I want to add that to my wish list.\\nfrosty: Excellent choice, Mia! I have added the Gabbys Dollhouse Cruise Ship to your wish list. Where are you calling from?\\ncaller: I'm calling from Johannesburg, South Africa.\\nfrosty: Thank you, Mia! Before we go, can you tell me how you and your family plan to celebrate the holiday season?\\ncaller: We usually go on a trip to visit our relatives and have a big family party. It's always lots of fun!\\nfrosty: That sounds wonderful! Thank you for calling Frosty's Holiday Hotline, and have a fantastic holiday season!\"</td>\n",
       "      <td>{\"toy_list\": [\"Gabbys Dollhouse Cruise Ship\"], \"location\": \"Johannesburg\"}</td>\n",
       "      <td>EN</td>\n",
       "      <td>Here is the JSON response that extracts the \"location\" and \"toy_list\" keys from the input:\\n```\\n{\\n  \"location\": \"Johannesburg, South Africa\",\\n  \"toy_list\": [\\n    \"Gabbys Dollhouse Cruise Ship\"\\n  ]\\n}\\n```</td>\n",
       "    </tr>\n",
       "    <tr>\n",
       "      <th>982</th>\n",
       "      <td>Extract JSON response with 'location' and 'toy_list' as keys. 'location': Location of the caller. Include city only.'toy_list': List of toy names from the caller.</td>\n",
       "      <td>\"frosty: Hello and welcome to Frosty's Holiday Hotline! I'm Frosty, your helpful voice bot. How may I assist you with your holiday wish list?\\ncaller: Hi, I'm Jack! I need help deciding what toys to ask for this holiday season. I love dinosaurs and building things!\\nfrosty: Hi Jack! How about the Jurassic World Dominion Super Colossal Giganotosaurus or the Tiny Land kids fort building kit? Which one do you like more?\\ncaller: I'm more interested in the Jurassic World dinosaur. Can you tell me more about it?\\nfrosty: Certainly! The Jurassic World Dominion Super Colossal Giganotosaurus is a giant, highly detailed action figure with an articulated jaw and multiple points of articulation. It's perfect for kids who love dinosaurs and imaginative play.\\ncaller: That's awesome! I want to add that to my wish list, please.\\nfrosty: You got it, Jack! I have added the Jurassic World Dominion Super Colossal Giganotosaurus to your wish list. Can you tell me where you're calling from?\\ncaller: I'm calling from Dublin, Ireland.\\nfrosty: Thank you, Jack! Before we finish, can you share with me what you enjoy the most about this time of the year?\\ncaller: I love the festive atmosphere and seeing all the beautiful decorations in the city.\\nfrosty: That's lovely, Jack! Thank you for calling Frosty's Holiday Hotline, and have a spectacular holiday season!\"</td>\n",
       "      <td>{\"toy_list\": [\"Jurassic World Dominion Super Colossal Giganotosaurus\"], \"location\": \"Dublin\"}</td>\n",
       "      <td>EN</td>\n",
       "      <td>Here is the JSON response with \"location\" and \"toy_list\" as keys:\\n\\n{\\n\"location\": \"Dublin, Ireland\",\\n\"toy_list\": [\\n\"Jurassic World Dominion Super Colossal Giganotosaurus\"\\n]\\n}</td>\n",
       "    </tr>\n",
       "    <tr>\n",
       "      <th>983</th>\n",
       "      <td>Extract JSON response with 'location' and 'toy_list' as keys. 'location': Location of the caller. Include city only.'toy_list': List of toy names from the caller.</td>\n",
       "      <td>\"frosty: Welcome to Frosty's Holiday Hotline! I'm Frosty, your jolly voice bot. How can I help you today?\\ncaller: Hello Frosty, I'm Isabella. I'm looking for a toy to add to my holiday wish list, but I can't decide.\\nfrosty: Hi Isabella! I'm here to help you find the perfect toy. What are your interests?\\ncaller: I like playing with cute animals and exploring new things.\\nfrosty: That's great, Isabella! How about the Fisher-Price Little People Mickey and Friends Playset or the LeapFrog Magic Adventures Microscope? Which one do you think you'd like more?\\ncaller: The LeapFrog Magic Adventures Microscope sounds interesting. Can you tell me more?\\nfrosty: Absolutely! The LeapFrog Magic Adventures Microscope is an interactive microscope that encourages kids to explore the natural world up close. It includes multiple slides featuring real-life images and fun facts to spark curiosity and learning.\\ncaller: I think that sounds perfect for me! Can you add that to my wish list?\\nfrosty: You got it, Isabella! I have added the LeapFrog Magic Adventures Microscope to your wish list. Where are you calling from?\\ncaller: I'm calling from Manchester, United Kingdom.\\nfrosty: Thank you, Isabella! Before we say goodbye, can you share your favorite pastime or hobby with me?\\ncaller: I love drawing and painting. It's so relaxing and fun!\\nfrosty: That's amazing, Isabella! Thank you for calling Frosty's Holiday Hotline, and have a fabulous holiday season!\"</td>\n",
       "      <td>{\"toy_list\": [\"LeapFrog Magic Adventures Microscope\"], \"location\": \"Manchester\"}</td>\n",
       "      <td>EN</td>\n",
       "      <td>Here is the JSON response with the requested keys:\\n\\n{\\n\"location\": \"Manchester, United Kingdom\",\\n\"toy_list\": [\\n\"LeapFrog Magic Adventures Microscope\"\\n]\\n}</td>\n",
       "    </tr>\n",
       "    <tr>\n",
       "      <th>984</th>\n",
       "      <td>Extract JSON response with 'location' and 'toy_list' as keys. 'location': Location of the caller. Include city only.'toy_list': List of toy names from the caller.</td>\n",
       "      <td>\"frosty: Hello! You've reached Frosty's Holiday Hotline. I'm Frosty, your friendly voice bot. How may I assist you with your holiday wish list?\\ncaller: Hi Frosty! My name is Benjamin, and I need help choosing a toy for my holiday wish list.\\nfrosty: Hi Benjamin! I'm excited to help you find the right toy. What are your interests?\\ncaller: I enjoy playing with cars and watching the Bluey cartoon.\\nfrosty: That's wonderful, Benjamin! How about the Bluey Ultimate Lights and Sounds playhouse or the Teenage Mutant Ninja Turtles: Mutant Mayhem Pizza Fire Delivery Van? Which one appeals to you more?\\ncaller: I like the Bluey playhouse. Can you tell me more about it?\\nfrosty: Of course! The Bluey Ultimate Lights and Sounds playhouse is a delightful playset based on the animated TV series Bluey. It features multiple rooms, fun accessories, and interactive lights and sounds for hours of imaginative play.\\ncaller: That sounds fantastic! I want to add that to my wish list, please.\\nfrosty: Absolutely, Benjamin! I have added the Bluey Ultimate Lights and Sounds playhouse to your wish list. What city are you calling from?\\ncaller: I'm calling from Adelaide, Australia.\\nfrosty: Thank you, Benjamin! Before we finish, can you tell me what you enjoy the most about this time of the year?\\ncaller: I love spending time with my family and enjoying the festive atmosphere.\\nfrosty: That's lovely, Benjamin! Thank you for calling Frosty's Holiday Hotline, and have a wonderful holiday season!\"</td>\n",
       "      <td>{\"toy_list\": [\"Bluey Ultimate Lights and Sounds playhouse\"], \"location\": \"Adelaide\"}</td>\n",
       "      <td>EN</td>\n",
       "      <td>Here is the JSON response with 'location' and 'toy_list' as keys:\\n\\n{\\n\"location\": \"Adelaide, Australia\",\\n\"toy_list\": [\\n\"Bluey Ultimate Lights and Sounds playhouse\"\\n]\\n}</td>\n",
       "    </tr>\n",
       "    <tr>\n",
       "      <th>985</th>\n",
       "      <td>Extract JSON response with 'location' and 'toy_list' as keys. 'location': Location of the caller. Include city only.'toy_list': List of toy names from the caller.</td>\n",
       "      <td>\"caller: Hi there, is this Frosty?\\nfrosty: Hello! Yes, it's me, Frosty, the voice bot. I'm so excited to hear your holiday wish list! What's your name?\\ncaller: I'm Lucy from San Francisco, USA.\\nfrosty: Nice to meet you, Lucy! How old are you?\\ncaller: I'm 8 years old.\\nfrosty: Great, Lucy! Now, would you like to share your wish list with me? You can choose up to two toys.\\ncaller: Hmmm, I'm not really sure. I like so many things...\\nfrosty: That's okay! Let's explore the catalog together. Do you like plushies or action figures?\\ncaller: I like plushies!\\nfrosty: Wonderful! We have fox plushie, baby bee doll, elmo plushie and pokemon plushie. Which one do you think you'd like the most?\\ncaller: I think I want the fox plushie and the elmo plushie! Oh, but the pokemon plushie is awesome, too...\\nfrosty: All three are fantastic choices! If you had to pick only two, which ones would you choose?\\ncaller: I'll go with the fox plushie and the elmo plushie.\\nfrosty: Great choices, Lucy! What do you enjoy the most about this time of the year?\\ncaller: I love spending time with my family and decorating our home.\\nfrosty: That sounds lovely! How do you and your family plan to celebrate the holiday season?\\ncaller: We'll have a big dinner and exchange gifts.\\nfrosty: Sounds wonderful! So just to confirm, you'd like the 2023 Holiday Fox 12-Inch Plush and Sesame Street Monster Meditation Elmo, right?\\ncaller: Yes, that's correct!\\nfrosty: Perfect! Thank you for sharing your holiday wish list with me, Lucy. I hope your holiday season is filled with joy and special memories. Goodbye!\\ncaller: Thank you, Frosty! Goodbye!\"</td>\n",
       "      <td>{\"toy_list\": [\"2023 Holiday Fox 12-Inch Plush\", \"Sesame Street Monster Meditation Elmo\"], \"location\": \"San Francisco\"}</td>\n",
       "      <td>EN</td>\n",
       "      <td>The JSON response for this conversation would be:\\n```\\n{\\n  \"location\": \"San Francisco, USA\",\\n  \"toy_list\": [\\n    \"2023 Holiday Fox 12-Inch Plush\",\\n    \"Sesame Street Monster Meditation Elmo\"\\n  ]\\n}\\n```\\nExplanation:\\n\\n* `location`: The caller's location is `San Francisco, USA`.\\n* `to</td>\n",
       "    </tr>\n",
       "    <tr>\n",
       "      <th>986</th>\n",
       "      <td>Extract JSON response with 'location' and 'toy_list' as keys. 'location': Location of the caller. Include city only.'toy_list': List of toy names from the caller.</td>\n",
       "      <td>\"caller: Is this Frosty's number?\\nfrosty: Yes, it is! I'm Frosty, the voice bot, here to help you with your holiday wish list. What's your name, little one?\\ncaller: My name is Lucas.\\nfrosty: It's a pleasure to meet you, Lucas. Where are you calling from?\\ncaller: I'm calling from Toronto, Canada.\\nfrosty: That's great, Lucas! How old are you?\\ncaller: I'm 7.\\nfrosty: Wonderful! Now, let's talk about your holiday wish list. You can choose up to two toys. What would you like?\\ncaller: I want the spiderman playset and the robot dog!\\nfrosty: Those sound like fun choices! Why are you interested in these toys?\\ncaller: I love superheroes and I've always wanted a pet dog, but we can't have a real one because my sister is allergic.\\nfrosty: That makes sense! What's your favorite pastime or hobby, Lucas?\\ncaller: I like playing soccer with my friends.\\nfrosty: That's awesome! What's your favorite holiday memory?\\ncaller: Last year, we went on a trip to visit my cousins. We had so much fun!\\nfrosty: It sounds like a wonderful memory! Before we end our call, let's confirm your wish list. You'd like the Marvel's Spidey and His Amazing Friends Web Spinners playset and Dog-E, right?\\ncaller: Yes, please!\\nfrosty: Got it, Lucas! I hope you have a fantastic holiday season filled with adventure and love. Goodbye!\\ncaller: Goodbye, Frosty!\"</td>\n",
       "      <td>{\"toy_list\": [\"Marvel's Spidey and His Amazing Friends Web Spinners playset\", \"Dog-E\"], \"location\": \"Toronto\"}</td>\n",
       "      <td>EN</td>\n",
       "      <td>Here is the JSON response that meets the instruction:\\n\\n{\\n\"location\": \"Toronto, Canada\",\\n\"toy_list\": [\\n\"Marvel's Spidey and His Amazing Friends Web Spinners playset\",\\n\"Dog-E\"\\n]\\n}</td>\n",
       "    </tr>\n",
       "    <tr>\n",
       "      <th>987</th>\n",
       "      <td>Extract JSON response with 'location' and 'toy_list' as keys. 'location': Location of the caller. Include city only.'toy_list': List of toy names from the caller.</td>\n",
       "      <td>\"caller: Hello, are you Frosty?\\nfrosty: Hi there! Yes, I am Frosty, the voice bot. I can help you with your holiday wish list. What's your name?\\ncaller: I'm Emily.\\nfrosty: Nice to meet you, Emily! Where are you calling from?\\ncaller: I live in Sydney, Australia.\\nfrosty: That's wonderful, Emily! How old are you?\\ncaller: I'm 9 years old.\\nfrosty: Great! Now let's create your holiday wish list. You can choose up to two toys. What would you like?\\ncaller: Um, I really don't know, there are so many fun toys!\\nfrosty: No worries, we'll explore the options together. Do you prefer creative play or building things?\\ncaller: I like building things!\\nfrosty: We have the magna tiles set, lego olivia's space set, and the fort building kit. Which ones sound the most interesting to you?\\ncaller: I think the lego set and the fort building kit would be fun!\\nfrosty: Those are great choices, Emily! What do you enjoy the most about this time of the year?\\ncaller: I love spending time with my family and baking cookies.\\nfrosty: That's so sweet! What's a favorite holiday memory you have?\\ncaller: We had a big family reunion at the beach last year. It was amazing!\\nfrosty: What a fantastic memory! Let's confirm your toy choices. You'd like the Lego Friends Olivia's Space Academy and the Tiny Land kids fort building kit, right?\\ncaller: Yeah, those are the ones!\\nfrosty: Perfect, Emily! I hope your holiday celebrations are filled with joy, laughter, and lots of cookies. Goodbye!\\ncaller: Goodbye, Frosty!\"</td>\n",
       "      <td>{\"toy_list\": [\"Lego Friends Olivia's Space Academy\", \"Tiny Land kids fort building kit\"], \"location\": \"Sydney\"}</td>\n",
       "      <td>EN</td>\n",
       "      <td>Here is the JSON response with 'location' and 'toy_list' as keys:\\n\\n{\\n\"location\": \"Sydney, Australia\",\\n\"toy_list\": [\\n\"Lego Friends Olivia's Space Academy\",\\n\"Tiny Land kids fort building kit\"\\n]\\n}</td>\n",
       "    </tr>\n",
       "    <tr>\n",
       "      <th>988</th>\n",
       "      <td>Extract JSON response with 'location' and 'toy_list' as keys. 'location': Location of the caller. Include city only.'toy_list': List of toy names from the caller.</td>\n",
       "      <td>\"caller: Hey, Frosty! I have my holiday wish ready!\\nfrosty: Hello! I'm excited to hear it. What's your name?\\ncaller: My name is Leo.\\nfrosty: Nice to meet you, Leo! Where are you calling from?\\ncaller: I'm in Auckland, New Zealand.\\nfrosty: Fantastic, Leo! How old are you?\\ncaller: I am 10.\\nfrosty: Alright, Leo, let's hear your holiday wish list. You can choose up to two toys.\\ncaller: I want the ninja turtles delivery van and the candy vending machine!\\nfrosty: Those are really fun choices! What do you like about these toys?\\ncaller: I love the ninja turtles, and the candy vending machine looks cool. I can share candy with my friends!\\nfrosty: Sharing is caring! How do you and your family plan to celebrate the holiday season?\\ncaller: We always have a big family barbecue at the park.\\nfrosty: That sounds like a lot of fun! What's your favorite holiday memory, Leo?\\ncaller: I loved when we went camping with my whole family, and we stayed up late telling stories.\\nfrosty: What a wonderful experience! So, to confirm, you'd like the Teenage Mutant Ninja Turtles: Mutant Mayhem Pizza Fire Delivery Van and the Thames &amp; Kosmos Candy Vending Machine STEM experiment kit, right?\\ncaller: Yes, that's right!\\nfrosty: Perfect! Thank you for sharing your holiday wish list with me, Leo. Have a fantastic holiday season filled with laughter and adventure. Goodbye!\\ncaller: Thank you, Frosty! Goodbye!\"</td>\n",
       "      <td>{\"toy_list\": [\"Teenage Mutant Ninja Turtles: Mutant Mayhem Pizza Fire Delivery Van\", \"Thames &amp; Kosmos Candy Vending Machine STEM experiment kit\"], \"location\": \"Auckland\"}</td>\n",
       "      <td>EN</td>\n",
       "      <td>Here is the JSON response that extracts the \"location\" and \"toy_list\" keys from the given input:\\n```json\\n{\\n  \"location\": \"Auckland, New Zealand\",\\n  \"toy_list\": [\\n    \"Teenage Mutant Ninja Turtles: Mutant Mayhem Pizza Fire Delivery Van\",\\n    \"Thames &amp; Kosmos Candy Vending Machine STEM experiment kit\"\\n  ]</td>\n",
       "    </tr>\n",
       "    <tr>\n",
       "      <th>989</th>\n",
       "      <td>Extract JSON response with 'location' and 'toy_list' as keys. 'location': Location of the caller. Include city only.'toy_list': List of toy names from the caller.</td>\n",
       "      <td>\"caller: Hi, um, is this Frosty?\\nfrosty: Yes, it is! I'm Frosty, the voice bot, here to help you with your holiday wish list. What's your name?\\ncaller: My name is Ava.\\nfrosty: It's a pleasure to meet you, Ava. Where are you calling from?\\ncaller: I live in London, England.\\nfrosty: Wonderful, Ava! How old are you?\\ncaller: I'm 6 years old.\\nfrosty: Let's make your holiday wish list, Ava. You can choose up to two toys. What would you like?\\ncaller: I really love Barbie, but I also like Calico Critters and Bluey. I don't know what to choose.\\nfrosty: No worries, Ava. We'll find the perfect toys for you. We have the new barbie dreamhouse, barbie science doll set, bluey car, bluey playhouse, and pony's hair salon. Which of these sound the most appealing to you?\\ncaller: Um, I think I want the new barbie dreamhouse and the pony's hair salon. Oh, but the bluey car is so cute...\\nfrosty: You have fantastic taste! If you had to choose just two, which ones would you pick?\\ncaller: I'll pick the new barbie dreamhouse and the bluey car.\\nfrosty: Great choices, Ava! What do you enjoy the most about this time of the year?\\ncaller: I love playing in the snow and going ice skating with my family.\\nfrosty: That's fantastic! What's your favorite holiday memory, Ava?\\ncaller: Last year, my family and I went to see a beautiful holiday lights display in town.\\nfrosty: Magical memories! Let's confirm your toy choices. You'd like the Barbie Dreamhouse 2023 and the Bluey Convertible and Figures, right?\\ncaller: Yes, please!\\nfrosty: Perfect, Ava! I hope you have a lovely holiday season filled with joy and laughter. Goodbye!\\ncaller: Goodbye, Frosty!\"</td>\n",
       "      <td>{\"toy_list\": [\"Barbie Dreamhouse 2023\", \"Bluey Convertible and Figures\"], \"location\": \"London\"}</td>\n",
       "      <td>EN</td>\n",
       "      <td>Here is the JSON response that extracts the \"location\" and \"toy_list\" keys from the provided input:\\n```json\\n{\\n  \"location\": \"London, England\",\\n  \"toy_list\": [\\n    \"Barbie Dreamhouse 2023\",\\n    \"Bluey Convertible and Figures\"\\n  ]\\n}\\n```\\nExplanation:\\n\\n* The \"location\" key is extracted from the input as</td>\n",
       "    </tr>\n",
       "  </tbody>\n",
       "</table>\n",
       "</div>"
      ],
      "text/plain": [
       "                                                                                                                                                            instruction  \\\n",
       "980  Extract JSON response with 'location' and 'toy_list' as keys. 'location': Location of the caller. Include city only.'toy_list': List of toy names from the caller.   \n",
       "981  Extract JSON response with 'location' and 'toy_list' as keys. 'location': Location of the caller. Include city only.'toy_list': List of toy names from the caller.   \n",
       "982  Extract JSON response with 'location' and 'toy_list' as keys. 'location': Location of the caller. Include city only.'toy_list': List of toy names from the caller.   \n",
       "983  Extract JSON response with 'location' and 'toy_list' as keys. 'location': Location of the caller. Include city only.'toy_list': List of toy names from the caller.   \n",
       "984  Extract JSON response with 'location' and 'toy_list' as keys. 'location': Location of the caller. Include city only.'toy_list': List of toy names from the caller.   \n",
       "985  Extract JSON response with 'location' and 'toy_list' as keys. 'location': Location of the caller. Include city only.'toy_list': List of toy names from the caller.   \n",
       "986  Extract JSON response with 'location' and 'toy_list' as keys. 'location': Location of the caller. Include city only.'toy_list': List of toy names from the caller.   \n",
       "987  Extract JSON response with 'location' and 'toy_list' as keys. 'location': Location of the caller. Include city only.'toy_list': List of toy names from the caller.   \n",
       "988  Extract JSON response with 'location' and 'toy_list' as keys. 'location': Location of the caller. Include city only.'toy_list': List of toy names from the caller.   \n",
       "989  Extract JSON response with 'location' and 'toy_list' as keys. 'location': Location of the caller. Include city only.'toy_list': List of toy names from the caller.   \n",
       "\n",
       "                                                                                                                                                                                                                                                                                                                                                                                                                                                                                                                                                                                                                                                                                                                                                                                                                                                                                                                                                                                                                                                                                                                                                                                                                                                                                                                                                                                                                                                                                                                                                                                                                                                                                                                          input  \\\n",
       "980                                                                                                                                                                                             \"frosty: Hello! Welcome to Frosty's Holiday Hotline. I'm Frosty, your festive voice bot. How may I help you today?\\ncaller: Hi Frosty! I'm Ethan, and I need help picking a toy for the holidays.\\nfrosty: Hi Ethan! I'd love to help you find a toy. What are your interests?\\ncaller: I like superheroes and playing with action figures.\\nfrosty: Awesome! How about Marvel's Spidey and His Amazing Friends Web Spinners playset or the Teenage Mutant Ninja Turtles: Mutant Mayhem Pizza Fire Delivery Van? Which one do you like more?\\ncaller: I really like the Spiderman playset! Can you tell me more about it?\\nfrosty:  Sure! The Marvel's Spidey and His Amazing Friends Web Spinners playset features Spiderman and his friends, along with a web-spinning feature and various accessories. It's perfect for kids who love action figures and superheroes.\\ncaller: That's perfect for me! Can you add that to my wish list?\\nfrosty: Of course, Ethan! I have added Marvel's Spidey and His Amazing Friends Web Spinners playset to your wish list. Can you please tell me where you're calling from?\\ncaller: I'm calling from Auckland, New Zealand.\\nfrosty: Thank you, Ethan! Before we finish, can you share your favorite holiday memory with me?\\ncaller: I remember when we went on a family trip to the mountains during the holidays. It was so much fun!\\nfrosty: That sounds like a fantastic memory, Ethan. Thank you for calling Frosty's Holiday Hotline, and have an incredible holiday season!\"   \n",
       "981                                                                                                                                                                                                                                                                                                      \"frosty: Welcome to Frosty's Holiday Hotline! I'm Frosty, your fun-loving voice bot. How can I help you today?\\ncaller: Hi Frosty! My name is Mia, and I want to add a toy to my holiday wish list.\\nfrosty: Hi Mia! It's great to meet you. What type of toy are you interested in?\\ncaller: I like playing with dolls and making my own stories.\\nfrosty: That's fantastic, Mia! How about the Calico Critters Pony's Stylish Hair Salon or Gabbys Dollhouse Cruise Ship? Which one do you prefer?\\ncaller: I think the Gabbys Dollhouse Cruise Ship sounds fun! Can you tell me more?\\nfrosty: Sure! The Gabbys Dollhouse Cruise Ship is a beautifully designed playset featuring Gabby's favorite characters, along with a variety of accessories for creating exciting adventures on the high seas.\\ncaller: That sounds perfect! I want to add that to my wish list.\\nfrosty: Excellent choice, Mia! I have added the Gabbys Dollhouse Cruise Ship to your wish list. Where are you calling from?\\ncaller: I'm calling from Johannesburg, South Africa.\\nfrosty: Thank you, Mia! Before we go, can you tell me how you and your family plan to celebrate the holiday season?\\ncaller: We usually go on a trip to visit our relatives and have a big family party. It's always lots of fun!\\nfrosty: That sounds wonderful! Thank you for calling Frosty's Holiday Hotline, and have a fantastic holiday season!\"   \n",
       "982                                                                                                                                                                                                                                                                                                              \"frosty: Hello and welcome to Frosty's Holiday Hotline! I'm Frosty, your helpful voice bot. How may I assist you with your holiday wish list?\\ncaller: Hi, I'm Jack! I need help deciding what toys to ask for this holiday season. I love dinosaurs and building things!\\nfrosty: Hi Jack! How about the Jurassic World Dominion Super Colossal Giganotosaurus or the Tiny Land kids fort building kit? Which one do you like more?\\ncaller: I'm more interested in the Jurassic World dinosaur. Can you tell me more about it?\\nfrosty: Certainly! The Jurassic World Dominion Super Colossal Giganotosaurus is a giant, highly detailed action figure with an articulated jaw and multiple points of articulation. It's perfect for kids who love dinosaurs and imaginative play.\\ncaller: That's awesome! I want to add that to my wish list, please.\\nfrosty: You got it, Jack! I have added the Jurassic World Dominion Super Colossal Giganotosaurus to your wish list. Can you tell me where you're calling from?\\ncaller: I'm calling from Dublin, Ireland.\\nfrosty: Thank you, Jack! Before we finish, can you share with me what you enjoy the most about this time of the year?\\ncaller: I love the festive atmosphere and seeing all the beautiful decorations in the city.\\nfrosty: That's lovely, Jack! Thank you for calling Frosty's Holiday Hotline, and have a spectacular holiday season!\"   \n",
       "983                                                                                                                                                                                                       \"frosty: Welcome to Frosty's Holiday Hotline! I'm Frosty, your jolly voice bot. How can I help you today?\\ncaller: Hello Frosty, I'm Isabella. I'm looking for a toy to add to my holiday wish list, but I can't decide.\\nfrosty: Hi Isabella! I'm here to help you find the perfect toy. What are your interests?\\ncaller: I like playing with cute animals and exploring new things.\\nfrosty: That's great, Isabella! How about the Fisher-Price Little People Mickey and Friends Playset or the LeapFrog Magic Adventures Microscope? Which one do you think you'd like more?\\ncaller: The LeapFrog Magic Adventures Microscope sounds interesting. Can you tell me more?\\nfrosty: Absolutely! The LeapFrog Magic Adventures Microscope is an interactive microscope that encourages kids to explore the natural world up close. It includes multiple slides featuring real-life images and fun facts to spark curiosity and learning.\\ncaller: I think that sounds perfect for me! Can you add that to my wish list?\\nfrosty: You got it, Isabella! I have added the LeapFrog Magic Adventures Microscope to your wish list. Where are you calling from?\\ncaller: I'm calling from Manchester, United Kingdom.\\nfrosty: Thank you, Isabella! Before we say goodbye, can you share your favorite pastime or hobby with me?\\ncaller: I love drawing and painting. It's so relaxing and fun!\\nfrosty: That's amazing, Isabella! Thank you for calling Frosty's Holiday Hotline, and have a fabulous holiday season!\"   \n",
       "984                                                                                                                                                                        \"frosty: Hello! You've reached Frosty's Holiday Hotline. I'm Frosty, your friendly voice bot. How may I assist you with your holiday wish list?\\ncaller: Hi Frosty! My name is Benjamin, and I need help choosing a toy for my holiday wish list.\\nfrosty: Hi Benjamin! I'm excited to help you find the right toy. What are your interests?\\ncaller: I enjoy playing with cars and watching the Bluey cartoon.\\nfrosty: That's wonderful, Benjamin! How about the Bluey Ultimate Lights and Sounds playhouse or the Teenage Mutant Ninja Turtles: Mutant Mayhem Pizza Fire Delivery Van? Which one appeals to you more?\\ncaller: I like the Bluey playhouse. Can you tell me more about it?\\nfrosty: Of course! The Bluey Ultimate Lights and Sounds playhouse is a delightful playset based on the animated TV series Bluey. It features multiple rooms, fun accessories, and interactive lights and sounds for hours of imaginative play.\\ncaller: That sounds fantastic! I want to add that to my wish list, please.\\nfrosty: Absolutely, Benjamin! I have added the Bluey Ultimate Lights and Sounds playhouse to your wish list. What city are you calling from?\\ncaller: I'm calling from Adelaide, Australia.\\nfrosty: Thank you, Benjamin! Before we finish, can you tell me what you enjoy the most about this time of the year?\\ncaller: I love spending time with my family and enjoying the festive atmosphere.\\nfrosty: That's lovely, Benjamin! Thank you for calling Frosty's Holiday Hotline, and have a wonderful holiday season!\"   \n",
       "985                          \"caller: Hi there, is this Frosty?\\nfrosty: Hello! Yes, it's me, Frosty, the voice bot. I'm so excited to hear your holiday wish list! What's your name?\\ncaller: I'm Lucy from San Francisco, USA.\\nfrosty: Nice to meet you, Lucy! How old are you?\\ncaller: I'm 8 years old.\\nfrosty: Great, Lucy! Now, would you like to share your wish list with me? You can choose up to two toys.\\ncaller: Hmmm, I'm not really sure. I like so many things...\\nfrosty: That's okay! Let's explore the catalog together. Do you like plushies or action figures?\\ncaller: I like plushies!\\nfrosty: Wonderful! We have fox plushie, baby bee doll, elmo plushie and pokemon plushie. Which one do you think you'd like the most?\\ncaller: I think I want the fox plushie and the elmo plushie! Oh, but the pokemon plushie is awesome, too...\\nfrosty: All three are fantastic choices! If you had to pick only two, which ones would you choose?\\ncaller: I'll go with the fox plushie and the elmo plushie.\\nfrosty: Great choices, Lucy! What do you enjoy the most about this time of the year?\\ncaller: I love spending time with my family and decorating our home.\\nfrosty: That sounds lovely! How do you and your family plan to celebrate the holiday season?\\ncaller: We'll have a big dinner and exchange gifts.\\nfrosty: Sounds wonderful! So just to confirm, you'd like the 2023 Holiday Fox 12-Inch Plush and Sesame Street Monster Meditation Elmo, right?\\ncaller: Yes, that's correct!\\nfrosty: Perfect! Thank you for sharing your holiday wish list with me, Lucy. I hope your holiday season is filled with joy and special memories. Goodbye!\\ncaller: Thank you, Frosty! Goodbye!\"   \n",
       "986                                                                                                                                                                                                                                                                                                                        \"caller: Is this Frosty's number?\\nfrosty: Yes, it is! I'm Frosty, the voice bot, here to help you with your holiday wish list. What's your name, little one?\\ncaller: My name is Lucas.\\nfrosty: It's a pleasure to meet you, Lucas. Where are you calling from?\\ncaller: I'm calling from Toronto, Canada.\\nfrosty: That's great, Lucas! How old are you?\\ncaller: I'm 7.\\nfrosty: Wonderful! Now, let's talk about your holiday wish list. You can choose up to two toys. What would you like?\\ncaller: I want the spiderman playset and the robot dog!\\nfrosty: Those sound like fun choices! Why are you interested in these toys?\\ncaller: I love superheroes and I've always wanted a pet dog, but we can't have a real one because my sister is allergic.\\nfrosty: That makes sense! What's your favorite pastime or hobby, Lucas?\\ncaller: I like playing soccer with my friends.\\nfrosty: That's awesome! What's your favorite holiday memory?\\ncaller: Last year, we went on a trip to visit my cousins. We had so much fun!\\nfrosty: It sounds like a wonderful memory! Before we end our call, let's confirm your wish list. You'd like the Marvel's Spidey and His Amazing Friends Web Spinners playset and Dog-E, right?\\ncaller: Yes, please!\\nfrosty: Got it, Lucas! I hope you have a fantastic holiday season filled with adventure and love. Goodbye!\\ncaller: Goodbye, Frosty!\"   \n",
       "987                                                                                                                                                    \"caller: Hello, are you Frosty?\\nfrosty: Hi there! Yes, I am Frosty, the voice bot. I can help you with your holiday wish list. What's your name?\\ncaller: I'm Emily.\\nfrosty: Nice to meet you, Emily! Where are you calling from?\\ncaller: I live in Sydney, Australia.\\nfrosty: That's wonderful, Emily! How old are you?\\ncaller: I'm 9 years old.\\nfrosty: Great! Now let's create your holiday wish list. You can choose up to two toys. What would you like?\\ncaller: Um, I really don't know, there are so many fun toys!\\nfrosty: No worries, we'll explore the options together. Do you prefer creative play or building things?\\ncaller: I like building things!\\nfrosty: We have the magna tiles set, lego olivia's space set, and the fort building kit. Which ones sound the most interesting to you?\\ncaller: I think the lego set and the fort building kit would be fun!\\nfrosty: Those are great choices, Emily! What do you enjoy the most about this time of the year?\\ncaller: I love spending time with my family and baking cookies.\\nfrosty: That's so sweet! What's a favorite holiday memory you have?\\ncaller: We had a big family reunion at the beach last year. It was amazing!\\nfrosty: What a fantastic memory! Let's confirm your toy choices. You'd like the Lego Friends Olivia's Space Academy and the Tiny Land kids fort building kit, right?\\ncaller: Yeah, those are the ones!\\nfrosty: Perfect, Emily! I hope your holiday celebrations are filled with joy, laughter, and lots of cookies. Goodbye!\\ncaller: Goodbye, Frosty!\"   \n",
       "988                                                                                                                                                                                                                                                          \"caller: Hey, Frosty! I have my holiday wish ready!\\nfrosty: Hello! I'm excited to hear it. What's your name?\\ncaller: My name is Leo.\\nfrosty: Nice to meet you, Leo! Where are you calling from?\\ncaller: I'm in Auckland, New Zealand.\\nfrosty: Fantastic, Leo! How old are you?\\ncaller: I am 10.\\nfrosty: Alright, Leo, let's hear your holiday wish list. You can choose up to two toys.\\ncaller: I want the ninja turtles delivery van and the candy vending machine!\\nfrosty: Those are really fun choices! What do you like about these toys?\\ncaller: I love the ninja turtles, and the candy vending machine looks cool. I can share candy with my friends!\\nfrosty: Sharing is caring! How do you and your family plan to celebrate the holiday season?\\ncaller: We always have a big family barbecue at the park.\\nfrosty: That sounds like a lot of fun! What's your favorite holiday memory, Leo?\\ncaller: I loved when we went camping with my whole family, and we stayed up late telling stories.\\nfrosty: What a wonderful experience! So, to confirm, you'd like the Teenage Mutant Ninja Turtles: Mutant Mayhem Pizza Fire Delivery Van and the Thames & Kosmos Candy Vending Machine STEM experiment kit, right?\\ncaller: Yes, that's right!\\nfrosty: Perfect! Thank you for sharing your holiday wish list with me, Leo. Have a fantastic holiday season filled with laughter and adventure. Goodbye!\\ncaller: Thank you, Frosty! Goodbye!\"   \n",
       "989  \"caller: Hi, um, is this Frosty?\\nfrosty: Yes, it is! I'm Frosty, the voice bot, here to help you with your holiday wish list. What's your name?\\ncaller: My name is Ava.\\nfrosty: It's a pleasure to meet you, Ava. Where are you calling from?\\ncaller: I live in London, England.\\nfrosty: Wonderful, Ava! How old are you?\\ncaller: I'm 6 years old.\\nfrosty: Let's make your holiday wish list, Ava. You can choose up to two toys. What would you like?\\ncaller: I really love Barbie, but I also like Calico Critters and Bluey. I don't know what to choose.\\nfrosty: No worries, Ava. We'll find the perfect toys for you. We have the new barbie dreamhouse, barbie science doll set, bluey car, bluey playhouse, and pony's hair salon. Which of these sound the most appealing to you?\\ncaller: Um, I think I want the new barbie dreamhouse and the pony's hair salon. Oh, but the bluey car is so cute...\\nfrosty: You have fantastic taste! If you had to choose just two, which ones would you pick?\\ncaller: I'll pick the new barbie dreamhouse and the bluey car.\\nfrosty: Great choices, Ava! What do you enjoy the most about this time of the year?\\ncaller: I love playing in the snow and going ice skating with my family.\\nfrosty: That's fantastic! What's your favorite holiday memory, Ava?\\ncaller: Last year, my family and I went to see a beautiful holiday lights display in town.\\nfrosty: Magical memories! Let's confirm your toy choices. You'd like the Barbie Dreamhouse 2023 and the Bluey Convertible and Figures, right?\\ncaller: Yes, please!\\nfrosty: Perfect, Ava! I hope you have a lovely holiday season filled with joy and laughter. Goodbye!\\ncaller: Goodbye, Frosty!\"   \n",
       "\n",
       "                                                                                                                                                                         output  \\\n",
       "980                                                                      {\"toy_list\": [\"Marvel's Spidey and His Amazing Friends Web Spinners playset\"], \"location\": \"Auckland\"}   \n",
       "981                                                                                                  {\"toy_list\": [\"Gabbys Dollhouse Cruise Ship\"], \"location\": \"Johannesburg\"}   \n",
       "982                                                                               {\"toy_list\": [\"Jurassic World Dominion Super Colossal Giganotosaurus\"], \"location\": \"Dublin\"}   \n",
       "983                                                                                            {\"toy_list\": [\"LeapFrog Magic Adventures Microscope\"], \"location\": \"Manchester\"}   \n",
       "984                                                                                        {\"toy_list\": [\"Bluey Ultimate Lights and Sounds playhouse\"], \"location\": \"Adelaide\"}   \n",
       "985                                                      {\"toy_list\": [\"2023 Holiday Fox 12-Inch Plush\", \"Sesame Street Monster Meditation Elmo\"], \"location\": \"San Francisco\"}   \n",
       "986                                                              {\"toy_list\": [\"Marvel's Spidey and His Amazing Friends Web Spinners playset\", \"Dog-E\"], \"location\": \"Toronto\"}   \n",
       "987                                                             {\"toy_list\": [\"Lego Friends Olivia's Space Academy\", \"Tiny Land kids fort building kit\"], \"location\": \"Sydney\"}   \n",
       "988  {\"toy_list\": [\"Teenage Mutant Ninja Turtles: Mutant Mayhem Pizza Fire Delivery Van\", \"Thames & Kosmos Candy Vending Machine STEM experiment kit\"], \"location\": \"Auckland\"}   \n",
       "989                                                                             {\"toy_list\": [\"Barbie Dreamhouse 2023\", \"Bluey Convertible and Figures\"], \"location\": \"London\"}   \n",
       "\n",
       "    language  \\\n",
       "980       EN   \n",
       "981       EN   \n",
       "982       EN   \n",
       "983       EN   \n",
       "984       EN   \n",
       "985       EN   \n",
       "986       EN   \n",
       "987       EN   \n",
       "988       EN   \n",
       "989       EN   \n",
       "\n",
       "                                                                                                                                                                                                                                                                                                                    predicted  \n",
       "980                                                                                                                                     Here is the JSON response that meets the instruction:\\n\\n{\\n\"location\": \"Auckland, New Zealand\",\\n\"toy_list\": [\\n\"Marvel's Spidey and His Amazing Friends Web Spinners playset\"\\n]\\n}  \n",
       "981                                                                                                         Here is the JSON response that extracts the \"location\" and \"toy_list\" keys from the input:\\n```\\n{\\n  \"location\": \"Johannesburg, South Africa\",\\n  \"toy_list\": [\\n    \"Gabbys Dollhouse Cruise Ship\"\\n  ]\\n}\\n```  \n",
       "982                                                                                                                                      Here is the JSON response with \"location\" and \"toy_list\" as keys:\\n\\n{\\n\"location\": \"Dublin, Ireland\",\\n\"toy_list\": [\\n\"Jurassic World Dominion Super Colossal Giganotosaurus\"\\n]\\n}  \n",
       "983                                                                                                                                                           Here is the JSON response with the requested keys:\\n\\n{\\n\"location\": \"Manchester, United Kingdom\",\\n\"toy_list\": [\\n\"LeapFrog Magic Adventures Microscope\"\\n]\\n}  \n",
       "984                                                                                                                                             Here is the JSON response with 'location' and 'toy_list' as keys:\\n\\n{\\n\"location\": \"Adelaide, Australia\",\\n\"toy_list\": [\\n\"Bluey Ultimate Lights and Sounds playhouse\"\\n]\\n}  \n",
       "985                     The JSON response for this conversation would be:\\n```\\n{\\n  \"location\": \"San Francisco, USA\",\\n  \"toy_list\": [\\n    \"2023 Holiday Fox 12-Inch Plush\",\\n    \"Sesame Street Monster Meditation Elmo\"\\n  ]\\n}\\n```\\nExplanation:\\n\\n* `location`: The caller's location is `San Francisco, USA`.\\n* `to  \n",
       "986                                                                                                                                 Here is the JSON response that meets the instruction:\\n\\n{\\n\"location\": \"Toronto, Canada\",\\n\"toy_list\": [\\n\"Marvel's Spidey and His Amazing Friends Web Spinners playset\",\\n\"Dog-E\"\\n]\\n}  \n",
       "987                                                                                                                 Here is the JSON response with 'location' and 'toy_list' as keys:\\n\\n{\\n\"location\": \"Sydney, Australia\",\\n\"toy_list\": [\\n\"Lego Friends Olivia's Space Academy\",\\n\"Tiny Land kids fort building kit\"\\n]\\n}  \n",
       "988   Here is the JSON response that extracts the \"location\" and \"toy_list\" keys from the given input:\\n```json\\n{\\n  \"location\": \"Auckland, New Zealand\",\\n  \"toy_list\": [\\n    \"Teenage Mutant Ninja Turtles: Mutant Mayhem Pizza Fire Delivery Van\",\\n    \"Thames & Kosmos Candy Vending Machine STEM experiment kit\"\\n  ]  \n",
       "989  Here is the JSON response that extracts the \"location\" and \"toy_list\" keys from the provided input:\\n```json\\n{\\n  \"location\": \"London, England\",\\n  \"toy_list\": [\\n    \"Barbie Dreamhouse 2023\",\\n    \"Bluey Convertible and Figures\"\\n  ]\\n}\\n```\\nExplanation:\\n\\n* The \"location\" key is extracted from the input as  "
      ]
     },
     "execution_count": 10,
     "metadata": {},
     "output_type": "execute_result"
    }
   ],
   "source": [
    "test_res = runner.infer_batch(test_df)\n",
    "test_res"
   ]
  },
  {
   "cell_type": "markdown",
   "metadata": {},
   "source": [
    "### Log and Deploy Fine-tuned Llama 2 \n",
    "\n",
    "*NOTE: Notice that the \"model_id_or_path\" is set to the output weights folder where the weights from training the model are stored*"
   ]
  },
  {
   "cell_type": "code",
   "execution_count": 15,
   "metadata": {
    "tags": []
   },
   "outputs": [
    {
     "name": "stderr",
     "output_type": "stream",
     "text": [
      "WARNING:absl:The database DASH_DB already exists. Skipping creation.\n",
      "WARNING:absl:The schema DASH_DB.DASH_SCHEMA already exists. Skipping creation.\n",
      "WARNING:snowflake.ml.model._deploy_client.snowservice.deploy:Similar environment detected. Using existing image sfsenorthamerica-build-spcs.registry.snowflakecomputing.com/dash_db/dash_schema/snowml_repo/8a1453d3c1d39172488042f22e4a323c912464a3:latest to skip image build. To disable this feature, set 'force_image_build=True' in deployment options\n",
      "WARNING:snowflake.ml.model._deploy_client.utils.snowservice_client:Best-effort log streaming from SPCS will be enabled when python logging level is set to INFO.Alternatively, you can also query the logs by running the query 'CALL SYSTEM$GET_SERVICE_LOGS('DASH_DB.DASH_SCHEMA.service_e1e43f907f7711ee8545a6435ec35884', '0', 'inference-server')'\n"
     ]
    },
    {
     "ename": "RuntimeError",
     "evalue": "(1301) ResourceType.SERVICE DASH_DB.DASH_SCHEMA.service_e1e43f907f7711ee8545a6435ec35884 does not reach ready/done status.\nStatus: ResourceStatus.PENDING \n",
     "output_type": "error",
     "traceback": [
      "\u001b[0;31m---------------------------------------------------------------------------\u001b[0m",
      "\u001b[0;31mSnowflakeMLException\u001b[0m                      Traceback (most recent call last)",
      "\u001b[0;32m/opt/conda/envs/rapids/lib/python3.8/site-packages/snowflake/ml/_internal/telemetry.py\u001b[0m in \u001b[0;36mwrap\u001b[0;34m(*args, **kwargs)\u001b[0m\n\u001b[1;32m    309\u001b[0m             \u001b[0;32mtry\u001b[0m\u001b[0;34m:\u001b[0m\u001b[0;34m\u001b[0m\u001b[0;34m\u001b[0m\u001b[0m\n\u001b[0;32m--> 310\u001b[0;31m                 \u001b[0mres\u001b[0m \u001b[0;34m=\u001b[0m \u001b[0mfunc\u001b[0m\u001b[0;34m(\u001b[0m\u001b[0;34m*\u001b[0m\u001b[0margs\u001b[0m\u001b[0;34m,\u001b[0m \u001b[0;34m**\u001b[0m\u001b[0mkwargs\u001b[0m\u001b[0;34m)\u001b[0m\u001b[0;34m\u001b[0m\u001b[0;34m\u001b[0m\u001b[0m\n\u001b[0m\u001b[1;32m    311\u001b[0m             \u001b[0;32mexcept\u001b[0m \u001b[0mException\u001b[0m \u001b[0;32mas\u001b[0m \u001b[0me\u001b[0m\u001b[0;34m:\u001b[0m\u001b[0;34m\u001b[0m\u001b[0;34m\u001b[0m\u001b[0m\n",
      "\u001b[0;32m/opt/conda/envs/rapids/lib/python3.8/site-packages/snowflake/snowpark/_internal/utils.py\u001b[0m in \u001b[0;36mfunc_call_wrapper\u001b[0;34m(*args, **kwargs)\u001b[0m\n\u001b[1;32m    619\u001b[0m             \u001b[0mwarning\u001b[0m\u001b[0;34m(\u001b[0m\u001b[0mfunc\u001b[0m\u001b[0;34m.\u001b[0m\u001b[0m__qualname__\u001b[0m\u001b[0;34m,\u001b[0m \u001b[0mwarning_text\u001b[0m\u001b[0;34m)\u001b[0m\u001b[0;34m\u001b[0m\u001b[0;34m\u001b[0m\u001b[0m\n\u001b[0;32m--> 620\u001b[0;31m             \u001b[0;32mreturn\u001b[0m \u001b[0mfunc\u001b[0m\u001b[0;34m(\u001b[0m\u001b[0;34m*\u001b[0m\u001b[0margs\u001b[0m\u001b[0;34m,\u001b[0m \u001b[0;34m**\u001b[0m\u001b[0mkwargs\u001b[0m\u001b[0;34m)\u001b[0m\u001b[0;34m\u001b[0m\u001b[0;34m\u001b[0m\u001b[0m\n\u001b[0m\u001b[1;32m    621\u001b[0m \u001b[0;34m\u001b[0m\u001b[0m\n",
      "\u001b[0;32m/opt/conda/envs/rapids/lib/python3.8/site-packages/snowflake/ml/registry/model_registry.py\u001b[0m in \u001b[0;36mdeploy\u001b[0;34m(self, model_name, model_version, deployment_name, target_method, permanent, platform, options)\u001b[0m\n\u001b[1;32m   1564\u001b[0m         \u001b[0;31m# Step 1: Deploy to get the UDF\u001b[0m\u001b[0;34m\u001b[0m\u001b[0;34m\u001b[0m\u001b[0;34m\u001b[0m\u001b[0m\n\u001b[0;32m-> 1565\u001b[0;31m         deployment_info = model_api.deploy(\n\u001b[0m\u001b[1;32m   1566\u001b[0m             \u001b[0msession\u001b[0m\u001b[0;34m=\u001b[0m\u001b[0mself\u001b[0m\u001b[0;34m.\u001b[0m\u001b[0m_session\u001b[0m\u001b[0;34m,\u001b[0m\u001b[0;34m\u001b[0m\u001b[0;34m\u001b[0m\u001b[0m\n",
      "\u001b[0;32m/opt/conda/envs/rapids/lib/python3.8/site-packages/snowflake/ml/model/_api.py\u001b[0m in \u001b[0;36mdeploy\u001b[0;34m(session, name, platform, stage_path, target_method, deployment_stage_path, model_id, options)\u001b[0m\n\u001b[1;32m    394\u001b[0m \u001b[0;34m\u001b[0m\u001b[0m\n\u001b[0;32m--> 395\u001b[0;31m         details = snowservice_deploy._deploy(\n\u001b[0m\u001b[1;32m    396\u001b[0m             \u001b[0msession\u001b[0m\u001b[0;34m=\u001b[0m\u001b[0msession\u001b[0m\u001b[0;34m,\u001b[0m\u001b[0;34m\u001b[0m\u001b[0;34m\u001b[0m\u001b[0m\n",
      "\u001b[0;32m/opt/conda/envs/rapids/lib/python3.8/site-packages/snowflake/ml/model/_deploy_client/snowservice/deploy.py\u001b[0m in \u001b[0;36m_deploy\u001b[0;34m(session, model_id, model_meta, service_func_name, model_zip_stage_path, deployment_stage_path, target_method, **kwargs)\u001b[0m\n\u001b[1;32m    181\u001b[0m         )\n\u001b[0;32m--> 182\u001b[0;31m         \u001b[0;32mreturn\u001b[0m \u001b[0mss_deployment\u001b[0m\u001b[0;34m.\u001b[0m\u001b[0mdeploy\u001b[0m\u001b[0;34m(\u001b[0m\u001b[0;34m)\u001b[0m\u001b[0;34m\u001b[0m\u001b[0;34m\u001b[0m\u001b[0m\n\u001b[0m\u001b[1;32m    183\u001b[0m     \u001b[0;32mfinally\u001b[0m\u001b[0;34m:\u001b[0m\u001b[0;34m\u001b[0m\u001b[0;34m\u001b[0m\u001b[0m\n",
      "\u001b[0;32m/opt/conda/envs/rapids/lib/python3.8/site-packages/snowflake/ml/model/_deploy_client/snowservice/deploy.py\u001b[0m in \u001b[0;36mdeploy\u001b[0;34m(self)\u001b[0m\n\u001b[1;32m    392\u001b[0m                     \u001b[0mlogger\u001b[0m\u001b[0;34m.\u001b[0m\u001b[0mwarning\u001b[0m\u001b[0;34m(\u001b[0m\u001b[0;34mf\"Failed to add tag {self.model_meta.name} to image {full_image_name}: {str(e)}\"\u001b[0m\u001b[0;34m)\u001b[0m\u001b[0;34m\u001b[0m\u001b[0;34m\u001b[0m\u001b[0m\n\u001b[0;32m--> 393\u001b[0;31m                 \u001b[0;34m(\u001b[0m\u001b[0mservice_spec\u001b[0m\u001b[0;34m,\u001b[0m \u001b[0mservice_function_sql\u001b[0m\u001b[0;34m)\u001b[0m \u001b[0;34m=\u001b[0m \u001b[0mself\u001b[0m\u001b[0;34m.\u001b[0m\u001b[0m_deploy_workflow\u001b[0m\u001b[0;34m(\u001b[0m\u001b[0mfull_image_name\u001b[0m\u001b[0;34m)\u001b[0m\u001b[0;34m\u001b[0m\u001b[0;34m\u001b[0m\u001b[0m\n\u001b[0m\u001b[1;32m    394\u001b[0m         return type_hints.SnowparkContainerServiceDeployDetails(\n",
      "\u001b[0;32m/opt/conda/envs/rapids/lib/python3.8/site-packages/snowflake/ml/model/_deploy_client/snowservice/deploy.py\u001b[0m in \u001b[0;36m_deploy_workflow\u001b[0;34m(self, image)\u001b[0m\n\u001b[1;32m    566\u001b[0m         \u001b[0mlogger\u001b[0m\u001b[0;34m.\u001b[0m\u001b[0minfo\u001b[0m\u001b[0;34m(\u001b[0m\u001b[0;34mf\"Wait for service {self._service_name} to become ready...\"\u001b[0m\u001b[0;34m)\u001b[0m\u001b[0;34m\u001b[0m\u001b[0;34m\u001b[0m\u001b[0m\n\u001b[0;32m--> 567\u001b[0;31m         client.block_until_resource_is_ready(\n\u001b[0m\u001b[1;32m    568\u001b[0m             \u001b[0mresource_name\u001b[0m\u001b[0;34m=\u001b[0m\u001b[0mself\u001b[0m\u001b[0;34m.\u001b[0m\u001b[0m_service_name\u001b[0m\u001b[0;34m,\u001b[0m \u001b[0mresource_type\u001b[0m\u001b[0;34m=\u001b[0m\u001b[0mconstants\u001b[0m\u001b[0;34m.\u001b[0m\u001b[0mResourceType\u001b[0m\u001b[0;34m.\u001b[0m\u001b[0mSERVICE\u001b[0m\u001b[0;34m\u001b[0m\u001b[0;34m\u001b[0m\u001b[0m\n",
      "\u001b[0;32m/opt/conda/envs/rapids/lib/python3.8/site-packages/snowflake/ml/model/_deploy_client/utils/snowservice_client.py\u001b[0m in \u001b[0;36mblock_until_resource_is_ready\u001b[0;34m(self, resource_name, resource_type, max_retries, container_name, retry_interval_secs)\u001b[0m\n\u001b[1;32m    226\u001b[0m \u001b[0;34m\u001b[0m\u001b[0m\n\u001b[0;32m--> 227\u001b[0;31m                 raise snowml_exceptions.SnowflakeMLException(\n\u001b[0m\u001b[1;32m    228\u001b[0m                     \u001b[0merror_code\u001b[0m\u001b[0;34m=\u001b[0m\u001b[0merror_codes\u001b[0m\u001b[0;34m.\u001b[0m\u001b[0mINTERNAL_SNOWPARK_CONTAINER_SERVICE_ERROR\u001b[0m\u001b[0;34m,\u001b[0m\u001b[0;34m\u001b[0m\u001b[0;34m\u001b[0m\u001b[0m\n",
      "\u001b[0;31mSnowflakeMLException\u001b[0m: RuntimeError('(1301) ResourceType.SERVICE DASH_DB.DASH_SCHEMA.service_e1e43f907f7711ee8545a6435ec35884 does not reach ready/done status.\\nStatus: ResourceStatus.PENDING \\n')",
      "\nThe above exception was the direct cause of the following exception:\n",
      "\u001b[0;31mRuntimeError\u001b[0m                              Traceback (most recent call last)",
      "\u001b[0;32m/tmp/ipykernel_1088/1222862329.py\u001b[0m in \u001b[0;36m<module>\u001b[0;34m\u001b[0m\n\u001b[1;32m     28\u001b[0m )\n\u001b[1;32m     29\u001b[0m \u001b[0;34m\u001b[0m\u001b[0m\n\u001b[0;32m---> 30\u001b[0;31m llama_model_ref.deploy(\n\u001b[0m\u001b[1;32m     31\u001b[0m     \u001b[0mdeployment_name\u001b[0m\u001b[0;34m=\u001b[0m\u001b[0;34m\"llama_predict\"\u001b[0m\u001b[0;34m,\u001b[0m\u001b[0;34m\u001b[0m\u001b[0;34m\u001b[0m\u001b[0m\n\u001b[1;32m     32\u001b[0m     \u001b[0mplatform\u001b[0m\u001b[0;34m=\u001b[0m\u001b[0mdeploy_platforms\u001b[0m\u001b[0;34m.\u001b[0m\u001b[0mTargetPlatform\u001b[0m\u001b[0;34m.\u001b[0m\u001b[0mSNOWPARK_CONTAINER_SERVICES\u001b[0m\u001b[0;34m,\u001b[0m\u001b[0;34m\u001b[0m\u001b[0;34m\u001b[0m\u001b[0m\n",
      "\u001b[0;32m/opt/conda/envs/rapids/lib/python3.8/site-packages/snowflake/ml/registry/model_registry.py\u001b[0m in \u001b[0;36m<lambda>\u001b[0;34m(self, *args, **kwargs)\u001b[0m\n\u001b[1;32m   1930\u001b[0m \u001b[0;34m\u001b[0m\u001b[0m\n\u001b[1;32m   1931\u001b[0m             \u001b[0;32mdef\u001b[0m \u001b[0mbuild_method\u001b[0m\u001b[0;34m(\u001b[0m\u001b[0mm\u001b[0m\u001b[0;34m:\u001b[0m \u001b[0mCallable\u001b[0m\u001b[0;34m[\u001b[0m\u001b[0;34m...\u001b[0m\u001b[0;34m,\u001b[0m \u001b[0mAny\u001b[0m\u001b[0;34m]\u001b[0m\u001b[0;34m)\u001b[0m \u001b[0;34m->\u001b[0m \u001b[0mCallable\u001b[0m\u001b[0;34m[\u001b[0m\u001b[0;34m...\u001b[0m\u001b[0;34m,\u001b[0m \u001b[0mAny\u001b[0m\u001b[0;34m]\u001b[0m\u001b[0;34m:\u001b[0m\u001b[0;34m\u001b[0m\u001b[0;34m\u001b[0m\u001b[0m\n\u001b[0;32m-> 1932\u001b[0;31m                 return lambda self, *args, **kwargs: m(\n\u001b[0m\u001b[1;32m   1933\u001b[0m                     \u001b[0mself\u001b[0m\u001b[0;34m.\u001b[0m\u001b[0m_registry\u001b[0m\u001b[0;34m,\u001b[0m \u001b[0mself\u001b[0m\u001b[0;34m.\u001b[0m\u001b[0m_model_name\u001b[0m\u001b[0;34m,\u001b[0m \u001b[0mself\u001b[0m\u001b[0;34m.\u001b[0m\u001b[0m_model_version\u001b[0m\u001b[0;34m,\u001b[0m \u001b[0;34m*\u001b[0m\u001b[0margs\u001b[0m\u001b[0;34m,\u001b[0m \u001b[0;34m**\u001b[0m\u001b[0mkwargs\u001b[0m\u001b[0;34m\u001b[0m\u001b[0;34m\u001b[0m\u001b[0m\n\u001b[1;32m   1934\u001b[0m                 )\n",
      "\u001b[0;32m/opt/conda/envs/rapids/lib/python3.8/site-packages/snowflake/ml/_internal/telemetry.py\u001b[0m in \u001b[0;36mwrap\u001b[0;34m(*args, **kwargs)\u001b[0m\n\u001b[1;32m    328\u001b[0m                     \u001b[0;32mraise\u001b[0m \u001b[0me\u001b[0m\u001b[0;34m.\u001b[0m\u001b[0moriginal_exception\u001b[0m \u001b[0;32mfrom\u001b[0m \u001b[0;32mNone\u001b[0m\u001b[0;34m\u001b[0m\u001b[0;34m\u001b[0m\u001b[0m\n\u001b[1;32m    329\u001b[0m                 \u001b[0;32melse\u001b[0m\u001b[0;34m:\u001b[0m\u001b[0;34m\u001b[0m\u001b[0;34m\u001b[0m\u001b[0m\n\u001b[0;32m--> 330\u001b[0;31m                     \u001b[0;32mraise\u001b[0m \u001b[0me\u001b[0m\u001b[0;34m.\u001b[0m\u001b[0moriginal_exception\u001b[0m \u001b[0;32mfrom\u001b[0m \u001b[0me\u001b[0m\u001b[0;34m\u001b[0m\u001b[0;34m\u001b[0m\u001b[0m\n\u001b[0m\u001b[1;32m    331\u001b[0m             \u001b[0;32melse\u001b[0m\u001b[0;34m:\u001b[0m\u001b[0;34m\u001b[0m\u001b[0;34m\u001b[0m\u001b[0m\n\u001b[1;32m    332\u001b[0m                 \u001b[0;32mreturn\u001b[0m \u001b[0mres\u001b[0m\u001b[0;34m\u001b[0m\u001b[0;34m\u001b[0m\u001b[0m\n",
      "\u001b[0;31mRuntimeError\u001b[0m: (1301) ResourceType.SERVICE DASH_DB.DASH_SCHEMA.service_e1e43f907f7711ee8545a6435ec35884 does not reach ready/done status.\nStatus: ResourceStatus.PENDING \n"
     ]
    }
   ],
   "source": [
    "# NOTE: This will take ~20mins\n",
    "MODEL_NAME = \"LLAMA2_7b_CHAT\"\n",
    "MODEL_VERSION =\"TunedV2.0\"\n",
    "MODEL_REGISTRY_DB = \"DASH_DB\"\n",
    "MODEL_REGISTRY_SCHEMA = \"DASH_SCHEMA\"\n",
    "COMPUTE_POOL = \"DASH_BUILD_GPU3\"\n",
    "DEPLOYMENT_NAME = \"fine_tuned_llama_predict\"\n",
    "\n",
    "options = llm.LLMOptions(\n",
    "    token=connection_parameters[\"huggingface_token\"],\n",
    "    max_batch_size=100,\n",
    ")\n",
    "\n",
    "llama_model = llm.LLM(\n",
    "    model_id_or_path=output_weights_dir,\n",
    "    options=options\n",
    ")\n",
    "\n",
    "registry = model_registry.ModelRegistry(\n",
    "    session=session, \n",
    "    database_name=MODEL_REGISTRY_DB, \n",
    "    schema_name=MODEL_REGISTRY_SCHEMA, \n",
    "    create_if_not_exists=True)\n",
    "\n",
    "llama_model_ref = registry.log_model(\n",
    "    model_name=MODEL_NAME,\n",
    "    model_version=MODEL_VERSION,\n",
    "    model=llama_model\n",
    ")\n",
    "\n",
    "llama_model_ref.deploy(\n",
    "    deployment_name=DEPLOYMENT_NAME, \n",
    "    platform=deploy_platforms.TargetPlatform.SNOWPARK_CONTAINER_SERVICES,\n",
    "    permanent=True, \n",
    "    options={\"compute_pool\": COMPUTE_POOL, \"num_gpus\": 1})"
   ]
  },
  {
   "cell_type": "code",
   "execution_count": 13,
   "metadata": {
    "tags": []
   },
   "outputs": [
    {
     "data": {
      "text/plain": [
       "<snowflake.ml.registry.model_registry.ModelReference at 0x7f7b102f7640>"
      ]
     },
     "execution_count": 13,
     "metadata": {},
     "output_type": "execute_result"
    }
   ],
   "source": [
    "llama_model_ref = model_registry.ModelReference(registry=registry,model_name=MODEL_NAME,model_version=MODEL_VERSION)\n",
    "df_predict_results = llama_model_ref.predict(deployment_name=\"llama_predict\",data=test_df)\n",
    "df_predict_results.show(max_width=600)"
   ]
  }
 ],
 "metadata": {
  "kernelspec": {
   "display_name": "Python 3 (ipykernel)",
   "language": "python",
   "name": "python3"
  },
  "language_info": {
   "codemirror_mode": {
    "name": "ipython",
    "version": 3
   },
   "file_extension": ".py",
   "mimetype": "text/x-python",
   "name": "python",
   "nbconvert_exporter": "python",
   "pygments_lexer": "ipython3",
   "version": "3.8.16"
  }
 },
 "nbformat": 4,
 "nbformat_minor": 4
}
