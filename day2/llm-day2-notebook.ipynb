{
 "cells": [
  {
   "cell_type": "code",
   "execution_count": 18,
   "metadata": {
    "tags": []
   },
   "outputs": [],
   "source": [
    "# !pip install --no-deps --force-reinstall snowflake_ml_python-1.0.12-py3-none-any.whl"
   ]
  },
  {
   "cell_type": "code",
   "execution_count": 20,
   "metadata": {
    "tags": []
   },
   "outputs": [],
   "source": [
    "# !pip install peft transformers tokenizers vllm bitsandbytes datasets absl-py"
   ]
  },
  {
   "cell_type": "markdown",
   "metadata": {},
   "source": [
    "### Import Libraries"
   ]
  },
  {
   "cell_type": "code",
   "execution_count": 1,
   "metadata": {
    "tags": []
   },
   "outputs": [],
   "source": [
    "from snowflake.snowpark.session import Session\n",
    "from snowflake.ml.model.models import llm\n",
    "from snowflake.ml.registry import model_registry\n",
    "from snowflake.ml.model import deploy_platforms\n",
    "import snowflake.ml.playground.finetune as ft_util\n",
    "from snowflake.snowpark import VERSION\n",
    "import snowflake.snowpark.functions as F\n",
    "\n",
    "import sys\n",
    "import os\n",
    "import json\n",
    "import pandas as pd\n",
    "pd.set_option('display.max_colwidth', None)"
   ]
  },
  {
   "cell_type": "markdown",
   "metadata": {},
   "source": [
    "### Establish Secure Connection"
   ]
  },
  {
   "cell_type": "code",
   "execution_count": 2,
   "metadata": {
    "tags": []
   },
   "outputs": [
    {
     "name": "stdout",
     "output_type": "stream",
     "text": [
      "User                        : DASH\n",
      "Role                        : \"DASH_SPCS\"\n",
      "Database                    : \"DASH_DB\"\n",
      "Schema                      : \"DASH_SCHEMA\"\n",
      "Warehouse                   : \"DASH_L\"\n",
      "Snowflake version           : 7.40.0\n",
      "Snowpark for Python version : 1.9.0\n"
     ]
    }
   ],
   "source": [
    "# Create Snowflake Session object\n",
    "connection_parameters = json.load(open('connection.json'))\n",
    "session = Session.builder.configs(connection_parameters).create()\n",
    "session.sql_simplifier_enabled = True\n",
    "\n",
    "snowflake_environment = session.sql('select current_user(), current_version()').collect()\n",
    "snowpark_version = VERSION\n",
    "\n",
    "# Current Environment Details\n",
    "print('User                        : {}'.format(snowflake_environment[0][0]))\n",
    "print('Role                        : {}'.format(session.get_current_role()))\n",
    "print('Database                    : {}'.format(session.get_current_database()))\n",
    "print('Schema                      : {}'.format(session.get_current_schema()))\n",
    "print('Warehouse                   : {}'.format(session.get_current_warehouse()))\n",
    "print('Snowflake version           : {}'.format(snowflake_environment[0][1]))\n",
    "print('Snowpark for Python version : {}.{}.{}'.format(snowpark_version[0],snowpark_version[1],snowpark_version[2]))"
   ]
  },
  {
   "cell_type": "markdown",
   "metadata": {},
   "source": [
    "### Train Llama 2 in Snowpark Container Services"
   ]
  },
  {
   "cell_type": "code",
   "execution_count": 3,
   "metadata": {
    "tags": []
   },
   "outputs": [
    {
     "name": "stdout",
     "output_type": "stream",
     "text": [
      "mkdir: cannot create directory ‘merged_weights_dir’: File exists\n",
      "mkdir: cannot create directory ‘output_weights_dir’: File exists\n"
     ]
    }
   ],
   "source": [
    "!mkdir merged_weights_dir\n",
    "!mkdir output_weights_dir"
   ]
  },
  {
   "cell_type": "markdown",
   "metadata": {},
   "source": [
    "#### Load Training Dataset"
   ]
  },
  {
   "cell_type": "code",
   "execution_count": 7,
   "metadata": {
    "tags": []
   },
   "outputs": [
    {
     "name": "stdout",
     "output_type": "stream",
     "text": [
      "Total records: 990\n",
      "Train        : 100\n",
      "Eval         : 100\n",
      "Test         : 100\n"
     ]
    }
   ],
   "source": [
    "df = pd.read_json(\"train.json\", lines=True)\n",
    "print(f\"Total records: {df.shape[0]}\")\n",
    "# In the interest of time we will train, eval and test on 100 records\n",
    "train_df = df.head(100)\n",
    "print(f\"Train        : {train_df.shape[0]}\")\n",
    "eval_df = df[200:300]\n",
    "print(f\"Eval         : {eval_df.shape[0]}\")\n",
    "test_df = df.tail(100)\n",
    "print(f\"Test         : {test_df.shape[0]}\")"
   ]
  },
  {
   "cell_type": "markdown",
   "metadata": {},
   "source": [
    "#### Train Llama 2"
   ]
  },
  {
   "cell_type": "code",
   "execution_count": 8,
   "metadata": {
    "tags": []
   },
   "outputs": [
    {
     "name": "stdout",
     "output_type": "stream",
     "text": [
      "CPU times: user 3 µs, sys: 1e+03 ns, total: 4 µs\n",
      "Wall time: 5.96 µs\n"
     ]
    },
    {
     "data": {
      "application/vnd.jupyter.widget-view+json": {
       "model_id": "a2806fbd2f4140ceb4fb67bac0104bd4",
       "version_major": 2,
       "version_minor": 0
      },
      "text/plain": [
       "Loading checkpoint shards:   0%|          | 0/2 [00:00<?, ?it/s]"
      ]
     },
     "metadata": {},
     "output_type": "display_data"
    },
    {
     "name": "stdout",
     "output_type": "stream",
     "text": [
      "trainable params: 4,194,304 || all params: 6,742,609,920 || trainable%: 0.06220594176090199\n"
     ]
    },
    {
     "data": {
      "application/vnd.jupyter.widget-view+json": {
       "model_id": "5197f8d6fd484c3e8ceb731f99164aaf",
       "version_major": 2,
       "version_minor": 0
      },
      "text/plain": [
       "Map (num_proc=8):   0%|          | 0/100 [00:00<?, ? examples/s]"
      ]
     },
     "metadata": {},
     "output_type": "display_data"
    },
    {
     "data": {
      "application/vnd.jupyter.widget-view+json": {
       "model_id": "6bb5a132533e4c86b415c0b6e30d1de4",
       "version_major": 2,
       "version_minor": 0
      },
      "text/plain": [
       "Map (num_proc=8):   0%|          | 0/100 [00:00<?, ? examples/s]"
      ]
     },
     "metadata": {},
     "output_type": "display_data"
    },
    {
     "name": "stderr",
     "output_type": "stream",
     "text": [
      "Detected kernel version 5.4.181, which is below the recommended minimum of 5.5.0; this can cause the process to hang. It is recommended to upgrade the kernel to the minimum version or higher.\n"
     ]
    },
    {
     "data": {
      "text/html": [
       "\n",
       "    <div>\n",
       "      \n",
       "      <progress value='25' max='25' style='width:300px; height:20px; vertical-align: middle;'></progress>\n",
       "      [25/25 02:23, Epoch 1/1]\n",
       "    </div>\n",
       "    <table border=\"1\" class=\"dataframe\">\n",
       "  <thead>\n",
       " <tr style=\"text-align: left;\">\n",
       "      <th>Step</th>\n",
       "      <th>Training Loss</th>\n",
       "      <th>Validation Loss</th>\n",
       "    </tr>\n",
       "  </thead>\n",
       "  <tbody>\n",
       "    <tr>\n",
       "      <td>10</td>\n",
       "      <td>1.273800</td>\n",
       "      <td>0.968880</td>\n",
       "    </tr>\n",
       "    <tr>\n",
       "      <td>20</td>\n",
       "      <td>0.980400</td>\n",
       "      <td>0.553748</td>\n",
       "    </tr>\n",
       "  </tbody>\n",
       "</table><p>"
      ],
      "text/plain": [
       "<IPython.core.display.HTML object>"
      ]
     },
     "metadata": {},
     "output_type": "display_data"
    },
    {
     "data": {
      "application/vnd.jupyter.widget-view+json": {
       "model_id": "9563fe7d1458495ca22242f4d42a9ee0",
       "version_major": 2,
       "version_minor": 0
      },
      "text/plain": [
       "Loading checkpoint shards:   0%|          | 0/2 [00:00<?, ?it/s]"
      ]
     },
     "metadata": {},
     "output_type": "display_data"
    },
    {
     "name": "stdout",
     "output_type": "stream",
     "text": [
      "INFO 11-11 01:31:33 llm_engine.py:72] Initializing an LLM engine with config: model='merged_weights_dir', tokenizer='merged_weights_dir', tokenizer_mode=auto, revision=None, tokenizer_revision=None, trust_remote_code=False, dtype=torch.bfloat16, max_seq_len=4096, download_dir=None, load_format=auto, tensor_parallel_size=1, quantization=None, seed=0)\n",
      "INFO 11-11 01:32:20 llm_engine.py:207] # GPU blocks: 864, # CPU blocks: 512\n"
     ]
    }
   ],
   "source": [
    "# Takes about ~2mins for 10 records\n",
    "# Takes about ~5mins for 100 records\n",
    "\n",
    "merged_weights_dir = 'merged_weights_dir'\n",
    "output_weights_dir = 'output_weights_dir'\n",
    "\n",
    "runner = ft_util.FinetuneModelRunner(\n",
    "    base_model_id=\"meta-llama/Llama-2-7b-chat-hf\",\n",
    "    task_type=ft_util.FinetuneTaskType.INSTRUCT,\n",
    "    train_dataset=train_df,\n",
    "    eval_dataset=eval_df,\n",
    ")\n",
    "\n",
    "mcf = ft_util.ModelConfig(\n",
    "    num_epochs=1,\n",
    "    quantization=ft_util.QuantizationConfig(\n",
    "        k_bits=4,\n",
    "    ),\n",
    "    merged_weights_dir_path=merged_weights_dir,\n",
    ")\n",
    "\n",
    "_ = runner.train(output_weights_dir, model_cfg=mcf)"
   ]
  },
  {
   "cell_type": "markdown",
   "metadata": {},
   "source": [
    "#### *Once the training completes, notice the \"trainable params\" and \"all params\" -- it should indicate that the total number of params are ~7billion; whereas we only trained using ~4million additional params*\n",
    "\n",
    "#### *Also examine the contents of merged_weights_dir and output_weights_dir*"
   ]
  },
  {
   "cell_type": "markdown",
   "metadata": {},
   "source": [
    "#### Evaluate Results on Training Dataset\n",
    "\n",
    "*Examine the \"output\" and \"predicted\" columns*"
   ]
  },
  {
   "cell_type": "code",
   "execution_count": 9,
   "metadata": {
    "tags": []
   },
   "outputs": [
    {
     "name": "stderr",
     "output_type": "stream",
     "text": [
      "Processed prompts: 100%|██████████| 100/100 [00:16<00:00,  6.15it/s]\n",
      "/opt/conda/envs/rapids/lib/python3.8/site-packages/snowflake/ml/playground/finetune.py:573: SettingWithCopyWarning: \n",
      "A value is trying to be set on a copy of a slice from a DataFrame.\n",
      "Try using .loc[row_indexer,col_indexer] = value instead\n",
      "\n",
      "See the caveats in the documentation: https://pandas.pydata.org/pandas-docs/stable/user_guide/indexing.html#returning-a-view-versus-a-copy\n",
      "  eval_df[\"predicted\"] = ts\n"
     ]
    },
    {
     "data": {
      "text/html": [
       "<div>\n",
       "<style scoped>\n",
       "    .dataframe tbody tr th:only-of-type {\n",
       "        vertical-align: middle;\n",
       "    }\n",
       "\n",
       "    .dataframe tbody tr th {\n",
       "        vertical-align: top;\n",
       "    }\n",
       "\n",
       "    .dataframe thead th {\n",
       "        text-align: right;\n",
       "    }\n",
       "</style>\n",
       "<table border=\"1\" class=\"dataframe\">\n",
       "  <thead>\n",
       "    <tr style=\"text-align: right;\">\n",
       "      <th></th>\n",
       "      <th>instruction</th>\n",
       "      <th>input</th>\n",
       "      <th>output</th>\n",
       "      <th>language</th>\n",
       "      <th>predicted</th>\n",
       "    </tr>\n",
       "  </thead>\n",
       "  <tbody>\n",
       "    <tr>\n",
       "      <th>200</th>\n",
       "      <td>Extract JSON response with 'location' and 'toy_list' as keys. 'location': Location of the caller. Include city only.'toy_list': List of toy names from the caller.</td>\n",
       "      <td>\"frosty: Hello! It's Frosty here to make your holiday wishes come true. May I know your name?\\ncaller: My name's Oliver, Frosty.\\nfrosty: Hi Oliver! Where are you from?\\ncaller: From Manchester in the UK.\\nfrosty: Great! And what toy are you wishing for?\\ncaller: Um, I think I want a snap circuit set or a magic microscope but I'm not sure which.\\nfrosty: Snap Circuits: Junior and LeapFrog Magic Adventures Microscope. Those are both educational and fun. Is that why you're interested?\\ncaller: Yes, I like learning new things while playing. I think I'll go with the snap circuit set.\\nfrosty: I can see why you'd choose it, it's a popular choice. And before we finish, can you tell me how you plan to celebrate the holiday season?\\ncaller: I'm going to have a sleepover with my cousins! It's our tradition.\\nfrosty: That sounds great! So, the Snap Circuits: Junior for your holiday wish, right Oliver?\\ncaller: Yes, please, Frosty. Thank you.\\nfrosty: Certainly, Oliver. Happy holidays!\"</td>\n",
       "      <td>{\"toy_list\": [\"Snap Circuits: Junior\"], \"location\": \"Manchester\"}</td>\n",
       "      <td>EN</td>\n",
       "      <td>{\"toy_list\": [\"Snap Circuits: Junior\"], \"location\": \"Manchester\"}</td>\n",
       "    </tr>\n",
       "    <tr>\n",
       "      <th>201</th>\n",
       "      <td>Extract JSON response with 'location' and 'toy_list' as keys. 'location': Location of the caller. Include city only.'toy_list': List of toy names from the caller.</td>\n",
       "      <td>\"frosty: Hi friend! I'm here to help make your holiday joyous. What's your name?\\ncaller: Hello Frosty, I'm Charlotte!\\nfrosty: Hi Charlotte, where are you from?\\ncaller: I'm from Toronto, Canada.\\nfrosty: Awesome! What's on your holiday wish list, Charlotte?\\ncaller: I really can't decide between the magna tiles set and the fort building kit. They both seem so fun.\\nfrosty: Interesting choices! Magna-Tiles 32-piece set and Tiny Land kids fort building kit. Do you like these because you love building and designing?\\ncaller: Yes, I love creating my own world! You know what? I'll go with the fort building kit. It seems more exciting!\\nfrosty: Good choice, Charlotte! Before we finish, can you tell me what you love most about this time of the year?\\ncaller: Yes, I love the holiday lights and spending time with my family.\\nfrosty: Wonderful! It's the Tiny Land kids fort building kit then. Happy holidays, Charlotte!\"</td>\n",
       "      <td>{\"toy_list\": [\"Tiny Land kids fort building kit\"], \"location\": \"Toronto\"}</td>\n",
       "      <td>EN</td>\n",
       "      <td>{\"toy_list\": [\"Tiny Land kids fort building kit\"], \"location\": \"Toronto\"}</td>\n",
       "    </tr>\n",
       "    <tr>\n",
       "      <th>202</th>\n",
       "      <td>Extract JSON response with 'location' and 'toy_list' as keys. 'location': Location of the caller. Include city only.'toy_list': List of toy names from the caller.</td>\n",
       "      <td>\"Frosty: Hi there, welcome to our wonderful world of winter wishes! How may I help you today?\\nCaller: Hi! My name is Emma, I'm ten.\\nFrosty: Hello Emma, it's nice to meet you! Where are you calling from?\\nCaller: I'm from Los Angeles, California.\\nFrosty: It sounds like it's warm there while we're in a winter wonderland! Well, Emma, are you ready to tell Frosty what you would like as your holiday presents this year?\\nCaller: Umm, I think I want the fox plushie and the baby bee doll.\\nFrosty: Oh, those are amazing choices! Why are you interested in these toys, Emma?\\nCaller: They are so soft and cute. I love cuddling with plushies!\\nFrosty: Great choices! Plushies are indeed very cuddly. How do you and your family plan to celebrate the holiday season?\\nCaller: We will be baking cookies and watching movies together.\\nFrosty: That sounds wonderful! Alright Emma, I've got your wish for the 2023 Holiday Fox 12-Inch Plush and Orijin Bees Lovey Coiley Baby Bee. Thank you for your call!\"</td>\n",
       "      <td>{\"toy_list\": [\"2023 Holiday Fox 12-Inch Plush\", \"Orijin Bees Lovey Coiley Baby Bee\"], \"location\": \"Los Angeles\"}</td>\n",
       "      <td>EN</td>\n",
       "      <td>{\"toy_list\": [\"Fox plushie\", \"Baby bee doll\"], \"location\": \"Los Angeles\"}</td>\n",
       "    </tr>\n",
       "    <tr>\n",
       "      <th>203</th>\n",
       "      <td>Extract JSON response with 'location' and 'toy_list' as keys. 'location': Location of the caller. Include city only.'toy_list': List of toy names from the caller.</td>\n",
       "      <td>\"Frosty: Hello, welcome to our winter wonderland hotline! Who's speaking today?\\nCaller: Hi Frosty I'm Jonah. Can you help me with my holiday wish?\\nFrosty: Hi Jonah! Of course, I'd love to help. Could you please tell me where are you calling from.?\\nCaller: I'm from Manchester, England.\\nFrosty: Lovely! Now, tell me Jonah, what are you wishing for this holiday season?\\nCaller: I like cars and dogs. I'm thinking about the bluey car and the robot dog.\\nFrosty: Those look like a lot of fun! Jonah, can you tell me why you're interested in those toys?\\nCaller: My friends have them and they told me they are so fun! \\nFrosty: Ah, I see. Well, the Bluey Convertible and Figures and Dog-E are both great choices. Thank you for calling in Jonah!\"</td>\n",
       "      <td>{\"toy_list\": [\"Bluey Convertible and Figures\", \"Dog-E\"], \"location\": \"Manchester\"}</td>\n",
       "      <td>EN</td>\n",
       "      <td>{\"toy_list\": [\"Bluey Convertible\", \"Bluey Figures\", \"Dog-E\"], \"location\": \"Manchester\"}</td>\n",
       "    </tr>\n",
       "    <tr>\n",
       "      <th>204</th>\n",
       "      <td>Extract JSON response with 'location' and 'toy_list' as keys. 'location': Location of the caller. Include city only.'toy_list': List of toy names from the caller.</td>\n",
       "      <td>\"Frosty: Hi there! Welcome to our winter wishes line! What's your name?\\nCaller: I'm Leah and I'm seven. Can I ask for two toys?\\nFrosty: Sure you can, Leah! By the way where are you calling from?\\nCaller: I'm from Sydney, Australia.\\nFrosty: How wonderful! Now, let's hear your two wishes Leah!\\nCaller: Uhm, I can't decide between the barbie science doll set and the new barbie dreamhouse.\\nFrosty: Well, either one would be great. Just think about what you would have more fun playing with.\\nCaller: I think I like the barbie science doll set better.\\nFrosty: That's an excellent choice, Leah! It will be so much fun for you. Have a great holiday!\"</td>\n",
       "      <td>{\"toy_list\": [\"Barbie Science Lab Playset\", \"Barbie Dreamhouse 2023\"], \"location\": \"Sydney\"}</td>\n",
       "      <td>EN</td>\n",
       "      <td>{\"toy_list\": [\"Barbie Science Doll Set\"], \"location\": \"Sydney\"}</td>\n",
       "    </tr>\n",
       "    <tr>\n",
       "      <th>...</th>\n",
       "      <td>...</td>\n",
       "      <td>...</td>\n",
       "      <td>...</td>\n",
       "      <td>...</td>\n",
       "      <td>...</td>\n",
       "    </tr>\n",
       "    <tr>\n",
       "      <th>295</th>\n",
       "      <td>Extract JSON response with 'location' and 'toy_list' as keys. 'location': Location of the caller. Include city only.'toy_list': List of toy names from the caller.</td>\n",
       "      <td>\"Frosty: Hi there, jolly greetings! Who is this?\\nCaller: My name's Sophia. I'm calling from Cape Town.\\nFrosty: Hello Sophia from Cape Town! What's on your wish list this holiday season?\\nCaller: I want lola droid and spiderman playset.\\nFrosty: Cool choices, Sophia! What made you choose them?\\nCaller: Because they are based on my favorite movies.\\nFrosty: How does your family plan to celebrate this season?\\nCaller: We will spend time at the beach and have a picnic.\\nFrosty: That sounds wonderful! Those toys will surely add joy to your festivities. Finalizing Star Wars LOLA animatronic droid and Marvel's Spidey and His Amazing Friends Web Spinners playset on your list then?\\nCaller: Yes, add them please!\\nFrosty: Sure, they're on your wish list now. Thanks for calling, Sophia!\"</td>\n",
       "      <td>{\"toy_list\": [\"Star Wars LOLA animatronic droid\", \"Marvel's Spidey and His Amazing Friends Web Spinners playset\"], \"location\": \"Cape Town\"}</td>\n",
       "      <td>EN</td>\n",
       "      <td>{\"toy_list\": [\"Lola Droid\", \"Spiderman Playset\"], \"location\": \"Cape Town\"}</td>\n",
       "    </tr>\n",
       "    <tr>\n",
       "      <th>296</th>\n",
       "      <td>Extract JSON response with 'location' and 'toy_list' as keys. 'location': Location of the caller. Include city only.'toy_list': List of toy names from the caller.</td>\n",
       "      <td>\"Frosty: Cheerful greetings! I'm Frosty. Who's calling?\\nCaller: Hi! I'm Ava. I'm from Los Angeles.\\nFrosty: Great to hear from you, Ava! What are your toy wishes for this holiday season?\\nCaller: I like the baby bee doll and fox plushie.\\nFrosty: Both super cuddly! Why do those stand out to you?\\nCaller: They are so cute and I love their colors.\\nFrosty: What do you enjoy most about this time of year?\\nCaller: The playtime and the yummy food!\\nFrosty: Yummy food and play, a perfect combo! So, shall we add the Orijin Bees Lovey Coiley Baby Bee and 2023 Holiday Fox 12-Inch Plush to your wish list?\\nCaller: Yes, I\\u2019d like that.\\nFrosty: Great! They're on your list now. Thanks for calling, Ava!\"</td>\n",
       "      <td>{\"toy_list\": [\"Orijin Bees Lovey Coiley Baby Bee\", \"2023 Holiday Fox 12-Inch Plush\"], \"location\": \"Los Angeles\"}</td>\n",
       "      <td>EN</td>\n",
       "      <td>{\"toy_list\": [\"Orijin Bees Lovey Coiley Baby Bee\", \"2023 Holiday Fox 12-Inch Plush\"], \"location\": \"Los Angeles\"}</td>\n",
       "    </tr>\n",
       "    <tr>\n",
       "      <th>297</th>\n",
       "      <td>Extract JSON response with 'location' and 'toy_list' as keys. 'location': Location of the caller. Include city only.'toy_list': List of toy names from the caller.</td>\n",
       "      <td>\"frosty: Hello, little snowflake! How can I help you today?\\ncaller: Hi, I'm Liam from Auckland, New Zealand.\\nfrosty: Hi Liam! How old are you?\\ncaller: I'm 8. Can you help me with my holiday wish list? \\nfrosty: Of course, Liam! What toys are you hoping for? \\ncaller: Uh, I want a furby, and maybe the new barbie dreamhouse for my sister.\\nfrosty: Lovely choices, Liam! Why are you interested in the furby?\\ncaller: Because it can talk, and it's funny.\\nfrosty: That's great! And how do you plan to celebrate the holiday season with your family? \\ncaller: We're going to have a big dinner and play games.\\nfrosty: That sounds really fun, Liam! Do you have a favorite hobby or pastime?\\ncaller: I like playing soccer.\\nfrosty: That's amazing! And what's your favorite holiday memory? \\ncaller: Last year when we went to a holiday fair, it was so much fun.\\nfrosty: That sounds wonderful, Liam! So for your list we have a Furby interactive plush toy and a Barbie Dreamhouse 2023 for your sister, right?\\ncaller: Yes, perfect! Thank you.\\nfrosty: You're welcome, Liam! Have a magical holiday season and enjoy your toys!\"</td>\n",
       "      <td>{\"toy_list\": [\"Furby interactive plush toy\", \"Barbie Dreamhouse 2023\"], \"location\": \"Auckland\"}</td>\n",
       "      <td>EN</td>\n",
       "      <td>{\"toy_list\": [\"Furby interactive plush toy\", \"Barbie Dreamhouse 2023\"], \"location\": \"Auckland\"}</td>\n",
       "    </tr>\n",
       "    <tr>\n",
       "      <th>298</th>\n",
       "      <td>Extract JSON response with 'location' and 'toy_list' as keys. 'location': Location of the caller. Include city only.'toy_list': List of toy names from the caller.</td>\n",
       "      <td>\"frosty: Hi there, my little candy cane! Who do I have the pleasure of talking to today?\\ncaller: Hi! I'm Emma.\\nfrosty: Hello Emma! Where are you calling from?\\ncaller: I'm calling from Manchester in UK.\\nfrosty: It's delightful to talk to you, Emma! What's on your wish list this year?\\ncaller: I'm thinking about the bluey car. Can I get that?\\nfrosty: Of course! But may I ask why you're interested in the Bluey Convertible and Figures?\\ncaller: I watch Bluey on TV and I really like when they go places in their car.\\nfrosty: That's awesome! How do you and your family plan to celebrate the holidays?\\ncaller: We'll decorate our home and have a family dinner. \\nfrosty: Sounds amazing! What is your favorite thing about this time of year?\\ncaller: I like the lights and the pretty decorations. And the presents!\\nfrosty: I'm sure! Before we wrap up, just to confirm, you wish for the Bluey Convertible and Figures this year, right?\\ncaller: Yes, Frosty. That's right.\\nfrosty: Got it, Emma! Wishing you a holiday season filled with joy and new adventures with your bluey car!\"</td>\n",
       "      <td>{\"toy_list\": [\"Bluey Convertible and Figures\"], \"location\": \"Manchester\"}</td>\n",
       "      <td>EN</td>\n",
       "      <td>{\"toy_list\": [\"Bluey Convertible and Figures\"], \"location\": \"Manchester\"}</td>\n",
       "    </tr>\n",
       "    <tr>\n",
       "      <th>299</th>\n",
       "      <td>Extract JSON response with 'location' and 'toy_list' as keys. 'location': Location of the caller. Include city only.'toy_list': List of toy names from the caller.</td>\n",
       "      <td>\"frosty: Greetings from the North Pole! What's your name, dear friend?\\ncaller: Hi, I'm Noah.\\nfrosty: Hi Noah! And where are you from? \\ncaller: I'm from Sydney, Australia.\\nfrosty: Wonderful, Noah! What's on your holiday wish list?\\ncaller: Um, I uh, want the, um, spiderman playset.\\nfrosty: The Marvel's Spidey and His Amazing Friends Web Spinners playset? That one?\\ncaller: Yes, that's the one. But also, maybe the bitzee pet.\\nfrosty: Why are you interested in these toys Noah?\\ncaller: Because Spiderman is my favorite. And I like pets. Maybe a pet that's a toy could be fun.\\nfrosty: Sounds wonderful, Noah! Can you share your favorite holiday memory?\\ncaller: Last year, my family and I went camping by the beach. It was awesome. \\nfrosty: And how you plan to celebrate the holidays this year?\\ncaller: We are going camping again. And we will have a bonfire and roast marshmallows.\\nfrosty: Sounds exciting! So, we have the Marvel's Spidey and His Amazing Friends Web Spinners playset and the Bitzee interactive pet on the list. Can I confirm that?\\ncaller: Yup, that sounds right.\\nfrosty: Alright Noah, happy camping and enjoy your new toys!\"</td>\n",
       "      <td>{\"toy_list\": [\"Marvel's Spidey and His Amazing Friends Web Spinners playset\", \"Bitzee interactive pet\"], \"location\": \"Sydney\"}</td>\n",
       "      <td>EN</td>\n",
       "      <td>{\"toy_list\": [\"Marvel's Spidey and His Amazing Friends Web Spinners playset\", \"Bitzee interactive pet\"], \"location\": \"Sydney\"}</td>\n",
       "    </tr>\n",
       "  </tbody>\n",
       "</table>\n",
       "<p>100 rows × 5 columns</p>\n",
       "</div>"
      ],
      "text/plain": [
       "                                                                                                                                                            instruction  \\\n",
       "200  Extract JSON response with 'location' and 'toy_list' as keys. 'location': Location of the caller. Include city only.'toy_list': List of toy names from the caller.   \n",
       "201  Extract JSON response with 'location' and 'toy_list' as keys. 'location': Location of the caller. Include city only.'toy_list': List of toy names from the caller.   \n",
       "202  Extract JSON response with 'location' and 'toy_list' as keys. 'location': Location of the caller. Include city only.'toy_list': List of toy names from the caller.   \n",
       "203  Extract JSON response with 'location' and 'toy_list' as keys. 'location': Location of the caller. Include city only.'toy_list': List of toy names from the caller.   \n",
       "204  Extract JSON response with 'location' and 'toy_list' as keys. 'location': Location of the caller. Include city only.'toy_list': List of toy names from the caller.   \n",
       "..                                                                                                                                                                  ...   \n",
       "295  Extract JSON response with 'location' and 'toy_list' as keys. 'location': Location of the caller. Include city only.'toy_list': List of toy names from the caller.   \n",
       "296  Extract JSON response with 'location' and 'toy_list' as keys. 'location': Location of the caller. Include city only.'toy_list': List of toy names from the caller.   \n",
       "297  Extract JSON response with 'location' and 'toy_list' as keys. 'location': Location of the caller. Include city only.'toy_list': List of toy names from the caller.   \n",
       "298  Extract JSON response with 'location' and 'toy_list' as keys. 'location': Location of the caller. Include city only.'toy_list': List of toy names from the caller.   \n",
       "299  Extract JSON response with 'location' and 'toy_list' as keys. 'location': Location of the caller. Include city only.'toy_list': List of toy names from the caller.   \n",
       "\n",
       "                                                                                                                                                                                                                                                                                                                                                                                                                                                                                                                                                                                                                                                                                                                                                                                                                                                                                                                                                                                                                                                                                                                                                                                                  input  \\\n",
       "200                                                                                                                                                                      \"frosty: Hello! It's Frosty here to make your holiday wishes come true. May I know your name?\\ncaller: My name's Oliver, Frosty.\\nfrosty: Hi Oliver! Where are you from?\\ncaller: From Manchester in the UK.\\nfrosty: Great! And what toy are you wishing for?\\ncaller: Um, I think I want a snap circuit set or a magic microscope but I'm not sure which.\\nfrosty: Snap Circuits: Junior and LeapFrog Magic Adventures Microscope. Those are both educational and fun. Is that why you're interested?\\ncaller: Yes, I like learning new things while playing. I think I'll go with the snap circuit set.\\nfrosty: I can see why you'd choose it, it's a popular choice. And before we finish, can you tell me how you plan to celebrate the holiday season?\\ncaller: I'm going to have a sleepover with my cousins! It's our tradition.\\nfrosty: That sounds great! So, the Snap Circuits: Junior for your holiday wish, right Oliver?\\ncaller: Yes, please, Frosty. Thank you.\\nfrosty: Certainly, Oliver. Happy holidays!\"   \n",
       "201                                                                                                                                                                                                                                        \"frosty: Hi friend! I'm here to help make your holiday joyous. What's your name?\\ncaller: Hello Frosty, I'm Charlotte!\\nfrosty: Hi Charlotte, where are you from?\\ncaller: I'm from Toronto, Canada.\\nfrosty: Awesome! What's on your holiday wish list, Charlotte?\\ncaller: I really can't decide between the magna tiles set and the fort building kit. They both seem so fun.\\nfrosty: Interesting choices! Magna-Tiles 32-piece set and Tiny Land kids fort building kit. Do you like these because you love building and designing?\\ncaller: Yes, I love creating my own world! You know what? I'll go with the fort building kit. It seems more exciting!\\nfrosty: Good choice, Charlotte! Before we finish, can you tell me what you love most about this time of the year?\\ncaller: Yes, I love the holiday lights and spending time with my family.\\nfrosty: Wonderful! It's the Tiny Land kids fort building kit then. Happy holidays, Charlotte!\"   \n",
       "202                                                                                                                                                                 \"Frosty: Hi there, welcome to our wonderful world of winter wishes! How may I help you today?\\nCaller: Hi! My name is Emma, I'm ten.\\nFrosty: Hello Emma, it's nice to meet you! Where are you calling from?\\nCaller: I'm from Los Angeles, California.\\nFrosty: It sounds like it's warm there while we're in a winter wonderland! Well, Emma, are you ready to tell Frosty what you would like as your holiday presents this year?\\nCaller: Umm, I think I want the fox plushie and the baby bee doll.\\nFrosty: Oh, those are amazing choices! Why are you interested in these toys, Emma?\\nCaller: They are so soft and cute. I love cuddling with plushies!\\nFrosty: Great choices! Plushies are indeed very cuddly. How do you and your family plan to celebrate the holiday season?\\nCaller: We will be baking cookies and watching movies together.\\nFrosty: That sounds wonderful! Alright Emma, I've got your wish for the 2023 Holiday Fox 12-Inch Plush and Orijin Bees Lovey Coiley Baby Bee. Thank you for your call!\"   \n",
       "203                                                                                                                                                                                                                                                                                                                                                                                                                           \"Frosty: Hello, welcome to our winter wonderland hotline! Who's speaking today?\\nCaller: Hi Frosty I'm Jonah. Can you help me with my holiday wish?\\nFrosty: Hi Jonah! Of course, I'd love to help. Could you please tell me where are you calling from.?\\nCaller: I'm from Manchester, England.\\nFrosty: Lovely! Now, tell me Jonah, what are you wishing for this holiday season?\\nCaller: I like cars and dogs. I'm thinking about the bluey car and the robot dog.\\nFrosty: Those look like a lot of fun! Jonah, can you tell me why you're interested in those toys?\\nCaller: My friends have them and they told me they are so fun! \\nFrosty: Ah, I see. Well, the Bluey Convertible and Figures and Dog-E are both great choices. Thank you for calling in Jonah!\"   \n",
       "204                                                                                                                                                                                                                                                                                                                                                                                                                                                                                                                         \"Frosty: Hi there! Welcome to our winter wishes line! What's your name?\\nCaller: I'm Leah and I'm seven. Can I ask for two toys?\\nFrosty: Sure you can, Leah! By the way where are you calling from?\\nCaller: I'm from Sydney, Australia.\\nFrosty: How wonderful! Now, let's hear your two wishes Leah!\\nCaller: Uhm, I can't decide between the barbie science doll set and the new barbie dreamhouse.\\nFrosty: Well, either one would be great. Just think about what you would have more fun playing with.\\nCaller: I think I like the barbie science doll set better.\\nFrosty: That's an excellent choice, Leah! It will be so much fun for you. Have a great holiday!\"   \n",
       "..                                                                                                                                                                                                                                                                                                                                                                                                                                                                                                                                                                                                                                                                                                                                                                                                                                                                                                                                                                                                                                                                                                                                                                                                  ...   \n",
       "295                                                                                                                                                                                                                                                                                                                                                                               \"Frosty: Hi there, jolly greetings! Who is this?\\nCaller: My name's Sophia. I'm calling from Cape Town.\\nFrosty: Hello Sophia from Cape Town! What's on your wish list this holiday season?\\nCaller: I want lola droid and spiderman playset.\\nFrosty: Cool choices, Sophia! What made you choose them?\\nCaller: Because they are based on my favorite movies.\\nFrosty: How does your family plan to celebrate this season?\\nCaller: We will spend time at the beach and have a picnic.\\nFrosty: That sounds wonderful! Those toys will surely add joy to your festivities. Finalizing Star Wars LOLA animatronic droid and Marvel's Spidey and His Amazing Friends Web Spinners playset on your list then?\\nCaller: Yes, add them please!\\nFrosty: Sure, they're on your wish list now. Thanks for calling, Sophia!\"   \n",
       "296                                                                                                                                                                                                                                                                                                                                                                                                                                                                   \"Frosty: Cheerful greetings! I'm Frosty. Who's calling?\\nCaller: Hi! I'm Ava. I'm from Los Angeles.\\nFrosty: Great to hear from you, Ava! What are your toy wishes for this holiday season?\\nCaller: I like the baby bee doll and fox plushie.\\nFrosty: Both super cuddly! Why do those stand out to you?\\nCaller: They are so cute and I love their colors.\\nFrosty: What do you enjoy most about this time of year?\\nCaller: The playtime and the yummy food!\\nFrosty: Yummy food and play, a perfect combo! So, shall we add the Orijin Bees Lovey Coiley Baby Bee and 2023 Holiday Fox 12-Inch Plush to your wish list?\\nCaller: Yes, I\\u2019d like that.\\nFrosty: Great! They're on your list now. Thanks for calling, Ava!\"   \n",
       "297                                    \"frosty: Hello, little snowflake! How can I help you today?\\ncaller: Hi, I'm Liam from Auckland, New Zealand.\\nfrosty: Hi Liam! How old are you?\\ncaller: I'm 8. Can you help me with my holiday wish list? \\nfrosty: Of course, Liam! What toys are you hoping for? \\ncaller: Uh, I want a furby, and maybe the new barbie dreamhouse for my sister.\\nfrosty: Lovely choices, Liam! Why are you interested in the furby?\\ncaller: Because it can talk, and it's funny.\\nfrosty: That's great! And how do you plan to celebrate the holiday season with your family? \\ncaller: We're going to have a big dinner and play games.\\nfrosty: That sounds really fun, Liam! Do you have a favorite hobby or pastime?\\ncaller: I like playing soccer.\\nfrosty: That's amazing! And what's your favorite holiday memory? \\ncaller: Last year when we went to a holiday fair, it was so much fun.\\nfrosty: That sounds wonderful, Liam! So for your list we have a Furby interactive plush toy and a Barbie Dreamhouse 2023 for your sister, right?\\ncaller: Yes, perfect! Thank you.\\nfrosty: You're welcome, Liam! Have a magical holiday season and enjoy your toys!\"   \n",
       "298                                                                           \"frosty: Hi there, my little candy cane! Who do I have the pleasure of talking to today?\\ncaller: Hi! I'm Emma.\\nfrosty: Hello Emma! Where are you calling from?\\ncaller: I'm calling from Manchester in UK.\\nfrosty: It's delightful to talk to you, Emma! What's on your wish list this year?\\ncaller: I'm thinking about the bluey car. Can I get that?\\nfrosty: Of course! But may I ask why you're interested in the Bluey Convertible and Figures?\\ncaller: I watch Bluey on TV and I really like when they go places in their car.\\nfrosty: That's awesome! How do you and your family plan to celebrate the holidays?\\ncaller: We'll decorate our home and have a family dinner. \\nfrosty: Sounds amazing! What is your favorite thing about this time of year?\\ncaller: I like the lights and the pretty decorations. And the presents!\\nfrosty: I'm sure! Before we wrap up, just to confirm, you wish for the Bluey Convertible and Figures this year, right?\\ncaller: Yes, Frosty. That's right.\\nfrosty: Got it, Emma! Wishing you a holiday season filled with joy and new adventures with your bluey car!\"   \n",
       "299  \"frosty: Greetings from the North Pole! What's your name, dear friend?\\ncaller: Hi, I'm Noah.\\nfrosty: Hi Noah! And where are you from? \\ncaller: I'm from Sydney, Australia.\\nfrosty: Wonderful, Noah! What's on your holiday wish list?\\ncaller: Um, I uh, want the, um, spiderman playset.\\nfrosty: The Marvel's Spidey and His Amazing Friends Web Spinners playset? That one?\\ncaller: Yes, that's the one. But also, maybe the bitzee pet.\\nfrosty: Why are you interested in these toys Noah?\\ncaller: Because Spiderman is my favorite. And I like pets. Maybe a pet that's a toy could be fun.\\nfrosty: Sounds wonderful, Noah! Can you share your favorite holiday memory?\\ncaller: Last year, my family and I went camping by the beach. It was awesome. \\nfrosty: And how you plan to celebrate the holidays this year?\\ncaller: We are going camping again. And we will have a bonfire and roast marshmallows.\\nfrosty: Sounds exciting! So, we have the Marvel's Spidey and His Amazing Friends Web Spinners playset and the Bitzee interactive pet on the list. Can I confirm that?\\ncaller: Yup, that sounds right.\\nfrosty: Alright Noah, happy camping and enjoy your new toys!\"   \n",
       "\n",
       "                                                                                                                                          output  \\\n",
       "200                                                                            {\"toy_list\": [\"Snap Circuits: Junior\"], \"location\": \"Manchester\"}   \n",
       "201                                                                    {\"toy_list\": [\"Tiny Land kids fort building kit\"], \"location\": \"Toronto\"}   \n",
       "202                             {\"toy_list\": [\"2023 Holiday Fox 12-Inch Plush\", \"Orijin Bees Lovey Coiley Baby Bee\"], \"location\": \"Los Angeles\"}   \n",
       "203                                                           {\"toy_list\": [\"Bluey Convertible and Figures\", \"Dog-E\"], \"location\": \"Manchester\"}   \n",
       "204                                                 {\"toy_list\": [\"Barbie Science Lab Playset\", \"Barbie Dreamhouse 2023\"], \"location\": \"Sydney\"}   \n",
       "..                                                                                                                                           ...   \n",
       "295  {\"toy_list\": [\"Star Wars LOLA animatronic droid\", \"Marvel's Spidey and His Amazing Friends Web Spinners playset\"], \"location\": \"Cape Town\"}   \n",
       "296                             {\"toy_list\": [\"Orijin Bees Lovey Coiley Baby Bee\", \"2023 Holiday Fox 12-Inch Plush\"], \"location\": \"Los Angeles\"}   \n",
       "297                                              {\"toy_list\": [\"Furby interactive plush toy\", \"Barbie Dreamhouse 2023\"], \"location\": \"Auckland\"}   \n",
       "298                                                                    {\"toy_list\": [\"Bluey Convertible and Figures\"], \"location\": \"Manchester\"}   \n",
       "299               {\"toy_list\": [\"Marvel's Spidey and His Amazing Friends Web Spinners playset\", \"Bitzee interactive pet\"], \"location\": \"Sydney\"}   \n",
       "\n",
       "    language  \\\n",
       "200       EN   \n",
       "201       EN   \n",
       "202       EN   \n",
       "203       EN   \n",
       "204       EN   \n",
       "..       ...   \n",
       "295       EN   \n",
       "296       EN   \n",
       "297       EN   \n",
       "298       EN   \n",
       "299       EN   \n",
       "\n",
       "                                                                                                                          predicted  \n",
       "200                                                               {\"toy_list\": [\"Snap Circuits: Junior\"], \"location\": \"Manchester\"}  \n",
       "201                                                       {\"toy_list\": [\"Tiny Land kids fort building kit\"], \"location\": \"Toronto\"}  \n",
       "202                                                       {\"toy_list\": [\"Fox plushie\", \"Baby bee doll\"], \"location\": \"Los Angeles\"}  \n",
       "203                                         {\"toy_list\": [\"Bluey Convertible\", \"Bluey Figures\", \"Dog-E\"], \"location\": \"Manchester\"}  \n",
       "204                                                                 {\"toy_list\": [\"Barbie Science Doll Set\"], \"location\": \"Sydney\"}  \n",
       "..                                                                                                                              ...  \n",
       "295                                                      {\"toy_list\": [\"Lola Droid\", \"Spiderman Playset\"], \"location\": \"Cape Town\"}  \n",
       "296                {\"toy_list\": [\"Orijin Bees Lovey Coiley Baby Bee\", \"2023 Holiday Fox 12-Inch Plush\"], \"location\": \"Los Angeles\"}  \n",
       "297                                 {\"toy_list\": [\"Furby interactive plush toy\", \"Barbie Dreamhouse 2023\"], \"location\": \"Auckland\"}  \n",
       "298                                                       {\"toy_list\": [\"Bluey Convertible and Figures\"], \"location\": \"Manchester\"}  \n",
       "299  {\"toy_list\": [\"Marvel's Spidey and His Amazing Friends Web Spinners playset\", \"Bitzee interactive pet\"], \"location\": \"Sydney\"}  \n",
       "\n",
       "[100 rows x 5 columns]"
      ]
     },
     "execution_count": 9,
     "metadata": {},
     "output_type": "execute_result"
    }
   ],
   "source": [
    "eval_df = runner.get_eval_results()\n",
    "eval_df"
   ]
  },
  {
   "cell_type": "markdown",
   "metadata": {},
   "source": [
    "#### Inference on Custom Transcript"
   ]
  },
  {
   "cell_type": "code",
   "execution_count": 10,
   "metadata": {
    "tags": []
   },
   "outputs": [
    {
     "name": "stderr",
     "output_type": "stream",
     "text": [
      "Processed prompts: 100%|██████████| 1/1 [00:01<00:00,  1.05s/it]\n"
     ]
    },
    {
     "data": {
      "text/plain": [
       "'{\"toy_list\": [\"ninja turtles delivery van\", \"robot dog\"], \"location\": \"Cape Town\"}'"
      ]
     },
     "execution_count": 10,
     "metadata": {},
     "output_type": "execute_result"
    }
   ],
   "source": [
    "runner.infer(\n",
    "     {\n",
    "    'instruction': \"\"\"\n",
    "        \"Extract JSON response with 'location' and 'toy_list' as keys. 'location': \n",
    "        Location of the caller. Include city only.'toy_list': List of toy names from the caller.\"\n",
    "    \"\"\",\n",
    "    'input': \"\"\"\n",
    "        \"frosty: Hello, hello! Who's ready to chat with Frosty today?\\ncaller: Hi, I'm Dustin from Cape Town, South Africa.\\nfrosty: \n",
    "        Hi Dustin, it's awesome to meet you! Do you already know what you would like for your holiday gift?\\ncaller: \n",
    "        Yeah, I think I want the ninja turtles delivery van, or maybe the robot dog. \n",
    "        I can't decide...\\nfrosty: Both sound like entertaining choices! \n",
    "        Why are you interested in these particular toys?\\ncaller: The ninja turtles van is so cool! And the robot dog, it's like a pet you don't have to clean up after.\\nfrosty: \n",
    "        That's true! Savage choices, Dustin! How do you usually celebrate the holiday season?\\ncaller: \n",
    "        We usually have a big family barbeque and play games all day long.\\nfrosty: Sounds fun! What is your favorite thing about this time of year?\n",
    "        \\ncaller: I like that everyone is happy and I get to spend a lot of time with my family.\n",
    "        \\nfrosty: That's wonderful! So Dustin, have you thought any more about your holiday wish?\n",
    "        \\ncaller: I think I'm going to get the robot dog. It sounds fun and I won't have to walk it.\n",
    "        \\nfrosty: That's a clever choice, Dustin! I hope you have a fantastic holiday season!\"\n",
    "\"\"\"\n",
    "    }\n",
    ")"
   ]
  },
  {
   "cell_type": "markdown",
   "metadata": {},
   "source": [
    "#### Inference on Test Dataset\n",
    "*Examine the \"output\" and \"predicted\" columns*"
   ]
  },
  {
   "cell_type": "code",
   "execution_count": 11,
   "metadata": {
    "tags": []
   },
   "outputs": [
    {
     "name": "stderr",
     "output_type": "stream",
     "text": [
      "Processed prompts: 100%|██████████| 100/100 [00:23<00:00,  4.23it/s]\n",
      "/opt/conda/envs/rapids/lib/python3.8/site-packages/snowflake/ml/playground/finetune.py:639: SettingWithCopyWarning: \n",
      "A value is trying to be set on a copy of a slice from a DataFrame.\n",
      "Try using .loc[row_indexer,col_indexer] = value instead\n",
      "\n",
      "See the caveats in the documentation: https://pandas.pydata.org/pandas-docs/stable/user_guide/indexing.html#returning-a-view-versus-a-copy\n",
      "  df[\"predicted\"] = ts\n"
     ]
    },
    {
     "data": {
      "text/html": [
       "<div>\n",
       "<style scoped>\n",
       "    .dataframe tbody tr th:only-of-type {\n",
       "        vertical-align: middle;\n",
       "    }\n",
       "\n",
       "    .dataframe tbody tr th {\n",
       "        vertical-align: top;\n",
       "    }\n",
       "\n",
       "    .dataframe thead th {\n",
       "        text-align: right;\n",
       "    }\n",
       "</style>\n",
       "<table border=\"1\" class=\"dataframe\">\n",
       "  <thead>\n",
       "    <tr style=\"text-align: right;\">\n",
       "      <th></th>\n",
       "      <th>instruction</th>\n",
       "      <th>input</th>\n",
       "      <th>output</th>\n",
       "      <th>language</th>\n",
       "      <th>predicted</th>\n",
       "    </tr>\n",
       "  </thead>\n",
       "  <tbody>\n",
       "    <tr>\n",
       "      <th>890</th>\n",
       "      <td>Extract JSON response with 'location' and 'toy_list' as keys. 'location': Location of the caller. Include city only.'toy_list': List of toy names from the caller.</td>\n",
       "      <td>\"frosty: Hi! Welcome to the Holiday Wish Hotline, I'm Frosty! What's your name?\\ncaller: My name's Bella!\\nfrosty: Hello, Bella! It's great to have you here, where are you calling from?\\ncaller: I'm calling from Boston, USA.\\nfrosty: Wonderful, Bella! How old are you?\\ncaller: I'm 7 years old.\\nfrosty: That's awesome! Now, let's talk about your holiday wish list. Are there any toys from our list you're interested in?\\ncaller: Um, I like the slime kit and playfoam letters.\\nfrosty: What a fun combination! The National Geographic Mega Slime Kit &amp; Putty Lab and Playfoam Naturals Shape &amp; Learn Letters &amp; Numbers are both great choices. Why are you interested in these toys?\\ncaller: I love making squishy things and learning at the same time.\\nfrosty: That's fantastic! What do you and your family plan to do to celebrate the holiday season, Bella?\\ncaller: We'll bake cookies and play board games together. It's always so much fun!\\nfrosty: That sounds like a wonderful time! So, you would like to add the slime kit and playfoam letters to your holiday wish list, right?\\ncaller: Yes, please!\\nfrosty: Your wish list will include the National Geographic Mega Slime Kit &amp; Putty Lab and Playfoam Naturals Shape &amp; Learn Letters &amp; Numbers. Have a fantastic holiday season, Bella, and enjoy playing with your new toys!\\ncaller: Thank you, Frosty! Bye!\"</td>\n",
       "      <td>{\"toy_list\": [\"National Geographic Mega Slime Kit &amp; Putty Lab\", \"Playfoam Naturals Shape &amp; Learn Letters &amp; Numbers\"], \"location\": \"Boston\"}</td>\n",
       "      <td>EN</td>\n",
       "      <td>{\"toy_list\": [\"National Geographic Mega Slime Kit &amp; Putty Lab\", \"Playfoam Naturals Shape &amp; Learn Letters &amp; Numbers\"], \"location\": \"Boston\"}</td>\n",
       "    </tr>\n",
       "    <tr>\n",
       "      <th>891</th>\n",
       "      <td>Extract JSON response with 'location' and 'toy_list' as keys. 'location': Location of the caller. Include city only.'toy_list': List of toy names from the caller.</td>\n",
       "      <td>\"frosty: Hey there!Welcome to the Holiday Wish Hotline! My name is Frosty! What's your name?\\ncaller: Hi Frosty! My name is Danny.\\nfrosty: Nice to meet you, Danny! Where are you calling from?\\ncaller: I'm from Vancouver, Canada.\\nfrosty: That's amazing! How old are you, Danny?\\ncaller: I'm 10 years old.\\nfrosty: Great! Let's talk about your holiday wish list. What toys do you want?\\ncaller: Hmm, I'm not sure yet. I like building things and stuff.\\nfrosty: If you're into building toys, you might enjoy the Tiny Land kids fort building kit. Or, if you're into technology, the Dog-E robot dog is popular this year. Why don't you tell me more about your hobbies and we can find the perfect toy for you?\\ncaller: I like making stuff with my hands, like building forts with blankets and chairs. I also like playing video games with my friends.\\nfrosty: That's fantastic, Danny! It sounds like the Tiny Land kids fort building kit would be perfect for you since you love building forts. How does that sound?\\ncaller: Yeah, that sounds cool. I think I'll add the fort building kit to my wish list.\\nfrosty: Great! Let's confirm your wish, Danny. You would like the Tiny Land kids fort building kit, right?\\ncaller: Yes, please! That's perfect.\\nfrosty: Fantastic! Enjoy your holiday season, Danny! Have fun building awesome forts!\\ncaller: Thanks, Frosty! Happy holidays!\"</td>\n",
       "      <td>{\"toy_list\": [\"Tiny Land kids fort building kit\"], \"location\": \"Vancouver\"}</td>\n",
       "      <td>EN</td>\n",
       "      <td>{\"toy_list\": [\"Tiny Land kids fort building kit\"], \"location\": \"Vancouver\"}</td>\n",
       "    </tr>\n",
       "    <tr>\n",
       "      <th>892</th>\n",
       "      <td>Extract JSON response with 'location' and 'toy_list' as keys. 'location': Location of the caller. Include city only.'toy_list': List of toy names from the caller.</td>\n",
       "      <td>\"frosty: Welcome to the Holiday Wish Hotline! My name is Frosty! Can I have your name, please?\\ncaller: Hi Frosty, I'm Lily.\\nfrosty: Hi Lily! It's great to meet you. Where are you calling from?\\ncaller: I'm from Melbourne, Australia.\\nfrosty: Wonderful! How old are you, Lily?\\ncaller: I'm 5 years old.\\nfrosty: Wow, that's amazing! Now, let's talk about your holiday wish list. What toys would you like?\\ncaller: I want the mickey playset and the elmo plushie!\\nfrosty: Great! The Fisher-Price Little People Mickey and Friends Playset and the Sesame Street Monster Meditation Elmo are both fantastic choices. Why are you interested in these toys?\\ncaller: I love watching Mickey Mouse and Elmo! They make me happy!\\nfrosty: That's awesome! What's your favorite holiday memory, Lily?\\ncaller: Last holiday, we went to the park and had a big picnic with all my cousins. It was so much fun!\\nfrosty: That sounds like a lovely memory. Let's confirm your holiday wish list, Lily. You would like the mickey playset and the elmo plushie, right?\\ncaller: Yes, that's what I want!\\nfrosty: Perfect! Your holiday wish list will include the Fisher-Price Little People Mickey and Friends Playset and the Sesame Street Monster Meditation Elmo. Enjoy your holiday season and have fun with your new toys!\\ncaller: Thank you, Frosty! Bye!\"</td>\n",
       "      <td>{\"toy_list\": [\"Fisher-Price Little People Mickey and Friends Playset\", \"Sesame Street Monster Meditation Elmo\"], \"location\": \"Melbourne\"}</td>\n",
       "      <td>EN</td>\n",
       "      <td>{\"toy_list\": [\"Fisher-Price Little People Mickey and Friends Playset\", \"Sesame Street Monster Meditation Elmo\"], \"location\": \"Melbourne\"}</td>\n",
       "    </tr>\n",
       "    <tr>\n",
       "      <th>893</th>\n",
       "      <td>Extract JSON response with 'location' and 'toy_list' as keys. 'location': Location of the caller. Include city only.'toy_list': List of toy names from the caller.</td>\n",
       "      <td>\"frosty: Hi! Welcome to the Holiday Wish Hotline! My name's Frosty. Who am I speaking to?\\ncaller: Hello, Frosty! My name is Timmy.\\nfrosty: It's so nice to meet you, Timmy! Where are you calling from?\\ncaller: I'm from Dublin, Ireland.\\nfrosty: That's fantastic! How old are you, Timmy?\\ncaller: I'm 9 years old.\\nfrosty: Great! Let's talk about your holiday wish list, Timmy. What would you like?\\ncaller: I think I want the new barbie dreamhouse. But I also like cars. Hmm, I can't decide.\\nfrosty: No worries, Timmy! Both the Barbie Dreamhouse 2023 and the Bluey Convertible and Figures are excellent options. What do you enjoy most about this time of the year?\\ncaller: I like the cozy feel and the excitement of giving and receiving gifts!\\nfrosty: That's lovely! So, have you decided on your holiday wish? Would you like the new barbie dreamhouse or the bluey car, or maybe you'd like to explore a few more options?\\ncaller: I think I want the new barbie dreamhouse, please.\\nfrosty: Alright, Timmy! Let's confirm your wish list. You're requesting the Barbie Dreamhouse 2023, right?\\ncaller: Yes, that's what I want! Thank you, Frosty!\\nfrosty: You're welcome, Timmy! Enjoy your holiday season and have fun with your new Barbie Dreamhouse 2023!\\ncaller: Thanks, Frosty! Bye!\"</td>\n",
       "      <td>{\"toy_list\": [\"Barbie Dreamhouse 2023\"], \"location\": \"Dublin\"}</td>\n",
       "      <td>EN</td>\n",
       "      <td>{\"toy_list\": [\"Barbie Dreamhouse 2023\"], \"location\": \"Dublin\"}</td>\n",
       "    </tr>\n",
       "    <tr>\n",
       "      <th>894</th>\n",
       "      <td>Extract JSON response with 'location' and 'toy_list' as keys. 'location': Location of the caller. Include city only.'toy_list': List of toy names from the caller.</td>\n",
       "      <td>\"frosty: Hello! Welcome to the Holiday Wish Hotline! I'm Frosty. What's your name?\\ncaller: Hey Frosty, I'm Emma.\\nfrosty: Hello, Emma! It's wonderful to meet you. Where are you calling from?\\ncaller: I'm from London, UK.\\nfrosty: Fantastic, Emma! How old are you?\\ncaller: I'm 11 years old.\\nfrosty: Awesome! Let's chat about your holiday wish list. What toys are you interested in?\\ncaller: I'm not really sure. I like artsy things and science sets.\\nfrosty: How about the Thames &amp; Kosmos Candy Vending Machine STEM experiment kit or the Calico Critters Pony's Stylish Hair Salon? Both are creative and educational choices.\\ncaller: Hmm, I think I want the candy vending machine set.\\nfrosty: Great choice, Emma! Why don't you tell me about your favorite pastime or hobby?\\ncaller: I enjoy painting and doing DIY projects with my dad.\\nfrosty: That's awesome! So, your holiday wish is the Thames &amp; Kosmos Candy Vending Machine STEM experiment kit, right?\\ncaller: Yes, that's perfect!\\nfrosty: Fantastic! Your wish list will include the Thames &amp; Kosmos Candy Vending Machine STEM experiment kit. Have a lovely holiday season, Emma, and enjoy creating sweet treats!\\ncaller: Thanks, Frosty! Happy holidays!\"</td>\n",
       "      <td>{\"toy_list\": [\"Thames &amp; Kosmos Candy Vending Machine STEM experiment kit\"], \"location\": \"London\"}</td>\n",
       "      <td>EN</td>\n",
       "      <td>{\"toy_list\": [\"Thames &amp; Kosmos Candy Vending Machine STEM experiment kit\"], \"location\": \"London\"}</td>\n",
       "    </tr>\n",
       "    <tr>\n",
       "      <th>...</th>\n",
       "      <td>...</td>\n",
       "      <td>...</td>\n",
       "      <td>...</td>\n",
       "      <td>...</td>\n",
       "      <td>...</td>\n",
       "    </tr>\n",
       "    <tr>\n",
       "      <th>985</th>\n",
       "      <td>Extract JSON response with 'location' and 'toy_list' as keys. 'location': Location of the caller. Include city only.'toy_list': List of toy names from the caller.</td>\n",
       "      <td>\"caller: Hi there, is this Frosty?\\nfrosty: Hello! Yes, it's me, Frosty, the voice bot. I'm so excited to hear your holiday wish list! What's your name?\\ncaller: I'm Lucy from San Francisco, USA.\\nfrosty: Nice to meet you, Lucy! How old are you?\\ncaller: I'm 8 years old.\\nfrosty: Great, Lucy! Now, would you like to share your wish list with me? You can choose up to two toys.\\ncaller: Hmmm, I'm not really sure. I like so many things...\\nfrosty: That's okay! Let's explore the catalog together. Do you like plushies or action figures?\\ncaller: I like plushies!\\nfrosty: Wonderful! We have fox plushie, baby bee doll, elmo plushie and pokemon plushie. Which one do you think you'd like the most?\\ncaller: I think I want the fox plushie and the elmo plushie! Oh, but the pokemon plushie is awesome, too...\\nfrosty: All three are fantastic choices! If you had to pick only two, which ones would you choose?\\ncaller: I'll go with the fox plushie and the elmo plushie.\\nfrosty: Great choices, Lucy! What do you enjoy the most about this time of the year?\\ncaller: I love spending time with my family and decorating our home.\\nfrosty: That sounds lovely! How do you and your family plan to celebrate the holiday season?\\ncaller: We'll have a big dinner and exchange gifts.\\nfrosty: Sounds wonderful! So just to confirm, you'd like the 2023 Holiday Fox 12-Inch Plush and Sesame Street Monster Meditation Elmo, right?\\ncaller: Yes, that's correct!\\nfrosty: Perfect! Thank you for sharing your holiday wish list with me, Lucy. I hope your holiday season is filled with joy and special memories. Goodbye!\\ncaller: Thank you, Frosty! Goodbye!\"</td>\n",
       "      <td>{\"toy_list\": [\"2023 Holiday Fox 12-Inch Plush\", \"Sesame Street Monster Meditation Elmo\"], \"location\": \"San Francisco\"}</td>\n",
       "      <td>EN</td>\n",
       "      <td>{\"toy_list\": [\"2023 Holiday Fox 12-Inch Plush\", \"Sesame Street Monster Meditation Elmo\"], \"location\": \"San Francisco\"}</td>\n",
       "    </tr>\n",
       "    <tr>\n",
       "      <th>986</th>\n",
       "      <td>Extract JSON response with 'location' and 'toy_list' as keys. 'location': Location of the caller. Include city only.'toy_list': List of toy names from the caller.</td>\n",
       "      <td>\"caller: Is this Frosty's number?\\nfrosty: Yes, it is! I'm Frosty, the voice bot, here to help you with your holiday wish list. What's your name, little one?\\ncaller: My name is Lucas.\\nfrosty: It's a pleasure to meet you, Lucas. Where are you calling from?\\ncaller: I'm calling from Toronto, Canada.\\nfrosty: That's great, Lucas! How old are you?\\ncaller: I'm 7.\\nfrosty: Wonderful! Now, let's talk about your holiday wish list. You can choose up to two toys. What would you like?\\ncaller: I want the spiderman playset and the robot dog!\\nfrosty: Those sound like fun choices! Why are you interested in these toys?\\ncaller: I love superheroes and I've always wanted a pet dog, but we can't have a real one because my sister is allergic.\\nfrosty: That makes sense! What's your favorite pastime or hobby, Lucas?\\ncaller: I like playing soccer with my friends.\\nfrosty: That's awesome! What's your favorite holiday memory?\\ncaller: Last year, we went on a trip to visit my cousins. We had so much fun!\\nfrosty: It sounds like a wonderful memory! Before we end our call, let's confirm your wish list. You'd like the Marvel's Spidey and His Amazing Friends Web Spinners playset and Dog-E, right?\\ncaller: Yes, please!\\nfrosty: Got it, Lucas! I hope you have a fantastic holiday season filled with adventure and love. Goodbye!\\ncaller: Goodbye, Frosty!\"</td>\n",
       "      <td>{\"toy_list\": [\"Marvel's Spidey and His Amazing Friends Web Spinners playset\", \"Dog-E\"], \"location\": \"Toronto\"}</td>\n",
       "      <td>EN</td>\n",
       "      <td>{\"toy_list\": [\"Dog-E\", \"Marvel's Spidey and His Amazing Friends Web Spinners playset\"], \"location\": \"Toronto\"}</td>\n",
       "    </tr>\n",
       "    <tr>\n",
       "      <th>987</th>\n",
       "      <td>Extract JSON response with 'location' and 'toy_list' as keys. 'location': Location of the caller. Include city only.'toy_list': List of toy names from the caller.</td>\n",
       "      <td>\"caller: Hello, are you Frosty?\\nfrosty: Hi there! Yes, I am Frosty, the voice bot. I can help you with your holiday wish list. What's your name?\\ncaller: I'm Emily.\\nfrosty: Nice to meet you, Emily! Where are you calling from?\\ncaller: I live in Sydney, Australia.\\nfrosty: That's wonderful, Emily! How old are you?\\ncaller: I'm 9 years old.\\nfrosty: Great! Now let's create your holiday wish list. You can choose up to two toys. What would you like?\\ncaller: Um, I really don't know, there are so many fun toys!\\nfrosty: No worries, we'll explore the options together. Do you prefer creative play or building things?\\ncaller: I like building things!\\nfrosty: We have the magna tiles set, lego olivia's space set, and the fort building kit. Which ones sound the most interesting to you?\\ncaller: I think the lego set and the fort building kit would be fun!\\nfrosty: Those are great choices, Emily! What do you enjoy the most about this time of the year?\\ncaller: I love spending time with my family and baking cookies.\\nfrosty: That's so sweet! What's a favorite holiday memory you have?\\ncaller: We had a big family reunion at the beach last year. It was amazing!\\nfrosty: What a fantastic memory! Let's confirm your toy choices. You'd like the Lego Friends Olivia's Space Academy and the Tiny Land kids fort building kit, right?\\ncaller: Yeah, those are the ones!\\nfrosty: Perfect, Emily! I hope your holiday celebrations are filled with joy, laughter, and lots of cookies. Goodbye!\\ncaller: Goodbye, Frosty!\"</td>\n",
       "      <td>{\"toy_list\": [\"Lego Friends Olivia's Space Academy\", \"Tiny Land kids fort building kit\"], \"location\": \"Sydney\"}</td>\n",
       "      <td>EN</td>\n",
       "      <td>{\"toy_list\": [\"Lego Friends Olivia's Space Academy\", \"Tiny Land kids fort building kit\"], \"location\": \"Sydney\"}</td>\n",
       "    </tr>\n",
       "    <tr>\n",
       "      <th>988</th>\n",
       "      <td>Extract JSON response with 'location' and 'toy_list' as keys. 'location': Location of the caller. Include city only.'toy_list': List of toy names from the caller.</td>\n",
       "      <td>\"caller: Hey, Frosty! I have my holiday wish ready!\\nfrosty: Hello! I'm excited to hear it. What's your name?\\ncaller: My name is Leo.\\nfrosty: Nice to meet you, Leo! Where are you calling from?\\ncaller: I'm in Auckland, New Zealand.\\nfrosty: Fantastic, Leo! How old are you?\\ncaller: I am 10.\\nfrosty: Alright, Leo, let's hear your holiday wish list. You can choose up to two toys.\\ncaller: I want the ninja turtles delivery van and the candy vending machine!\\nfrosty: Those are really fun choices! What do you like about these toys?\\ncaller: I love the ninja turtles, and the candy vending machine looks cool. I can share candy with my friends!\\nfrosty: Sharing is caring! How do you and your family plan to celebrate the holiday season?\\ncaller: We always have a big family barbecue at the park.\\nfrosty: That sounds like a lot of fun! What's your favorite holiday memory, Leo?\\ncaller: I loved when we went camping with my whole family, and we stayed up late telling stories.\\nfrosty: What a wonderful experience! So, to confirm, you'd like the Teenage Mutant Ninja Turtles: Mutant Mayhem Pizza Fire Delivery Van and the Thames &amp; Kosmos Candy Vending Machine STEM experiment kit, right?\\ncaller: Yes, that's right!\\nfrosty: Perfect! Thank you for sharing your holiday wish list with me, Leo. Have a fantastic holiday season filled with laughter and adventure. Goodbye!\\ncaller: Thank you, Frosty! Goodbye!\"</td>\n",
       "      <td>{\"toy_list\": [\"Teenage Mutant Ninja Turtles: Mutant Mayhem Pizza Fire Delivery Van\", \"Thames &amp; Kosmos Candy Vending Machine STEM experiment kit\"], \"location\": \"Auckland\"}</td>\n",
       "      <td>EN</td>\n",
       "      <td>Here is the JSON response that extracts the \"location\" and \"toy_list\" keys from the input conversation:\\n\\n{\\n\"location\": \"Auckland\",\\n\"toy_list\": [\\n\"Teenage Mutant Ninja Turtles: Mutant Mayhem Pizza Fire Delivery Van\",\\n\"Thames &amp; Kosmos Candy Vending Machine STEM experiment kit\"\\n]\\n}</td>\n",
       "    </tr>\n",
       "    <tr>\n",
       "      <th>989</th>\n",
       "      <td>Extract JSON response with 'location' and 'toy_list' as keys. 'location': Location of the caller. Include city only.'toy_list': List of toy names from the caller.</td>\n",
       "      <td>\"caller: Hi, um, is this Frosty?\\nfrosty: Yes, it is! I'm Frosty, the voice bot, here to help you with your holiday wish list. What's your name?\\ncaller: My name is Ava.\\nfrosty: It's a pleasure to meet you, Ava. Where are you calling from?\\ncaller: I live in London, England.\\nfrosty: Wonderful, Ava! How old are you?\\ncaller: I'm 6 years old.\\nfrosty: Let's make your holiday wish list, Ava. You can choose up to two toys. What would you like?\\ncaller: I really love Barbie, but I also like Calico Critters and Bluey. I don't know what to choose.\\nfrosty: No worries, Ava. We'll find the perfect toys for you. We have the new barbie dreamhouse, barbie science doll set, bluey car, bluey playhouse, and pony's hair salon. Which of these sound the most appealing to you?\\ncaller: Um, I think I want the new barbie dreamhouse and the pony's hair salon. Oh, but the bluey car is so cute...\\nfrosty: You have fantastic taste! If you had to choose just two, which ones would you pick?\\ncaller: I'll pick the new barbie dreamhouse and the bluey car.\\nfrosty: Great choices, Ava! What do you enjoy the most about this time of the year?\\ncaller: I love playing in the snow and going ice skating with my family.\\nfrosty: That's fantastic! What's your favorite holiday memory, Ava?\\ncaller: Last year, my family and I went to see a beautiful holiday lights display in town.\\nfrosty: Magical memories! Let's confirm your toy choices. You'd like the Barbie Dreamhouse 2023 and the Bluey Convertible and Figures, right?\\ncaller: Yes, please!\\nfrosty: Perfect, Ava! I hope you have a lovely holiday season filled with joy and laughter. Goodbye!\\ncaller: Goodbye, Frosty!\"</td>\n",
       "      <td>{\"toy_list\": [\"Barbie Dreamhouse 2023\", \"Bluey Convertible and Figures\"], \"location\": \"London\"}</td>\n",
       "      <td>EN</td>\n",
       "      <td>{\"toy_list\": [\"Barbie Dreamhouse 2023\", \"Bluey Convertible and Figures\"], \"location\": \"London\"}</td>\n",
       "    </tr>\n",
       "  </tbody>\n",
       "</table>\n",
       "<p>100 rows × 5 columns</p>\n",
       "</div>"
      ],
      "text/plain": [
       "                                                                                                                                                            instruction  \\\n",
       "890  Extract JSON response with 'location' and 'toy_list' as keys. 'location': Location of the caller. Include city only.'toy_list': List of toy names from the caller.   \n",
       "891  Extract JSON response with 'location' and 'toy_list' as keys. 'location': Location of the caller. Include city only.'toy_list': List of toy names from the caller.   \n",
       "892  Extract JSON response with 'location' and 'toy_list' as keys. 'location': Location of the caller. Include city only.'toy_list': List of toy names from the caller.   \n",
       "893  Extract JSON response with 'location' and 'toy_list' as keys. 'location': Location of the caller. Include city only.'toy_list': List of toy names from the caller.   \n",
       "894  Extract JSON response with 'location' and 'toy_list' as keys. 'location': Location of the caller. Include city only.'toy_list': List of toy names from the caller.   \n",
       "..                                                                                                                                                                  ...   \n",
       "985  Extract JSON response with 'location' and 'toy_list' as keys. 'location': Location of the caller. Include city only.'toy_list': List of toy names from the caller.   \n",
       "986  Extract JSON response with 'location' and 'toy_list' as keys. 'location': Location of the caller. Include city only.'toy_list': List of toy names from the caller.   \n",
       "987  Extract JSON response with 'location' and 'toy_list' as keys. 'location': Location of the caller. Include city only.'toy_list': List of toy names from the caller.   \n",
       "988  Extract JSON response with 'location' and 'toy_list' as keys. 'location': Location of the caller. Include city only.'toy_list': List of toy names from the caller.   \n",
       "989  Extract JSON response with 'location' and 'toy_list' as keys. 'location': Location of the caller. Include city only.'toy_list': List of toy names from the caller.   \n",
       "\n",
       "                                                                                                                                                                                                                                                                                                                                                                                                                                                                                                                                                                                                                                                                                                                                                                                                                                                                                                                                                                                                                                                                                                                                                                                                                                                                                                                                                                                                                                                                                                                                                                                                                                                                                                                          input  \\\n",
       "890                                                                                                                                                                                                                                                                                                                     \"frosty: Hi! Welcome to the Holiday Wish Hotline, I'm Frosty! What's your name?\\ncaller: My name's Bella!\\nfrosty: Hello, Bella! It's great to have you here, where are you calling from?\\ncaller: I'm calling from Boston, USA.\\nfrosty: Wonderful, Bella! How old are you?\\ncaller: I'm 7 years old.\\nfrosty: That's awesome! Now, let's talk about your holiday wish list. Are there any toys from our list you're interested in?\\ncaller: Um, I like the slime kit and playfoam letters.\\nfrosty: What a fun combination! The National Geographic Mega Slime Kit & Putty Lab and Playfoam Naturals Shape & Learn Letters & Numbers are both great choices. Why are you interested in these toys?\\ncaller: I love making squishy things and learning at the same time.\\nfrosty: That's fantastic! What do you and your family plan to do to celebrate the holiday season, Bella?\\ncaller: We'll bake cookies and play board games together. It's always so much fun!\\nfrosty: That sounds like a wonderful time! So, you would like to add the slime kit and playfoam letters to your holiday wish list, right?\\ncaller: Yes, please!\\nfrosty: Your wish list will include the National Geographic Mega Slime Kit & Putty Lab and Playfoam Naturals Shape & Learn Letters & Numbers. Have a fantastic holiday season, Bella, and enjoy playing with your new toys!\\ncaller: Thank you, Frosty! Bye!\"   \n",
       "891                                                                                                                                                                                                                                                                                                  \"frosty: Hey there!Welcome to the Holiday Wish Hotline! My name is Frosty! What's your name?\\ncaller: Hi Frosty! My name is Danny.\\nfrosty: Nice to meet you, Danny! Where are you calling from?\\ncaller: I'm from Vancouver, Canada.\\nfrosty: That's amazing! How old are you, Danny?\\ncaller: I'm 10 years old.\\nfrosty: Great! Let's talk about your holiday wish list. What toys do you want?\\ncaller: Hmm, I'm not sure yet. I like building things and stuff.\\nfrosty: If you're into building toys, you might enjoy the Tiny Land kids fort building kit. Or, if you're into technology, the Dog-E robot dog is popular this year. Why don't you tell me more about your hobbies and we can find the perfect toy for you?\\ncaller: I like making stuff with my hands, like building forts with blankets and chairs. I also like playing video games with my friends.\\nfrosty: That's fantastic, Danny! It sounds like the Tiny Land kids fort building kit would be perfect for you since you love building forts. How does that sound?\\ncaller: Yeah, that sounds cool. I think I'll add the fort building kit to my wish list.\\nfrosty: Great! Let's confirm your wish, Danny. You would like the Tiny Land kids fort building kit, right?\\ncaller: Yes, please! That's perfect.\\nfrosty: Fantastic! Enjoy your holiday season, Danny! Have fun building awesome forts!\\ncaller: Thanks, Frosty! Happy holidays!\"   \n",
       "892                                                                                                                                                                                                                                                                                                                                               \"frosty: Welcome to the Holiday Wish Hotline! My name is Frosty! Can I have your name, please?\\ncaller: Hi Frosty, I'm Lily.\\nfrosty: Hi Lily! It's great to meet you. Where are you calling from?\\ncaller: I'm from Melbourne, Australia.\\nfrosty: Wonderful! How old are you, Lily?\\ncaller: I'm 5 years old.\\nfrosty: Wow, that's amazing! Now, let's talk about your holiday wish list. What toys would you like?\\ncaller: I want the mickey playset and the elmo plushie!\\nfrosty: Great! The Fisher-Price Little People Mickey and Friends Playset and the Sesame Street Monster Meditation Elmo are both fantastic choices. Why are you interested in these toys?\\ncaller: I love watching Mickey Mouse and Elmo! They make me happy!\\nfrosty: That's awesome! What's your favorite holiday memory, Lily?\\ncaller: Last holiday, we went to the park and had a big picnic with all my cousins. It was so much fun!\\nfrosty: That sounds like a lovely memory. Let's confirm your holiday wish list, Lily. You would like the mickey playset and the elmo plushie, right?\\ncaller: Yes, that's what I want!\\nfrosty: Perfect! Your holiday wish list will include the Fisher-Price Little People Mickey and Friends Playset and the Sesame Street Monster Meditation Elmo. Enjoy your holiday season and have fun with your new toys!\\ncaller: Thank you, Frosty! Bye!\"   \n",
       "893                                                                                                                                                                                                                                                                                                                                                                                          \"frosty: Hi! Welcome to the Holiday Wish Hotline! My name's Frosty. Who am I speaking to?\\ncaller: Hello, Frosty! My name is Timmy.\\nfrosty: It's so nice to meet you, Timmy! Where are you calling from?\\ncaller: I'm from Dublin, Ireland.\\nfrosty: That's fantastic! How old are you, Timmy?\\ncaller: I'm 9 years old.\\nfrosty: Great! Let's talk about your holiday wish list, Timmy. What would you like?\\ncaller: I think I want the new barbie dreamhouse. But I also like cars. Hmm, I can't decide.\\nfrosty: No worries, Timmy! Both the Barbie Dreamhouse 2023 and the Bluey Convertible and Figures are excellent options. What do you enjoy most about this time of the year?\\ncaller: I like the cozy feel and the excitement of giving and receiving gifts!\\nfrosty: That's lovely! So, have you decided on your holiday wish? Would you like the new barbie dreamhouse or the bluey car, or maybe you'd like to explore a few more options?\\ncaller: I think I want the new barbie dreamhouse, please.\\nfrosty: Alright, Timmy! Let's confirm your wish list. You're requesting the Barbie Dreamhouse 2023, right?\\ncaller: Yes, that's what I want! Thank you, Frosty!\\nfrosty: You're welcome, Timmy! Enjoy your holiday season and have fun with your new Barbie Dreamhouse 2023!\\ncaller: Thanks, Frosty! Bye!\"   \n",
       "894                                                                                                                                                                                                                                                                                                                                                                                                                                                                    \"frosty: Hello! Welcome to the Holiday Wish Hotline! I'm Frosty. What's your name?\\ncaller: Hey Frosty, I'm Emma.\\nfrosty: Hello, Emma! It's wonderful to meet you. Where are you calling from?\\ncaller: I'm from London, UK.\\nfrosty: Fantastic, Emma! How old are you?\\ncaller: I'm 11 years old.\\nfrosty: Awesome! Let's chat about your holiday wish list. What toys are you interested in?\\ncaller: I'm not really sure. I like artsy things and science sets.\\nfrosty: How about the Thames & Kosmos Candy Vending Machine STEM experiment kit or the Calico Critters Pony's Stylish Hair Salon? Both are creative and educational choices.\\ncaller: Hmm, I think I want the candy vending machine set.\\nfrosty: Great choice, Emma! Why don't you tell me about your favorite pastime or hobby?\\ncaller: I enjoy painting and doing DIY projects with my dad.\\nfrosty: That's awesome! So, your holiday wish is the Thames & Kosmos Candy Vending Machine STEM experiment kit, right?\\ncaller: Yes, that's perfect!\\nfrosty: Fantastic! Your wish list will include the Thames & Kosmos Candy Vending Machine STEM experiment kit. Have a lovely holiday season, Emma, and enjoy creating sweet treats!\\ncaller: Thanks, Frosty! Happy holidays!\"   \n",
       "..                                                                                                                                                                                                                                                                                                                                                                                                                                                                                                                                                                                                                                                                                                                                                                                                                                                                                                                                                                                                                                                                                                                                                                                                                                                                                                                                                                                                                                                                                                                                                                                                                                                                                                                          ...   \n",
       "985                          \"caller: Hi there, is this Frosty?\\nfrosty: Hello! Yes, it's me, Frosty, the voice bot. I'm so excited to hear your holiday wish list! What's your name?\\ncaller: I'm Lucy from San Francisco, USA.\\nfrosty: Nice to meet you, Lucy! How old are you?\\ncaller: I'm 8 years old.\\nfrosty: Great, Lucy! Now, would you like to share your wish list with me? You can choose up to two toys.\\ncaller: Hmmm, I'm not really sure. I like so many things...\\nfrosty: That's okay! Let's explore the catalog together. Do you like plushies or action figures?\\ncaller: I like plushies!\\nfrosty: Wonderful! We have fox plushie, baby bee doll, elmo plushie and pokemon plushie. Which one do you think you'd like the most?\\ncaller: I think I want the fox plushie and the elmo plushie! Oh, but the pokemon plushie is awesome, too...\\nfrosty: All three are fantastic choices! If you had to pick only two, which ones would you choose?\\ncaller: I'll go with the fox plushie and the elmo plushie.\\nfrosty: Great choices, Lucy! What do you enjoy the most about this time of the year?\\ncaller: I love spending time with my family and decorating our home.\\nfrosty: That sounds lovely! How do you and your family plan to celebrate the holiday season?\\ncaller: We'll have a big dinner and exchange gifts.\\nfrosty: Sounds wonderful! So just to confirm, you'd like the 2023 Holiday Fox 12-Inch Plush and Sesame Street Monster Meditation Elmo, right?\\ncaller: Yes, that's correct!\\nfrosty: Perfect! Thank you for sharing your holiday wish list with me, Lucy. I hope your holiday season is filled with joy and special memories. Goodbye!\\ncaller: Thank you, Frosty! Goodbye!\"   \n",
       "986                                                                                                                                                                                                                                                                                                                        \"caller: Is this Frosty's number?\\nfrosty: Yes, it is! I'm Frosty, the voice bot, here to help you with your holiday wish list. What's your name, little one?\\ncaller: My name is Lucas.\\nfrosty: It's a pleasure to meet you, Lucas. Where are you calling from?\\ncaller: I'm calling from Toronto, Canada.\\nfrosty: That's great, Lucas! How old are you?\\ncaller: I'm 7.\\nfrosty: Wonderful! Now, let's talk about your holiday wish list. You can choose up to two toys. What would you like?\\ncaller: I want the spiderman playset and the robot dog!\\nfrosty: Those sound like fun choices! Why are you interested in these toys?\\ncaller: I love superheroes and I've always wanted a pet dog, but we can't have a real one because my sister is allergic.\\nfrosty: That makes sense! What's your favorite pastime or hobby, Lucas?\\ncaller: I like playing soccer with my friends.\\nfrosty: That's awesome! What's your favorite holiday memory?\\ncaller: Last year, we went on a trip to visit my cousins. We had so much fun!\\nfrosty: It sounds like a wonderful memory! Before we end our call, let's confirm your wish list. You'd like the Marvel's Spidey and His Amazing Friends Web Spinners playset and Dog-E, right?\\ncaller: Yes, please!\\nfrosty: Got it, Lucas! I hope you have a fantastic holiday season filled with adventure and love. Goodbye!\\ncaller: Goodbye, Frosty!\"   \n",
       "987                                                                                                                                                    \"caller: Hello, are you Frosty?\\nfrosty: Hi there! Yes, I am Frosty, the voice bot. I can help you with your holiday wish list. What's your name?\\ncaller: I'm Emily.\\nfrosty: Nice to meet you, Emily! Where are you calling from?\\ncaller: I live in Sydney, Australia.\\nfrosty: That's wonderful, Emily! How old are you?\\ncaller: I'm 9 years old.\\nfrosty: Great! Now let's create your holiday wish list. You can choose up to two toys. What would you like?\\ncaller: Um, I really don't know, there are so many fun toys!\\nfrosty: No worries, we'll explore the options together. Do you prefer creative play or building things?\\ncaller: I like building things!\\nfrosty: We have the magna tiles set, lego olivia's space set, and the fort building kit. Which ones sound the most interesting to you?\\ncaller: I think the lego set and the fort building kit would be fun!\\nfrosty: Those are great choices, Emily! What do you enjoy the most about this time of the year?\\ncaller: I love spending time with my family and baking cookies.\\nfrosty: That's so sweet! What's a favorite holiday memory you have?\\ncaller: We had a big family reunion at the beach last year. It was amazing!\\nfrosty: What a fantastic memory! Let's confirm your toy choices. You'd like the Lego Friends Olivia's Space Academy and the Tiny Land kids fort building kit, right?\\ncaller: Yeah, those are the ones!\\nfrosty: Perfect, Emily! I hope your holiday celebrations are filled with joy, laughter, and lots of cookies. Goodbye!\\ncaller: Goodbye, Frosty!\"   \n",
       "988                                                                                                                                                                                                                                                          \"caller: Hey, Frosty! I have my holiday wish ready!\\nfrosty: Hello! I'm excited to hear it. What's your name?\\ncaller: My name is Leo.\\nfrosty: Nice to meet you, Leo! Where are you calling from?\\ncaller: I'm in Auckland, New Zealand.\\nfrosty: Fantastic, Leo! How old are you?\\ncaller: I am 10.\\nfrosty: Alright, Leo, let's hear your holiday wish list. You can choose up to two toys.\\ncaller: I want the ninja turtles delivery van and the candy vending machine!\\nfrosty: Those are really fun choices! What do you like about these toys?\\ncaller: I love the ninja turtles, and the candy vending machine looks cool. I can share candy with my friends!\\nfrosty: Sharing is caring! How do you and your family plan to celebrate the holiday season?\\ncaller: We always have a big family barbecue at the park.\\nfrosty: That sounds like a lot of fun! What's your favorite holiday memory, Leo?\\ncaller: I loved when we went camping with my whole family, and we stayed up late telling stories.\\nfrosty: What a wonderful experience! So, to confirm, you'd like the Teenage Mutant Ninja Turtles: Mutant Mayhem Pizza Fire Delivery Van and the Thames & Kosmos Candy Vending Machine STEM experiment kit, right?\\ncaller: Yes, that's right!\\nfrosty: Perfect! Thank you for sharing your holiday wish list with me, Leo. Have a fantastic holiday season filled with laughter and adventure. Goodbye!\\ncaller: Thank you, Frosty! Goodbye!\"   \n",
       "989  \"caller: Hi, um, is this Frosty?\\nfrosty: Yes, it is! I'm Frosty, the voice bot, here to help you with your holiday wish list. What's your name?\\ncaller: My name is Ava.\\nfrosty: It's a pleasure to meet you, Ava. Where are you calling from?\\ncaller: I live in London, England.\\nfrosty: Wonderful, Ava! How old are you?\\ncaller: I'm 6 years old.\\nfrosty: Let's make your holiday wish list, Ava. You can choose up to two toys. What would you like?\\ncaller: I really love Barbie, but I also like Calico Critters and Bluey. I don't know what to choose.\\nfrosty: No worries, Ava. We'll find the perfect toys for you. We have the new barbie dreamhouse, barbie science doll set, bluey car, bluey playhouse, and pony's hair salon. Which of these sound the most appealing to you?\\ncaller: Um, I think I want the new barbie dreamhouse and the pony's hair salon. Oh, but the bluey car is so cute...\\nfrosty: You have fantastic taste! If you had to choose just two, which ones would you pick?\\ncaller: I'll pick the new barbie dreamhouse and the bluey car.\\nfrosty: Great choices, Ava! What do you enjoy the most about this time of the year?\\ncaller: I love playing in the snow and going ice skating with my family.\\nfrosty: That's fantastic! What's your favorite holiday memory, Ava?\\ncaller: Last year, my family and I went to see a beautiful holiday lights display in town.\\nfrosty: Magical memories! Let's confirm your toy choices. You'd like the Barbie Dreamhouse 2023 and the Bluey Convertible and Figures, right?\\ncaller: Yes, please!\\nfrosty: Perfect, Ava! I hope you have a lovely holiday season filled with joy and laughter. Goodbye!\\ncaller: Goodbye, Frosty!\"   \n",
       "\n",
       "                                                                                                                                                                         output  \\\n",
       "890                                 {\"toy_list\": [\"National Geographic Mega Slime Kit & Putty Lab\", \"Playfoam Naturals Shape & Learn Letters & Numbers\"], \"location\": \"Boston\"}   \n",
       "891                                                                                                 {\"toy_list\": [\"Tiny Land kids fort building kit\"], \"location\": \"Vancouver\"}   \n",
       "892                                   {\"toy_list\": [\"Fisher-Price Little People Mickey and Friends Playset\", \"Sesame Street Monster Meditation Elmo\"], \"location\": \"Melbourne\"}   \n",
       "893                                                                                                              {\"toy_list\": [\"Barbie Dreamhouse 2023\"], \"location\": \"Dublin\"}   \n",
       "894                                                                           {\"toy_list\": [\"Thames & Kosmos Candy Vending Machine STEM experiment kit\"], \"location\": \"London\"}   \n",
       "..                                                                                                                                                                          ...   \n",
       "985                                                      {\"toy_list\": [\"2023 Holiday Fox 12-Inch Plush\", \"Sesame Street Monster Meditation Elmo\"], \"location\": \"San Francisco\"}   \n",
       "986                                                              {\"toy_list\": [\"Marvel's Spidey and His Amazing Friends Web Spinners playset\", \"Dog-E\"], \"location\": \"Toronto\"}   \n",
       "987                                                             {\"toy_list\": [\"Lego Friends Olivia's Space Academy\", \"Tiny Land kids fort building kit\"], \"location\": \"Sydney\"}   \n",
       "988  {\"toy_list\": [\"Teenage Mutant Ninja Turtles: Mutant Mayhem Pizza Fire Delivery Van\", \"Thames & Kosmos Candy Vending Machine STEM experiment kit\"], \"location\": \"Auckland\"}   \n",
       "989                                                                             {\"toy_list\": [\"Barbie Dreamhouse 2023\", \"Bluey Convertible and Figures\"], \"location\": \"London\"}   \n",
       "\n",
       "    language  \\\n",
       "890       EN   \n",
       "891       EN   \n",
       "892       EN   \n",
       "893       EN   \n",
       "894       EN   \n",
       "..       ...   \n",
       "985       EN   \n",
       "986       EN   \n",
       "987       EN   \n",
       "988       EN   \n",
       "989       EN   \n",
       "\n",
       "                                                                                                                                                                                                                                                                                           predicted  \n",
       "890                                                                                                                                                      {\"toy_list\": [\"National Geographic Mega Slime Kit & Putty Lab\", \"Playfoam Naturals Shape & Learn Letters & Numbers\"], \"location\": \"Boston\"}  \n",
       "891                                                                                                                                                                                                                      {\"toy_list\": [\"Tiny Land kids fort building kit\"], \"location\": \"Vancouver\"}  \n",
       "892                                                                                                                                                        {\"toy_list\": [\"Fisher-Price Little People Mickey and Friends Playset\", \"Sesame Street Monster Meditation Elmo\"], \"location\": \"Melbourne\"}  \n",
       "893                                                                                                                                                                                                                                   {\"toy_list\": [\"Barbie Dreamhouse 2023\"], \"location\": \"Dublin\"}  \n",
       "894                                                                                                                                                                                                {\"toy_list\": [\"Thames & Kosmos Candy Vending Machine STEM experiment kit\"], \"location\": \"London\"}  \n",
       "..                                                                                                                                                                                                                                                                                               ...  \n",
       "985                                                                                                                                                                           {\"toy_list\": [\"2023 Holiday Fox 12-Inch Plush\", \"Sesame Street Monster Meditation Elmo\"], \"location\": \"San Francisco\"}  \n",
       "986                                                                                                                                                                                   {\"toy_list\": [\"Dog-E\", \"Marvel's Spidey and His Amazing Friends Web Spinners playset\"], \"location\": \"Toronto\"}  \n",
       "987                                                                                                                                                                                  {\"toy_list\": [\"Lego Friends Olivia's Space Academy\", \"Tiny Land kids fort building kit\"], \"location\": \"Sydney\"}  \n",
       "988  Here is the JSON response that extracts the \"location\" and \"toy_list\" keys from the input conversation:\\n\\n{\\n\"location\": \"Auckland\",\\n\"toy_list\": [\\n\"Teenage Mutant Ninja Turtles: Mutant Mayhem Pizza Fire Delivery Van\",\\n\"Thames & Kosmos Candy Vending Machine STEM experiment kit\"\\n]\\n}  \n",
       "989                                                                                                                                                                                                  {\"toy_list\": [\"Barbie Dreamhouse 2023\", \"Bluey Convertible and Figures\"], \"location\": \"London\"}  \n",
       "\n",
       "[100 rows x 5 columns]"
      ]
     },
     "execution_count": 11,
     "metadata": {},
     "output_type": "execute_result"
    }
   ],
   "source": [
    "test_res = runner.infer_batch(test_df)\n",
    "test_res"
   ]
  },
  {
   "cell_type": "markdown",
   "metadata": {},
   "source": [
    "### Log and Deploy Trained Llama 2 \n",
    "\n",
    "*NOTE: Notice that the \"model_id_or_path\" is set to the output weights folder where the weights from training the model are stored*"
   ]
  },
  {
   "cell_type": "code",
   "execution_count": 14,
   "metadata": {
    "tags": []
   },
   "outputs": [
    {
     "name": "stderr",
     "output_type": "stream",
     "text": [
      "WARNING:absl:The database DASH_DB already exists. Skipping creation.\n",
      "WARNING:absl:The schema DASH_DB.DASH_SCHEMA already exists. Skipping creation.\n"
     ]
    }
   ],
   "source": [
    "MODEL_NAME = \"LLAMA2_7b_CHAT\"\n",
    "MODEL_VERSION = \"V1.0\"\n",
    "MODEL_REGISTRY_DB = \"DASH_DB\"\n",
    "MODEL_REGISTRY_SCHEMA = \"DASH_SCHEMA\"\n",
    "COMPUTE_POOL = \"DASH_BUILD_GPU3\"\n",
    "DEPLOYMENT_NAME = \"TRAINED_LLAMA2\"\n",
    "\n",
    "registry = model_registry.ModelRegistry(\n",
    "    session=session, \n",
    "    database_name=MODEL_REGISTRY_DB, \n",
    "    schema_name=MODEL_REGISTRY_SCHEMA, \n",
    "    create_if_not_exists=True)"
   ]
  },
  {
   "cell_type": "code",
   "execution_count": 26,
   "metadata": {
    "tags": []
   },
   "outputs": [
    {
     "data": {
      "text/html": [
       "<div>\n",
       "<style scoped>\n",
       "    .dataframe tbody tr th:only-of-type {\n",
       "        vertical-align: middle;\n",
       "    }\n",
       "\n",
       "    .dataframe tbody tr th {\n",
       "        vertical-align: top;\n",
       "    }\n",
       "\n",
       "    .dataframe thead th {\n",
       "        text-align: right;\n",
       "    }\n",
       "</style>\n",
       "<table border=\"1\" class=\"dataframe\">\n",
       "  <thead>\n",
       "    <tr style=\"text-align: right;\">\n",
       "      <th></th>\n",
       "      <th>MODEL_NAME</th>\n",
       "      <th>MODEL_VERSION</th>\n",
       "      <th>DEPLOYMENT_NAME</th>\n",
       "      <th>CREATION_TIME</th>\n",
       "      <th>TARGET_METHOD</th>\n",
       "      <th>TARGET_PLATFORM</th>\n",
       "      <th>SIGNATURE</th>\n",
       "      <th>OPTIONS</th>\n",
       "      <th>STAGE_PATH</th>\n",
       "      <th>ROLE</th>\n",
       "    </tr>\n",
       "  </thead>\n",
       "  <tbody>\n",
       "  </tbody>\n",
       "</table>\n",
       "</div>"
      ],
      "text/plain": [
       "Empty DataFrame\n",
       "Columns: [MODEL_NAME, MODEL_VERSION, DEPLOYMENT_NAME, CREATION_TIME, TARGET_METHOD, TARGET_PLATFORM, SIGNATURE, OPTIONS, STAGE_PATH, ROLE]\n",
       "Index: []"
      ]
     },
     "execution_count": 26,
     "metadata": {},
     "output_type": "execute_result"
    }
   ],
   "source": [
    "registry.list_deployments(model_name=MODEL_NAME,model_version=MODEL_VERSION).to_pandas()"
   ]
  },
  {
   "cell_type": "code",
   "execution_count": 25,
   "metadata": {
    "tags": []
   },
   "outputs": [
    {
     "name": "stderr",
     "output_type": "stream",
     "text": [
      "WARNING:snowflake.snowpark:ModelRegistry.delete_deployment() is in private preview since 1.0.1. Do not use it in production. \n"
     ]
    }
   ],
   "source": [
    "# registry.delete_deployment(model_name=MODEL_NAME,model_version=MODEL_VERSION,deployment_name=DEPLOYMENT_NAME)"
   ]
  },
  {
   "cell_type": "code",
   "execution_count": 30,
   "metadata": {
    "tags": []
   },
   "outputs": [
    {
     "data": {
      "text/html": [
       "<div>\n",
       "<style scoped>\n",
       "    .dataframe tbody tr th:only-of-type {\n",
       "        vertical-align: middle;\n",
       "    }\n",
       "\n",
       "    .dataframe tbody tr th {\n",
       "        vertical-align: top;\n",
       "    }\n",
       "\n",
       "    .dataframe thead th {\n",
       "        text-align: right;\n",
       "    }\n",
       "</style>\n",
       "<table border=\"1\" class=\"dataframe\">\n",
       "  <thead>\n",
       "    <tr style=\"text-align: right;\">\n",
       "      <th></th>\n",
       "      <th>CREATION_CONTEXT</th>\n",
       "      <th>CREATION_ENVIRONMENT_SPEC</th>\n",
       "      <th>CREATION_ROLE</th>\n",
       "      <th>CREATION_TIME</th>\n",
       "      <th>ID</th>\n",
       "      <th>INPUT_SPEC</th>\n",
       "      <th>NAME</th>\n",
       "      <th>OUTPUT_SPEC</th>\n",
       "      <th>RUNTIME_ENVIRONMENT_SPEC</th>\n",
       "      <th>TYPE</th>\n",
       "      <th>URI</th>\n",
       "      <th>VERSION</th>\n",
       "      <th>ARTIFACT_IDS</th>\n",
       "      <th>DESCRIPTION</th>\n",
       "      <th>METRICS</th>\n",
       "      <th>TAGS</th>\n",
       "      <th>REGISTRATION_TIMESTAMP</th>\n",
       "    </tr>\n",
       "  </thead>\n",
       "  <tbody>\n",
       "    <tr>\n",
       "      <th>0</th>\n",
       "      <td>None</td>\n",
       "      <td>{\\n  \"python\": \"3.8.16\"\\n}</td>\n",
       "      <td>\"DASH_SPCS\"</td>\n",
       "      <td>2023-11-10 14:50:59.401000-08:00</td>\n",
       "      <td>9c218194801b11ee9713964a1cddf4b3</td>\n",
       "      <td>None</td>\n",
       "      <td>LLAMA2_7b_CHAT</td>\n",
       "      <td>None</td>\n",
       "      <td>None</td>\n",
       "      <td>llm</td>\n",
       "      <td>sfc://DASH_DB.DASH_SCHEMA.SNOWML_MODEL_9C218194801B11EE9713964A1CDDF4B3</td>\n",
       "      <td>V1.0</td>\n",
       "      <td>None</td>\n",
       "      <td>None</td>\n",
       "      <td>None</td>\n",
       "      <td>None</td>\n",
       "      <td>2023-11-10 14:51:00.627000-08:00</td>\n",
       "    </tr>\n",
       "  </tbody>\n",
       "</table>\n",
       "</div>"
      ],
      "text/plain": [
       "  CREATION_CONTEXT   CREATION_ENVIRONMENT_SPEC CREATION_ROLE  \\\n",
       "0             None  {\\n  \"python\": \"3.8.16\"\\n}   \"DASH_SPCS\"   \n",
       "\n",
       "                     CREATION_TIME                                ID  \\\n",
       "0 2023-11-10 14:50:59.401000-08:00  9c218194801b11ee9713964a1cddf4b3   \n",
       "\n",
       "  INPUT_SPEC            NAME OUTPUT_SPEC RUNTIME_ENVIRONMENT_SPEC TYPE  \\\n",
       "0       None  LLAMA2_7b_CHAT        None                     None  llm   \n",
       "\n",
       "                                                                       URI  \\\n",
       "0  sfc://DASH_DB.DASH_SCHEMA.SNOWML_MODEL_9C218194801B11EE9713964A1CDDF4B3   \n",
       "\n",
       "  VERSION ARTIFACT_IDS DESCRIPTION METRICS  TAGS  \\\n",
       "0    V1.0         None        None    None  None   \n",
       "\n",
       "            REGISTRATION_TIMESTAMP  \n",
       "0 2023-11-10 14:51:00.627000-08:00  "
      ]
     },
     "execution_count": 30,
     "metadata": {},
     "output_type": "execute_result"
    }
   ],
   "source": [
    "registry.list_models().to_pandas()"
   ]
  },
  {
   "cell_type": "code",
   "execution_count": 32,
   "metadata": {
    "tags": []
   },
   "outputs": [
    {
     "name": "stderr",
     "output_type": "stream",
     "text": [
      "WARNING:snowflake.snowpark:ModelRegistry.delete_model() is in private preview since 0.2.0. Do not use it in production. \n"
     ]
    }
   ],
   "source": [
    "# registry.delete_model(model_name=MODEL_NAME,model_version=MODEL_VERSION,delete_artifact=True)"
   ]
  },
  {
   "cell_type": "code",
   "execution_count": 33,
   "metadata": {
    "tags": []
   },
   "outputs": [],
   "source": [
    "# Run inference in SQL on the fine-tuned model"
   ]
  },
  {
   "cell_type": "code",
   "execution_count": 34,
   "metadata": {
    "tags": []
   },
   "outputs": [
    {
     "name": "stderr",
     "output_type": "stream",
     "text": [
      "/opt/conda/envs/rapids/lib/python3.8/site-packages/snowflake/ml/_internal/env_utils.py:217: UserWarning: Package requirement absl-py<2,>=0.15 specified, while version 2.0.0 is installed. Local version will be ignored to conform to package requirement.\n",
      "  warnings.warn(\n",
      "WARNING:snowflake.snowpark:ModelRegistry.deploy() is in private preview since 0.2.0. Do not use it in production. \n",
      "/opt/conda/envs/rapids/lib/python3.8/site-packages/snowflake/ml/model/_packager/model_env/model_env.py:353: UserWarning: Found dependencies specified as pip requirements. This may prevent model deploying to Snowflake Warehouse.\n",
      "  warnings.warn(\n",
      "WARNING:snowflake.ml.model._deploy_client.snowservice.deploy:Similar environment detected. Using existing image sfsenorthamerica-build-spcs.registry.snowflakecomputing.com/dash_db/dash_schema/snowml_repo/8a1453d3c1d39172488042f22e4a323c912464a3:latest to skip image build. To disable this feature, set 'force_image_build=True' in deployment options\n",
      "WARNING:snowflake.ml.model._deploy_client.utils.snowservice_client:Best-effort log streaming from SPCS will be enabled when python logging level is set to INFO.Alternatively, you can also query the logs by running the query 'CALL SYSTEM$GET_SERVICE_LOGS('DASH_DB.DASH_SCHEMA.service_f2894590803311ee903a964a1cddf4b3', '0', 'inference-server')'\n"
     ]
    },
    {
     "name": "stdout",
     "output_type": "stream",
     "text": [
      "CPU times: user 1.91 s, sys: 252 ms, total: 2.16 s\n",
      "Wall time: 2min 55s\n"
     ]
    },
    {
     "data": {
      "text/plain": [
       "{'name': 'DASH_DB.DASH_SCHEMA.TRAINED_LLAMA2',\n",
       " 'platform': <TargetPlatform.SNOWPARK_CONTAINER_SERVICES: 'SNOWPARK_CONTAINER_SERVICES'>,\n",
       " 'target_method': 'infer',\n",
       " 'signature': ModelSignature(\n",
       "                     inputs=[\n",
       "                         FeatureSpec(dtype=DataType.STRING, name='input')\n",
       "                     ],\n",
       "                     outputs=[\n",
       "                         FeatureSpec(dtype=DataType.STRING, name='generated_text')\n",
       "                     ]\n",
       "                 ),\n",
       " 'options': {'compute_pool': 'DASH_BUILD_GPU3', 'num_gpus': 1},\n",
       " 'details': {'image_name': 'sfsenorthamerica-build-spcs.registry.snowflakecomputing.com/dash_db/dash_schema/snowml_repo/8a1453d3c1d39172488042f22e4a323c912464a3:latest',\n",
       "  'service_spec': \"spec:\\n  container:\\n  - env:\\n      MODEL_ZIP_STAGE_PATH: /DASH_DB.DASH_SCHEMA.SNOWML_MODEL_F2894590803311EE903A964A1CDDF4B3/model.zip\\n      NUM_WORKERS: 1\\n      SNOWML_USE_GPU: true\\n      TARGET_METHOD: infer\\n      _CONCURRENT_REQUESTS_MAX: 1\\n    image: sfsenorthamerica-build-spcs.registry.snowflakecomputing.com/dash_db/dash_schema/snowml_repo/8a1453d3c1d39172488042f22e4a323c912464a3:latest\\n    name: inference-server\\n    readinessProbe:\\n      path: /health\\n      port: 5000\\n    resources:\\n      limits:\\n        nvidia.com/gpu: 1\\n      requests:\\n        nvidia.com/gpu: 1\\n    volumeMounts:\\n    - mountPath: /local/user/vol1\\n      name: vol1\\n    - mountPath: DASH_DB.DASH_SCHEMA.SNOWML_MODEL_F2894590803311EE903A964A1CDDF4B3\\n      name: stage\\n  endpoint:\\n  - name: predict\\n    port: 5000\\n  volume:\\n  - name: vol1\\n    source: local\\n  - gid: 1000\\n    name: stage\\n    source: '@DASH_DB.DASH_SCHEMA.SNOWML_MODEL_F2894590803311EE903A964A1CDDF4B3'\\n    uid: 1000\\n\",\n",
       "  'service_function_sql': \"\\n            CREATE OR REPLACE FUNCTION DASH_DB.DASH_SCHEMA.TRAINED_LLAMA2(input OBJECT)\\n                RETURNS OBJECT\\n                SERVICE=DASH_DB.DASH_SCHEMA.service_f2894590803311ee903a964a1cddf4b3\\n                ENDPOINT=predict\\n                MAX_BATCH_ROWS = 100\\n                AS '/predict'\\n            \"}}"
      ]
     },
     "execution_count": 34,
     "metadata": {},
     "output_type": "execute_result"
    }
   ],
   "source": [
    "%%time\n",
    "# NOTE: This will take ~15mins\n",
    "options = llm.LLMOptions(\n",
    "    token=connection_parameters[\"huggingface_token\"],\n",
    "    max_batch_size=100,\n",
    ")\n",
    "\n",
    "llama_model = llm.LLM(\n",
    "    model_id_or_path=output_weights_dir,\n",
    "    options=options\n",
    ")\n",
    "\n",
    "llama_model_ref = registry.log_model(\n",
    "    model_name=MODEL_NAME,\n",
    "    model_version=MODEL_VERSION,\n",
    "    model=llama_model\n",
    ")\n",
    "\n",
    "llama_model_ref.deploy(\n",
    "    deployment_name=DEPLOYMENT_NAME, \n",
    "    platform=deploy_platforms.TargetPlatform.SNOWPARK_CONTAINER_SERVICES,\n",
    "    permanent=True, \n",
    "    options={\"compute_pool\": COMPUTE_POOL, \"num_gpus\": 1})"
   ]
  },
  {
   "cell_type": "code",
   "execution_count": 38,
   "metadata": {
    "tags": []
   },
   "outputs": [
    {
     "name": "stderr",
     "output_type": "stream",
     "text": [
      "/tmp/ipykernel_2436/2451468295.py:15: SettingWithCopyWarning: \n",
      "A value is trying to be set on a copy of a slice from a DataFrame.\n",
      "Try using .loc[row_indexer,col_indexer] = value instead\n",
      "\n",
      "See the caveats in the documentation: https://pandas.pydata.org/pandas-docs/stable/user_guide/indexing.html#returning-a-view-versus-a-copy\n",
      "  eval_df['input'] = begin_prompt + eval_df['input'] + end_prompt\n"
     ]
    },
    {
     "data": {
      "text/html": [
       "<div>\n",
       "<style scoped>\n",
       "    .dataframe tbody tr th:only-of-type {\n",
       "        vertical-align: middle;\n",
       "    }\n",
       "\n",
       "    .dataframe tbody tr th {\n",
       "        vertical-align: top;\n",
       "    }\n",
       "\n",
       "    .dataframe thead th {\n",
       "        text-align: right;\n",
       "    }\n",
       "</style>\n",
       "<table border=\"1\" class=\"dataframe\">\n",
       "  <thead>\n",
       "    <tr style=\"text-align: right;\">\n",
       "      <th></th>\n",
       "      <th>instruction</th>\n",
       "      <th>input</th>\n",
       "      <th>output</th>\n",
       "      <th>language</th>\n",
       "      <th>predicted</th>\n",
       "    </tr>\n",
       "  </thead>\n",
       "  <tbody>\n",
       "    <tr>\n",
       "      <th>0</th>\n",
       "      <td>Extract JSON response with 'location' and 'toy_list' as keys. 'location': Location of the caller. Include city only.'toy_list': List of toy names from the caller.</td>\n",
       "      <td>\\n[INST] &lt;&lt;SYS&gt;&gt;\\nBelow is an instruction that describes a task, paired with an input that provides further context. Write a response that appropriately completes the request.\\n&lt;&lt;/SYS&gt;&gt;\\n### Instruction:\\nExtract JSON response with 'location' and 'toy_list' as keys.\\n'location': Location string of the caller.\\n'toy_list': List of toy names from the caller.\\n### Input:\\n\\n\"frosty: Hello! It's Frosty here to make your holiday wishes come true. May I know your name?\\ncaller: My name's Oliver, Frosty.\\nfrosty: Hi Oliver! Where are you from?\\ncaller: From Manchester in the UK.\\nfrosty: Great! And what toy are you wishing for?\\ncaller: Um, I think I want a snap circuit set or a magic microscope but I'm not sure which.\\nfrosty: Snap Circuits: Junior and LeapFrog Magic Adventures Microscope. Those are both educational and fun. Is that why you're interested?\\ncaller: Yes, I like learning new things while playing. I think I'll go with the snap circuit set.\\nfrosty: I can see why you'd choose it, it's a popular choice. And before we finish, can you tell me how you plan to celebrate the holiday season?\\ncaller: I'm going to have a sleepover with my cousins! It's our tradition.\\nfrosty: That sounds great! So, the Snap Circuits: Junior for your holiday wish, right Oliver?\\ncaller: Yes, please, Frosty. Thank you.\\nfrosty: Certainly, Oliver. Happy holidays!\" [/INST]</td>\n",
       "      <td>{\"toy_list\": [\"Snap Circuits: Junior\"], \"location\": \"Manchester\"}</td>\n",
       "      <td>EN</td>\n",
       "      <td>{\"toy_list\": [\"Snap Circuits: Junior\"], \"location\": \"Manchester\"}</td>\n",
       "    </tr>\n",
       "    <tr>\n",
       "      <th>1</th>\n",
       "      <td>Extract JSON response with 'location' and 'toy_list' as keys. 'location': Location of the caller. Include city only.'toy_list': List of toy names from the caller.</td>\n",
       "      <td>\\n[INST] &lt;&lt;SYS&gt;&gt;\\nBelow is an instruction that describes a task, paired with an input that provides further context. Write a response that appropriately completes the request.\\n&lt;&lt;/SYS&gt;&gt;\\n### Instruction:\\nExtract JSON response with 'location' and 'toy_list' as keys.\\n'location': Location string of the caller.\\n'toy_list': List of toy names from the caller.\\n### Input:\\n\\n\"frosty: Hi friend! I'm here to help make your holiday joyous. What's your name?\\ncaller: Hello Frosty, I'm Charlotte!\\nfrosty: Hi Charlotte, where are you from?\\ncaller: I'm from Toronto, Canada.\\nfrosty: Awesome! What's on your holiday wish list, Charlotte?\\ncaller: I really can't decide between the magna tiles set and the fort building kit. They both seem so fun.\\nfrosty: Interesting choices! Magna-Tiles 32-piece set and Tiny Land kids fort building kit. Do you like these because you love building and designing?\\ncaller: Yes, I love creating my own world! You know what? I'll go with the fort building kit. It seems more exciting!\\nfrosty: Good choice, Charlotte! Before we finish, can you tell me what you love most about this time of the year?\\ncaller: Yes, I love the holiday lights and spending time with my family.\\nfrosty: Wonderful! It's the Tiny Land kids fort building kit then. Happy holidays, Charlotte!\" [/INST]</td>\n",
       "      <td>{\"toy_list\": [\"Tiny Land kids fort building kit\"], \"location\": \"Toronto\"}</td>\n",
       "      <td>EN</td>\n",
       "      <td>{\"toy_list\": [\"Tiny Land kids fort building kit\"], \"location\": \"Toronto\"}</td>\n",
       "    </tr>\n",
       "    <tr>\n",
       "      <th>2</th>\n",
       "      <td>Extract JSON response with 'location' and 'toy_list' as keys. 'location': Location of the caller. Include city only.'toy_list': List of toy names from the caller.</td>\n",
       "      <td>\\n[INST] &lt;&lt;SYS&gt;&gt;\\nBelow is an instruction that describes a task, paired with an input that provides further context. Write a response that appropriately completes the request.\\n&lt;&lt;/SYS&gt;&gt;\\n### Instruction:\\nExtract JSON response with 'location' and 'toy_list' as keys.\\n'location': Location string of the caller.\\n'toy_list': List of toy names from the caller.\\n### Input:\\n\\n\"Frosty: Hi there, welcome to our wonderful world of winter wishes! How may I help you today?\\nCaller: Hi! My name is Emma, I'm ten.\\nFrosty: Hello Emma, it's nice to meet you! Where are you calling from?\\nCaller: I'm from Los Angeles, California.\\nFrosty: It sounds like it's warm there while we're in a winter wonderland! Well, Emma, are you ready to tell Frosty what you would like as your holiday presents this year?\\nCaller: Umm, I think I want the fox plushie and the baby bee doll.\\nFrosty: Oh, those are amazing choices! Why are you interested in these toys, Emma?\\nCaller: They are so soft and cute. I love cuddling with plushies!\\nFrosty: Great choices! Plushies are indeed very cuddly. How do you and your family plan to celebrate the holiday season?\\nCaller: We will be baking cookies and watching movies together.\\nFrosty: That sounds wonderful! Alright Emma, I've got your wish for the 2023 Holiday Fox 12-Inch Plush and Orijin Bees Lovey Coiley Baby Bee. Thank you for your call!\" [/INST]</td>\n",
       "      <td>{\"toy_list\": [\"2023 Holiday Fox 12-Inch Plush\", \"Orijin Bees Lovey Coiley Baby Bee\"], \"location\": \"Los Angeles\"}</td>\n",
       "      <td>EN</td>\n",
       "      <td>{\"toy_list\": [\"Fox plushie\", \"Baby bee doll\"], \"location\": \"Los Angeles\"}</td>\n",
       "    </tr>\n",
       "    <tr>\n",
       "      <th>3</th>\n",
       "      <td>Extract JSON response with 'location' and 'toy_list' as keys. 'location': Location of the caller. Include city only.'toy_list': List of toy names from the caller.</td>\n",
       "      <td>\\n[INST] &lt;&lt;SYS&gt;&gt;\\nBelow is an instruction that describes a task, paired with an input that provides further context. Write a response that appropriately completes the request.\\n&lt;&lt;/SYS&gt;&gt;\\n### Instruction:\\nExtract JSON response with 'location' and 'toy_list' as keys.\\n'location': Location string of the caller.\\n'toy_list': List of toy names from the caller.\\n### Input:\\n\\n\"Frosty: Hello, welcome to our winter wonderland hotline! Who's speaking today?\\nCaller: Hi Frosty I'm Jonah. Can you help me with my holiday wish?\\nFrosty: Hi Jonah! Of course, I'd love to help. Could you please tell me where are you calling from.?\\nCaller: I'm from Manchester, England.\\nFrosty: Lovely! Now, tell me Jonah, what are you wishing for this holiday season?\\nCaller: I like cars and dogs. I'm thinking about the bluey car and the robot dog.\\nFrosty: Those look like a lot of fun! Jonah, can you tell me why you're interested in those toys?\\nCaller: My friends have them and they told me they are so fun! \\nFrosty: Ah, I see. Well, the Bluey Convertible and Figures and Dog-E are both great choices. Thank you for calling in Jonah!\" [/INST]</td>\n",
       "      <td>{\"toy_list\": [\"Bluey Convertible and Figures\", \"Dog-E\"], \"location\": \"Manchester\"}</td>\n",
       "      <td>EN</td>\n",
       "      <td>{\"toy_list\": [\"Bluey Convertible\", \"Bluey Figures\", \"Dog-E\"], \"location\": \"Manchester\"}</td>\n",
       "    </tr>\n",
       "    <tr>\n",
       "      <th>4</th>\n",
       "      <td>Extract JSON response with 'location' and 'toy_list' as keys. 'location': Location of the caller. Include city only.'toy_list': List of toy names from the caller.</td>\n",
       "      <td>\\n[INST] &lt;&lt;SYS&gt;&gt;\\nBelow is an instruction that describes a task, paired with an input that provides further context. Write a response that appropriately completes the request.\\n&lt;&lt;/SYS&gt;&gt;\\n### Instruction:\\nExtract JSON response with 'location' and 'toy_list' as keys.\\n'location': Location string of the caller.\\n'toy_list': List of toy names from the caller.\\n### Input:\\n\\n\"Frosty: Hi there! Welcome to our winter wishes line! What's your name?\\nCaller: I'm Leah and I'm seven. Can I ask for two toys?\\nFrosty: Sure you can, Leah! By the way where are you calling from?\\nCaller: I'm from Sydney, Australia.\\nFrosty: How wonderful! Now, let's hear your two wishes Leah!\\nCaller: Uhm, I can't decide between the barbie science doll set and the new barbie dreamhouse.\\nFrosty: Well, either one would be great. Just think about what you would have more fun playing with.\\nCaller: I think I like the barbie science doll set better.\\nFrosty: That's an excellent choice, Leah! It will be so much fun for you. Have a great holiday!\" [/INST]</td>\n",
       "      <td>{\"toy_list\": [\"Barbie Science Lab Playset\", \"Barbie Dreamhouse 2023\"], \"location\": \"Sydney\"}</td>\n",
       "      <td>EN</td>\n",
       "      <td>{\"toy_list\": [\"Barbie Science Doll Set\"], \"location\": \"Sydney\"}</td>\n",
       "    </tr>\n",
       "    <tr>\n",
       "      <th>...</th>\n",
       "      <td>...</td>\n",
       "      <td>...</td>\n",
       "      <td>...</td>\n",
       "      <td>...</td>\n",
       "      <td>...</td>\n",
       "    </tr>\n",
       "    <tr>\n",
       "      <th>95</th>\n",
       "      <td>Extract JSON response with 'location' and 'toy_list' as keys. 'location': Location of the caller. Include city only.'toy_list': List of toy names from the caller.</td>\n",
       "      <td>\\n[INST] &lt;&lt;SYS&gt;&gt;\\nBelow is an instruction that describes a task, paired with an input that provides further context. Write a response that appropriately completes the request.\\n&lt;&lt;/SYS&gt;&gt;\\n### Instruction:\\nExtract JSON response with 'location' and 'toy_list' as keys.\\n'location': Location string of the caller.\\n'toy_list': List of toy names from the caller.\\n### Input:\\n\\n\"Frosty: Hi there, jolly greetings! Who is this?\\nCaller: My name's Sophia. I'm calling from Cape Town.\\nFrosty: Hello Sophia from Cape Town! What's on your wish list this holiday season?\\nCaller: I want lola droid and spiderman playset.\\nFrosty: Cool choices, Sophia! What made you choose them?\\nCaller: Because they are based on my favorite movies.\\nFrosty: How does your family plan to celebrate this season?\\nCaller: We will spend time at the beach and have a picnic.\\nFrosty: That sounds wonderful! Those toys will surely add joy to your festivities. Finalizing Star Wars LOLA animatronic droid and Marvel's Spidey and His Amazing Friends Web Spinners playset on your list then?\\nCaller: Yes, add them please!\\nFrosty: Sure, they're on your wish list now. Thanks for calling, Sophia!\" [/INST]</td>\n",
       "      <td>{\"toy_list\": [\"Star Wars LOLA animatronic droid\", \"Marvel's Spidey and His Amazing Friends Web Spinners playset\"], \"location\": \"Cape Town\"}</td>\n",
       "      <td>EN</td>\n",
       "      <td>{\"toy_list\": [\"Lola Droid\", \"Spiderman Playset\"], \"location\": \"Cape Town\"}</td>\n",
       "    </tr>\n",
       "    <tr>\n",
       "      <th>96</th>\n",
       "      <td>Extract JSON response with 'location' and 'toy_list' as keys. 'location': Location of the caller. Include city only.'toy_list': List of toy names from the caller.</td>\n",
       "      <td>\\n[INST] &lt;&lt;SYS&gt;&gt;\\nBelow is an instruction that describes a task, paired with an input that provides further context. Write a response that appropriately completes the request.\\n&lt;&lt;/SYS&gt;&gt;\\n### Instruction:\\nExtract JSON response with 'location' and 'toy_list' as keys.\\n'location': Location string of the caller.\\n'toy_list': List of toy names from the caller.\\n### Input:\\n\\n\"Frosty: Cheerful greetings! I'm Frosty. Who's calling?\\nCaller: Hi! I'm Ava. I'm from Los Angeles.\\nFrosty: Great to hear from you, Ava! What are your toy wishes for this holiday season?\\nCaller: I like the baby bee doll and fox plushie.\\nFrosty: Both super cuddly! Why do those stand out to you?\\nCaller: They are so cute and I love their colors.\\nFrosty: What do you enjoy most about this time of year?\\nCaller: The playtime and the yummy food!\\nFrosty: Yummy food and play, a perfect combo! So, shall we add the Orijin Bees Lovey Coiley Baby Bee and 2023 Holiday Fox 12-Inch Plush to your wish list?\\nCaller: Yes, I\\u2019d like that.\\nFrosty: Great! They're on your list now. Thanks for calling, Ava!\" [/INST]</td>\n",
       "      <td>{\"toy_list\": [\"Orijin Bees Lovey Coiley Baby Bee\", \"2023 Holiday Fox 12-Inch Plush\"], \"location\": \"Los Angeles\"}</td>\n",
       "      <td>EN</td>\n",
       "      <td>{\"toy_list\": [\"Orijin Bees Lovey Coiley Baby Bee\", \"2023 Holiday Fox 12-Inch Plush\"], \"location\": \"Los Angeles\"}</td>\n",
       "    </tr>\n",
       "    <tr>\n",
       "      <th>97</th>\n",
       "      <td>Extract JSON response with 'location' and 'toy_list' as keys. 'location': Location of the caller. Include city only.'toy_list': List of toy names from the caller.</td>\n",
       "      <td>\\n[INST] &lt;&lt;SYS&gt;&gt;\\nBelow is an instruction that describes a task, paired with an input that provides further context. Write a response that appropriately completes the request.\\n&lt;&lt;/SYS&gt;&gt;\\n### Instruction:\\nExtract JSON response with 'location' and 'toy_list' as keys.\\n'location': Location string of the caller.\\n'toy_list': List of toy names from the caller.\\n### Input:\\n\\n\"frosty: Hello, little snowflake! How can I help you today?\\ncaller: Hi, I'm Liam from Auckland, New Zealand.\\nfrosty: Hi Liam! How old are you?\\ncaller: I'm 8. Can you help me with my holiday wish list? \\nfrosty: Of course, Liam! What toys are you hoping for? \\ncaller: Uh, I want a furby, and maybe the new barbie dreamhouse for my sister.\\nfrosty: Lovely choices, Liam! Why are you interested in the furby?\\ncaller: Because it can talk, and it's funny.\\nfrosty: That's great! And how do you plan to celebrate the holiday season with your family? \\ncaller: We're going to have a big dinner and play games.\\nfrosty: That sounds really fun, Liam! Do you have a favorite hobby or pastime?\\ncaller: I like playing soccer.\\nfrosty: That's amazing! And what's your favorite holiday memory? \\ncaller: Last year when we went to a holiday fair, it was so much fun.\\nfrosty: That sounds wonderful, Liam! So for your list we have a Furby interactive plush toy and a Barbie Dreamhouse 2023 for your sister, right?\\ncaller: Yes, perfect! Thank you.\\nfrosty: You're welcome, Liam! Have a magical holiday season and enjoy your toys!\" [/INST]</td>\n",
       "      <td>{\"toy_list\": [\"Furby interactive plush toy\", \"Barbie Dreamhouse 2023\"], \"location\": \"Auckland\"}</td>\n",
       "      <td>EN</td>\n",
       "      <td>{\"toy_list\": [\"Furby interactive plush toy\", \"Barbie Dreamhouse 2023\"], \"location\": \"Auckland\"}</td>\n",
       "    </tr>\n",
       "    <tr>\n",
       "      <th>98</th>\n",
       "      <td>Extract JSON response with 'location' and 'toy_list' as keys. 'location': Location of the caller. Include city only.'toy_list': List of toy names from the caller.</td>\n",
       "      <td>\\n[INST] &lt;&lt;SYS&gt;&gt;\\nBelow is an instruction that describes a task, paired with an input that provides further context. Write a response that appropriately completes the request.\\n&lt;&lt;/SYS&gt;&gt;\\n### Instruction:\\nExtract JSON response with 'location' and 'toy_list' as keys.\\n'location': Location string of the caller.\\n'toy_list': List of toy names from the caller.\\n### Input:\\n\\n\"frosty: Hi there, my little candy cane! Who do I have the pleasure of talking to today?\\ncaller: Hi! I'm Emma.\\nfrosty: Hello Emma! Where are you calling from?\\ncaller: I'm calling from Manchester in UK.\\nfrosty: It's delightful to talk to you, Emma! What's on your wish list this year?\\ncaller: I'm thinking about the bluey car. Can I get that?\\nfrosty: Of course! But may I ask why you're interested in the Bluey Convertible and Figures?\\ncaller: I watch Bluey on TV and I really like when they go places in their car.\\nfrosty: That's awesome! How do you and your family plan to celebrate the holidays?\\ncaller: We'll decorate our home and have a family dinner. \\nfrosty: Sounds amazing! What is your favorite thing about this time of year?\\ncaller: I like the lights and the pretty decorations. And the presents!\\nfrosty: I'm sure! Before we wrap up, just to confirm, you wish for the Bluey Convertible and Figures this year, right?\\ncaller: Yes, Frosty. That's right.\\nfrosty: Got it, Emma! Wishing you a holiday season filled with joy and new adventures with your bluey car!\" [/INST]</td>\n",
       "      <td>{\"toy_list\": [\"Bluey Convertible and Figures\"], \"location\": \"Manchester\"}</td>\n",
       "      <td>EN</td>\n",
       "      <td>{\"toy_list\": [\"Bluey Convertible and Figures\"], \"location\": \"Manchester\"}</td>\n",
       "    </tr>\n",
       "    <tr>\n",
       "      <th>99</th>\n",
       "      <td>Extract JSON response with 'location' and 'toy_list' as keys. 'location': Location of the caller. Include city only.'toy_list': List of toy names from the caller.</td>\n",
       "      <td>\\n[INST] &lt;&lt;SYS&gt;&gt;\\nBelow is an instruction that describes a task, paired with an input that provides further context. Write a response that appropriately completes the request.\\n&lt;&lt;/SYS&gt;&gt;\\n### Instruction:\\nExtract JSON response with 'location' and 'toy_list' as keys.\\n'location': Location string of the caller.\\n'toy_list': List of toy names from the caller.\\n### Input:\\n\\n\"frosty: Greetings from the North Pole! What's your name, dear friend?\\ncaller: Hi, I'm Noah.\\nfrosty: Hi Noah! And where are you from? \\ncaller: I'm from Sydney, Australia.\\nfrosty: Wonderful, Noah! What's on your holiday wish list?\\ncaller: Um, I uh, want the, um, spiderman playset.\\nfrosty: The Marvel's Spidey and His Amazing Friends Web Spinners playset? That one?\\ncaller: Yes, that's the one. But also, maybe the bitzee pet.\\nfrosty: Why are you interested in these toys Noah?\\ncaller: Because Spiderman is my favorite. And I like pets. Maybe a pet that's a toy could be fun.\\nfrosty: Sounds wonderful, Noah! Can you share your favorite holiday memory?\\ncaller: Last year, my family and I went camping by the beach. It was awesome. \\nfrosty: And how you plan to celebrate the holidays this year?\\ncaller: We are going camping again. And we will have a bonfire and roast marshmallows.\\nfrosty: Sounds exciting! So, we have the Marvel's Spidey and His Amazing Friends Web Spinners playset and the Bitzee interactive pet on the list. Can I confirm that?\\ncaller: Yup, that sounds right.\\nfrosty: Alright Noah, happy camping and enjoy your new toys!\" [/INST]</td>\n",
       "      <td>{\"toy_list\": [\"Marvel's Spidey and His Amazing Friends Web Spinners playset\", \"Bitzee interactive pet\"], \"location\": \"Sydney\"}</td>\n",
       "      <td>EN</td>\n",
       "      <td>{\"toy_list\": [\"Marvel's Spidey and His Amazing Friends Web Spinners playset\", \"Bitzee interactive pet\"], \"location\": \"Sydney\"}</td>\n",
       "    </tr>\n",
       "  </tbody>\n",
       "</table>\n",
       "<p>100 rows × 5 columns</p>\n",
       "</div>"
      ],
      "text/plain": [
       "                                                                                                                                                           instruction  \\\n",
       "0   Extract JSON response with 'location' and 'toy_list' as keys. 'location': Location of the caller. Include city only.'toy_list': List of toy names from the caller.   \n",
       "1   Extract JSON response with 'location' and 'toy_list' as keys. 'location': Location of the caller. Include city only.'toy_list': List of toy names from the caller.   \n",
       "2   Extract JSON response with 'location' and 'toy_list' as keys. 'location': Location of the caller. Include city only.'toy_list': List of toy names from the caller.   \n",
       "3   Extract JSON response with 'location' and 'toy_list' as keys. 'location': Location of the caller. Include city only.'toy_list': List of toy names from the caller.   \n",
       "4   Extract JSON response with 'location' and 'toy_list' as keys. 'location': Location of the caller. Include city only.'toy_list': List of toy names from the caller.   \n",
       "..                                                                                                                                                                 ...   \n",
       "95  Extract JSON response with 'location' and 'toy_list' as keys. 'location': Location of the caller. Include city only.'toy_list': List of toy names from the caller.   \n",
       "96  Extract JSON response with 'location' and 'toy_list' as keys. 'location': Location of the caller. Include city only.'toy_list': List of toy names from the caller.   \n",
       "97  Extract JSON response with 'location' and 'toy_list' as keys. 'location': Location of the caller. Include city only.'toy_list': List of toy names from the caller.   \n",
       "98  Extract JSON response with 'location' and 'toy_list' as keys. 'location': Location of the caller. Include city only.'toy_list': List of toy names from the caller.   \n",
       "99  Extract JSON response with 'location' and 'toy_list' as keys. 'location': Location of the caller. Include city only.'toy_list': List of toy names from the caller.   \n",
       "\n",
       "                                                                                                                                                                                                                                                                                                                                                                                                                                                                                                                                                                                                                                                                                                                                                                                                                                                                                                                                                                                                                                                                                                                                                                                                                                                                                                                                                                                                                                                                                                                                                                                               input  \\\n",
       "0                                                                                                                                                                       \\n[INST] <<SYS>>\\nBelow is an instruction that describes a task, paired with an input that provides further context. Write a response that appropriately completes the request.\\n<</SYS>>\\n### Instruction:\\nExtract JSON response with 'location' and 'toy_list' as keys.\\n'location': Location string of the caller.\\n'toy_list': List of toy names from the caller.\\n### Input:\\n\\n\"frosty: Hello! It's Frosty here to make your holiday wishes come true. May I know your name?\\ncaller: My name's Oliver, Frosty.\\nfrosty: Hi Oliver! Where are you from?\\ncaller: From Manchester in the UK.\\nfrosty: Great! And what toy are you wishing for?\\ncaller: Um, I think I want a snap circuit set or a magic microscope but I'm not sure which.\\nfrosty: Snap Circuits: Junior and LeapFrog Magic Adventures Microscope. Those are both educational and fun. Is that why you're interested?\\ncaller: Yes, I like learning new things while playing. I think I'll go with the snap circuit set.\\nfrosty: I can see why you'd choose it, it's a popular choice. And before we finish, can you tell me how you plan to celebrate the holiday season?\\ncaller: I'm going to have a sleepover with my cousins! It's our tradition.\\nfrosty: That sounds great! So, the Snap Circuits: Junior for your holiday wish, right Oliver?\\ncaller: Yes, please, Frosty. Thank you.\\nfrosty: Certainly, Oliver. Happy holidays!\" [/INST]   \n",
       "1                                                                                                                                                                                                                                         \\n[INST] <<SYS>>\\nBelow is an instruction that describes a task, paired with an input that provides further context. Write a response that appropriately completes the request.\\n<</SYS>>\\n### Instruction:\\nExtract JSON response with 'location' and 'toy_list' as keys.\\n'location': Location string of the caller.\\n'toy_list': List of toy names from the caller.\\n### Input:\\n\\n\"frosty: Hi friend! I'm here to help make your holiday joyous. What's your name?\\ncaller: Hello Frosty, I'm Charlotte!\\nfrosty: Hi Charlotte, where are you from?\\ncaller: I'm from Toronto, Canada.\\nfrosty: Awesome! What's on your holiday wish list, Charlotte?\\ncaller: I really can't decide between the magna tiles set and the fort building kit. They both seem so fun.\\nfrosty: Interesting choices! Magna-Tiles 32-piece set and Tiny Land kids fort building kit. Do you like these because you love building and designing?\\ncaller: Yes, I love creating my own world! You know what? I'll go with the fort building kit. It seems more exciting!\\nfrosty: Good choice, Charlotte! Before we finish, can you tell me what you love most about this time of the year?\\ncaller: Yes, I love the holiday lights and spending time with my family.\\nfrosty: Wonderful! It's the Tiny Land kids fort building kit then. Happy holidays, Charlotte!\" [/INST]   \n",
       "2                                                                                                                                                                  \\n[INST] <<SYS>>\\nBelow is an instruction that describes a task, paired with an input that provides further context. Write a response that appropriately completes the request.\\n<</SYS>>\\n### Instruction:\\nExtract JSON response with 'location' and 'toy_list' as keys.\\n'location': Location string of the caller.\\n'toy_list': List of toy names from the caller.\\n### Input:\\n\\n\"Frosty: Hi there, welcome to our wonderful world of winter wishes! How may I help you today?\\nCaller: Hi! My name is Emma, I'm ten.\\nFrosty: Hello Emma, it's nice to meet you! Where are you calling from?\\nCaller: I'm from Los Angeles, California.\\nFrosty: It sounds like it's warm there while we're in a winter wonderland! Well, Emma, are you ready to tell Frosty what you would like as your holiday presents this year?\\nCaller: Umm, I think I want the fox plushie and the baby bee doll.\\nFrosty: Oh, those are amazing choices! Why are you interested in these toys, Emma?\\nCaller: They are so soft and cute. I love cuddling with plushies!\\nFrosty: Great choices! Plushies are indeed very cuddly. How do you and your family plan to celebrate the holiday season?\\nCaller: We will be baking cookies and watching movies together.\\nFrosty: That sounds wonderful! Alright Emma, I've got your wish for the 2023 Holiday Fox 12-Inch Plush and Orijin Bees Lovey Coiley Baby Bee. Thank you for your call!\" [/INST]   \n",
       "3                                                                                                                                                                                                                                                                                                                                                                                                                            \\n[INST] <<SYS>>\\nBelow is an instruction that describes a task, paired with an input that provides further context. Write a response that appropriately completes the request.\\n<</SYS>>\\n### Instruction:\\nExtract JSON response with 'location' and 'toy_list' as keys.\\n'location': Location string of the caller.\\n'toy_list': List of toy names from the caller.\\n### Input:\\n\\n\"Frosty: Hello, welcome to our winter wonderland hotline! Who's speaking today?\\nCaller: Hi Frosty I'm Jonah. Can you help me with my holiday wish?\\nFrosty: Hi Jonah! Of course, I'd love to help. Could you please tell me where are you calling from.?\\nCaller: I'm from Manchester, England.\\nFrosty: Lovely! Now, tell me Jonah, what are you wishing for this holiday season?\\nCaller: I like cars and dogs. I'm thinking about the bluey car and the robot dog.\\nFrosty: Those look like a lot of fun! Jonah, can you tell me why you're interested in those toys?\\nCaller: My friends have them and they told me they are so fun! \\nFrosty: Ah, I see. Well, the Bluey Convertible and Figures and Dog-E are both great choices. Thank you for calling in Jonah!\" [/INST]   \n",
       "4                                                                                                                                                                                                                                                                                                                                                                                                                                                                                                                          \\n[INST] <<SYS>>\\nBelow is an instruction that describes a task, paired with an input that provides further context. Write a response that appropriately completes the request.\\n<</SYS>>\\n### Instruction:\\nExtract JSON response with 'location' and 'toy_list' as keys.\\n'location': Location string of the caller.\\n'toy_list': List of toy names from the caller.\\n### Input:\\n\\n\"Frosty: Hi there! Welcome to our winter wishes line! What's your name?\\nCaller: I'm Leah and I'm seven. Can I ask for two toys?\\nFrosty: Sure you can, Leah! By the way where are you calling from?\\nCaller: I'm from Sydney, Australia.\\nFrosty: How wonderful! Now, let's hear your two wishes Leah!\\nCaller: Uhm, I can't decide between the barbie science doll set and the new barbie dreamhouse.\\nFrosty: Well, either one would be great. Just think about what you would have more fun playing with.\\nCaller: I think I like the barbie science doll set better.\\nFrosty: That's an excellent choice, Leah! It will be so much fun for you. Have a great holiday!\" [/INST]   \n",
       "..                                                                                                                                                                                                                                                                                                                                                                                                                                                                                                                                                                                                                                                                                                                                                                                                                                                                                                                                                                                                                                                                                                                                                                                                                                                                                                                                                                                                                                                                                                                                                                                               ...   \n",
       "95                                                                                                                                                                                                                                                                                                                                                                               \\n[INST] <<SYS>>\\nBelow is an instruction that describes a task, paired with an input that provides further context. Write a response that appropriately completes the request.\\n<</SYS>>\\n### Instruction:\\nExtract JSON response with 'location' and 'toy_list' as keys.\\n'location': Location string of the caller.\\n'toy_list': List of toy names from the caller.\\n### Input:\\n\\n\"Frosty: Hi there, jolly greetings! Who is this?\\nCaller: My name's Sophia. I'm calling from Cape Town.\\nFrosty: Hello Sophia from Cape Town! What's on your wish list this holiday season?\\nCaller: I want lola droid and spiderman playset.\\nFrosty: Cool choices, Sophia! What made you choose them?\\nCaller: Because they are based on my favorite movies.\\nFrosty: How does your family plan to celebrate this season?\\nCaller: We will spend time at the beach and have a picnic.\\nFrosty: That sounds wonderful! Those toys will surely add joy to your festivities. Finalizing Star Wars LOLA animatronic droid and Marvel's Spidey and His Amazing Friends Web Spinners playset on your list then?\\nCaller: Yes, add them please!\\nFrosty: Sure, they're on your wish list now. Thanks for calling, Sophia!\" [/INST]   \n",
       "96                                                                                                                                                                                                                                                                                                                                                                                                                                                                   \\n[INST] <<SYS>>\\nBelow is an instruction that describes a task, paired with an input that provides further context. Write a response that appropriately completes the request.\\n<</SYS>>\\n### Instruction:\\nExtract JSON response with 'location' and 'toy_list' as keys.\\n'location': Location string of the caller.\\n'toy_list': List of toy names from the caller.\\n### Input:\\n\\n\"Frosty: Cheerful greetings! I'm Frosty. Who's calling?\\nCaller: Hi! I'm Ava. I'm from Los Angeles.\\nFrosty: Great to hear from you, Ava! What are your toy wishes for this holiday season?\\nCaller: I like the baby bee doll and fox plushie.\\nFrosty: Both super cuddly! Why do those stand out to you?\\nCaller: They are so cute and I love their colors.\\nFrosty: What do you enjoy most about this time of year?\\nCaller: The playtime and the yummy food!\\nFrosty: Yummy food and play, a perfect combo! So, shall we add the Orijin Bees Lovey Coiley Baby Bee and 2023 Holiday Fox 12-Inch Plush to your wish list?\\nCaller: Yes, I\\u2019d like that.\\nFrosty: Great! They're on your list now. Thanks for calling, Ava!\" [/INST]   \n",
       "97                                    \\n[INST] <<SYS>>\\nBelow is an instruction that describes a task, paired with an input that provides further context. Write a response that appropriately completes the request.\\n<</SYS>>\\n### Instruction:\\nExtract JSON response with 'location' and 'toy_list' as keys.\\n'location': Location string of the caller.\\n'toy_list': List of toy names from the caller.\\n### Input:\\n\\n\"frosty: Hello, little snowflake! How can I help you today?\\ncaller: Hi, I'm Liam from Auckland, New Zealand.\\nfrosty: Hi Liam! How old are you?\\ncaller: I'm 8. Can you help me with my holiday wish list? \\nfrosty: Of course, Liam! What toys are you hoping for? \\ncaller: Uh, I want a furby, and maybe the new barbie dreamhouse for my sister.\\nfrosty: Lovely choices, Liam! Why are you interested in the furby?\\ncaller: Because it can talk, and it's funny.\\nfrosty: That's great! And how do you plan to celebrate the holiday season with your family? \\ncaller: We're going to have a big dinner and play games.\\nfrosty: That sounds really fun, Liam! Do you have a favorite hobby or pastime?\\ncaller: I like playing soccer.\\nfrosty: That's amazing! And what's your favorite holiday memory? \\ncaller: Last year when we went to a holiday fair, it was so much fun.\\nfrosty: That sounds wonderful, Liam! So for your list we have a Furby interactive plush toy and a Barbie Dreamhouse 2023 for your sister, right?\\ncaller: Yes, perfect! Thank you.\\nfrosty: You're welcome, Liam! Have a magical holiday season and enjoy your toys!\" [/INST]   \n",
       "98                                                                           \\n[INST] <<SYS>>\\nBelow is an instruction that describes a task, paired with an input that provides further context. Write a response that appropriately completes the request.\\n<</SYS>>\\n### Instruction:\\nExtract JSON response with 'location' and 'toy_list' as keys.\\n'location': Location string of the caller.\\n'toy_list': List of toy names from the caller.\\n### Input:\\n\\n\"frosty: Hi there, my little candy cane! Who do I have the pleasure of talking to today?\\ncaller: Hi! I'm Emma.\\nfrosty: Hello Emma! Where are you calling from?\\ncaller: I'm calling from Manchester in UK.\\nfrosty: It's delightful to talk to you, Emma! What's on your wish list this year?\\ncaller: I'm thinking about the bluey car. Can I get that?\\nfrosty: Of course! But may I ask why you're interested in the Bluey Convertible and Figures?\\ncaller: I watch Bluey on TV and I really like when they go places in their car.\\nfrosty: That's awesome! How do you and your family plan to celebrate the holidays?\\ncaller: We'll decorate our home and have a family dinner. \\nfrosty: Sounds amazing! What is your favorite thing about this time of year?\\ncaller: I like the lights and the pretty decorations. And the presents!\\nfrosty: I'm sure! Before we wrap up, just to confirm, you wish for the Bluey Convertible and Figures this year, right?\\ncaller: Yes, Frosty. That's right.\\nfrosty: Got it, Emma! Wishing you a holiday season filled with joy and new adventures with your bluey car!\" [/INST]   \n",
       "99  \\n[INST] <<SYS>>\\nBelow is an instruction that describes a task, paired with an input that provides further context. Write a response that appropriately completes the request.\\n<</SYS>>\\n### Instruction:\\nExtract JSON response with 'location' and 'toy_list' as keys.\\n'location': Location string of the caller.\\n'toy_list': List of toy names from the caller.\\n### Input:\\n\\n\"frosty: Greetings from the North Pole! What's your name, dear friend?\\ncaller: Hi, I'm Noah.\\nfrosty: Hi Noah! And where are you from? \\ncaller: I'm from Sydney, Australia.\\nfrosty: Wonderful, Noah! What's on your holiday wish list?\\ncaller: Um, I uh, want the, um, spiderman playset.\\nfrosty: The Marvel's Spidey and His Amazing Friends Web Spinners playset? That one?\\ncaller: Yes, that's the one. But also, maybe the bitzee pet.\\nfrosty: Why are you interested in these toys Noah?\\ncaller: Because Spiderman is my favorite. And I like pets. Maybe a pet that's a toy could be fun.\\nfrosty: Sounds wonderful, Noah! Can you share your favorite holiday memory?\\ncaller: Last year, my family and I went camping by the beach. It was awesome. \\nfrosty: And how you plan to celebrate the holidays this year?\\ncaller: We are going camping again. And we will have a bonfire and roast marshmallows.\\nfrosty: Sounds exciting! So, we have the Marvel's Spidey and His Amazing Friends Web Spinners playset and the Bitzee interactive pet on the list. Can I confirm that?\\ncaller: Yup, that sounds right.\\nfrosty: Alright Noah, happy camping and enjoy your new toys!\" [/INST]   \n",
       "\n",
       "                                                                                                                                         output  \\\n",
       "0                                                                             {\"toy_list\": [\"Snap Circuits: Junior\"], \"location\": \"Manchester\"}   \n",
       "1                                                                     {\"toy_list\": [\"Tiny Land kids fort building kit\"], \"location\": \"Toronto\"}   \n",
       "2                              {\"toy_list\": [\"2023 Holiday Fox 12-Inch Plush\", \"Orijin Bees Lovey Coiley Baby Bee\"], \"location\": \"Los Angeles\"}   \n",
       "3                                                            {\"toy_list\": [\"Bluey Convertible and Figures\", \"Dog-E\"], \"location\": \"Manchester\"}   \n",
       "4                                                  {\"toy_list\": [\"Barbie Science Lab Playset\", \"Barbie Dreamhouse 2023\"], \"location\": \"Sydney\"}   \n",
       "..                                                                                                                                          ...   \n",
       "95  {\"toy_list\": [\"Star Wars LOLA animatronic droid\", \"Marvel's Spidey and His Amazing Friends Web Spinners playset\"], \"location\": \"Cape Town\"}   \n",
       "96                             {\"toy_list\": [\"Orijin Bees Lovey Coiley Baby Bee\", \"2023 Holiday Fox 12-Inch Plush\"], \"location\": \"Los Angeles\"}   \n",
       "97                                              {\"toy_list\": [\"Furby interactive plush toy\", \"Barbie Dreamhouse 2023\"], \"location\": \"Auckland\"}   \n",
       "98                                                                    {\"toy_list\": [\"Bluey Convertible and Figures\"], \"location\": \"Manchester\"}   \n",
       "99               {\"toy_list\": [\"Marvel's Spidey and His Amazing Friends Web Spinners playset\", \"Bitzee interactive pet\"], \"location\": \"Sydney\"}   \n",
       "\n",
       "   language  \\\n",
       "0        EN   \n",
       "1        EN   \n",
       "2        EN   \n",
       "3        EN   \n",
       "4        EN   \n",
       "..      ...   \n",
       "95       EN   \n",
       "96       EN   \n",
       "97       EN   \n",
       "98       EN   \n",
       "99       EN   \n",
       "\n",
       "                                                                                                                         predicted  \n",
       "0                                                                {\"toy_list\": [\"Snap Circuits: Junior\"], \"location\": \"Manchester\"}  \n",
       "1                                                        {\"toy_list\": [\"Tiny Land kids fort building kit\"], \"location\": \"Toronto\"}  \n",
       "2                                                        {\"toy_list\": [\"Fox plushie\", \"Baby bee doll\"], \"location\": \"Los Angeles\"}  \n",
       "3                                          {\"toy_list\": [\"Bluey Convertible\", \"Bluey Figures\", \"Dog-E\"], \"location\": \"Manchester\"}  \n",
       "4                                                                  {\"toy_list\": [\"Barbie Science Doll Set\"], \"location\": \"Sydney\"}  \n",
       "..                                                                                                                             ...  \n",
       "95                                                      {\"toy_list\": [\"Lola Droid\", \"Spiderman Playset\"], \"location\": \"Cape Town\"}  \n",
       "96                {\"toy_list\": [\"Orijin Bees Lovey Coiley Baby Bee\", \"2023 Holiday Fox 12-Inch Plush\"], \"location\": \"Los Angeles\"}  \n",
       "97                                 {\"toy_list\": [\"Furby interactive plush toy\", \"Barbie Dreamhouse 2023\"], \"location\": \"Auckland\"}  \n",
       "98                                                       {\"toy_list\": [\"Bluey Convertible and Figures\"], \"location\": \"Manchester\"}  \n",
       "99  {\"toy_list\": [\"Marvel's Spidey and His Amazing Friends Web Spinners playset\", \"Bitzee interactive pet\"], \"location\": \"Sydney\"}  \n",
       "\n",
       "[100 rows x 5 columns]"
      ]
     },
     "execution_count": 38,
     "metadata": {},
     "output_type": "execute_result"
    }
   ],
   "source": [
    "begin_prompt = \\\n",
    "\"\"\"\n",
    "[INST] <<SYS>>\n",
    "Below is an instruction that describes a task, paired with an input that provides further context. Write a response that appropriately completes the request.\n",
    "<</SYS>>\n",
    "### Instruction:\n",
    "Extract JSON response with 'location' and 'toy_list' as keys.\n",
    "'location': Location string of the caller.\n",
    "'toy_list': List of toy names from the caller.\n",
    "### Input:\n",
    "\n",
    "\"\"\"\n",
    "end_prompt = \" [/INST]\"\n",
    "\n",
    "eval_df['input'] = begin_prompt + eval_df['input'] + end_prompt\n",
    "eval_df = eval_df.reset_index(drop=True)\n",
    "eval_df"
   ]
  },
  {
   "cell_type": "code",
   "execution_count": 42,
   "metadata": {
    "tags": []
   },
   "outputs": [
    {
     "data": {
      "text/html": [
       "<div>\n",
       "<style scoped>\n",
       "    .dataframe tbody tr th:only-of-type {\n",
       "        vertical-align: middle;\n",
       "    }\n",
       "\n",
       "    .dataframe tbody tr th {\n",
       "        vertical-align: top;\n",
       "    }\n",
       "\n",
       "    .dataframe thead th {\n",
       "        text-align: right;\n",
       "    }\n",
       "</style>\n",
       "<table border=\"1\" class=\"dataframe\">\n",
       "  <thead>\n",
       "    <tr style=\"text-align: right;\">\n",
       "      <th></th>\n",
       "      <th>generated_text</th>\n",
       "    </tr>\n",
       "  </thead>\n",
       "  <tbody>\n",
       "    <tr>\n",
       "      <th>0</th>\n",
       "      <td>Sure! Here is the JSON response with the requested keys:\\n\\n{\\n\"location\": \"Manchester\",\\n\"toy_list\": [\\n\"Snap Circuits: Junior\",\\n\"LeapFrog Magic Adventures Microscope\"\\n]\\n}</td>\n",
       "    </tr>\n",
       "    <tr>\n",
       "      <th>1</th>\n",
       "      <td>{\"toy_list\": [\"Tiny Land kids fort building kit\"], \"location\": \"Toronto\"}</td>\n",
       "    </tr>\n",
       "    <tr>\n",
       "      <th>2</th>\n",
       "      <td>Sure! Here is the JSON response with the requested keys:\\n\\n{\\n\"location\": \"Los Angeles, California\",\\n\"toy_list\": [\\n\"Fox plushie\",\\n\"Baby bee doll\"\\n]\\n}</td>\n",
       "    </tr>\n",
       "    <tr>\n",
       "      <th>3</th>\n",
       "      <td>Sure, here is the JSON response that meets the instruction:\\n\\n{\\n\"location\": \"Manchester, England\",\\n\"toy_list\": [\\n\"Bluey Convertible and Figures\",\\n\"Dog-E\"\\n]\\n}</td>\n",
       "    </tr>\n",
       "    <tr>\n",
       "      <th>4</th>\n",
       "      <td>Sure! Here is the JSON response with the requested keys:\\n\\n{\\n\"location\": \"Sydney, Australia\",\\n\"toy_list\": [\\n\"Barbie Science Doll Set\",\\n\"Barbie Dreamhouse\"\\n]\\n}</td>\n",
       "    </tr>\n",
       "  </tbody>\n",
       "</table>\n",
       "</div>"
      ],
      "text/plain": [
       "                                                                                                                                                                      generated_text\n",
       "0    Sure! Here is the JSON response with the requested keys:\\n\\n{\\n\"location\": \"Manchester\",\\n\"toy_list\": [\\n\"Snap Circuits: Junior\",\\n\"LeapFrog Magic Adventures Microscope\"\\n]\\n}\n",
       "1                                                                                                          {\"toy_list\": [\"Tiny Land kids fort building kit\"], \"location\": \"Toronto\"}\n",
       "2                        Sure! Here is the JSON response with the requested keys:\\n\\n{\\n\"location\": \"Los Angeles, California\",\\n\"toy_list\": [\\n\"Fox plushie\",\\n\"Baby bee doll\"\\n]\\n}\n",
       "3               Sure, here is the JSON response that meets the instruction:\\n\\n{\\n\"location\": \"Manchester, England\",\\n\"toy_list\": [\\n\"Bluey Convertible and Figures\",\\n\"Dog-E\"\\n]\\n}\n",
       "4              Sure! Here is the JSON response with the requested keys:\\n\\n{\\n\"location\": \"Sydney, Australia\",\\n\"toy_list\": [\\n\"Barbie Science Doll Set\",\\n\"Barbie Dreamhouse\"\\n]\\n}"
      ]
     },
     "execution_count": 42,
     "metadata": {},
     "output_type": "execute_result"
    }
   ],
   "source": [
    "llama_model_ref.predict(deployment_name=DEPLOYMENT_NAME,data=eval_df).head()"
   ]
  },
  {
   "cell_type": "markdown",
   "metadata": {},
   "source": [
    "#### Clean Up Resources\n",
    "\n",
    "Delete deployment and the model"
   ]
  },
  {
   "cell_type": "code",
   "execution_count": 43,
   "metadata": {
    "tags": []
   },
   "outputs": [],
   "source": [
    "llama_model_ref.delete_deployment(deployment_name=DEPLOYMENT_NAME)\n",
    "llama_model_ref.delete_model(delete_artifact=True)"
   ]
  },
  {
   "cell_type": "code",
   "execution_count": null,
   "metadata": {},
   "outputs": [],
   "source": []
  }
 ],
 "metadata": {
  "kernelspec": {
   "display_name": "Python 3 (ipykernel)",
   "language": "python",
   "name": "python3"
  },
  "language_info": {
   "codemirror_mode": {
    "name": "ipython",
    "version": 3
   },
   "file_extension": ".py",
   "mimetype": "text/x-python",
   "name": "python",
   "nbconvert_exporter": "python",
   "pygments_lexer": "ipython3",
   "version": "3.8.16"
  }
 },
 "nbformat": 4,
 "nbformat_minor": 4
}
