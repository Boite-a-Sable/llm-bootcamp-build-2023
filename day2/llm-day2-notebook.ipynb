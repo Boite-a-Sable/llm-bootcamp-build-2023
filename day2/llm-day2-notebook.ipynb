{
 "cells": [
  {
   "cell_type": "markdown",
   "metadata": {},
   "source": [
    "# BUILD LLM Bootcamp Day 2"
   ]
  },
  {
   "cell_type": "code",
   "execution_count": 1,
   "metadata": {
    "tags": []
   },
   "outputs": [],
   "source": [
    "# !pip install --no-deps --force-reinstall snowflake_ml_python-1.0.12-py3-none-any.whl"
   ]
  },
  {
   "cell_type": "code",
   "execution_count": 2,
   "metadata": {
    "tags": []
   },
   "outputs": [],
   "source": [
    "# !pip install peft transformers tokenizers vllm bitsandbytes datasets absl-py"
   ]
  },
  {
   "cell_type": "code",
   "execution_count": 3,
   "metadata": {
    "tags": []
   },
   "outputs": [],
   "source": [
    "# TODO: Set your Hugging Face token\n",
    "# !huggingface-cli login --token YOUR_HG_TOKEN_GOES_HERE"
   ]
  },
  {
   "cell_type": "markdown",
   "metadata": {},
   "source": [
    "### Import Libraries"
   ]
  },
  {
   "cell_type": "code",
   "execution_count": 1,
   "metadata": {
    "tags": []
   },
   "outputs": [],
   "source": [
    "from snowflake.snowpark.session import Session\n",
    "from snowflake.ml.model.models import llm\n",
    "from snowflake.ml.registry import model_registry\n",
    "from snowflake.ml.model import deploy_platforms\n",
    "import snowflake.ml.playground.finetune as ft_util\n",
    "from snowflake.snowpark import VERSION\n",
    "import snowflake.snowpark.functions as F\n",
    "\n",
    "import sys\n",
    "import os\n",
    "import json\n",
    "import pandas as pd\n",
    "pd.set_option('display.max_colwidth', None)"
   ]
  },
  {
   "cell_type": "markdown",
   "metadata": {},
   "source": [
    "### Establish Secure Connection\n",
    "\n",
    "*NOTE: Update connection.json file with your credentials*"
   ]
  },
  {
   "cell_type": "code",
   "execution_count": 2,
   "metadata": {
    "tags": []
   },
   "outputs": [
    {
     "name": "stdout",
     "output_type": "stream",
     "text": [
      "User                        : DASH\n",
      "Role                        : \"DASH_SPCS\"\n",
      "Database                    : \"DASH_DB\"\n",
      "Schema                      : \"DASH_SCHEMA\"\n",
      "Warehouse                   : \"DASH_L\"\n",
      "Snowflake version           : 7.40.0\n",
      "Snowpark for Python version : 1.9.0\n"
     ]
    }
   ],
   "source": [
    "# Create Snowflake Session object\n",
    "connection_parameters = json.load(open('connection.json'))\n",
    "session = Session.builder.configs(connection_parameters).create()\n",
    "session.sql_simplifier_enabled = True\n",
    "\n",
    "snowflake_environment = session.sql('select current_user(), current_version()').collect()\n",
    "snowpark_version = VERSION\n",
    "\n",
    "# Current Environment Details\n",
    "print('User                        : {}'.format(snowflake_environment[0][0]))\n",
    "print('Role                        : {}'.format(session.get_current_role()))\n",
    "print('Database                    : {}'.format(session.get_current_database()))\n",
    "print('Schema                      : {}'.format(session.get_current_schema()))\n",
    "print('Warehouse                   : {}'.format(session.get_current_warehouse()))\n",
    "print('Snowflake version           : {}'.format(snowflake_environment[0][1]))\n",
    "print('Snowpark for Python version : {}.{}.{}'.format(snowpark_version[0],snowpark_version[1],snowpark_version[2]))"
   ]
  },
  {
   "cell_type": "markdown",
   "metadata": {},
   "source": [
    "### Fine-tune Llama 2 in Snowpark Container Services"
   ]
  },
  {
   "cell_type": "markdown",
   "metadata": {},
   "source": [
    "#### Load Training Dataset"
   ]
  },
  {
   "cell_type": "code",
   "execution_count": 3,
   "metadata": {
    "tags": []
   },
   "outputs": [
    {
     "name": "stdout",
     "output_type": "stream",
     "text": [
      "Total records: 990\n",
      "Train        : 100\n",
      "Eval         : 100\n",
      "Test         : 100\n"
     ]
    }
   ],
   "source": [
    "df = pd.read_json(\"transcripts.json\", lines=True)\n",
    "print(f\"Total records: {df.shape[0]}\")\n",
    "# In the interest of time we will train, eval and test on 100 records\n",
    "train_df = df.head(100)\n",
    "print(f\"Train        : {train_df.shape[0]}\")\n",
    "eval_df = df[200:300]\n",
    "print(f\"Eval         : {eval_df.shape[0]}\")\n",
    "test_df = df.tail(100)\n",
    "print(f\"Test         : {test_df.shape[0]}\")"
   ]
  },
  {
   "cell_type": "markdown",
   "metadata": {},
   "source": [
    "#### Fine-tune Llama 2 Model\n",
    "\n",
    "Fine Tuning is one form of model training. We start training from a pre-trained model and adjust a set of model parameters to better solve a concrete task based on task specific data.\n",
    "We will be doing lora finetune today which is a parameter efficient way of fine tuning. \n",
    "\n",
    "Instead of adjusting all the ~7B parameters, LoRA (Low-Rank Adaptation) allows us to adjust only single digit percent of model weights--which can save compute and memory dramatically. For this lab, we will finetune a 7b llama2 model using LoRA on a single A10 GPU. This also demostrates how good the inference can be on finetuned models even with limited compute.\n",
    "\n",
    "We're also passing `train_dataset` and `eval_dataset` that are used to generate loss calculation along the way. And for `train`, `output_weights_dir` is the directory where the finetune weights are stored after training completion.\n",
    "\n",
    "For configuration, for quick illustration, we will just set `max_steps`=1 with 4bit quantization. Quantization is required to train on single A10.  To achieve good performance for the task, you will need at least 1 `num_epochs`, feel free to explore that on your own."
   ]
  },
  {
   "cell_type": "code",
   "execution_count": 4,
   "metadata": {
    "tags": []
   },
   "outputs": [
    {
     "name": "stdout",
     "output_type": "stream",
     "text": [
      "mkdir: cannot create directory ‘merged_weights_dir’: File exists\n",
      "mkdir: cannot create directory ‘output_weights_dir’: File exists\n"
     ]
    }
   ],
   "source": [
    "!mkdir merged_weights_dir\n",
    "!mkdir output_weights_dir"
   ]
  },
  {
   "cell_type": "code",
   "execution_count": 5,
   "metadata": {
    "tags": []
   },
   "outputs": [
    {
     "data": {
      "application/vnd.jupyter.widget-view+json": {
       "model_id": "ee30f3f1727149f3b2c161579f5255aa",
       "version_major": 2,
       "version_minor": 0
      },
      "text/plain": [
       "Loading checkpoint shards:   0%|          | 0/2 [00:00<?, ?it/s]"
      ]
     },
     "metadata": {},
     "output_type": "display_data"
    },
    {
     "name": "stdout",
     "output_type": "stream",
     "text": [
      "trainable params: 4,194,304 || all params: 6,742,609,920 || trainable%: 0.06220594176090199\n"
     ]
    },
    {
     "data": {
      "application/vnd.jupyter.widget-view+json": {
       "model_id": "0d7b409d44e3432ca159caa1739d50e4",
       "version_major": 2,
       "version_minor": 0
      },
      "text/plain": [
       "Map (num_proc=8):   0%|          | 0/100 [00:00<?, ? examples/s]"
      ]
     },
     "metadata": {},
     "output_type": "display_data"
    },
    {
     "data": {
      "application/vnd.jupyter.widget-view+json": {
       "model_id": "8ede68eb7359401293276bbc38e9d89b",
       "version_major": 2,
       "version_minor": 0
      },
      "text/plain": [
       "Map (num_proc=8):   0%|          | 0/100 [00:00<?, ? examples/s]"
      ]
     },
     "metadata": {},
     "output_type": "display_data"
    },
    {
     "name": "stderr",
     "output_type": "stream",
     "text": [
      "Detected kernel version 5.4.181, which is below the recommended minimum of 5.5.0; this can cause the process to hang. It is recommended to upgrade the kernel to the minimum version or higher.\n"
     ]
    },
    {
     "data": {
      "text/html": [
       "\n",
       "    <div>\n",
       "      \n",
       "      <progress value='1' max='1' style='width:300px; height:20px; vertical-align: middle;'></progress>\n",
       "      [1/1 00:00, Epoch 0/1]\n",
       "    </div>\n",
       "    <table border=\"1\" class=\"dataframe\">\n",
       "  <thead>\n",
       " <tr style=\"text-align: left;\">\n",
       "      <th>Step</th>\n",
       "      <th>Training Loss</th>\n",
       "      <th>Validation Loss</th>\n",
       "    </tr>\n",
       "  </thead>\n",
       "  <tbody>\n",
       "  </tbody>\n",
       "</table><p>"
      ],
      "text/plain": [
       "<IPython.core.display.HTML object>"
      ]
     },
     "metadata": {},
     "output_type": "display_data"
    },
    {
     "data": {
      "application/vnd.jupyter.widget-view+json": {
       "model_id": "ccd8633f331943a4b0ec1fc8582ee992",
       "version_major": 2,
       "version_minor": 0
      },
      "text/plain": [
       "Loading checkpoint shards:   0%|          | 0/2 [00:00<?, ?it/s]"
      ]
     },
     "metadata": {},
     "output_type": "display_data"
    },
    {
     "name": "stdout",
     "output_type": "stream",
     "text": [
      "INFO 11-13 23:35:32 llm_engine.py:72] Initializing an LLM engine with config: model='merged_weights_dir', tokenizer='merged_weights_dir', tokenizer_mode=auto, revision=None, tokenizer_revision=None, trust_remote_code=False, dtype=torch.bfloat16, max_seq_len=4096, download_dir=None, load_format=auto, tensor_parallel_size=1, quantization=None, seed=0)\n",
      "INFO 11-13 23:36:23 llm_engine.py:207] # GPU blocks: 864, # CPU blocks: 512\n",
      "CPU times: user 49.6 s, sys: 53.2 s, total: 1min 42s\n",
      "Wall time: 2min 41s\n"
     ]
    }
   ],
   "source": [
    "%%time\n",
    "# Takes about ~5mins for 100 records\n",
    "\n",
    "merged_weights_dir = 'merged_weights_dir'\n",
    "output_weights_dir = 'output_weights_dir'\n",
    "\n",
    "runner = ft_util.FinetuneModelRunner(\n",
    "    base_model_id=\"meta-llama/Llama-2-7b-chat-hf\",\n",
    "    task_type=ft_util.FinetuneTaskType.INSTRUCT,\n",
    "    train_dataset=train_df,\n",
    "    eval_dataset=eval_df,\n",
    ")\n",
    "\n",
    "mcf = ft_util.ModelConfig(\n",
    "    max_steps=1,\n",
    "    quantization=ft_util.QuantizationConfig(\n",
    "        k_bits=4,\n",
    "    ),\n",
    "    merged_weights_dir_path=merged_weights_dir,\n",
    ")\n",
    "\n",
    "_ = runner.train(output_weights_dir, model_cfg=mcf)"
   ]
  },
  {
   "cell_type": "markdown",
   "metadata": {},
   "source": [
    "#### Evaluate Results\n",
    "\n",
    "After the training job completes, we call `get_eval_results`, this will run evaluation and get model predictions using the entire `eval_dataset`. You can see the output by model in the `predicted` column of the dataframe. This allows you to understand the performance of the current model better.\n",
    "\n",
    "*Examine the \"output\" and \"predicted\" columns*"
   ]
  },
  {
   "cell_type": "code",
   "execution_count": 7,
   "metadata": {
    "tags": []
   },
   "outputs": [
    {
     "name": "stderr",
     "output_type": "stream",
     "text": [
      "Processed prompts: 100%|██████████| 100/100 [00:23<00:00,  4.28it/s]\n",
      "/opt/conda/envs/rapids/lib/python3.8/site-packages/snowflake/ml/playground/finetune.py:573: SettingWithCopyWarning: \n",
      "A value is trying to be set on a copy of a slice from a DataFrame.\n",
      "Try using .loc[row_indexer,col_indexer] = value instead\n",
      "\n",
      "See the caveats in the documentation: https://pandas.pydata.org/pandas-docs/stable/user_guide/indexing.html#returning-a-view-versus-a-copy\n",
      "  eval_df[\"predicted\"] = ts\n"
     ]
    },
    {
     "data": {
      "text/html": [
       "<div>\n",
       "<style scoped>\n",
       "    .dataframe tbody tr th:only-of-type {\n",
       "        vertical-align: middle;\n",
       "    }\n",
       "\n",
       "    .dataframe tbody tr th {\n",
       "        vertical-align: top;\n",
       "    }\n",
       "\n",
       "    .dataframe thead th {\n",
       "        text-align: right;\n",
       "    }\n",
       "</style>\n",
       "<table border=\"1\" class=\"dataframe\">\n",
       "  <thead>\n",
       "    <tr style=\"text-align: right;\">\n",
       "      <th></th>\n",
       "      <th>instruction</th>\n",
       "      <th>input</th>\n",
       "      <th>output</th>\n",
       "      <th>language</th>\n",
       "      <th>predicted</th>\n",
       "    </tr>\n",
       "  </thead>\n",
       "  <tbody>\n",
       "    <tr>\n",
       "      <th>200</th>\n",
       "      <td>Extract JSON response with 'location' and 'toy_list' as keys. 'location': Location of the caller. Include city only.'toy_list': List of toy names from the caller.</td>\n",
       "      <td>\"frosty: Hello! It's Frosty here to make your holiday wishes come true. May I know your name?\\ncaller: My name's Oliver, Frosty.\\nfrosty: Hi Oliver! Where are you from?\\ncaller: From Manchester in the UK.\\nfrosty: Great! And what toy are you wishing for?\\ncaller: Um, I think I want a snap circuit set or a magic microscope but I'm not sure which.\\nfrosty: Snap Circuits: Junior and LeapFrog Magic Adventures Microscope. Those are both educational and fun. Is that why you're interested?\\ncaller: Yes, I like learning new things while playing. I think I'll go with the snap circuit set.\\nfrosty: I can see why you'd choose it, it's a popular choice. And before we finish, can you tell me how you plan to celebrate the holiday season?\\ncaller: I'm going to have a sleepover with my cousins! It's our tradition.\\nfrosty: That sounds great! So, the Snap Circuits: Junior for your holiday wish, right Oliver?\\ncaller: Yes, please, Frosty. Thank you.\\nfrosty: Certainly, Oliver. Happy holidays!\"</td>\n",
       "      <td>{\"toy_list\": [\"Snap Circuits: Junior\"], \"location\": \"Manchester\"}</td>\n",
       "      <td>EN</td>\n",
       "      <td>Here is the JSON response with the requested keys:\\n\\n{\\n\"location\": \"Manchester\",\\n\"toy_list\": [\\n\"Snap Circuits: Junior\",\\n\"LeapFrog Magic Adventures Microscope\"\\n]\\n}</td>\n",
       "    </tr>\n",
       "    <tr>\n",
       "      <th>201</th>\n",
       "      <td>Extract JSON response with 'location' and 'toy_list' as keys. 'location': Location of the caller. Include city only.'toy_list': List of toy names from the caller.</td>\n",
       "      <td>\"frosty: Hi friend! I'm here to help make your holiday joyous. What's your name?\\ncaller: Hello Frosty, I'm Charlotte!\\nfrosty: Hi Charlotte, where are you from?\\ncaller: I'm from Toronto, Canada.\\nfrosty: Awesome! What's on your holiday wish list, Charlotte?\\ncaller: I really can't decide between the magna tiles set and the fort building kit. They both seem so fun.\\nfrosty: Interesting choices! Magna-Tiles 32-piece set and Tiny Land kids fort building kit. Do you like these because you love building and designing?\\ncaller: Yes, I love creating my own world! You know what? I'll go with the fort building kit. It seems more exciting!\\nfrosty: Good choice, Charlotte! Before we finish, can you tell me what you love most about this time of the year?\\ncaller: Yes, I love the holiday lights and spending time with my family.\\nfrosty: Wonderful! It's the Tiny Land kids fort building kit then. Happy holidays, Charlotte!\"</td>\n",
       "      <td>{\"toy_list\": [\"Tiny Land kids fort building kit\"], \"location\": \"Toronto\"}</td>\n",
       "      <td>EN</td>\n",
       "      <td>Here is the JSON response with the requested keys:\\n\\n{\\n\"location\": \"Toronto, Canada\",\\n\"toy_list\": [\\n\"Magna-Tiles 32-piece set\",\\n\"Tiny Land kids fort building kit\"\\n]\\n}</td>\n",
       "    </tr>\n",
       "    <tr>\n",
       "      <th>202</th>\n",
       "      <td>Extract JSON response with 'location' and 'toy_list' as keys. 'location': Location of the caller. Include city only.'toy_list': List of toy names from the caller.</td>\n",
       "      <td>\"Frosty: Hi there, welcome to our wonderful world of winter wishes! How may I help you today?\\nCaller: Hi! My name is Emma, I'm ten.\\nFrosty: Hello Emma, it's nice to meet you! Where are you calling from?\\nCaller: I'm from Los Angeles, California.\\nFrosty: It sounds like it's warm there while we're in a winter wonderland! Well, Emma, are you ready to tell Frosty what you would like as your holiday presents this year?\\nCaller: Umm, I think I want the fox plushie and the baby bee doll.\\nFrosty: Oh, those are amazing choices! Why are you interested in these toys, Emma?\\nCaller: They are so soft and cute. I love cuddling with plushies!\\nFrosty: Great choices! Plushies are indeed very cuddly. How do you and your family plan to celebrate the holiday season?\\nCaller: We will be baking cookies and watching movies together.\\nFrosty: That sounds wonderful! Alright Emma, I've got your wish for the 2023 Holiday Fox 12-Inch Plush and Orijin Bees Lovey Coiley Baby Bee. Thank you for your call!\"</td>\n",
       "      <td>{\"toy_list\": [\"2023 Holiday Fox 12-Inch Plush\", \"Orijin Bees Lovey Coiley Baby Bee\"], \"location\": \"Los Angeles\"}</td>\n",
       "      <td>EN</td>\n",
       "      <td>Here is the JSON response with the requested keys:\\n\\n{\\n\"location\": \"Los Angeles, California\",\\n\"toy_list\": [\\n\"Fox plushie\",\\n\"Baby bee doll\"\\n]\\n}</td>\n",
       "    </tr>\n",
       "    <tr>\n",
       "      <th>203</th>\n",
       "      <td>Extract JSON response with 'location' and 'toy_list' as keys. 'location': Location of the caller. Include city only.'toy_list': List of toy names from the caller.</td>\n",
       "      <td>\"Frosty: Hello, welcome to our winter wonderland hotline! Who's speaking today?\\nCaller: Hi Frosty I'm Jonah. Can you help me with my holiday wish?\\nFrosty: Hi Jonah! Of course, I'd love to help. Could you please tell me where are you calling from.?\\nCaller: I'm from Manchester, England.\\nFrosty: Lovely! Now, tell me Jonah, what are you wishing for this holiday season?\\nCaller: I like cars and dogs. I'm thinking about the bluey car and the robot dog.\\nFrosty: Those look like a lot of fun! Jonah, can you tell me why you're interested in those toys?\\nCaller: My friends have them and they told me they are so fun! \\nFrosty: Ah, I see. Well, the Bluey Convertible and Figures and Dog-E are both great choices. Thank you for calling in Jonah!\"</td>\n",
       "      <td>{\"toy_list\": [\"Bluey Convertible and Figures\", \"Dog-E\"], \"location\": \"Manchester\"}</td>\n",
       "      <td>EN</td>\n",
       "      <td>Here is the JSON response that meets the instruction:\\n\\n{\\n\"location\": \"Manchester, England\",\\n\"toy_list\": [\\n\"Bluey Convertible\",\\n\"Bluey Figures\",\\n\"Dog-E\"\\n]\\n}</td>\n",
       "    </tr>\n",
       "    <tr>\n",
       "      <th>204</th>\n",
       "      <td>Extract JSON response with 'location' and 'toy_list' as keys. 'location': Location of the caller. Include city only.'toy_list': List of toy names from the caller.</td>\n",
       "      <td>\"Frosty: Hi there! Welcome to our winter wishes line! What's your name?\\nCaller: I'm Leah and I'm seven. Can I ask for two toys?\\nFrosty: Sure you can, Leah! By the way where are you calling from?\\nCaller: I'm from Sydney, Australia.\\nFrosty: How wonderful! Now, let's hear your two wishes Leah!\\nCaller: Uhm, I can't decide between the barbie science doll set and the new barbie dreamhouse.\\nFrosty: Well, either one would be great. Just think about what you would have more fun playing with.\\nCaller: I think I like the barbie science doll set better.\\nFrosty: That's an excellent choice, Leah! It will be so much fun for you. Have a great holiday!\"</td>\n",
       "      <td>{\"toy_list\": [\"Barbie Science Lab Playset\", \"Barbie Dreamhouse 2023\"], \"location\": \"Sydney\"}</td>\n",
       "      <td>EN</td>\n",
       "      <td>Here is the JSON response that meets the instruction:\\n\\n{\\n\"location\": \"Sydney, Australia\",\\n\"toy_list\": [\"barbie science doll set\", \"barbie dreamhouse\"]\\n}</td>\n",
       "    </tr>\n",
       "  </tbody>\n",
       "</table>\n",
       "</div>"
      ],
      "text/plain": [
       "                                                                                                                                                            instruction  \\\n",
       "200  Extract JSON response with 'location' and 'toy_list' as keys. 'location': Location of the caller. Include city only.'toy_list': List of toy names from the caller.   \n",
       "201  Extract JSON response with 'location' and 'toy_list' as keys. 'location': Location of the caller. Include city only.'toy_list': List of toy names from the caller.   \n",
       "202  Extract JSON response with 'location' and 'toy_list' as keys. 'location': Location of the caller. Include city only.'toy_list': List of toy names from the caller.   \n",
       "203  Extract JSON response with 'location' and 'toy_list' as keys. 'location': Location of the caller. Include city only.'toy_list': List of toy names from the caller.   \n",
       "204  Extract JSON response with 'location' and 'toy_list' as keys. 'location': Location of the caller. Include city only.'toy_list': List of toy names from the caller.   \n",
       "\n",
       "                                                                                                                                                                                                                                                                                                                                                                                                                                                                                                                                                                                                                                                                                                                                                                                                                                                                                                                                                                                                                                   input  \\\n",
       "200       \"frosty: Hello! It's Frosty here to make your holiday wishes come true. May I know your name?\\ncaller: My name's Oliver, Frosty.\\nfrosty: Hi Oliver! Where are you from?\\ncaller: From Manchester in the UK.\\nfrosty: Great! And what toy are you wishing for?\\ncaller: Um, I think I want a snap circuit set or a magic microscope but I'm not sure which.\\nfrosty: Snap Circuits: Junior and LeapFrog Magic Adventures Microscope. Those are both educational and fun. Is that why you're interested?\\ncaller: Yes, I like learning new things while playing. I think I'll go with the snap circuit set.\\nfrosty: I can see why you'd choose it, it's a popular choice. And before we finish, can you tell me how you plan to celebrate the holiday season?\\ncaller: I'm going to have a sleepover with my cousins! It's our tradition.\\nfrosty: That sounds great! So, the Snap Circuits: Junior for your holiday wish, right Oliver?\\ncaller: Yes, please, Frosty. Thank you.\\nfrosty: Certainly, Oliver. Happy holidays!\"   \n",
       "201                                                                         \"frosty: Hi friend! I'm here to help make your holiday joyous. What's your name?\\ncaller: Hello Frosty, I'm Charlotte!\\nfrosty: Hi Charlotte, where are you from?\\ncaller: I'm from Toronto, Canada.\\nfrosty: Awesome! What's on your holiday wish list, Charlotte?\\ncaller: I really can't decide between the magna tiles set and the fort building kit. They both seem so fun.\\nfrosty: Interesting choices! Magna-Tiles 32-piece set and Tiny Land kids fort building kit. Do you like these because you love building and designing?\\ncaller: Yes, I love creating my own world! You know what? I'll go with the fort building kit. It seems more exciting!\\nfrosty: Good choice, Charlotte! Before we finish, can you tell me what you love most about this time of the year?\\ncaller: Yes, I love the holiday lights and spending time with my family.\\nfrosty: Wonderful! It's the Tiny Land kids fort building kit then. Happy holidays, Charlotte!\"   \n",
       "202  \"Frosty: Hi there, welcome to our wonderful world of winter wishes! How may I help you today?\\nCaller: Hi! My name is Emma, I'm ten.\\nFrosty: Hello Emma, it's nice to meet you! Where are you calling from?\\nCaller: I'm from Los Angeles, California.\\nFrosty: It sounds like it's warm there while we're in a winter wonderland! Well, Emma, are you ready to tell Frosty what you would like as your holiday presents this year?\\nCaller: Umm, I think I want the fox plushie and the baby bee doll.\\nFrosty: Oh, those are amazing choices! Why are you interested in these toys, Emma?\\nCaller: They are so soft and cute. I love cuddling with plushies!\\nFrosty: Great choices! Plushies are indeed very cuddly. How do you and your family plan to celebrate the holiday season?\\nCaller: We will be baking cookies and watching movies together.\\nFrosty: That sounds wonderful! Alright Emma, I've got your wish for the 2023 Holiday Fox 12-Inch Plush and Orijin Bees Lovey Coiley Baby Bee. Thank you for your call!\"   \n",
       "203                                                                                                                                                                                                                                                            \"Frosty: Hello, welcome to our winter wonderland hotline! Who's speaking today?\\nCaller: Hi Frosty I'm Jonah. Can you help me with my holiday wish?\\nFrosty: Hi Jonah! Of course, I'd love to help. Could you please tell me where are you calling from.?\\nCaller: I'm from Manchester, England.\\nFrosty: Lovely! Now, tell me Jonah, what are you wishing for this holiday season?\\nCaller: I like cars and dogs. I'm thinking about the bluey car and the robot dog.\\nFrosty: Those look like a lot of fun! Jonah, can you tell me why you're interested in those toys?\\nCaller: My friends have them and they told me they are so fun! \\nFrosty: Ah, I see. Well, the Bluey Convertible and Figures and Dog-E are both great choices. Thank you for calling in Jonah!\"   \n",
       "204                                                                                                                                                                                                                                                                                                                                                          \"Frosty: Hi there! Welcome to our winter wishes line! What's your name?\\nCaller: I'm Leah and I'm seven. Can I ask for two toys?\\nFrosty: Sure you can, Leah! By the way where are you calling from?\\nCaller: I'm from Sydney, Australia.\\nFrosty: How wonderful! Now, let's hear your two wishes Leah!\\nCaller: Uhm, I can't decide between the barbie science doll set and the new barbie dreamhouse.\\nFrosty: Well, either one would be great. Just think about what you would have more fun playing with.\\nCaller: I think I like the barbie science doll set better.\\nFrosty: That's an excellent choice, Leah! It will be so much fun for you. Have a great holiday!\"   \n",
       "\n",
       "                                                                                                               output  \\\n",
       "200                                                 {\"toy_list\": [\"Snap Circuits: Junior\"], \"location\": \"Manchester\"}   \n",
       "201                                         {\"toy_list\": [\"Tiny Land kids fort building kit\"], \"location\": \"Toronto\"}   \n",
       "202  {\"toy_list\": [\"2023 Holiday Fox 12-Inch Plush\", \"Orijin Bees Lovey Coiley Baby Bee\"], \"location\": \"Los Angeles\"}   \n",
       "203                                {\"toy_list\": [\"Bluey Convertible and Figures\", \"Dog-E\"], \"location\": \"Manchester\"}   \n",
       "204                      {\"toy_list\": [\"Barbie Science Lab Playset\", \"Barbie Dreamhouse 2023\"], \"location\": \"Sydney\"}   \n",
       "\n",
       "    language  \\\n",
       "200       EN   \n",
       "201       EN   \n",
       "202       EN   \n",
       "203       EN   \n",
       "204       EN   \n",
       "\n",
       "                                                                                                                                                                         predicted  \n",
       "200      Here is the JSON response with the requested keys:\\n\\n{\\n\"location\": \"Manchester\",\\n\"toy_list\": [\\n\"Snap Circuits: Junior\",\\n\"LeapFrog Magic Adventures Microscope\"\\n]\\n}  \n",
       "201  Here is the JSON response with the requested keys:\\n\\n{\\n\"location\": \"Toronto, Canada\",\\n\"toy_list\": [\\n\"Magna-Tiles 32-piece set\",\\n\"Tiny Land kids fort building kit\"\\n]\\n}  \n",
       "202                          Here is the JSON response with the requested keys:\\n\\n{\\n\"location\": \"Los Angeles, California\",\\n\"toy_list\": [\\n\"Fox plushie\",\\n\"Baby bee doll\"\\n]\\n}  \n",
       "203           Here is the JSON response that meets the instruction:\\n\\n{\\n\"location\": \"Manchester, England\",\\n\"toy_list\": [\\n\"Bluey Convertible\",\\n\"Bluey Figures\",\\n\"Dog-E\"\\n]\\n}  \n",
       "204                  Here is the JSON response that meets the instruction:\\n\\n{\\n\"location\": \"Sydney, Australia\",\\n\"toy_list\": [\"barbie science doll set\", \"barbie dreamhouse\"]\\n}  "
      ]
     },
     "execution_count": 7,
     "metadata": {},
     "output_type": "execute_result"
    }
   ],
   "source": [
    "eval_df = runner.get_eval_results()\n",
    "eval_df.head()"
   ]
  },
  {
   "cell_type": "markdown",
   "metadata": {},
   "source": [
    "#### Inference on Custom Transcript\n",
    "\n",
    "Additionally, you may want to manually craft some cases to test the boundary of the model. To do that, you could use the `infer` method to run prediction against a single sample interactively."
   ]
  },
  {
   "cell_type": "code",
   "execution_count": 8,
   "metadata": {
    "tags": []
   },
   "outputs": [
    {
     "name": "stderr",
     "output_type": "stream",
     "text": [
      "Processed prompts: 100%|██████████| 1/1 [00:01<00:00,  1.58s/it]\n"
     ]
    },
    {
     "data": {
      "text/plain": [
       "'Here is the JSON response with the requested keys:\\n\\n{\\n\"location\": \"Cape Town\",\\n\"toy_list\": [\"ninja turtles delivery van\", \"robot dog\"]\\n}'"
      ]
     },
     "execution_count": 8,
     "metadata": {},
     "output_type": "execute_result"
    }
   ],
   "source": [
    "runner.infer(\n",
    "     {\n",
    "    'instruction': \"\"\"\n",
    "        \"Extract JSON response with 'location' and 'toy_list' as keys. 'location': \n",
    "        Location of the caller. Include city only.'toy_list': List of toy names from the caller.\"\n",
    "    \"\"\",\n",
    "    'input': \"\"\"\n",
    "        \"frosty: Hello, hello! Who's ready to chat with Frosty today?\\ncaller: Hi, I'm Dustin from Cape Town, South Africa.\\nfrosty: \n",
    "        Hi Dustin, it's awesome to meet you! Do you already know what you would like for your holiday gift?\\ncaller: \n",
    "        Yeah, I think I want the ninja turtles delivery van, or maybe the robot dog. \n",
    "        I can't decide...\\nfrosty: Both sound like entertaining choices! \n",
    "        Why are you interested in these particular toys?\\ncaller: The ninja turtles van is so cool! And the robot dog, it's like a pet you don't have to clean up after.\\nfrosty: \n",
    "        That's true! Savage choices, Dustin! How do you usually celebrate the holiday season?\\ncaller: \n",
    "        We usually have a big family barbeque and play games all day long.\\nfrosty: Sounds fun! What is your favorite thing about this time of year?\n",
    "        \\ncaller: I like that everyone is happy and I get to spend a lot of time with my family.\n",
    "        \\nfrosty: That's wonderful! So Dustin, have you thought any more about your holiday wish?\n",
    "        \\ncaller: I think I'm going to get the robot dog. It sounds fun and I won't have to walk it.\n",
    "        \\nfrosty: That's a clever choice, Dustin! I hope you have a fantastic holiday season!\"\n",
    "\"\"\"\n",
    "    }\n",
    ")"
   ]
  },
  {
   "cell_type": "markdown",
   "metadata": {},
   "source": [
    "#### Inference on Test Dataset\n",
    "\n",
    "Model performance is usually measured against the holdout test dataset. For that, you could use `infer_batch` to run batch inference against a dataframe.\n",
    "\n",
    "*Examine the \"output\" and \"predicted\" columns*"
   ]
  },
  {
   "cell_type": "code",
   "execution_count": 9,
   "metadata": {
    "tags": []
   },
   "outputs": [
    {
     "name": "stderr",
     "output_type": "stream",
     "text": [
      "Processed prompts: 100%|██████████| 100/100 [00:32<00:00,  3.08it/s]\n",
      "/opt/conda/envs/rapids/lib/python3.8/site-packages/snowflake/ml/playground/finetune.py:639: SettingWithCopyWarning: \n",
      "A value is trying to be set on a copy of a slice from a DataFrame.\n",
      "Try using .loc[row_indexer,col_indexer] = value instead\n",
      "\n",
      "See the caveats in the documentation: https://pandas.pydata.org/pandas-docs/stable/user_guide/indexing.html#returning-a-view-versus-a-copy\n",
      "  df[\"predicted\"] = ts\n"
     ]
    },
    {
     "data": {
      "text/html": [
       "<div>\n",
       "<style scoped>\n",
       "    .dataframe tbody tr th:only-of-type {\n",
       "        vertical-align: middle;\n",
       "    }\n",
       "\n",
       "    .dataframe tbody tr th {\n",
       "        vertical-align: top;\n",
       "    }\n",
       "\n",
       "    .dataframe thead th {\n",
       "        text-align: right;\n",
       "    }\n",
       "</style>\n",
       "<table border=\"1\" class=\"dataframe\">\n",
       "  <thead>\n",
       "    <tr style=\"text-align: right;\">\n",
       "      <th></th>\n",
       "      <th>instruction</th>\n",
       "      <th>input</th>\n",
       "      <th>output</th>\n",
       "      <th>language</th>\n",
       "      <th>predicted</th>\n",
       "    </tr>\n",
       "  </thead>\n",
       "  <tbody>\n",
       "    <tr>\n",
       "      <th>890</th>\n",
       "      <td>Extract JSON response with 'location' and 'toy_list' as keys. 'location': Location of the caller. Include city only.'toy_list': List of toy names from the caller.</td>\n",
       "      <td>\"frosty: Hi! Welcome to the Holiday Wish Hotline, I'm Frosty! What's your name?\\ncaller: My name's Bella!\\nfrosty: Hello, Bella! It's great to have you here, where are you calling from?\\ncaller: I'm calling from Boston, USA.\\nfrosty: Wonderful, Bella! How old are you?\\ncaller: I'm 7 years old.\\nfrosty: That's awesome! Now, let's talk about your holiday wish list. Are there any toys from our list you're interested in?\\ncaller: Um, I like the slime kit and playfoam letters.\\nfrosty: What a fun combination! The National Geographic Mega Slime Kit &amp; Putty Lab and Playfoam Naturals Shape &amp; Learn Letters &amp; Numbers are both great choices. Why are you interested in these toys?\\ncaller: I love making squishy things and learning at the same time.\\nfrosty: That's fantastic! What do you and your family plan to do to celebrate the holiday season, Bella?\\ncaller: We'll bake cookies and play board games together. It's always so much fun!\\nfrosty: That sounds like a wonderful time! So, you would like to add the slime kit and playfoam letters to your holiday wish list, right?\\ncaller: Yes, please!\\nfrosty: Your wish list will include the National Geographic Mega Slime Kit &amp; Putty Lab and Playfoam Naturals Shape &amp; Learn Letters &amp; Numbers. Have a fantastic holiday season, Bella, and enjoy playing with your new toys!\\ncaller: Thank you, Frosty! Bye!\"</td>\n",
       "      <td>{\"toy_list\": [\"National Geographic Mega Slime Kit &amp; Putty Lab\", \"Playfoam Naturals Shape &amp; Learn Letters &amp; Numbers\"], \"location\": \"Boston\"}</td>\n",
       "      <td>EN</td>\n",
       "      <td>Here is the JSON response with \"location\" and \"toy_list\" as keys:\\n\\n{\\n\"location\": \"Boston, USA\",\\n\"toy_list\": [\\n\"National Geographic Mega Slime Kit &amp; Putty Lab\",\\n\"Playfoam Naturals Shape &amp; Learn Letters &amp; Numbers\"\\n]\\n}</td>\n",
       "    </tr>\n",
       "    <tr>\n",
       "      <th>891</th>\n",
       "      <td>Extract JSON response with 'location' and 'toy_list' as keys. 'location': Location of the caller. Include city only.'toy_list': List of toy names from the caller.</td>\n",
       "      <td>\"frosty: Hey there!Welcome to the Holiday Wish Hotline! My name is Frosty! What's your name?\\ncaller: Hi Frosty! My name is Danny.\\nfrosty: Nice to meet you, Danny! Where are you calling from?\\ncaller: I'm from Vancouver, Canada.\\nfrosty: That's amazing! How old are you, Danny?\\ncaller: I'm 10 years old.\\nfrosty: Great! Let's talk about your holiday wish list. What toys do you want?\\ncaller: Hmm, I'm not sure yet. I like building things and stuff.\\nfrosty: If you're into building toys, you might enjoy the Tiny Land kids fort building kit. Or, if you're into technology, the Dog-E robot dog is popular this year. Why don't you tell me more about your hobbies and we can find the perfect toy for you?\\ncaller: I like making stuff with my hands, like building forts with blankets and chairs. I also like playing video games with my friends.\\nfrosty: That's fantastic, Danny! It sounds like the Tiny Land kids fort building kit would be perfect for you since you love building forts. How does that sound?\\ncaller: Yeah, that sounds cool. I think I'll add the fort building kit to my wish list.\\nfrosty: Great! Let's confirm your wish, Danny. You would like the Tiny Land kids fort building kit, right?\\ncaller: Yes, please! That's perfect.\\nfrosty: Fantastic! Enjoy your holiday season, Danny! Have fun building awesome forts!\\ncaller: Thanks, Frosty! Happy holidays!\"</td>\n",
       "      <td>{\"toy_list\": [\"Tiny Land kids fort building kit\"], \"location\": \"Vancouver\"}</td>\n",
       "      <td>EN</td>\n",
       "      <td>Here is the JSON response that extracts the \"location\" and \"toy_list\" keys from the conversation:\\n\\n{\\n\"location\": \"Vancouver, Canada\",\\n\"toy_list\": [\\n\"Tiny Land kids fort building kit\",\\n\"Dog-E robot dog\"\\n]\\n}</td>\n",
       "    </tr>\n",
       "    <tr>\n",
       "      <th>892</th>\n",
       "      <td>Extract JSON response with 'location' and 'toy_list' as keys. 'location': Location of the caller. Include city only.'toy_list': List of toy names from the caller.</td>\n",
       "      <td>\"frosty: Welcome to the Holiday Wish Hotline! My name is Frosty! Can I have your name, please?\\ncaller: Hi Frosty, I'm Lily.\\nfrosty: Hi Lily! It's great to meet you. Where are you calling from?\\ncaller: I'm from Melbourne, Australia.\\nfrosty: Wonderful! How old are you, Lily?\\ncaller: I'm 5 years old.\\nfrosty: Wow, that's amazing! Now, let's talk about your holiday wish list. What toys would you like?\\ncaller: I want the mickey playset and the elmo plushie!\\nfrosty: Great! The Fisher-Price Little People Mickey and Friends Playset and the Sesame Street Monster Meditation Elmo are both fantastic choices. Why are you interested in these toys?\\ncaller: I love watching Mickey Mouse and Elmo! They make me happy!\\nfrosty: That's awesome! What's your favorite holiday memory, Lily?\\ncaller: Last holiday, we went to the park and had a big picnic with all my cousins. It was so much fun!\\nfrosty: That sounds like a lovely memory. Let's confirm your holiday wish list, Lily. You would like the mickey playset and the elmo plushie, right?\\ncaller: Yes, that's what I want!\\nfrosty: Perfect! Your holiday wish list will include the Fisher-Price Little People Mickey and Friends Playset and the Sesame Street Monster Meditation Elmo. Enjoy your holiday season and have fun with your new toys!\\ncaller: Thank you, Frosty! Bye!\"</td>\n",
       "      <td>{\"toy_list\": [\"Fisher-Price Little People Mickey and Friends Playset\", \"Sesame Street Monster Meditation Elmo\"], \"location\": \"Melbourne\"}</td>\n",
       "      <td>EN</td>\n",
       "      <td>Here is the JSON response with \"location\" and \"toy_list\" as keys:\\n\\n{\\n\"location\": \"Melbourne, Australia\",\\n\"toy_list\": [\\n\"Fisher-Price Little People Mickey and Friends Playset\",\\n\"Sesame Street Monster Meditation Elmo\"\\n]\\n}</td>\n",
       "    </tr>\n",
       "    <tr>\n",
       "      <th>893</th>\n",
       "      <td>Extract JSON response with 'location' and 'toy_list' as keys. 'location': Location of the caller. Include city only.'toy_list': List of toy names from the caller.</td>\n",
       "      <td>\"frosty: Hi! Welcome to the Holiday Wish Hotline! My name's Frosty. Who am I speaking to?\\ncaller: Hello, Frosty! My name is Timmy.\\nfrosty: It's so nice to meet you, Timmy! Where are you calling from?\\ncaller: I'm from Dublin, Ireland.\\nfrosty: That's fantastic! How old are you, Timmy?\\ncaller: I'm 9 years old.\\nfrosty: Great! Let's talk about your holiday wish list, Timmy. What would you like?\\ncaller: I think I want the new barbie dreamhouse. But I also like cars. Hmm, I can't decide.\\nfrosty: No worries, Timmy! Both the Barbie Dreamhouse 2023 and the Bluey Convertible and Figures are excellent options. What do you enjoy most about this time of the year?\\ncaller: I like the cozy feel and the excitement of giving and receiving gifts!\\nfrosty: That's lovely! So, have you decided on your holiday wish? Would you like the new barbie dreamhouse or the bluey car, or maybe you'd like to explore a few more options?\\ncaller: I think I want the new barbie dreamhouse, please.\\nfrosty: Alright, Timmy! Let's confirm your wish list. You're requesting the Barbie Dreamhouse 2023, right?\\ncaller: Yes, that's what I want! Thank you, Frosty!\\nfrosty: You're welcome, Timmy! Enjoy your holiday season and have fun with your new Barbie Dreamhouse 2023!\\ncaller: Thanks, Frosty! Bye!\"</td>\n",
       "      <td>{\"toy_list\": [\"Barbie Dreamhouse 2023\"], \"location\": \"Dublin\"}</td>\n",
       "      <td>EN</td>\n",
       "      <td>Here is the JSON response that meets the instruction:\\n\\n{\\n\"location\": \"Dublin, Ireland\",\\n\"toy_list\": [\\n\"Barbie Dreamhouse 2023\",\\n\"Bluey Convertible and Figures\"\\n]\\n}</td>\n",
       "    </tr>\n",
       "    <tr>\n",
       "      <th>894</th>\n",
       "      <td>Extract JSON response with 'location' and 'toy_list' as keys. 'location': Location of the caller. Include city only.'toy_list': List of toy names from the caller.</td>\n",
       "      <td>\"frosty: Hello! Welcome to the Holiday Wish Hotline! I'm Frosty. What's your name?\\ncaller: Hey Frosty, I'm Emma.\\nfrosty: Hello, Emma! It's wonderful to meet you. Where are you calling from?\\ncaller: I'm from London, UK.\\nfrosty: Fantastic, Emma! How old are you?\\ncaller: I'm 11 years old.\\nfrosty: Awesome! Let's chat about your holiday wish list. What toys are you interested in?\\ncaller: I'm not really sure. I like artsy things and science sets.\\nfrosty: How about the Thames &amp; Kosmos Candy Vending Machine STEM experiment kit or the Calico Critters Pony's Stylish Hair Salon? Both are creative and educational choices.\\ncaller: Hmm, I think I want the candy vending machine set.\\nfrosty: Great choice, Emma! Why don't you tell me about your favorite pastime or hobby?\\ncaller: I enjoy painting and doing DIY projects with my dad.\\nfrosty: That's awesome! So, your holiday wish is the Thames &amp; Kosmos Candy Vending Machine STEM experiment kit, right?\\ncaller: Yes, that's perfect!\\nfrosty: Fantastic! Your wish list will include the Thames &amp; Kosmos Candy Vending Machine STEM experiment kit. Have a lovely holiday season, Emma, and enjoy creating sweet treats!\\ncaller: Thanks, Frosty! Happy holidays!\"</td>\n",
       "      <td>{\"toy_list\": [\"Thames &amp; Kosmos Candy Vending Machine STEM experiment kit\"], \"location\": \"London\"}</td>\n",
       "      <td>EN</td>\n",
       "      <td>Here is the JSON response with \"location\" and \"toy_list\" as keys:\\n\\n{\\n\"location\": \"London, UK\",\\n\"toy_list\": [\\n\"Thames &amp; Kosmos Candy Vending Machine STEM experiment kit\"\\n]\\n}</td>\n",
       "    </tr>\n",
       "  </tbody>\n",
       "</table>\n",
       "</div>"
      ],
      "text/plain": [
       "                                                                                                                                                            instruction  \\\n",
       "890  Extract JSON response with 'location' and 'toy_list' as keys. 'location': Location of the caller. Include city only.'toy_list': List of toy names from the caller.   \n",
       "891  Extract JSON response with 'location' and 'toy_list' as keys. 'location': Location of the caller. Include city only.'toy_list': List of toy names from the caller.   \n",
       "892  Extract JSON response with 'location' and 'toy_list' as keys. 'location': Location of the caller. Include city only.'toy_list': List of toy names from the caller.   \n",
       "893  Extract JSON response with 'location' and 'toy_list' as keys. 'location': Location of the caller. Include city only.'toy_list': List of toy names from the caller.   \n",
       "894  Extract JSON response with 'location' and 'toy_list' as keys. 'location': Location of the caller. Include city only.'toy_list': List of toy names from the caller.   \n",
       "\n",
       "                                                                                                                                                                                                                                                                                                                                                                                                                                                                                                                                                                                                                                                                                                                                                                                                                                                                                                                                                                                                                                                                                                                                                                                                                                                                                                                                                                                                                          input  \\\n",
       "890                     \"frosty: Hi! Welcome to the Holiday Wish Hotline, I'm Frosty! What's your name?\\ncaller: My name's Bella!\\nfrosty: Hello, Bella! It's great to have you here, where are you calling from?\\ncaller: I'm calling from Boston, USA.\\nfrosty: Wonderful, Bella! How old are you?\\ncaller: I'm 7 years old.\\nfrosty: That's awesome! Now, let's talk about your holiday wish list. Are there any toys from our list you're interested in?\\ncaller: Um, I like the slime kit and playfoam letters.\\nfrosty: What a fun combination! The National Geographic Mega Slime Kit & Putty Lab and Playfoam Naturals Shape & Learn Letters & Numbers are both great choices. Why are you interested in these toys?\\ncaller: I love making squishy things and learning at the same time.\\nfrosty: That's fantastic! What do you and your family plan to do to celebrate the holiday season, Bella?\\ncaller: We'll bake cookies and play board games together. It's always so much fun!\\nfrosty: That sounds like a wonderful time! So, you would like to add the slime kit and playfoam letters to your holiday wish list, right?\\ncaller: Yes, please!\\nfrosty: Your wish list will include the National Geographic Mega Slime Kit & Putty Lab and Playfoam Naturals Shape & Learn Letters & Numbers. Have a fantastic holiday season, Bella, and enjoy playing with your new toys!\\ncaller: Thank you, Frosty! Bye!\"   \n",
       "891  \"frosty: Hey there!Welcome to the Holiday Wish Hotline! My name is Frosty! What's your name?\\ncaller: Hi Frosty! My name is Danny.\\nfrosty: Nice to meet you, Danny! Where are you calling from?\\ncaller: I'm from Vancouver, Canada.\\nfrosty: That's amazing! How old are you, Danny?\\ncaller: I'm 10 years old.\\nfrosty: Great! Let's talk about your holiday wish list. What toys do you want?\\ncaller: Hmm, I'm not sure yet. I like building things and stuff.\\nfrosty: If you're into building toys, you might enjoy the Tiny Land kids fort building kit. Or, if you're into technology, the Dog-E robot dog is popular this year. Why don't you tell me more about your hobbies and we can find the perfect toy for you?\\ncaller: I like making stuff with my hands, like building forts with blankets and chairs. I also like playing video games with my friends.\\nfrosty: That's fantastic, Danny! It sounds like the Tiny Land kids fort building kit would be perfect for you since you love building forts. How does that sound?\\ncaller: Yeah, that sounds cool. I think I'll add the fort building kit to my wish list.\\nfrosty: Great! Let's confirm your wish, Danny. You would like the Tiny Land kids fort building kit, right?\\ncaller: Yes, please! That's perfect.\\nfrosty: Fantastic! Enjoy your holiday season, Danny! Have fun building awesome forts!\\ncaller: Thanks, Frosty! Happy holidays!\"   \n",
       "892                                               \"frosty: Welcome to the Holiday Wish Hotline! My name is Frosty! Can I have your name, please?\\ncaller: Hi Frosty, I'm Lily.\\nfrosty: Hi Lily! It's great to meet you. Where are you calling from?\\ncaller: I'm from Melbourne, Australia.\\nfrosty: Wonderful! How old are you, Lily?\\ncaller: I'm 5 years old.\\nfrosty: Wow, that's amazing! Now, let's talk about your holiday wish list. What toys would you like?\\ncaller: I want the mickey playset and the elmo plushie!\\nfrosty: Great! The Fisher-Price Little People Mickey and Friends Playset and the Sesame Street Monster Meditation Elmo are both fantastic choices. Why are you interested in these toys?\\ncaller: I love watching Mickey Mouse and Elmo! They make me happy!\\nfrosty: That's awesome! What's your favorite holiday memory, Lily?\\ncaller: Last holiday, we went to the park and had a big picnic with all my cousins. It was so much fun!\\nfrosty: That sounds like a lovely memory. Let's confirm your holiday wish list, Lily. You would like the mickey playset and the elmo plushie, right?\\ncaller: Yes, that's what I want!\\nfrosty: Perfect! Your holiday wish list will include the Fisher-Price Little People Mickey and Friends Playset and the Sesame Street Monster Meditation Elmo. Enjoy your holiday season and have fun with your new toys!\\ncaller: Thank you, Frosty! Bye!\"   \n",
       "893                                                                                          \"frosty: Hi! Welcome to the Holiday Wish Hotline! My name's Frosty. Who am I speaking to?\\ncaller: Hello, Frosty! My name is Timmy.\\nfrosty: It's so nice to meet you, Timmy! Where are you calling from?\\ncaller: I'm from Dublin, Ireland.\\nfrosty: That's fantastic! How old are you, Timmy?\\ncaller: I'm 9 years old.\\nfrosty: Great! Let's talk about your holiday wish list, Timmy. What would you like?\\ncaller: I think I want the new barbie dreamhouse. But I also like cars. Hmm, I can't decide.\\nfrosty: No worries, Timmy! Both the Barbie Dreamhouse 2023 and the Bluey Convertible and Figures are excellent options. What do you enjoy most about this time of the year?\\ncaller: I like the cozy feel and the excitement of giving and receiving gifts!\\nfrosty: That's lovely! So, have you decided on your holiday wish? Would you like the new barbie dreamhouse or the bluey car, or maybe you'd like to explore a few more options?\\ncaller: I think I want the new barbie dreamhouse, please.\\nfrosty: Alright, Timmy! Let's confirm your wish list. You're requesting the Barbie Dreamhouse 2023, right?\\ncaller: Yes, that's what I want! Thank you, Frosty!\\nfrosty: You're welcome, Timmy! Enjoy your holiday season and have fun with your new Barbie Dreamhouse 2023!\\ncaller: Thanks, Frosty! Bye!\"   \n",
       "894                                                                                                                                                                    \"frosty: Hello! Welcome to the Holiday Wish Hotline! I'm Frosty. What's your name?\\ncaller: Hey Frosty, I'm Emma.\\nfrosty: Hello, Emma! It's wonderful to meet you. Where are you calling from?\\ncaller: I'm from London, UK.\\nfrosty: Fantastic, Emma! How old are you?\\ncaller: I'm 11 years old.\\nfrosty: Awesome! Let's chat about your holiday wish list. What toys are you interested in?\\ncaller: I'm not really sure. I like artsy things and science sets.\\nfrosty: How about the Thames & Kosmos Candy Vending Machine STEM experiment kit or the Calico Critters Pony's Stylish Hair Salon? Both are creative and educational choices.\\ncaller: Hmm, I think I want the candy vending machine set.\\nfrosty: Great choice, Emma! Why don't you tell me about your favorite pastime or hobby?\\ncaller: I enjoy painting and doing DIY projects with my dad.\\nfrosty: That's awesome! So, your holiday wish is the Thames & Kosmos Candy Vending Machine STEM experiment kit, right?\\ncaller: Yes, that's perfect!\\nfrosty: Fantastic! Your wish list will include the Thames & Kosmos Candy Vending Machine STEM experiment kit. Have a lovely holiday season, Emma, and enjoy creating sweet treats!\\ncaller: Thanks, Frosty! Happy holidays!\"   \n",
       "\n",
       "                                                                                                                                          output  \\\n",
       "890  {\"toy_list\": [\"National Geographic Mega Slime Kit & Putty Lab\", \"Playfoam Naturals Shape & Learn Letters & Numbers\"], \"location\": \"Boston\"}   \n",
       "891                                                                  {\"toy_list\": [\"Tiny Land kids fort building kit\"], \"location\": \"Vancouver\"}   \n",
       "892    {\"toy_list\": [\"Fisher-Price Little People Mickey and Friends Playset\", \"Sesame Street Monster Meditation Elmo\"], \"location\": \"Melbourne\"}   \n",
       "893                                                                               {\"toy_list\": [\"Barbie Dreamhouse 2023\"], \"location\": \"Dublin\"}   \n",
       "894                                            {\"toy_list\": [\"Thames & Kosmos Candy Vending Machine STEM experiment kit\"], \"location\": \"London\"}   \n",
       "\n",
       "    language  \\\n",
       "890       EN   \n",
       "891       EN   \n",
       "892       EN   \n",
       "893       EN   \n",
       "894       EN   \n",
       "\n",
       "                                                                                                                                                                                                                               predicted  \n",
       "890      Here is the JSON response with \"location\" and \"toy_list\" as keys:\\n\\n{\\n\"location\": \"Boston, USA\",\\n\"toy_list\": [\\n\"National Geographic Mega Slime Kit & Putty Lab\",\\n\"Playfoam Naturals Shape & Learn Letters & Numbers\"\\n]\\n}  \n",
       "891                Here is the JSON response that extracts the \"location\" and \"toy_list\" keys from the conversation:\\n\\n{\\n\"location\": \"Vancouver, Canada\",\\n\"toy_list\": [\\n\"Tiny Land kids fort building kit\",\\n\"Dog-E robot dog\"\\n]\\n}  \n",
       "892  Here is the JSON response with \"location\" and \"toy_list\" as keys:\\n\\n{\\n\"location\": \"Melbourne, Australia\",\\n\"toy_list\": [\\n\"Fisher-Price Little People Mickey and Friends Playset\",\\n\"Sesame Street Monster Meditation Elmo\"\\n]\\n}  \n",
       "893                                                          Here is the JSON response that meets the instruction:\\n\\n{\\n\"location\": \"Dublin, Ireland\",\\n\"toy_list\": [\\n\"Barbie Dreamhouse 2023\",\\n\"Bluey Convertible and Figures\"\\n]\\n}  \n",
       "894                                                  Here is the JSON response with \"location\" and \"toy_list\" as keys:\\n\\n{\\n\"location\": \"London, UK\",\\n\"toy_list\": [\\n\"Thames & Kosmos Candy Vending Machine STEM experiment kit\"\\n]\\n}  "
      ]
     },
     "execution_count": 9,
     "metadata": {},
     "output_type": "execute_result"
    }
   ],
   "source": [
    "test_res = runner.infer_batch(test_df)\n",
    "test_res.head()"
   ]
  },
  {
   "cell_type": "markdown",
   "metadata": {},
   "source": [
    "### Log and Deploy Fine-tuned Llama 2"
   ]
  },
  {
   "cell_type": "code",
   "execution_count": 10,
   "metadata": {
    "tags": []
   },
   "outputs": [
    {
     "name": "stderr",
     "output_type": "stream",
     "text": [
      "create_model_registry() is in private preview since 0.2.0. Do not use it in production. \n",
      "WARNING:absl:The database DASH_DB already exists. Skipping creation.\n",
      "WARNING:absl:The schema DASH_DB.DASH_SCHEMA already exists. Skipping creation.\n"
     ]
    }
   ],
   "source": [
    "MODEL_NAME = \"LLAMA2_7b_CHAT\"\n",
    "MODEL_VERSION = \"V1.0\"\n",
    "MODEL_REGISTRY_DB = \"DASH_DB\"\n",
    "MODEL_REGISTRY_SCHEMA = \"DASH_SCHEMA\"\n",
    "COMPUTE_POOL = \"DASH_BUILD_GPU3\"\n",
    "DEPLOYMENT_NAME = \"TRAINED_LLAMA2\"\n",
    "\n",
    "registry = model_registry.ModelRegistry(\n",
    "    session=session, \n",
    "    database_name=MODEL_REGISTRY_DB, \n",
    "    schema_name=MODEL_REGISTRY_SCHEMA, \n",
    "    create_if_not_exists=True)"
   ]
  },
  {
   "cell_type": "code",
   "execution_count": 11,
   "metadata": {
    "tags": []
   },
   "outputs": [
    {
     "name": "stderr",
     "output_type": "stream",
     "text": [
      "WARNING:snowflake.snowpark:ModelRegistry.list_deployments() is in private preview since 1.0.1. Do not use it in production. \n"
     ]
    },
    {
     "data": {
      "text/html": [
       "<div>\n",
       "<style scoped>\n",
       "    .dataframe tbody tr th:only-of-type {\n",
       "        vertical-align: middle;\n",
       "    }\n",
       "\n",
       "    .dataframe tbody tr th {\n",
       "        vertical-align: top;\n",
       "    }\n",
       "\n",
       "    .dataframe thead th {\n",
       "        text-align: right;\n",
       "    }\n",
       "</style>\n",
       "<table border=\"1\" class=\"dataframe\">\n",
       "  <thead>\n",
       "    <tr style=\"text-align: right;\">\n",
       "      <th></th>\n",
       "      <th>MODEL_NAME</th>\n",
       "      <th>MODEL_VERSION</th>\n",
       "      <th>DEPLOYMENT_NAME</th>\n",
       "      <th>CREATION_TIME</th>\n",
       "      <th>TARGET_METHOD</th>\n",
       "      <th>TARGET_PLATFORM</th>\n",
       "      <th>SIGNATURE</th>\n",
       "      <th>OPTIONS</th>\n",
       "      <th>STAGE_PATH</th>\n",
       "      <th>ROLE</th>\n",
       "    </tr>\n",
       "  </thead>\n",
       "  <tbody>\n",
       "  </tbody>\n",
       "</table>\n",
       "</div>"
      ],
      "text/plain": [
       "Empty DataFrame\n",
       "Columns: [MODEL_NAME, MODEL_VERSION, DEPLOYMENT_NAME, CREATION_TIME, TARGET_METHOD, TARGET_PLATFORM, SIGNATURE, OPTIONS, STAGE_PATH, ROLE]\n",
       "Index: []"
      ]
     },
     "execution_count": 11,
     "metadata": {},
     "output_type": "execute_result"
    }
   ],
   "source": [
    "registry.list_deployments(model_name=MODEL_NAME,model_version=MODEL_VERSION).to_pandas()"
   ]
  },
  {
   "cell_type": "code",
   "execution_count": 12,
   "metadata": {
    "tags": []
   },
   "outputs": [],
   "source": [
    "# registry.delete_deployment(model_name=MODEL_NAME,model_version=MODEL_VERSION,deployment_name=DEPLOYMENT_NAME)"
   ]
  },
  {
   "cell_type": "code",
   "execution_count": 13,
   "metadata": {
    "tags": []
   },
   "outputs": [
    {
     "name": "stderr",
     "output_type": "stream",
     "text": [
      "WARNING:snowflake.snowpark:ModelRegistry.list_models() is in private preview since 0.2.0. Do not use it in production. \n"
     ]
    },
    {
     "data": {
      "text/html": [
       "<div>\n",
       "<style scoped>\n",
       "    .dataframe tbody tr th:only-of-type {\n",
       "        vertical-align: middle;\n",
       "    }\n",
       "\n",
       "    .dataframe tbody tr th {\n",
       "        vertical-align: top;\n",
       "    }\n",
       "\n",
       "    .dataframe thead th {\n",
       "        text-align: right;\n",
       "    }\n",
       "</style>\n",
       "<table border=\"1\" class=\"dataframe\">\n",
       "  <thead>\n",
       "    <tr style=\"text-align: right;\">\n",
       "      <th></th>\n",
       "      <th>CREATION_CONTEXT</th>\n",
       "      <th>CREATION_ENVIRONMENT_SPEC</th>\n",
       "      <th>CREATION_ROLE</th>\n",
       "      <th>CREATION_TIME</th>\n",
       "      <th>ID</th>\n",
       "      <th>INPUT_SPEC</th>\n",
       "      <th>NAME</th>\n",
       "      <th>OUTPUT_SPEC</th>\n",
       "      <th>RUNTIME_ENVIRONMENT_SPEC</th>\n",
       "      <th>TYPE</th>\n",
       "      <th>URI</th>\n",
       "      <th>VERSION</th>\n",
       "      <th>ARTIFACT_IDS</th>\n",
       "      <th>DESCRIPTION</th>\n",
       "      <th>METRICS</th>\n",
       "      <th>TAGS</th>\n",
       "      <th>REGISTRATION_TIMESTAMP</th>\n",
       "    </tr>\n",
       "  </thead>\n",
       "  <tbody>\n",
       "  </tbody>\n",
       "</table>\n",
       "</div>"
      ],
      "text/plain": [
       "Empty DataFrame\n",
       "Columns: [CREATION_CONTEXT, CREATION_ENVIRONMENT_SPEC, CREATION_ROLE, CREATION_TIME, ID, INPUT_SPEC, NAME, OUTPUT_SPEC, RUNTIME_ENVIRONMENT_SPEC, TYPE, URI, VERSION, ARTIFACT_IDS, DESCRIPTION, METRICS, TAGS, REGISTRATION_TIMESTAMP]\n",
       "Index: []"
      ]
     },
     "execution_count": 13,
     "metadata": {},
     "output_type": "execute_result"
    }
   ],
   "source": [
    "registry.list_models().to_pandas()"
   ]
  },
  {
   "cell_type": "code",
   "execution_count": 14,
   "metadata": {
    "tags": []
   },
   "outputs": [],
   "source": [
    "# registry.delete_model(model_name=MODEL_NAME,model_version=MODEL_VERSION,delete_artifact=True)"
   ]
  },
  {
   "cell_type": "markdown",
   "metadata": {
    "tags": []
   },
   "source": [
    "*NOTE: Notice that the \"model_id_or_path\" is set to the output weights folder where the weights from fine-tuning the model are stored*"
   ]
  },
  {
   "cell_type": "code",
   "execution_count": 16,
   "metadata": {
    "tags": []
   },
   "outputs": [
    {
     "name": "stderr",
     "output_type": "stream",
     "text": [
      "WARNING:snowflake.snowpark:ModelRegistry.log_model() is in private preview since 0.2.0. Do not use it in production. \n",
      "/opt/conda/envs/rapids/lib/python3.8/site-packages/snowflake/ml/_internal/env_utils.py:217: UserWarning: Package requirement absl-py<2,>=0.15 specified, while version 2.0.0 is installed. Local version will be ignored to conform to package requirement.\n",
      "  warnings.warn(\n",
      "WARNING:snowflake.snowpark:ModelRegistry.deploy() is in private preview since 0.2.0. Do not use it in production. \n",
      "/opt/conda/envs/rapids/lib/python3.8/site-packages/snowflake/ml/model/_packager/model_env/model_env.py:353: UserWarning: Found dependencies specified as pip requirements. This may prevent model deploying to Snowflake Warehouse.\n",
      "  warnings.warn(\n",
      "WARNING:snowflake.ml.model._deploy_client.snowservice.deploy:Similar environment detected. Using existing image sfsenorthamerica-build-spcs.registry.snowflakecomputing.com/dash_db/dash_schema/snowml_repo/8a1453d3c1d39172488042f22e4a323c912464a3:latest to skip image build. To disable this feature, set 'force_image_build=True' in deployment options\n",
      "WARNING:snowflake.ml.model._deploy_client.utils.snowservice_client:Best-effort log streaming from SPCS will be enabled when python logging level is set to INFO.Alternatively, you can also query the logs by running the query 'CALL SYSTEM$GET_SERVICE_LOGS('DASH_DB.DASH_SCHEMA.service_6957faf8827e11eeaf8046c69673bb50', '0', 'inference-server')'\n"
     ]
    },
    {
     "name": "stdout",
     "output_type": "stream",
     "text": [
      "CPU times: user 2.44 s, sys: 112 ms, total: 2.55 s\n",
      "Wall time: 15min 31s\n"
     ]
    },
    {
     "data": {
      "text/plain": [
       "{'name': 'DASH_DB.DASH_SCHEMA.TRAINED_LLAMA2',\n",
       " 'platform': <TargetPlatform.SNOWPARK_CONTAINER_SERVICES: 'SNOWPARK_CONTAINER_SERVICES'>,\n",
       " 'target_method': 'infer',\n",
       " 'signature': ModelSignature(\n",
       "                     inputs=[\n",
       "                         FeatureSpec(dtype=DataType.STRING, name='input')\n",
       "                     ],\n",
       "                     outputs=[\n",
       "                         FeatureSpec(dtype=DataType.STRING, name='generated_text')\n",
       "                     ]\n",
       "                 ),\n",
       " 'options': {'compute_pool': 'DASH_BUILD_GPU3', 'num_gpus': 1},\n",
       " 'details': {'image_name': 'sfsenorthamerica-build-spcs.registry.snowflakecomputing.com/dash_db/dash_schema/snowml_repo/8a1453d3c1d39172488042f22e4a323c912464a3:latest',\n",
       "  'service_spec': \"spec:\\n  container:\\n  - env:\\n      MODEL_ZIP_STAGE_PATH: /DASH_DB.DASH_SCHEMA.SNOWML_MODEL_6957FAF8827E11EEAF8046C69673BB50/model.zip\\n      NUM_WORKERS: 1\\n      SNOWML_USE_GPU: true\\n      TARGET_METHOD: infer\\n      _CONCURRENT_REQUESTS_MAX: 1\\n    image: sfsenorthamerica-build-spcs.registry.snowflakecomputing.com/dash_db/dash_schema/snowml_repo/8a1453d3c1d39172488042f22e4a323c912464a3:latest\\n    name: inference-server\\n    readinessProbe:\\n      path: /health\\n      port: 5000\\n    resources:\\n      limits:\\n        nvidia.com/gpu: 1\\n      requests:\\n        nvidia.com/gpu: 1\\n    volumeMounts:\\n    - mountPath: /local/user/vol1\\n      name: vol1\\n    - mountPath: DASH_DB.DASH_SCHEMA.SNOWML_MODEL_6957FAF8827E11EEAF8046C69673BB50\\n      name: stage\\n  endpoint:\\n  - name: predict\\n    port: 5000\\n  volume:\\n  - name: vol1\\n    source: local\\n  - gid: 1000\\n    name: stage\\n    source: '@DASH_DB.DASH_SCHEMA.SNOWML_MODEL_6957FAF8827E11EEAF8046C69673BB50'\\n    uid: 1000\\n\",\n",
       "  'service_function_sql': \"\\n            CREATE OR REPLACE FUNCTION DASH_DB.DASH_SCHEMA.TRAINED_LLAMA2(input OBJECT)\\n                RETURNS OBJECT\\n                SERVICE=DASH_DB.DASH_SCHEMA.service_6957faf8827e11eeaf8046c69673bb50\\n                ENDPOINT=predict\\n                MAX_BATCH_ROWS = 100\\n                AS '/predict'\\n            \"}}"
      ]
     },
     "execution_count": 16,
     "metadata": {},
     "output_type": "execute_result"
    }
   ],
   "source": [
    "%%time\n",
    "# NOTE: This will take ~15mins\n",
    "options = llm.LLMOptions(\n",
    "    token=connection_parameters[\"huggingface_token\"],\n",
    "    max_batch_size=100,\n",
    ")\n",
    "\n",
    "llama_model = llm.LLM(\n",
    "    model_id_or_path=output_weights_dir,\n",
    "    options=options\n",
    ")\n",
    "\n",
    "llama_model_ref = registry.log_model(\n",
    "    model_name=MODEL_NAME,\n",
    "    model_version=MODEL_VERSION,\n",
    "    model=llama_model\n",
    ")\n",
    "\n",
    "llama_model_ref.deploy(\n",
    "    deployment_name=DEPLOYMENT_NAME, \n",
    "    platform=deploy_platforms.TargetPlatform.SNOWPARK_CONTAINER_SERVICES,\n",
    "    permanent=True, \n",
    "    options={\"compute_pool\": COMPUTE_POOL, \"num_gpus\": 1})"
   ]
  },
  {
   "cell_type": "code",
   "execution_count": 17,
   "metadata": {
    "tags": []
   },
   "outputs": [
    {
     "name": "stderr",
     "output_type": "stream",
     "text": [
      "/tmp/ipykernel_1904/1994325739.py:15: SettingWithCopyWarning: \n",
      "A value is trying to be set on a copy of a slice from a DataFrame.\n",
      "Try using .loc[row_indexer,col_indexer] = value instead\n",
      "\n",
      "See the caveats in the documentation: https://pandas.pydata.org/pandas-docs/stable/user_guide/indexing.html#returning-a-view-versus-a-copy\n",
      "  eval_df['input'] = begin_prompt + eval_df['input'] + end_prompt\n"
     ]
    },
    {
     "data": {
      "text/html": [
       "<div>\n",
       "<style scoped>\n",
       "    .dataframe tbody tr th:only-of-type {\n",
       "        vertical-align: middle;\n",
       "    }\n",
       "\n",
       "    .dataframe tbody tr th {\n",
       "        vertical-align: top;\n",
       "    }\n",
       "\n",
       "    .dataframe thead th {\n",
       "        text-align: right;\n",
       "    }\n",
       "</style>\n",
       "<table border=\"1\" class=\"dataframe\">\n",
       "  <thead>\n",
       "    <tr style=\"text-align: right;\">\n",
       "      <th></th>\n",
       "      <th>instruction</th>\n",
       "      <th>input</th>\n",
       "      <th>output</th>\n",
       "      <th>language</th>\n",
       "      <th>predicted</th>\n",
       "    </tr>\n",
       "  </thead>\n",
       "  <tbody>\n",
       "    <tr>\n",
       "      <th>0</th>\n",
       "      <td>Extract JSON response with 'location' and 'toy_list' as keys. 'location': Location of the caller. Include city only.'toy_list': List of toy names from the caller.</td>\n",
       "      <td>\\n[INST] &lt;&lt;SYS&gt;&gt;\\nBelow is an instruction that describes a task, paired with an input that provides further context. Write a response that appropriately completes the request.\\n&lt;&lt;/SYS&gt;&gt;\\n### Instruction:\\nExtract JSON response with 'location' and 'toy_list' as keys.\\n'location': Location string of the caller.\\n'toy_list': List of toy names from the caller.\\n### Input:\\n\\n\"frosty: Hello! It's Frosty here to make your holiday wishes come true. May I know your name?\\ncaller: My name's Oliver, Frosty.\\nfrosty: Hi Oliver! Where are you from?\\ncaller: From Manchester in the UK.\\nfrosty: Great! And what toy are you wishing for?\\ncaller: Um, I think I want a snap circuit set or a magic microscope but I'm not sure which.\\nfrosty: Snap Circuits: Junior and LeapFrog Magic Adventures Microscope. Those are both educational and fun. Is that why you're interested?\\ncaller: Yes, I like learning new things while playing. I think I'll go with the snap circuit set.\\nfrosty: I can see why you'd choose it, it's a popular choice. And before we finish, can you tell me how you plan to celebrate the holiday season?\\ncaller: I'm going to have a sleepover with my cousins! It's our tradition.\\nfrosty: That sounds great! So, the Snap Circuits: Junior for your holiday wish, right Oliver?\\ncaller: Yes, please, Frosty. Thank you.\\nfrosty: Certainly, Oliver. Happy holidays!\" [/INST]</td>\n",
       "      <td>{\"toy_list\": [\"Snap Circuits: Junior\"], \"location\": \"Manchester\"}</td>\n",
       "      <td>EN</td>\n",
       "      <td>Here is the JSON response with the requested keys:\\n\\n{\\n\"location\": \"Manchester\",\\n\"toy_list\": [\\n\"Snap Circuits: Junior\",\\n\"LeapFrog Magic Adventures Microscope\"\\n]\\n}</td>\n",
       "    </tr>\n",
       "    <tr>\n",
       "      <th>1</th>\n",
       "      <td>Extract JSON response with 'location' and 'toy_list' as keys. 'location': Location of the caller. Include city only.'toy_list': List of toy names from the caller.</td>\n",
       "      <td>\\n[INST] &lt;&lt;SYS&gt;&gt;\\nBelow is an instruction that describes a task, paired with an input that provides further context. Write a response that appropriately completes the request.\\n&lt;&lt;/SYS&gt;&gt;\\n### Instruction:\\nExtract JSON response with 'location' and 'toy_list' as keys.\\n'location': Location string of the caller.\\n'toy_list': List of toy names from the caller.\\n### Input:\\n\\n\"frosty: Hi friend! I'm here to help make your holiday joyous. What's your name?\\ncaller: Hello Frosty, I'm Charlotte!\\nfrosty: Hi Charlotte, where are you from?\\ncaller: I'm from Toronto, Canada.\\nfrosty: Awesome! What's on your holiday wish list, Charlotte?\\ncaller: I really can't decide between the magna tiles set and the fort building kit. They both seem so fun.\\nfrosty: Interesting choices! Magna-Tiles 32-piece set and Tiny Land kids fort building kit. Do you like these because you love building and designing?\\ncaller: Yes, I love creating my own world! You know what? I'll go with the fort building kit. It seems more exciting!\\nfrosty: Good choice, Charlotte! Before we finish, can you tell me what you love most about this time of the year?\\ncaller: Yes, I love the holiday lights and spending time with my family.\\nfrosty: Wonderful! It's the Tiny Land kids fort building kit then. Happy holidays, Charlotte!\" [/INST]</td>\n",
       "      <td>{\"toy_list\": [\"Tiny Land kids fort building kit\"], \"location\": \"Toronto\"}</td>\n",
       "      <td>EN</td>\n",
       "      <td>Here is the JSON response with the requested keys:\\n\\n{\\n\"location\": \"Toronto, Canada\",\\n\"toy_list\": [\\n\"Magna-Tiles 32-piece set\",\\n\"Tiny Land kids fort building kit\"\\n]\\n}</td>\n",
       "    </tr>\n",
       "    <tr>\n",
       "      <th>2</th>\n",
       "      <td>Extract JSON response with 'location' and 'toy_list' as keys. 'location': Location of the caller. Include city only.'toy_list': List of toy names from the caller.</td>\n",
       "      <td>\\n[INST] &lt;&lt;SYS&gt;&gt;\\nBelow is an instruction that describes a task, paired with an input that provides further context. Write a response that appropriately completes the request.\\n&lt;&lt;/SYS&gt;&gt;\\n### Instruction:\\nExtract JSON response with 'location' and 'toy_list' as keys.\\n'location': Location string of the caller.\\n'toy_list': List of toy names from the caller.\\n### Input:\\n\\n\"Frosty: Hi there, welcome to our wonderful world of winter wishes! How may I help you today?\\nCaller: Hi! My name is Emma, I'm ten.\\nFrosty: Hello Emma, it's nice to meet you! Where are you calling from?\\nCaller: I'm from Los Angeles, California.\\nFrosty: It sounds like it's warm there while we're in a winter wonderland! Well, Emma, are you ready to tell Frosty what you would like as your holiday presents this year?\\nCaller: Umm, I think I want the fox plushie and the baby bee doll.\\nFrosty: Oh, those are amazing choices! Why are you interested in these toys, Emma?\\nCaller: They are so soft and cute. I love cuddling with plushies!\\nFrosty: Great choices! Plushies are indeed very cuddly. How do you and your family plan to celebrate the holiday season?\\nCaller: We will be baking cookies and watching movies together.\\nFrosty: That sounds wonderful! Alright Emma, I've got your wish for the 2023 Holiday Fox 12-Inch Plush and Orijin Bees Lovey Coiley Baby Bee. Thank you for your call!\" [/INST]</td>\n",
       "      <td>{\"toy_list\": [\"2023 Holiday Fox 12-Inch Plush\", \"Orijin Bees Lovey Coiley Baby Bee\"], \"location\": \"Los Angeles\"}</td>\n",
       "      <td>EN</td>\n",
       "      <td>Here is the JSON response with the requested keys:\\n\\n{\\n\"location\": \"Los Angeles, California\",\\n\"toy_list\": [\\n\"Fox plushie\",\\n\"Baby bee doll\"\\n]\\n}</td>\n",
       "    </tr>\n",
       "    <tr>\n",
       "      <th>3</th>\n",
       "      <td>Extract JSON response with 'location' and 'toy_list' as keys. 'location': Location of the caller. Include city only.'toy_list': List of toy names from the caller.</td>\n",
       "      <td>\\n[INST] &lt;&lt;SYS&gt;&gt;\\nBelow is an instruction that describes a task, paired with an input that provides further context. Write a response that appropriately completes the request.\\n&lt;&lt;/SYS&gt;&gt;\\n### Instruction:\\nExtract JSON response with 'location' and 'toy_list' as keys.\\n'location': Location string of the caller.\\n'toy_list': List of toy names from the caller.\\n### Input:\\n\\n\"Frosty: Hello, welcome to our winter wonderland hotline! Who's speaking today?\\nCaller: Hi Frosty I'm Jonah. Can you help me with my holiday wish?\\nFrosty: Hi Jonah! Of course, I'd love to help. Could you please tell me where are you calling from.?\\nCaller: I'm from Manchester, England.\\nFrosty: Lovely! Now, tell me Jonah, what are you wishing for this holiday season?\\nCaller: I like cars and dogs. I'm thinking about the bluey car and the robot dog.\\nFrosty: Those look like a lot of fun! Jonah, can you tell me why you're interested in those toys?\\nCaller: My friends have them and they told me they are so fun! \\nFrosty: Ah, I see. Well, the Bluey Convertible and Figures and Dog-E are both great choices. Thank you for calling in Jonah!\" [/INST]</td>\n",
       "      <td>{\"toy_list\": [\"Bluey Convertible and Figures\", \"Dog-E\"], \"location\": \"Manchester\"}</td>\n",
       "      <td>EN</td>\n",
       "      <td>Here is the JSON response that meets the instruction:\\n\\n{\\n\"location\": \"Manchester, England\",\\n\"toy_list\": [\\n\"Bluey Convertible\",\\n\"Bluey Figures\",\\n\"Dog-E\"\\n]\\n}</td>\n",
       "    </tr>\n",
       "    <tr>\n",
       "      <th>4</th>\n",
       "      <td>Extract JSON response with 'location' and 'toy_list' as keys. 'location': Location of the caller. Include city only.'toy_list': List of toy names from the caller.</td>\n",
       "      <td>\\n[INST] &lt;&lt;SYS&gt;&gt;\\nBelow is an instruction that describes a task, paired with an input that provides further context. Write a response that appropriately completes the request.\\n&lt;&lt;/SYS&gt;&gt;\\n### Instruction:\\nExtract JSON response with 'location' and 'toy_list' as keys.\\n'location': Location string of the caller.\\n'toy_list': List of toy names from the caller.\\n### Input:\\n\\n\"Frosty: Hi there! Welcome to our winter wishes line! What's your name?\\nCaller: I'm Leah and I'm seven. Can I ask for two toys?\\nFrosty: Sure you can, Leah! By the way where are you calling from?\\nCaller: I'm from Sydney, Australia.\\nFrosty: How wonderful! Now, let's hear your two wishes Leah!\\nCaller: Uhm, I can't decide between the barbie science doll set and the new barbie dreamhouse.\\nFrosty: Well, either one would be great. Just think about what you would have more fun playing with.\\nCaller: I think I like the barbie science doll set better.\\nFrosty: That's an excellent choice, Leah! It will be so much fun for you. Have a great holiday!\" [/INST]</td>\n",
       "      <td>{\"toy_list\": [\"Barbie Science Lab Playset\", \"Barbie Dreamhouse 2023\"], \"location\": \"Sydney\"}</td>\n",
       "      <td>EN</td>\n",
       "      <td>Here is the JSON response that meets the instruction:\\n\\n{\\n\"location\": \"Sydney, Australia\",\\n\"toy_list\": [\"barbie science doll set\", \"barbie dreamhouse\"]\\n}</td>\n",
       "    </tr>\n",
       "  </tbody>\n",
       "</table>\n",
       "</div>"
      ],
      "text/plain": [
       "                                                                                                                                                          instruction  \\\n",
       "0  Extract JSON response with 'location' and 'toy_list' as keys. 'location': Location of the caller. Include city only.'toy_list': List of toy names from the caller.   \n",
       "1  Extract JSON response with 'location' and 'toy_list' as keys. 'location': Location of the caller. Include city only.'toy_list': List of toy names from the caller.   \n",
       "2  Extract JSON response with 'location' and 'toy_list' as keys. 'location': Location of the caller. Include city only.'toy_list': List of toy names from the caller.   \n",
       "3  Extract JSON response with 'location' and 'toy_list' as keys. 'location': Location of the caller. Include city only.'toy_list': List of toy names from the caller.   \n",
       "4  Extract JSON response with 'location' and 'toy_list' as keys. 'location': Location of the caller. Include city only.'toy_list': List of toy names from the caller.   \n",
       "\n",
       "                                                                                                                                                                                                                                                                                                                                                                                                                                                                                                                                                                                                                                                                                                                                                                                                                                                                                                                                                                                                                                                                                                                                                                                                                                                                                                                                                                                                                               input  \\\n",
       "0       \\n[INST] <<SYS>>\\nBelow is an instruction that describes a task, paired with an input that provides further context. Write a response that appropriately completes the request.\\n<</SYS>>\\n### Instruction:\\nExtract JSON response with 'location' and 'toy_list' as keys.\\n'location': Location string of the caller.\\n'toy_list': List of toy names from the caller.\\n### Input:\\n\\n\"frosty: Hello! It's Frosty here to make your holiday wishes come true. May I know your name?\\ncaller: My name's Oliver, Frosty.\\nfrosty: Hi Oliver! Where are you from?\\ncaller: From Manchester in the UK.\\nfrosty: Great! And what toy are you wishing for?\\ncaller: Um, I think I want a snap circuit set or a magic microscope but I'm not sure which.\\nfrosty: Snap Circuits: Junior and LeapFrog Magic Adventures Microscope. Those are both educational and fun. Is that why you're interested?\\ncaller: Yes, I like learning new things while playing. I think I'll go with the snap circuit set.\\nfrosty: I can see why you'd choose it, it's a popular choice. And before we finish, can you tell me how you plan to celebrate the holiday season?\\ncaller: I'm going to have a sleepover with my cousins! It's our tradition.\\nfrosty: That sounds great! So, the Snap Circuits: Junior for your holiday wish, right Oliver?\\ncaller: Yes, please, Frosty. Thank you.\\nfrosty: Certainly, Oliver. Happy holidays!\" [/INST]   \n",
       "1                                                                         \\n[INST] <<SYS>>\\nBelow is an instruction that describes a task, paired with an input that provides further context. Write a response that appropriately completes the request.\\n<</SYS>>\\n### Instruction:\\nExtract JSON response with 'location' and 'toy_list' as keys.\\n'location': Location string of the caller.\\n'toy_list': List of toy names from the caller.\\n### Input:\\n\\n\"frosty: Hi friend! I'm here to help make your holiday joyous. What's your name?\\ncaller: Hello Frosty, I'm Charlotte!\\nfrosty: Hi Charlotte, where are you from?\\ncaller: I'm from Toronto, Canada.\\nfrosty: Awesome! What's on your holiday wish list, Charlotte?\\ncaller: I really can't decide between the magna tiles set and the fort building kit. They both seem so fun.\\nfrosty: Interesting choices! Magna-Tiles 32-piece set and Tiny Land kids fort building kit. Do you like these because you love building and designing?\\ncaller: Yes, I love creating my own world! You know what? I'll go with the fort building kit. It seems more exciting!\\nfrosty: Good choice, Charlotte! Before we finish, can you tell me what you love most about this time of the year?\\ncaller: Yes, I love the holiday lights and spending time with my family.\\nfrosty: Wonderful! It's the Tiny Land kids fort building kit then. Happy holidays, Charlotte!\" [/INST]   \n",
       "2  \\n[INST] <<SYS>>\\nBelow is an instruction that describes a task, paired with an input that provides further context. Write a response that appropriately completes the request.\\n<</SYS>>\\n### Instruction:\\nExtract JSON response with 'location' and 'toy_list' as keys.\\n'location': Location string of the caller.\\n'toy_list': List of toy names from the caller.\\n### Input:\\n\\n\"Frosty: Hi there, welcome to our wonderful world of winter wishes! How may I help you today?\\nCaller: Hi! My name is Emma, I'm ten.\\nFrosty: Hello Emma, it's nice to meet you! Where are you calling from?\\nCaller: I'm from Los Angeles, California.\\nFrosty: It sounds like it's warm there while we're in a winter wonderland! Well, Emma, are you ready to tell Frosty what you would like as your holiday presents this year?\\nCaller: Umm, I think I want the fox plushie and the baby bee doll.\\nFrosty: Oh, those are amazing choices! Why are you interested in these toys, Emma?\\nCaller: They are so soft and cute. I love cuddling with plushies!\\nFrosty: Great choices! Plushies are indeed very cuddly. How do you and your family plan to celebrate the holiday season?\\nCaller: We will be baking cookies and watching movies together.\\nFrosty: That sounds wonderful! Alright Emma, I've got your wish for the 2023 Holiday Fox 12-Inch Plush and Orijin Bees Lovey Coiley Baby Bee. Thank you for your call!\" [/INST]   \n",
       "3                                                                                                                                                                                                                                                            \\n[INST] <<SYS>>\\nBelow is an instruction that describes a task, paired with an input that provides further context. Write a response that appropriately completes the request.\\n<</SYS>>\\n### Instruction:\\nExtract JSON response with 'location' and 'toy_list' as keys.\\n'location': Location string of the caller.\\n'toy_list': List of toy names from the caller.\\n### Input:\\n\\n\"Frosty: Hello, welcome to our winter wonderland hotline! Who's speaking today?\\nCaller: Hi Frosty I'm Jonah. Can you help me with my holiday wish?\\nFrosty: Hi Jonah! Of course, I'd love to help. Could you please tell me where are you calling from.?\\nCaller: I'm from Manchester, England.\\nFrosty: Lovely! Now, tell me Jonah, what are you wishing for this holiday season?\\nCaller: I like cars and dogs. I'm thinking about the bluey car and the robot dog.\\nFrosty: Those look like a lot of fun! Jonah, can you tell me why you're interested in those toys?\\nCaller: My friends have them and they told me they are so fun! \\nFrosty: Ah, I see. Well, the Bluey Convertible and Figures and Dog-E are both great choices. Thank you for calling in Jonah!\" [/INST]   \n",
       "4                                                                                                                                                                                                                                                                                                                                                          \\n[INST] <<SYS>>\\nBelow is an instruction that describes a task, paired with an input that provides further context. Write a response that appropriately completes the request.\\n<</SYS>>\\n### Instruction:\\nExtract JSON response with 'location' and 'toy_list' as keys.\\n'location': Location string of the caller.\\n'toy_list': List of toy names from the caller.\\n### Input:\\n\\n\"Frosty: Hi there! Welcome to our winter wishes line! What's your name?\\nCaller: I'm Leah and I'm seven. Can I ask for two toys?\\nFrosty: Sure you can, Leah! By the way where are you calling from?\\nCaller: I'm from Sydney, Australia.\\nFrosty: How wonderful! Now, let's hear your two wishes Leah!\\nCaller: Uhm, I can't decide between the barbie science doll set and the new barbie dreamhouse.\\nFrosty: Well, either one would be great. Just think about what you would have more fun playing with.\\nCaller: I think I like the barbie science doll set better.\\nFrosty: That's an excellent choice, Leah! It will be so much fun for you. Have a great holiday!\" [/INST]   \n",
       "\n",
       "                                                                                                             output  \\\n",
       "0                                                 {\"toy_list\": [\"Snap Circuits: Junior\"], \"location\": \"Manchester\"}   \n",
       "1                                         {\"toy_list\": [\"Tiny Land kids fort building kit\"], \"location\": \"Toronto\"}   \n",
       "2  {\"toy_list\": [\"2023 Holiday Fox 12-Inch Plush\", \"Orijin Bees Lovey Coiley Baby Bee\"], \"location\": \"Los Angeles\"}   \n",
       "3                                {\"toy_list\": [\"Bluey Convertible and Figures\", \"Dog-E\"], \"location\": \"Manchester\"}   \n",
       "4                      {\"toy_list\": [\"Barbie Science Lab Playset\", \"Barbie Dreamhouse 2023\"], \"location\": \"Sydney\"}   \n",
       "\n",
       "  language  \\\n",
       "0       EN   \n",
       "1       EN   \n",
       "2       EN   \n",
       "3       EN   \n",
       "4       EN   \n",
       "\n",
       "                                                                                                                                                                       predicted  \n",
       "0      Here is the JSON response with the requested keys:\\n\\n{\\n\"location\": \"Manchester\",\\n\"toy_list\": [\\n\"Snap Circuits: Junior\",\\n\"LeapFrog Magic Adventures Microscope\"\\n]\\n}  \n",
       "1  Here is the JSON response with the requested keys:\\n\\n{\\n\"location\": \"Toronto, Canada\",\\n\"toy_list\": [\\n\"Magna-Tiles 32-piece set\",\\n\"Tiny Land kids fort building kit\"\\n]\\n}  \n",
       "2                          Here is the JSON response with the requested keys:\\n\\n{\\n\"location\": \"Los Angeles, California\",\\n\"toy_list\": [\\n\"Fox plushie\",\\n\"Baby bee doll\"\\n]\\n}  \n",
       "3           Here is the JSON response that meets the instruction:\\n\\n{\\n\"location\": \"Manchester, England\",\\n\"toy_list\": [\\n\"Bluey Convertible\",\\n\"Bluey Figures\",\\n\"Dog-E\"\\n]\\n}  \n",
       "4                  Here is the JSON response that meets the instruction:\\n\\n{\\n\"location\": \"Sydney, Australia\",\\n\"toy_list\": [\"barbie science doll set\", \"barbie dreamhouse\"]\\n}  "
      ]
     },
     "execution_count": 17,
     "metadata": {},
     "output_type": "execute_result"
    }
   ],
   "source": [
    "begin_prompt = \\\n",
    "\"\"\"\n",
    "[INST] <<SYS>>\n",
    "Below is an instruction that describes a task, paired with an input that provides further context. Write a response that appropriately completes the request.\n",
    "<</SYS>>\n",
    "### Instruction:\n",
    "Extract JSON response with 'location' and 'toy_list' as keys.\n",
    "'location': Location string of the caller.\n",
    "'toy_list': List of toy names from the caller.\n",
    "### Input:\n",
    "\n",
    "\"\"\"\n",
    "end_prompt = \" [/INST]\"\n",
    "\n",
    "eval_df['input'] = begin_prompt + eval_df['input'] + end_prompt\n",
    "eval_df = eval_df.reset_index(drop=True)\n",
    "eval_df.head()"
   ]
  },
  {
   "cell_type": "code",
   "execution_count": 18,
   "metadata": {
    "tags": []
   },
   "outputs": [
    {
     "name": "stderr",
     "output_type": "stream",
     "text": [
      "WARNING:snowflake.snowpark:ModelReference.predict() is in private preview since 0.2.0. Do not use it in production. \n",
      "WARNING:snowflake.snowpark:ModelRegistry.get_deployment() is in private preview since 1.0.1. Do not use it in production. \n"
     ]
    },
    {
     "data": {
      "text/html": [
       "<div>\n",
       "<style scoped>\n",
       "    .dataframe tbody tr th:only-of-type {\n",
       "        vertical-align: middle;\n",
       "    }\n",
       "\n",
       "    .dataframe tbody tr th {\n",
       "        vertical-align: top;\n",
       "    }\n",
       "\n",
       "    .dataframe thead th {\n",
       "        text-align: right;\n",
       "    }\n",
       "</style>\n",
       "<table border=\"1\" class=\"dataframe\">\n",
       "  <thead>\n",
       "    <tr style=\"text-align: right;\">\n",
       "      <th></th>\n",
       "      <th>generated_text</th>\n",
       "    </tr>\n",
       "  </thead>\n",
       "  <tbody>\n",
       "    <tr>\n",
       "      <th>0</th>\n",
       "      <td>Sure! Here is the JSON response with 'location' and 'toy_list' as keys:\\n\\n{\\n\"location\": \"Manchester, UK\",\\n\"toy_list\": [\\n\"Snap Circuits: Junior\",\\n\"LeapFrog Magic Adventures Microscope\"\\n]\\n}</td>\n",
       "    </tr>\n",
       "    <tr>\n",
       "      <th>1</th>\n",
       "      <td>Sure! Here is the JSON response with 'location' and 'toy_list' as keys:\\n\\n{\\n\"location\": \"Toronto, Canada\",\\n\"toy_list\": [\\n\"Magna-Tiles 32-piece set\",\\n\"Tiny Land kids fort building kit\"\\n]\\n}</td>\n",
       "    </tr>\n",
       "    <tr>\n",
       "      <th>2</th>\n",
       "      <td>Sure! Here is the JSON response with 'location' and 'toy_list' as keys:\\n\\n{\\n\"location\": \"Los Angeles, California\",\\n\"toy_list\": [\\n\"Fox plushie\",\\n\"Baby bee doll\"\\n]\\n}</td>\n",
       "    </tr>\n",
       "    <tr>\n",
       "      <th>3</th>\n",
       "      <td>Sure! Here is the JSON response with 'location' and 'toy_list' as keys:\\n\\n{\\n\"location\": \"Manchester, England\",\\n\"toy_list\": [\\n\"Bluey Convertible\",\\n\"Figures\",\\n\"Dog-E\"\\n]\\n}</td>\n",
       "    </tr>\n",
       "    <tr>\n",
       "      <th>4</th>\n",
       "      <td>Sure! Here is the JSON response with 'location' and 'toy_list' as keys:\\n\\n{\\n\"location\": \"Sydney, Australia\",\\n\"toy_list\": [\\n\"barbie science doll set\",\\n\"barbie dreamhouse\"\\n]\\n}</td>\n",
       "    </tr>\n",
       "  </tbody>\n",
       "</table>\n",
       "</div>"
      ],
      "text/plain": [
       "                                                                                                                                                                                         generated_text\n",
       "0    Sure! Here is the JSON response with 'location' and 'toy_list' as keys:\\n\\n{\\n\"location\": \"Manchester, UK\",\\n\"toy_list\": [\\n\"Snap Circuits: Junior\",\\n\"LeapFrog Magic Adventures Microscope\"\\n]\\n}\n",
       "1    Sure! Here is the JSON response with 'location' and 'toy_list' as keys:\\n\\n{\\n\"location\": \"Toronto, Canada\",\\n\"toy_list\": [\\n\"Magna-Tiles 32-piece set\",\\n\"Tiny Land kids fort building kit\"\\n]\\n}\n",
       "2                            Sure! Here is the JSON response with 'location' and 'toy_list' as keys:\\n\\n{\\n\"location\": \"Los Angeles, California\",\\n\"toy_list\": [\\n\"Fox plushie\",\\n\"Baby bee doll\"\\n]\\n}\n",
       "3                      Sure! Here is the JSON response with 'location' and 'toy_list' as keys:\\n\\n{\\n\"location\": \"Manchester, England\",\\n\"toy_list\": [\\n\"Bluey Convertible\",\\n\"Figures\",\\n\"Dog-E\"\\n]\\n}\n",
       "4                  Sure! Here is the JSON response with 'location' and 'toy_list' as keys:\\n\\n{\\n\"location\": \"Sydney, Australia\",\\n\"toy_list\": [\\n\"barbie science doll set\",\\n\"barbie dreamhouse\"\\n]\\n}"
      ]
     },
     "execution_count": 18,
     "metadata": {},
     "output_type": "execute_result"
    }
   ],
   "source": [
    "llama_model_ref.predict(deployment_name=DEPLOYMENT_NAME,data=eval_df).head()"
   ]
  },
  {
   "cell_type": "markdown",
   "metadata": {
    "tags": []
   },
   "source": [
    "#### Run Inference in SQL"
   ]
  },
  {
   "cell_type": "code",
   "execution_count": 19,
   "metadata": {
    "tags": []
   },
   "outputs": [],
   "source": [
    "# Go to Snowsight"
   ]
  },
  {
   "cell_type": "markdown",
   "metadata": {},
   "source": [
    "#### Clean Up Resources\n",
    "\n",
    "Delete deployment and the model"
   ]
  },
  {
   "cell_type": "code",
   "execution_count": 20,
   "metadata": {
    "tags": []
   },
   "outputs": [
    {
     "name": "stderr",
     "output_type": "stream",
     "text": [
      "WARNING:snowflake.snowpark:ModelRegistry.delete_deployment() is in private preview since 1.0.1. Do not use it in production. \n",
      "WARNING:snowflake.snowpark:ModelRegistry.delete_model() is in private preview since 0.2.0. Do not use it in production. \n"
     ]
    }
   ],
   "source": [
    "llama_model_ref.delete_deployment(deployment_name=DEPLOYMENT_NAME)\n",
    "llama_model_ref.delete_model(delete_artifact=True)"
   ]
  }
 ],
 "metadata": {
  "kernelspec": {
   "display_name": "Python 3 (ipykernel)",
   "language": "python",
   "name": "python3"
  },
  "language_info": {
   "codemirror_mode": {
    "name": "ipython",
    "version": 3
   },
   "file_extension": ".py",
   "mimetype": "text/x-python",
   "name": "python",
   "nbconvert_exporter": "python",
   "pygments_lexer": "ipython3",
   "version": "3.8.16"
  }
 },
 "nbformat": 4,
 "nbformat_minor": 4
}
