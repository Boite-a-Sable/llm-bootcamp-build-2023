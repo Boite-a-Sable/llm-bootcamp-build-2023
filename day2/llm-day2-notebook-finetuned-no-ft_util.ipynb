{
 "cells": [
  {
   "cell_type": "markdown",
   "metadata": {},
   "source": [
    "# BUILD LLM Bootcamp Day 2\n",
    "\n",
    "Prerequisite: complete environment setup and package insallations from `llm-day1-notebook.ipynb`\n",
    "\n",
    "Docker creation instructions also in `llm-day1-notebook.ipynb`\n",
    "\n",
    "additionally we need into install peft"
   ]
  },
  {
   "cell_type": "code",
   "execution_count": 9,
   "metadata": {
    "tags": []
   },
   "outputs": [],
   "source": [
    "#!pip install peft"
   ]
  },
  {
   "cell_type": "markdown",
   "metadata": {},
   "source": [
    "### Import Libraries"
   ]
  },
  {
   "cell_type": "code",
   "execution_count": 5,
   "metadata": {
    "tags": []
   },
   "outputs": [],
   "source": [
    "from snowflake.snowpark.session import Session\n",
    "from snowflake.snowpark import VERSION\n",
    "import snowflake.snowpark.functions as F\n",
    "from snowflake.ml.model.models import llm\n",
    "from snowflake.ml.registry import model_registry\n",
    "from snowflake.ml.model import deploy_platforms\n",
    "\n",
    "import sys\n",
    "import os\n",
    "import json\n",
    "import pandas as pd\n",
    "pd.set_option('display.max_colwidth', None)\n",
    "\n",
    "import logging \n",
    "logger = logging.getLogger(\"snowflake.snowpark.session\")\n",
    "logger.setLevel(logging.ERROR)\n",
    "logger = logging.getLogger(\"snowflake.ml\")\n",
    "logger.setLevel(logging.ERROR)"
   ]
  },
  {
   "cell_type": "markdown",
   "metadata": {},
   "source": [
    "### Establish Secure Connection\n",
    "\n",
    "*NOTE: Update [connection.json](connection.json) and set your password, Hugging Face token, and replace '####' with your user number.*"
   ]
  },
  {
   "cell_type": "code",
   "execution_count": 6,
   "metadata": {
    "tags": []
   },
   "outputs": [
    {
     "name": "stdout",
     "output_type": "stream",
     "text": [
      "User                        : DASH\n",
      "Role                        : \"DASH_SPCS\"\n",
      "Database                    : \"DASH_DB\"\n",
      "Schema                      : \"DASH_SCHEMA\"\n",
      "Warehouse                   : \"DASH_L\"\n",
      "Snowflake version           : 7.40.0\n",
      "Snowpark for Python version : 1.9.0\n"
     ]
    }
   ],
   "source": [
    "# Create Snowflake Session object\n",
    "connection_parameters = json.load(open('connection.json'))\n",
    "session = Session.builder.configs(connection_parameters).create()\n",
    "session.sql_simplifier_enabled = True\n",
    "\n",
    "snowflake_environment = session.sql('select current_user(), current_version()').collect()\n",
    "snowpark_version = VERSION\n",
    "\n",
    "# Current Environment Details\n",
    "print('User                        : {}'.format(snowflake_environment[0][0]))\n",
    "print('Role                        : {}'.format(session.get_current_role()))\n",
    "print('Database                    : {}'.format(session.get_current_database()))\n",
    "print('Schema                      : {}'.format(session.get_current_schema()))\n",
    "print('Warehouse                   : {}'.format(session.get_current_warehouse()))\n",
    "print('Snowflake version           : {}'.format(snowflake_environment[0][1]))\n",
    "print('Snowpark for Python version : {}.{}.{}'.format(snowpark_version[0],snowpark_version[1],snowpark_version[2]))"
   ]
  },
  {
   "cell_type": "markdown",
   "metadata": {},
   "source": [
    "### Fine-tune Llama 2 in Snowpark Container Services\n",
    "\n",
    "There are several steps to starting `FINETUNE_LLM_SERVICE`.\n",
    "\n",
    "1. Create Compute Pool\n",
    "2. Create Stage and upload .yaml\n",
    "3. Create Stage to mount in container\n",
    "4. Start Service\n",
    "5. Check Status\n",
    "6. Connect to Jupyter Endpoint\n",
    "7. Fine tune model\n",
    "\n",
    "#### 1. Create Compute Pool\n",
    "We will use gpu_3"
   ]
  },
  {
   "cell_type": "code",
   "execution_count": null,
   "metadata": {},
   "outputs": [],
   "source": [
    "# create compute pool if it does not already exist. \n",
    "session.sql(f\"\"\"CREATE COMPUTE POOL {connection_parameters['compute_pool']}\n",
    "  MIN_NODES = 1\n",
    "  MAX_NODES = 1\n",
    "  INSTANCE_FAMILY = GPU_3;\"\"\").collect()"
   ]
  },
  {
   "cell_type": "markdown",
   "metadata": {
    "tags": []
   },
   "source": [
    "#### 2. Create Stage and upload .yaml"
   ]
  },
  {
   "cell_type": "code",
   "execution_count": null,
   "metadata": {},
   "outputs": [],
   "source": [
    "# create YAML_STAGE if it does not already exist and put yaml file in it\n",
    "session.sql(\"\"\"create stage YAML_STAGE;\"\"\").collect()\n",
    "session.sql(\"\"\"PUT file://llm-bootcamp.yaml @YAML_STAGE AUTO_COMPRESS=FALSE OVERWRITE=TRUE;\"\"\").collect()"
   ]
  },
  {
   "cell_type": "markdown",
   "metadata": {},
   "source": [
    "#### 3. Create Stage to mount in container\n",
    "This stage needs to be encrypted with SNOWFLAKE_SSE. We will also upload our finetuning notebook and a .py file from Meta to faciliate fine tuning. "
   ]
  },
  {
   "cell_type": "code",
   "execution_count": null,
   "metadata": {},
   "outputs": [],
   "source": [
    "# create llm_workspace if it does not already exist. \n",
    "session.sql(\"\"\"create stage llm_workspace encryption = (type = 'SNOWFLAKE_SSE');\"\"\").collect()"
   ]
  },
  {
   "cell_type": "code",
   "execution_count": 34,
   "metadata": {
    "tags": []
   },
   "outputs": [],
   "source": [
    "# upload finetuning notebook and utils.py file\n",
    "session.sql(\"\"\"PUT file://spcs_finetuning/day2-spcs-fine-tunning.ipynb @llm_workspace AUTO_COMPRESS=FALSE;\"\"\").collect()\n",
    "session.sql(\"\"\"PUT file://spcs_finetuning/ft_datasets/utils.py @llm_workspace/ft_datasets AUTO_COMPRESS=FALSE;\"\"\").collect()"
   ]
  },
  {
   "cell_type": "markdown",
   "metadata": {},
   "source": [
    "#### 4. Start FINETUNE_LLM_SERVICE"
   ]
  },
  {
   "cell_type": "code",
   "execution_count": null,
   "metadata": {},
   "outputs": [],
   "source": [
    "output = session.sql(f\"\"\"CREATE SERVICE FINETUNE_LLM_SERVICE\n",
    "  IN COMPUTE POOL {connection_parameters['compute_pool']}\n",
    "  FROM @YAML_STAGE\n",
    "  SPEC='llm-bootcamp';\"\"\").collect()"
   ]
  },
  {
   "cell_type": "markdown",
   "metadata": {},
   "source": [
    "#### 5. Check Status"
   ]
  },
  {
   "cell_type": "code",
   "execution_count": 14,
   "metadata": {
    "tags": []
   },
   "outputs": [
    {
     "data": {
      "text/html": [
       "<div>\n",
       "<style scoped>\n",
       "    .dataframe tbody tr th:only-of-type {\n",
       "        vertical-align: middle;\n",
       "    }\n",
       "\n",
       "    .dataframe tbody tr th {\n",
       "        vertical-align: top;\n",
       "    }\n",
       "\n",
       "    .dataframe thead th {\n",
       "        text-align: right;\n",
       "    }\n",
       "</style>\n",
       "<table border=\"1\" class=\"dataframe\">\n",
       "  <thead>\n",
       "    <tr style=\"text-align: right;\">\n",
       "      <th></th>\n",
       "      <th>name</th>\n",
       "      <th>database_name</th>\n",
       "      <th>schema_name</th>\n",
       "      <th>owner</th>\n",
       "      <th>compute_pool</th>\n",
       "      <th>dns_name</th>\n",
       "      <th>public_endpoints</th>\n",
       "      <th>min_instances</th>\n",
       "      <th>max_instances</th>\n",
       "      <th>auto_resume</th>\n",
       "      <th>created_on</th>\n",
       "      <th>updated_on</th>\n",
       "      <th>comment</th>\n",
       "    </tr>\n",
       "  </thead>\n",
       "  <tbody>\n",
       "    <tr>\n",
       "      <th>0</th>\n",
       "      <td>FINETUNE_LLM_SERVICE</td>\n",
       "      <td>DASH_DB</td>\n",
       "      <td>DASH_SCHEMA</td>\n",
       "      <td>DASH_SPCS</td>\n",
       "      <td>DASH_BUILD_GPU3</td>\n",
       "      <td>finetune-llm-service.dash-schema.dash-db.snowflakecomputing.internal</td>\n",
       "      <td>{\"llm-bootcamp\":\"bab5b3e-sfsenorthamerica-build-spcs.snowflakecomputing.app\"}</td>\n",
       "      <td>1</td>\n",
       "      <td>1</td>\n",
       "      <td>true</td>\n",
       "      <td>2023-11-15 12:28:38.120000-08:00</td>\n",
       "      <td>2023-11-15 12:28:38.871000-08:00</td>\n",
       "      <td>None</td>\n",
       "    </tr>\n",
       "    <tr>\n",
       "      <th>1</th>\n",
       "      <td>SERVICE_2F0D401E835611EE8F5ACE7DB0E7935F</td>\n",
       "      <td>DASH_DB</td>\n",
       "      <td>DASH_SCHEMA</td>\n",
       "      <td>DASH_SPCS</td>\n",
       "      <td>DASH_BUILD_GPU3</td>\n",
       "      <td>service-2f0d401e835611ee8f5ace7db0e7935f.dash-schema.dash-db.snowflakecomputing.internal</td>\n",
       "      <td>{}</td>\n",
       "      <td>1</td>\n",
       "      <td>1</td>\n",
       "      <td>true</td>\n",
       "      <td>2023-11-14 17:27:55.588000-08:00</td>\n",
       "      <td>2023-11-14 17:27:56.277000-08:00</td>\n",
       "      <td>None</td>\n",
       "    </tr>\n",
       "    <tr>\n",
       "      <th>2</th>\n",
       "      <td>SERVICE_A9B776CE834511EE9C921204C7B8F46D</td>\n",
       "      <td>DASH_DB</td>\n",
       "      <td>DASH_SCHEMA</td>\n",
       "      <td>DASH_SPCS</td>\n",
       "      <td>DASH_BUILD_GPU3</td>\n",
       "      <td>service-a9b776ce834511ee9c921204c7b8f46d.dash-schema.dash-db.snowflakecomputing.internal</td>\n",
       "      <td>{}</td>\n",
       "      <td>1</td>\n",
       "      <td>1</td>\n",
       "      <td>true</td>\n",
       "      <td>2023-11-14 15:43:39.294000-08:00</td>\n",
       "      <td>2023-11-14 15:43:39.926000-08:00</td>\n",
       "      <td>None</td>\n",
       "    </tr>\n",
       "    <tr>\n",
       "      <th>3</th>\n",
       "      <td>SERVICE_D26762D883E911EE8F5ACE7DB0E7935F</td>\n",
       "      <td>DASH_DB</td>\n",
       "      <td>DASH_SCHEMA</td>\n",
       "      <td>DASH_SPCS</td>\n",
       "      <td>DASH_BUILD_GPU3</td>\n",
       "      <td>service-d26762d883e911ee8f5ace7db0e7935f.dash-schema.dash-db.snowflakecomputing.internal</td>\n",
       "      <td>{}</td>\n",
       "      <td>1</td>\n",
       "      <td>1</td>\n",
       "      <td>true</td>\n",
       "      <td>2023-11-15 11:04:52.385000-08:00</td>\n",
       "      <td>2023-11-15 11:04:53.742000-08:00</td>\n",
       "      <td>None</td>\n",
       "    </tr>\n",
       "    <tr>\n",
       "      <th>4</th>\n",
       "      <td>SERVICE_DF359FBC833E11EEB4DF42E086352061</td>\n",
       "      <td>DASH_DB</td>\n",
       "      <td>DASH_SCHEMA</td>\n",
       "      <td>DASH_SPCS</td>\n",
       "      <td>DASH_BUILD_GPU3</td>\n",
       "      <td>service-df359fbc833e11eeb4df42e086352061.dash-schema.dash-db.snowflakecomputing.internal</td>\n",
       "      <td>{}</td>\n",
       "      <td>1</td>\n",
       "      <td>1</td>\n",
       "      <td>true</td>\n",
       "      <td>2023-11-14 14:41:04.235000-08:00</td>\n",
       "      <td>2023-11-14 14:41:04.875000-08:00</td>\n",
       "      <td>None</td>\n",
       "    </tr>\n",
       "  </tbody>\n",
       "</table>\n",
       "</div>"
      ],
      "text/plain": [
       "                                       name database_name  schema_name  \\\n",
       "0                      FINETUNE_LLM_SERVICE       DASH_DB  DASH_SCHEMA   \n",
       "1  SERVICE_2F0D401E835611EE8F5ACE7DB0E7935F       DASH_DB  DASH_SCHEMA   \n",
       "2  SERVICE_A9B776CE834511EE9C921204C7B8F46D       DASH_DB  DASH_SCHEMA   \n",
       "3  SERVICE_D26762D883E911EE8F5ACE7DB0E7935F       DASH_DB  DASH_SCHEMA   \n",
       "4  SERVICE_DF359FBC833E11EEB4DF42E086352061       DASH_DB  DASH_SCHEMA   \n",
       "\n",
       "       owner     compute_pool  \\\n",
       "0  DASH_SPCS  DASH_BUILD_GPU3   \n",
       "1  DASH_SPCS  DASH_BUILD_GPU3   \n",
       "2  DASH_SPCS  DASH_BUILD_GPU3   \n",
       "3  DASH_SPCS  DASH_BUILD_GPU3   \n",
       "4  DASH_SPCS  DASH_BUILD_GPU3   \n",
       "\n",
       "                                                                                   dns_name  \\\n",
       "0                      finetune-llm-service.dash-schema.dash-db.snowflakecomputing.internal   \n",
       "1  service-2f0d401e835611ee8f5ace7db0e7935f.dash-schema.dash-db.snowflakecomputing.internal   \n",
       "2  service-a9b776ce834511ee9c921204c7b8f46d.dash-schema.dash-db.snowflakecomputing.internal   \n",
       "3  service-d26762d883e911ee8f5ace7db0e7935f.dash-schema.dash-db.snowflakecomputing.internal   \n",
       "4  service-df359fbc833e11eeb4df42e086352061.dash-schema.dash-db.snowflakecomputing.internal   \n",
       "\n",
       "                                                                public_endpoints  \\\n",
       "0  {\"llm-bootcamp\":\"bab5b3e-sfsenorthamerica-build-spcs.snowflakecomputing.app\"}   \n",
       "1                                                                             {}   \n",
       "2                                                                             {}   \n",
       "3                                                                             {}   \n",
       "4                                                                             {}   \n",
       "\n",
       "   min_instances  max_instances auto_resume                       created_on  \\\n",
       "0              1              1        true 2023-11-15 12:28:38.120000-08:00   \n",
       "1              1              1        true 2023-11-14 17:27:55.588000-08:00   \n",
       "2              1              1        true 2023-11-14 15:43:39.294000-08:00   \n",
       "3              1              1        true 2023-11-15 11:04:52.385000-08:00   \n",
       "4              1              1        true 2023-11-14 14:41:04.235000-08:00   \n",
       "\n",
       "                        updated_on comment  \n",
       "0 2023-11-15 12:28:38.871000-08:00    None  \n",
       "1 2023-11-14 17:27:56.277000-08:00    None  \n",
       "2 2023-11-14 15:43:39.926000-08:00    None  \n",
       "3 2023-11-15 11:04:53.742000-08:00    None  \n",
       "4 2023-11-14 14:41:04.875000-08:00    None  "
      ]
     },
     "execution_count": 14,
     "metadata": {},
     "output_type": "execute_result"
    }
   ],
   "source": [
    "output2 = session.sql(\"\"\"SHOW SERVICES;\"\"\").collect()\n",
    "pd.DataFrame(output2)"
   ]
  },
  {
   "cell_type": "code",
   "execution_count": 11,
   "metadata": {
    "tags": []
   },
   "outputs": [
    {
     "data": {
      "text/plain": [
       "[{'status': 'READY',\n",
       "  'message': 'Running',\n",
       "  'containerName': 'llm-bootcamp',\n",
       "  'instanceId': '0',\n",
       "  'serviceName': 'FINETUNE_LLM_SERVICE',\n",
       "  'image': 'sfsenorthamerica-build-spcs.registry.snowflakecomputing.com/dash_db/dash_schema/image_repo/llm-bootcamp',\n",
       "  'restartCount': 0,\n",
       "  'startTime': '2023-11-15T20:28:39Z'}]"
      ]
     },
     "execution_count": 11,
     "metadata": {},
     "output_type": "execute_result"
    }
   ],
   "source": [
    "eval(session.sql(\"\"\"CALL SYSTEM$GET_SERVICE_STATUS('DASH_DB.DASH_SCHEMA.FINETUNE_LLM_SERVICE', 100); \"\"\").collect()[0][0])"
   ]
  },
  {
   "cell_type": "markdown",
   "metadata": {},
   "source": [
    "#### 6. Connect to jupyter lab endpoint\n",
    "\n",
    "Use the url below to connect to the jupyter lab endpoint and log in. The remainder of finetunning will be ran from within the jupyter lab endpoint.\n",
    "\n",
    "You may need to wait a few minutes for the endpoint to be provisioned after status is \"READY\""
   ]
  },
  {
   "cell_type": "code",
   "execution_count": 13,
   "metadata": {
    "tags": []
   },
   "outputs": [
    {
     "name": "stdout",
     "output_type": "stream",
     "text": [
      "llm-bootcamp url: \tbab5b3e-sfsenorthamerica-build-spcs.snowflakecomputing.app\n"
     ]
    }
   ],
   "source": [
    "# if this errors, try waiting a few minutes\n",
    "for k, v in eval(session.sql(\"\"\"DESCRIBE SERVICE FINETUNE_LLM_SERVICE;\"\"\").collect()[0]['public_endpoints']).items():\n",
    "    if k=='jupyter':\n",
    "        print(f\"{k} url:/ \\t{v}/lab\")\n",
    "    else:\n",
    "        print(f\"{k} url: \\t{v}\")"
   ]
  },
  {
   "cell_type": "markdown",
   "metadata": {},
   "source": [
    "#### 7. Fine-tune Llama 2 Model\n",
    "\n",
    "Once connected to the endpoint, navigate into llm-workspace and open the notebook `day2-fine-tunning.ipynb` and follow the notebook through completion, then return to this notebook."
   ]
  },
  {
   "cell_type": "markdown",
   "metadata": {},
   "source": [
    "### Log and Deploy Fine-tuned Llama 2\n",
    "\n",
    "- Logging and deploying fine-tuned model on this setup (compute and other resources) will take about ~15mins"
   ]
  },
  {
   "cell_type": "markdown",
   "metadata": {},
   "source": [
    "#### Get weights from Stage\n",
    "\n",
    "First we need to retreive our fine-tuned weights from our stage `@llm_workspace`"
   ]
  },
  {
   "cell_type": "code",
   "execution_count": 33,
   "metadata": {
    "tags": []
   },
   "outputs": [],
   "source": [
    "!mkdir output_weights_dir"
   ]
  },
  {
   "cell_type": "code",
   "execution_count": 26,
   "metadata": {
    "tags": []
   },
   "outputs": [
    {
     "data": {
      "text/html": [
       "<div>\n",
       "<style scoped>\n",
       "    .dataframe tbody tr th:only-of-type {\n",
       "        vertical-align: middle;\n",
       "    }\n",
       "\n",
       "    .dataframe tbody tr th {\n",
       "        vertical-align: top;\n",
       "    }\n",
       "\n",
       "    .dataframe thead th {\n",
       "        text-align: right;\n",
       "    }\n",
       "</style>\n",
       "<table border=\"1\" class=\"dataframe\">\n",
       "  <thead>\n",
       "    <tr style=\"text-align: right;\">\n",
       "      <th></th>\n",
       "      <th>name</th>\n",
       "      <th>size</th>\n",
       "      <th>md5</th>\n",
       "      <th>last_modified</th>\n",
       "    </tr>\n",
       "  </thead>\n",
       "  <tbody>\n",
       "    <tr>\n",
       "      <th>0</th>\n",
       "      <td>llm_workspace/output_weights_dir/README.md</td>\n",
       "      <td>5447</td>\n",
       "      <td>166b19604020ae26170b43221aba7dfb</td>\n",
       "      <td>Thu, 16 Nov 2023 03:12:58 GMT</td>\n",
       "    </tr>\n",
       "    <tr>\n",
       "      <th>1</th>\n",
       "      <td>llm_workspace/output_weights_dir/adapter_config.json</td>\n",
       "      <td>496</td>\n",
       "      <td>76a16ee0269ce0b4fb308ae98313dd64</td>\n",
       "      <td>Thu, 16 Nov 2023 03:12:58 GMT</td>\n",
       "    </tr>\n",
       "    <tr>\n",
       "      <th>2</th>\n",
       "      <td>llm_workspace/output_weights_dir/adapter_model.bin</td>\n",
       "      <td>16822989</td>\n",
       "      <td>db2b8af733dbf68618aaf72baa4f164e-2</td>\n",
       "      <td>Thu, 16 Nov 2023 03:12:58 GMT</td>\n",
       "    </tr>\n",
       "  </tbody>\n",
       "</table>\n",
       "</div>"
      ],
      "text/plain": [
       "                                                   name      size  \\\n",
       "0            llm_workspace/output_weights_dir/README.md      5447   \n",
       "1  llm_workspace/output_weights_dir/adapter_config.json       496   \n",
       "2    llm_workspace/output_weights_dir/adapter_model.bin  16822989   \n",
       "\n",
       "                                  md5                  last_modified  \n",
       "0    166b19604020ae26170b43221aba7dfb  Thu, 16 Nov 2023 03:12:58 GMT  \n",
       "1    76a16ee0269ce0b4fb308ae98313dd64  Thu, 16 Nov 2023 03:12:58 GMT  \n",
       "2  db2b8af733dbf68618aaf72baa4f164e-2  Thu, 16 Nov 2023 03:12:58 GMT  "
      ]
     },
     "execution_count": 26,
     "metadata": {},
     "output_type": "execute_result"
    }
   ],
   "source": [
    "weight_files = pd.DataFrame(session.sql(\"LIST @llm_workspace/output_weights_dir\").collect())\n",
    "weight_files"
   ]
  },
  {
   "cell_type": "code",
   "execution_count": 27,
   "metadata": {
    "tags": []
   },
   "outputs": [],
   "source": [
    "for file in weight_files.iterrows():\n",
    "    session.sql(f\"GET @{file[1]['name']} file://output_weights_dir\").collect()"
   ]
  },
  {
   "cell_type": "code",
   "execution_count": 28,
   "metadata": {
    "tags": []
   },
   "outputs": [
    {
     "name": "stdout",
     "output_type": "stream",
     "text": [
      "total 32888\n",
      "-rw-r--r--  1 jprusa  staff      5447 Nov 15 20:14 README.md\n",
      "-rw-r--r--  1 jprusa  staff       496 Nov 15 20:14 adapter_config.json\n",
      "-rw-r--r--  1 jprusa  staff  16822989 Nov 15 20:14 adapter_model.bin\n"
     ]
    }
   ],
   "source": [
    "! cd output_weights_dir && ls -l"
   ]
  },
  {
   "cell_type": "markdown",
   "metadata": {},
   "source": [
    "#### Registery"
   ]
  },
  {
   "cell_type": "code",
   "execution_count": null,
   "metadata": {},
   "outputs": [],
   "source": [
    "MODEL_NAME = \"LLAMA2_7b_CHAT\"\n",
    "MODEL_VERSION = \"FineTunedV1.1\"\n",
    "DEPLOYMENT_NAME = \"FINETUNED_LLAMA2\"\n",
    "MODEL_REGISTRY_DB = connection_parameters['database']\n",
    "MODEL_REGISTRY_SCHEMA = connection_parameters['schema']\n",
    "COMPUTE_POOL = connection_parameters['compute_pool']\n",
    "\n",
    "registry = model_registry.ModelRegistry(\n",
    "    session=session, \n",
    "    database_name=MODEL_REGISTRY_DB, \n",
    "    schema_name=MODEL_REGISTRY_SCHEMA, \n",
    "    create_if_not_exists=True)"
   ]
  },
  {
   "cell_type": "markdown",
   "metadata": {
    "tags": []
   },
   "source": [
    "##### Delete any existing deployments and models from in Snowpark registry to avoid resource contention during this bootcamp"
   ]
  },
  {
   "cell_type": "code",
   "execution_count": 44,
   "metadata": {
    "tags": []
   },
   "outputs": [
    {
     "data": {
      "text/html": [
       "<div>\n",
       "<style scoped>\n",
       "    .dataframe tbody tr th:only-of-type {\n",
       "        vertical-align: middle;\n",
       "    }\n",
       "\n",
       "    .dataframe tbody tr th {\n",
       "        vertical-align: top;\n",
       "    }\n",
       "\n",
       "    .dataframe thead th {\n",
       "        text-align: right;\n",
       "    }\n",
       "</style>\n",
       "<table border=\"1\" class=\"dataframe\">\n",
       "  <thead>\n",
       "    <tr style=\"text-align: right;\">\n",
       "      <th></th>\n",
       "      <th>MODEL_NAME</th>\n",
       "      <th>MODEL_VERSION</th>\n",
       "      <th>DEPLOYMENT_NAME</th>\n",
       "      <th>CREATION_TIME</th>\n",
       "      <th>TARGET_METHOD</th>\n",
       "      <th>TARGET_PLATFORM</th>\n",
       "      <th>SIGNATURE</th>\n",
       "      <th>OPTIONS</th>\n",
       "      <th>STAGE_PATH</th>\n",
       "      <th>ROLE</th>\n",
       "    </tr>\n",
       "  </thead>\n",
       "  <tbody>\n",
       "  </tbody>\n",
       "</table>\n",
       "</div>"
      ],
      "text/plain": [
       "Empty DataFrame\n",
       "Columns: [MODEL_NAME, MODEL_VERSION, DEPLOYMENT_NAME, CREATION_TIME, TARGET_METHOD, TARGET_PLATFORM, SIGNATURE, OPTIONS, STAGE_PATH, ROLE]\n",
       "Index: []"
      ]
     },
     "execution_count": 44,
     "metadata": {},
     "output_type": "execute_result"
    }
   ],
   "source": [
    "registry.list_deployments(model_name=MODEL_NAME,model_version=MODEL_VERSION).to_pandas()"
   ]
  },
  {
   "cell_type": "code",
   "execution_count": 45,
   "metadata": {
    "tags": []
   },
   "outputs": [],
   "source": [
    "# registry.delete_deployment(model_name=MODEL_NAME,model_version=MODEL_VERSION,deployment_name=DEPLOYMENT_NAME)"
   ]
  },
  {
   "cell_type": "code",
   "execution_count": 46,
   "metadata": {
    "tags": []
   },
   "outputs": [],
   "source": [
    "# registry.delete_model(model_name=MODEL_NAME,model_version=MODEL_VERSION,delete_artifact=True)"
   ]
  },
  {
   "cell_type": "markdown",
   "metadata": {},
   "source": [
    "#### Reference Llama 2 from Fine Tuning"
   ]
  },
  {
   "cell_type": "code",
   "execution_count": 10,
   "metadata": {
    "tags": []
   },
   "outputs": [],
   "source": [
    "options = llm.LLMOptions(\n",
    "    token=connection_parameters['huggingface_token'],\n",
    "    max_batch_size=100,\n",
    ")\n",
    "llama_model = llm.LLM(\n",
    "    model_id_or_path=\"output_weights_dir\",\n",
    "    options=options\n",
    ")"
   ]
  },
  {
   "cell_type": "code",
   "execution_count": 14,
   "metadata": {
    "tags": []
   },
   "outputs": [
    {
     "name": "stderr",
     "output_type": "stream",
     "text": [
      "WARNING:snowflake.snowpark:ModelRegistry.log_model() is in private preview since 0.2.0. Do not use it in production. \n",
      "WARNING:snowflake.snowpark:ModelRegistry.list_models() is in private preview since 0.2.0. Do not use it in production. \n",
      "/Users/jprusa/miniconda3/snowpark-ml/lib/python3.10/site-packages/snowflake/ml/_internal/env_utils.py:217: UserWarning: Package requirement torch==2.0.1 specified, while version 2.1.1 is installed. Local version will be ignored to conform to package requirement.\n",
      "  warnings.warn(\n",
      "WARNING:snowflake.snowpark:ModelRegistry.deploy() is in private preview since 0.2.0. Do not use it in production. \n",
      "/Users/jprusa/miniconda3/snowpark-ml/lib/python3.10/site-packages/snowflake/ml/model/_packager/model_env/model_env.py:353: UserWarning: Found dependencies specified as pip requirements. This may prevent model deploying to Snowflake Warehouse.\n",
      "  warnings.warn(\n",
      "WARNING:urllib3.connectionpool:Retrying (Retry(total=2, connect=None, read=None, redirect=None, status=None)) after connection broken by 'ProtocolError('Connection aborted.', RemoteDisconnected('Remote end closed connection without response'))': /login\n"
     ]
    },
    {
     "data": {
      "text/plain": [
       "{'name': 'DASH_DB.DASH_SCHEMA.FINETUNED_LLAMA2',\n",
       " 'platform': <TargetPlatform.SNOWPARK_CONTAINER_SERVICES: 'SNOWPARK_CONTAINER_SERVICES'>,\n",
       " 'target_method': 'infer',\n",
       " 'signature': ModelSignature(\n",
       "                     inputs=[\n",
       "                         FeatureSpec(dtype=DataType.STRING, name='input')\n",
       "                     ],\n",
       "                     outputs=[\n",
       "                         FeatureSpec(dtype=DataType.STRING, name='generated_text')\n",
       "                     ]\n",
       "                 ),\n",
       " 'options': {'compute_pool': 'DASH_BUILD_GPU3', 'num_gpus': 1},\n",
       " 'details': {'image_name': 'sfsenorthamerica-build-spcs.registry.snowflakecomputing.com/dash_db/dash_schema/snowml_repo/a043c1a4da636b93ba922effd203c9cfeb449785:latest',\n",
       "  'service_spec': \"spec:\\n  container:\\n  - env:\\n      MODEL_ZIP_STAGE_PATH: /DASH_DB.DASH_SCHEMA.SNOWML_MODEL_B0212BDA842711EE813446C0D41E10B9/model.zip\\n      NUM_WORKERS: 1\\n      SNOWML_USE_GPU: true\\n      TARGET_METHOD: infer\\n      _CONCURRENT_REQUESTS_MAX: 1\\n    image: sfsenorthamerica-build-spcs.registry.snowflakecomputing.com/dash_db/dash_schema/snowml_repo/a043c1a4da636b93ba922effd203c9cfeb449785:latest\\n    name: inference-server\\n    readinessProbe:\\n      path: /health\\n      port: 5000\\n    resources:\\n      limits:\\n        nvidia.com/gpu: 1\\n      requests:\\n        nvidia.com/gpu: 1\\n    volumeMounts:\\n    - mountPath: /local/user/vol1\\n      name: vol1\\n    - mountPath: DASH_DB.DASH_SCHEMA.SNOWML_MODEL_B0212BDA842711EE813446C0D41E10B9\\n      name: stage\\n  endpoint:\\n  - name: predict\\n    port: 5000\\n  volume:\\n  - name: vol1\\n    source: local\\n  - gid: 1000\\n    name: stage\\n    source: '@DASH_DB.DASH_SCHEMA.SNOWML_MODEL_B0212BDA842711EE813446C0D41E10B9'\\n    uid: 1000\\n\",\n",
       "  'service_function_sql': \"\\n            CREATE OR REPLACE FUNCTION DASH_DB.DASH_SCHEMA.FINETUNED_LLAMA2(input OBJECT)\\n                RETURNS OBJECT\\n                SERVICE=DASH_DB.DASH_SCHEMA.service_b0212bda842711ee813446c0d41e10b9\\n                ENDPOINT=predict\\n                MAX_BATCH_ROWS = 100\\n                AS '/predict'\\n            \"}}"
      ]
     },
     "execution_count": 14,
     "metadata": {},
     "output_type": "execute_result"
    }
   ],
   "source": [
    "%%time\n",
    "llama_model_ref = registry.log_model(\n",
    "    model_name=MODEL_NAME,\n",
    "    model_version=MODEL_VERSION,\n",
    "    model=llama_model\n",
    ")\n",
    "\n",
    "llama_model_ref.deploy(\n",
    "    deployment_name=DEPLOYMENT_NAME, \n",
    "    platform=deploy_platforms.TargetPlatform.SNOWPARK_CONTAINER_SERVICES,\n",
    "    permanent=True, \n",
    "    options={\"compute_pool\": COMPUTE_POOL, \"num_gpus\": 1})"
   ]
  },
  {
   "cell_type": "markdown",
   "metadata": {},
   "source": [
    "#### Load Datasets"
   ]
  },
  {
   "cell_type": "code",
   "execution_count": 19,
   "metadata": {
    "tags": []
   },
   "outputs": [
    {
     "name": "stdout",
     "output_type": "stream",
     "text": [
      "Total records: 1368\n",
      "Train        : 100\n",
      "Eval         : 100\n",
      "Test         : 100\n"
     ]
    }
   ],
   "source": [
    "df = pd.read_json(\"data/transcripts.json\", lines=True)\n",
    "print(f\"Total records: {df.shape[0]}\")\n",
    "train_df = df.head(100)\n",
    "print(f\"Train        : {train_df.shape[0]}\")\n",
    "eval_df = df[200:300]\n",
    "print(f\"Eval         : {eval_df.shape[0]}\")\n",
    "test_df = df.tail(100)\n",
    "print(f\"Test         : {test_df.shape[0]}\")"
   ]
  },
  {
   "cell_type": "markdown",
   "metadata": {},
   "source": [
    "#### Prepare Eval Dataset with Specific Instructions"
   ]
  },
  {
   "cell_type": "code",
   "execution_count": 20,
   "metadata": {
    "collapsed": true,
    "jupyter": {
     "outputs_hidden": true
    },
    "tags": []
   },
   "outputs": [
    {
     "name": "stderr",
     "output_type": "stream",
     "text": [
      "/var/folders/zj/zysg6xyd0yzbpy9kkl0fr4br0000gn/T/ipykernel_21477/1994325739.py:15: SettingWithCopyWarning: \n",
      "A value is trying to be set on a copy of a slice from a DataFrame.\n",
      "Try using .loc[row_indexer,col_indexer] = value instead\n",
      "\n",
      "See the caveats in the documentation: https://pandas.pydata.org/pandas-docs/stable/user_guide/indexing.html#returning-a-view-versus-a-copy\n",
      "  eval_df['input'] = begin_prompt + eval_df['input'] + end_prompt\n"
     ]
    },
    {
     "data": {
      "text/html": [
       "<div>\n",
       "<style scoped>\n",
       "    .dataframe tbody tr th:only-of-type {\n",
       "        vertical-align: middle;\n",
       "    }\n",
       "\n",
       "    .dataframe tbody tr th {\n",
       "        vertical-align: top;\n",
       "    }\n",
       "\n",
       "    .dataframe thead th {\n",
       "        text-align: right;\n",
       "    }\n",
       "</style>\n",
       "<table border=\"1\" class=\"dataframe\">\n",
       "  <thead>\n",
       "    <tr style=\"text-align: right;\">\n",
       "      <th></th>\n",
       "      <th>instruction</th>\n",
       "      <th>input</th>\n",
       "      <th>output</th>\n",
       "      <th>language</th>\n",
       "    </tr>\n",
       "  </thead>\n",
       "  <tbody>\n",
       "    <tr>\n",
       "      <th>0</th>\n",
       "      <td>Extract JSON response with 'location' and 'toy_list' as keys. 'location': Location of the caller. Include city only.'toy_list': List of toy names from the caller.</td>\n",
       "      <td>\\n[INST] &lt;&lt;SYS&gt;&gt;\\nBelow is an instruction that describes a task, paired with an input that provides further context. Write a response that appropriately completes the request.\\n&lt;&lt;/SYS&gt;&gt;\\n### Instruction:\\nExtract JSON response with 'location' and 'toy_list' as keys.\\n'location': Location string of the caller.\\n'toy_list': List of toy names from the caller.\\n### Input:\\n\\n\"caller: Hey, I'm Jack, and I'm looking for a toy for my niece.\\nfrosty: Hello Jack! I'm Frosty, and I'd be happy to help you find the perfect toy. Where are you calling from?\\ncaller: I'm calling from Cape Town, South Africa.\\nfrosty: Thank you, Jack from Cape Town! Can you tell me a bit about your niece's interests so we can find a great toy for her?\\ncaller: She's really into animals and likes playing pretend with her toys.\\nfrosty: How about the Fisher-Price Little People Mickey and Friends Playset? This playset features animal characters and is perfect for encouraging imaginative play.\\ncaller: That sounds nice, but I think she'd prefer something focused on real animals.\\nfrosty: In that case, the Calico Critters Pony's Stylish Hair Salon may be just the toy you're looking for. It comes with pony figurines and a cute hair salon for them.\\ncaller: Oh, that sounds perfect! Let's go with the pony's hair salon.\\nfrosty: Great choice! We've added the Calico Critters Pony's Stylish Hair Salon to your holiday wish list. Before we finish though, can you tell me how you plan to celebrate the holiday season?\\ncaller: Sure, I'll be spending the holidays at the beach with my family and enjoying the warm weather.\\nfrosty: That sounds amazing! To confirm, your toy list includes the Calico Critters Pony's Stylish Hair Salon. Is that correct?\\ncaller: Yes, that's correct. Thank you!+\\nfrosty: You're welcome, Jack! It's been a pleasure assisting you. Have a fantastic holiday season!\" [/INST]</td>\n",
       "      <td>{\"toy_list\": [\"Calico Critters Pony's Stylish Hair Salon\"], \"location\": \"Cape Town\"}</td>\n",
       "      <td>EN</td>\n",
       "    </tr>\n",
       "    <tr>\n",
       "      <th>1</th>\n",
       "      <td>Extract JSON response with 'location' and 'toy_list' as keys. 'location': Location of the caller. Include city only.'toy_list': List of toy names from the caller.</td>\n",
       "      <td>\\n[INST] &lt;&lt;SYS&gt;&gt;\\nBelow is an instruction that describes a task, paired with an input that provides further context. Write a response that appropriately completes the request.\\n&lt;&lt;/SYS&gt;&gt;\\n### Instruction:\\nExtract JSON response with 'location' and 'toy_list' as keys.\\n'location': Location string of the caller.\\n'toy_list': List of toy names from the caller.\\n### Input:\\n\\n\"caller: Hi Frosty, I'm Emily.\\nfrosty: Hello Emily! I'm here to help you with your holiday wish list. Where are you calling from?\\ncaller: I'm calling from Sydney, Australia.\\nfrosty: Thank you, Emily from Sydney! What's the first item you'd like to add to your wish list?\\ncaller: I'm looking for a toy that's educational and fun for my son. He's really into science and technology.\\nfrosty: How about the Thames &amp; Kosmos Candy Vending Machine STEM experiment kit? It combines science and technology with creating a candy vending machine!\\ncaller: That sounds great, but I'd like to explore some more options before deciding.\\nfrosty: Sure thing! We also have the LeapFrog Magic Adventures Microscope, which allows kids to explore the world of science up-close with a real working microscope.\\ncaller: I think the magic microscope is the one! Let's add that to my wish list.\\nfrosty: Fantastic choice! I've added the LeapFrog Magic Adventures Microscope to your list. Before we wrap up, tell me a bit about your favorite way to spend time during the holiday season.\\ncaller: I enjoy baking holiday treats and watching seasonal movies with my family.\\nfrosty: That sounds delightful! To confirm, your toy list includes the LeapFrog Magic Adventures Microscope. Is everything correct?\\ncaller: Yes, it is. Thanks for your help, Frosty!\\nfrosty: You're welcome, Emily! Have a wonderful holiday season!\" [/INST]</td>\n",
       "      <td>{\"toy_list\": [\"LeapFrog Magic Adventures Microscope\"], \"location\": \"Sydney\"}</td>\n",
       "      <td>EN</td>\n",
       "    </tr>\n",
       "    <tr>\n",
       "      <th>2</th>\n",
       "      <td>Extract JSON response with 'location' and 'toy_list' as keys. 'location': Location of the caller. Include city only.'toy_list': List of toy names from the caller.</td>\n",
       "      <td>\\n[INST] &lt;&lt;SYS&gt;&gt;\\nBelow is an instruction that describes a task, paired with an input that provides further context. Write a response that appropriately completes the request.\\n&lt;&lt;/SYS&gt;&gt;\\n### Instruction:\\nExtract JSON response with 'location' and 'toy_list' as keys.\\n'location': Location string of the caller.\\n'toy_list': List of toy names from the caller.\\n### Input:\\n\\n\"caller: Hi, I'm David!\\nfrosty: Hello David! I'm Frosty, and I'm here to help you submit your holiday wish list. Can you tell me where you're calling from?\\ncaller: I'm calling from Auckland, New Zealand.\\nfrosty: Thank you, David from Auckland. What item would you like to add to your holiday wish list?\\ncaller: I want to get a fun toy for my daughter, but I'm not sure what to choose.\\nfrosty: No worries, let's explore a few options together. What are some of your daughter's interests?\\ncaller: She loves playing with dolls and watching animated shows.\\nfrosty: How about the Gabbys Dollhouse Cruise Ship? It's based on the popular animated show and offers imaginative play with a fun cruise ship and doll figurines.\\ncaller: That sounds good, but I'd like to see more options, please.\\nfrosty: Of course! You might also consider the Bluey Ultimate Lights and Sounds Playhouse, based on the popular animated show Bluey. It has interactive lights and sounds that bring the playhouse to life.\\ncaller: Those both sound good, but I think my daughter would prefer the gabby dollhouse.\\nfrosty: Great choice! I've added the Gabbys Dollhouse Cruise Ship to your holiday wish list. Now, tell me about your favorite holiday memory.\\ncaller: My favorite memory is when we all went ice skating together as a family during the holidays.\\nfrosty: Sounds like a wonderful experience! To confirm, your toy list includes the Gabbys Dollhouse Cruise Ship. Is that correct?\\ncaller: Yes, that's correct.\\nfrosty: Excellent! Your wish list is all set. Have a fantastic holiday season, David!\" [/INST]</td>\n",
       "      <td>{\"toy_list\": [\"Gabbys Dollhouse Cruise Ship\"], \"location\": \"Auckland\"}</td>\n",
       "      <td>EN</td>\n",
       "    </tr>\n",
       "    <tr>\n",
       "      <th>3</th>\n",
       "      <td>Extract JSON response with 'location' and 'toy_list' as keys. 'location': Location of the caller. Include city only.'toy_list': List of toy names from the caller.</td>\n",
       "      <td>\\n[INST] &lt;&lt;SYS&gt;&gt;\\nBelow is an instruction that describes a task, paired with an input that provides further context. Write a response that appropriately completes the request.\\n&lt;&lt;/SYS&gt;&gt;\\n### Instruction:\\nExtract JSON response with 'location' and 'toy_list' as keys.\\n'location': Location string of the caller.\\n'toy_list': List of toy names from the caller.\\n### Input:\\n\\n\"caller: Hello, my name is Sarah.\\nfrosty: Hi Sarah! I'm Frosty, a voice bot here to assist you with your holiday wish list. Where are you calling from?\\ncaller: I'm calling from Los Angeles, United States.\\nfrosty: Thank you, Sarah from Los Angeles! Let's get started on your wish list. What's the first item you have in mind?\\ncaller: I'm thinking of getting the pokemon plushie for my son, but I'm not sure.\\nfrosty: The Pok\\u00e9mon 8-Inch Plush First Partner Three-Pack is an excellent choice for Pok\\u00e9mon fans! What do you think your son will enjoy the most about this toy?\\ncaller: He loves collecting Pok\\u00e9mon toys and watching the animated series, so I think he'd enjoy adding this to his collection.\\nfrosty: That's a great reason to choose this toy! How do you and your family plan to celebrate the holiday season?\\ncaller: We'll be hosting a game night and enjoying holiday treats with our loved ones.\\nfrosty: That sounds like a great way to spend the holidays! To confirm, your toy list includes the Pok\\u00e9mon 8-Inch Plush First Partner Three-Pack. Is that correct?\\ncaller: Yes, that's correct.\\nfrosty: Wonderful! Your toys have been added to your holiday wish list. Happy holidays, Sarah!\" [/INST]</td>\n",
       "      <td>{\"toy_list\": [\"Pok\\u00e9mon 8-Inch Plush First Partner Three-Pack\"], \"location\": \"Los Angeles\"}</td>\n",
       "      <td>EN</td>\n",
       "    </tr>\n",
       "    <tr>\n",
       "      <th>4</th>\n",
       "      <td>Extract JSON response with 'location' and 'toy_list' as keys. 'location': Location of the caller. Include city only.'toy_list': List of toy names from the caller.</td>\n",
       "      <td>\\n[INST] &lt;&lt;SYS&gt;&gt;\\nBelow is an instruction that describes a task, paired with an input that provides further context. Write a response that appropriately completes the request.\\n&lt;&lt;/SYS&gt;&gt;\\n### Instruction:\\nExtract JSON response with 'location' and 'toy_list' as keys.\\n'location': Location string of the caller.\\n'toy_list': List of toy names from the caller.\\n### Input:\\n\\n\"caller: Hey, I'm Liam.\\nfrosty: Hello Liam! I'm Frosty, and I'm here to help you submit your holiday wish list. Where are you calling from?\\ncaller: I'm calling from Dublin, Ireland.\\nfrosty: Thank you, Liam from Dublin! What's the first item you'd like to add to your wish list?\\ncaller: I'm looking for something for my younger sister, but I'm not quite sure what she'd like.\\nfrosty: I'm here to help! Can you tell me a bit about your sister's interests and hobbies?\\ncaller: She loves arts and crafts, and she also enjoys watching nature documentaries.\\nfrosty: How about the National Geographic Mega Slime Kit &amp; Putty Lab? It combines her love for crafts and nature with fun, slime-filled experiments.\\ncaller: That sounds interesting, but let's explore some more options.\\nfrosty: We also have the Playfoam Naturals Shape &amp; Learn Letters &amp; Numbers set, which allows her to create and learn using eco-friendly foam.\\ncaller: I believe the playfoam letters would be a perfect match! Let's add that to the list.\\nfrosty: Wonderful! We've added the Playfoam Naturals Shape &amp; Learn Letters &amp; Numbers set to your holiday wish list. Before we finish, can you tell me one of your favorite holiday memories?\\ncaller: My favorite holiday memory was when my family and I went to visit the local Christmas markets and enjoyed a cozy evening together.\\nfrosty: Sounds lovely! To confirm, your toy list includes the Playfoam Naturals Shape &amp; Learn Letters &amp; Numbers set. Is that correct?\\ncaller: Yes, that's correct!\\nfrosty: Fantastic! Your toy list is complete. Have a happy holiday season, Liam!\" [/INST]</td>\n",
       "      <td>{\"toy_list\": [\"Playfoam Naturals Shape &amp; Learn Letters &amp; Numbers\"], \"location\": \"Dublin\"}</td>\n",
       "      <td>EN</td>\n",
       "    </tr>\n",
       "  </tbody>\n",
       "</table>\n",
       "</div>"
      ],
      "text/plain": [
       "                                                                                                                                                          instruction  \\\n",
       "0  Extract JSON response with 'location' and 'toy_list' as keys. 'location': Location of the caller. Include city only.'toy_list': List of toy names from the caller.   \n",
       "1  Extract JSON response with 'location' and 'toy_list' as keys. 'location': Location of the caller. Include city only.'toy_list': List of toy names from the caller.   \n",
       "2  Extract JSON response with 'location' and 'toy_list' as keys. 'location': Location of the caller. Include city only.'toy_list': List of toy names from the caller.   \n",
       "3  Extract JSON response with 'location' and 'toy_list' as keys. 'location': Location of the caller. Include city only.'toy_list': List of toy names from the caller.   \n",
       "4  Extract JSON response with 'location' and 'toy_list' as keys. 'location': Location of the caller. Include city only.'toy_list': List of toy names from the caller.   \n",
       "\n",
       "                                                                                                                                                                                                                                                                                                                                                                                                                                                                                                                                                                                                                                                                                                                                                                                                                                                                                                                                                                                                                                                                                                                                                                                                                                                                                                                                                                                                                                                                                                                                                                                                                                                                                                                                                                                                                                                                                                                                                                                                                                                     input  \\\n",
       "0                                                                                                   \\n[INST] <<SYS>>\\nBelow is an instruction that describes a task, paired with an input that provides further context. Write a response that appropriately completes the request.\\n<</SYS>>\\n### Instruction:\\nExtract JSON response with 'location' and 'toy_list' as keys.\\n'location': Location string of the caller.\\n'toy_list': List of toy names from the caller.\\n### Input:\\n\\n\"caller: Hey, I'm Jack, and I'm looking for a toy for my niece.\\nfrosty: Hello Jack! I'm Frosty, and I'd be happy to help you find the perfect toy. Where are you calling from?\\ncaller: I'm calling from Cape Town, South Africa.\\nfrosty: Thank you, Jack from Cape Town! Can you tell me a bit about your niece's interests so we can find a great toy for her?\\ncaller: She's really into animals and likes playing pretend with her toys.\\nfrosty: How about the Fisher-Price Little People Mickey and Friends Playset? This playset features animal characters and is perfect for encouraging imaginative play.\\ncaller: That sounds nice, but I think she'd prefer something focused on real animals.\\nfrosty: In that case, the Calico Critters Pony's Stylish Hair Salon may be just the toy you're looking for. It comes with pony figurines and a cute hair salon for them.\\ncaller: Oh, that sounds perfect! Let's go with the pony's hair salon.\\nfrosty: Great choice! We've added the Calico Critters Pony's Stylish Hair Salon to your holiday wish list. Before we finish though, can you tell me how you plan to celebrate the holiday season?\\ncaller: Sure, I'll be spending the holidays at the beach with my family and enjoying the warm weather.\\nfrosty: That sounds amazing! To confirm, your toy list includes the Calico Critters Pony's Stylish Hair Salon. Is that correct?\\ncaller: Yes, that's correct. Thank you!+\\nfrosty: You're welcome, Jack! It's been a pleasure assisting you. Have a fantastic holiday season!\" [/INST]   \n",
       "1                                                                                                                                                                                                  \\n[INST] <<SYS>>\\nBelow is an instruction that describes a task, paired with an input that provides further context. Write a response that appropriately completes the request.\\n<</SYS>>\\n### Instruction:\\nExtract JSON response with 'location' and 'toy_list' as keys.\\n'location': Location string of the caller.\\n'toy_list': List of toy names from the caller.\\n### Input:\\n\\n\"caller: Hi Frosty, I'm Emily.\\nfrosty: Hello Emily! I'm here to help you with your holiday wish list. Where are you calling from?\\ncaller: I'm calling from Sydney, Australia.\\nfrosty: Thank you, Emily from Sydney! What's the first item you'd like to add to your wish list?\\ncaller: I'm looking for a toy that's educational and fun for my son. He's really into science and technology.\\nfrosty: How about the Thames & Kosmos Candy Vending Machine STEM experiment kit? It combines science and technology with creating a candy vending machine!\\ncaller: That sounds great, but I'd like to explore some more options before deciding.\\nfrosty: Sure thing! We also have the LeapFrog Magic Adventures Microscope, which allows kids to explore the world of science up-close with a real working microscope.\\ncaller: I think the magic microscope is the one! Let's add that to my wish list.\\nfrosty: Fantastic choice! I've added the LeapFrog Magic Adventures Microscope to your list. Before we wrap up, tell me a bit about your favorite way to spend time during the holiday season.\\ncaller: I enjoy baking holiday treats and watching seasonal movies with my family.\\nfrosty: That sounds delightful! To confirm, your toy list includes the LeapFrog Magic Adventures Microscope. Is everything correct?\\ncaller: Yes, it is. Thanks for your help, Frosty!\\nfrosty: You're welcome, Emily! Have a wonderful holiday season!\" [/INST]   \n",
       "2               \\n[INST] <<SYS>>\\nBelow is an instruction that describes a task, paired with an input that provides further context. Write a response that appropriately completes the request.\\n<</SYS>>\\n### Instruction:\\nExtract JSON response with 'location' and 'toy_list' as keys.\\n'location': Location string of the caller.\\n'toy_list': List of toy names from the caller.\\n### Input:\\n\\n\"caller: Hi, I'm David!\\nfrosty: Hello David! I'm Frosty, and I'm here to help you submit your holiday wish list. Can you tell me where you're calling from?\\ncaller: I'm calling from Auckland, New Zealand.\\nfrosty: Thank you, David from Auckland. What item would you like to add to your holiday wish list?\\ncaller: I want to get a fun toy for my daughter, but I'm not sure what to choose.\\nfrosty: No worries, let's explore a few options together. What are some of your daughter's interests?\\ncaller: She loves playing with dolls and watching animated shows.\\nfrosty: How about the Gabbys Dollhouse Cruise Ship? It's based on the popular animated show and offers imaginative play with a fun cruise ship and doll figurines.\\ncaller: That sounds good, but I'd like to see more options, please.\\nfrosty: Of course! You might also consider the Bluey Ultimate Lights and Sounds Playhouse, based on the popular animated show Bluey. It has interactive lights and sounds that bring the playhouse to life.\\ncaller: Those both sound good, but I think my daughter would prefer the gabby dollhouse.\\nfrosty: Great choice! I've added the Gabbys Dollhouse Cruise Ship to your holiday wish list. Now, tell me about your favorite holiday memory.\\ncaller: My favorite memory is when we all went ice skating together as a family during the holidays.\\nfrosty: Sounds like a wonderful experience! To confirm, your toy list includes the Gabbys Dollhouse Cruise Ship. Is that correct?\\ncaller: Yes, that's correct.\\nfrosty: Excellent! Your wish list is all set. Have a fantastic holiday season, David!\" [/INST]   \n",
       "3                                                                                                                                                                                                                                                                                                                                                                                          \\n[INST] <<SYS>>\\nBelow is an instruction that describes a task, paired with an input that provides further context. Write a response that appropriately completes the request.\\n<</SYS>>\\n### Instruction:\\nExtract JSON response with 'location' and 'toy_list' as keys.\\n'location': Location string of the caller.\\n'toy_list': List of toy names from the caller.\\n### Input:\\n\\n\"caller: Hello, my name is Sarah.\\nfrosty: Hi Sarah! I'm Frosty, a voice bot here to assist you with your holiday wish list. Where are you calling from?\\ncaller: I'm calling from Los Angeles, United States.\\nfrosty: Thank you, Sarah from Los Angeles! Let's get started on your wish list. What's the first item you have in mind?\\ncaller: I'm thinking of getting the pokemon plushie for my son, but I'm not sure.\\nfrosty: The Pok\\u00e9mon 8-Inch Plush First Partner Three-Pack is an excellent choice for Pok\\u00e9mon fans! What do you think your son will enjoy the most about this toy?\\ncaller: He loves collecting Pok\\u00e9mon toys and watching the animated series, so I think he'd enjoy adding this to his collection.\\nfrosty: That's a great reason to choose this toy! How do you and your family plan to celebrate the holiday season?\\ncaller: We'll be hosting a game night and enjoying holiday treats with our loved ones.\\nfrosty: That sounds like a great way to spend the holidays! To confirm, your toy list includes the Pok\\u00e9mon 8-Inch Plush First Partner Three-Pack. Is that correct?\\ncaller: Yes, that's correct.\\nfrosty: Wonderful! Your toys have been added to your holiday wish list. Happy holidays, Sarah!\" [/INST]   \n",
       "4  \\n[INST] <<SYS>>\\nBelow is an instruction that describes a task, paired with an input that provides further context. Write a response that appropriately completes the request.\\n<</SYS>>\\n### Instruction:\\nExtract JSON response with 'location' and 'toy_list' as keys.\\n'location': Location string of the caller.\\n'toy_list': List of toy names from the caller.\\n### Input:\\n\\n\"caller: Hey, I'm Liam.\\nfrosty: Hello Liam! I'm Frosty, and I'm here to help you submit your holiday wish list. Where are you calling from?\\ncaller: I'm calling from Dublin, Ireland.\\nfrosty: Thank you, Liam from Dublin! What's the first item you'd like to add to your wish list?\\ncaller: I'm looking for something for my younger sister, but I'm not quite sure what she'd like.\\nfrosty: I'm here to help! Can you tell me a bit about your sister's interests and hobbies?\\ncaller: She loves arts and crafts, and she also enjoys watching nature documentaries.\\nfrosty: How about the National Geographic Mega Slime Kit & Putty Lab? It combines her love for crafts and nature with fun, slime-filled experiments.\\ncaller: That sounds interesting, but let's explore some more options.\\nfrosty: We also have the Playfoam Naturals Shape & Learn Letters & Numbers set, which allows her to create and learn using eco-friendly foam.\\ncaller: I believe the playfoam letters would be a perfect match! Let's add that to the list.\\nfrosty: Wonderful! We've added the Playfoam Naturals Shape & Learn Letters & Numbers set to your holiday wish list. Before we finish, can you tell me one of your favorite holiday memories?\\ncaller: My favorite holiday memory was when my family and I went to visit the local Christmas markets and enjoyed a cozy evening together.\\nfrosty: Sounds lovely! To confirm, your toy list includes the Playfoam Naturals Shape & Learn Letters & Numbers set. Is that correct?\\ncaller: Yes, that's correct!\\nfrosty: Fantastic! Your toy list is complete. Have a happy holiday season, Liam!\" [/INST]   \n",
       "\n",
       "                                                                                            output  \\\n",
       "0             {\"toy_list\": [\"Calico Critters Pony's Stylish Hair Salon\"], \"location\": \"Cape Town\"}   \n",
       "1                     {\"toy_list\": [\"LeapFrog Magic Adventures Microscope\"], \"location\": \"Sydney\"}   \n",
       "2                           {\"toy_list\": [\"Gabbys Dollhouse Cruise Ship\"], \"location\": \"Auckland\"}   \n",
       "3  {\"toy_list\": [\"Pok\\u00e9mon 8-Inch Plush First Partner Three-Pack\"], \"location\": \"Los Angeles\"}   \n",
       "4        {\"toy_list\": [\"Playfoam Naturals Shape & Learn Letters & Numbers\"], \"location\": \"Dublin\"}   \n",
       "\n",
       "  language  \n",
       "0       EN  \n",
       "1       EN  \n",
       "2       EN  \n",
       "3       EN  \n",
       "4       EN  "
      ]
     },
     "execution_count": 20,
     "metadata": {},
     "output_type": "execute_result"
    }
   ],
   "source": [
    "begin_prompt = \\\n",
    "\"\"\"\n",
    "[INST] <<SYS>>\n",
    "Below is an instruction that describes a task, paired with an input that provides further context. Write a response that appropriately completes the request.\n",
    "<</SYS>>\n",
    "### Instruction:\n",
    "Extract JSON response with 'location' and 'toy_list' as keys.\n",
    "'location': Location string of the caller.\n",
    "'toy_list': List of toy names from the caller.\n",
    "### Input:\n",
    "\n",
    "\"\"\"\n",
    "end_prompt = \" [/INST]\"\n",
    "\n",
    "eval_df['input'] = begin_prompt + eval_df['input'] + end_prompt\n",
    "eval_df = eval_df.reset_index(drop=True)\n",
    "eval_df.head()"
   ]
  },
  {
   "cell_type": "markdown",
   "metadata": {},
   "source": [
    "#### Inference on Eval Dataset using fine-tuned Llama 2"
   ]
  },
  {
   "cell_type": "code",
   "execution_count": 21,
   "metadata": {
    "tags": []
   },
   "outputs": [
    {
     "name": "stderr",
     "output_type": "stream",
     "text": [
      "WARNING:snowflake.snowpark:ModelReference.predict() is in private preview since 0.2.0. Do not use it in production. \n",
      "WARNING:snowflake.snowpark:ModelRegistry.get_deployment() is in private preview since 1.0.1. Do not use it in production. \n"
     ]
    },
    {
     "data": {
      "text/html": [
       "<div>\n",
       "<style scoped>\n",
       "    .dataframe tbody tr th:only-of-type {\n",
       "        vertical-align: middle;\n",
       "    }\n",
       "\n",
       "    .dataframe tbody tr th {\n",
       "        vertical-align: top;\n",
       "    }\n",
       "\n",
       "    .dataframe thead th {\n",
       "        text-align: right;\n",
       "    }\n",
       "</style>\n",
       "<table border=\"1\" class=\"dataframe\">\n",
       "  <thead>\n",
       "    <tr style=\"text-align: right;\">\n",
       "      <th></th>\n",
       "      <th>generated_text</th>\n",
       "    </tr>\n",
       "  </thead>\n",
       "  <tbody>\n",
       "    <tr>\n",
       "      <th>0</th>\n",
       "      <td>Sure! Here is the JSON response with 'location' and 'toy_list' as keys:\\n\\n{\\n\"location\": \"Cape Town, South Africa\",\\n\"toy_list\": [\\n\"Calico Critters Pony's Stylish Hair Salon\"\\n]\\n}</td>\n",
       "    </tr>\n",
       "    <tr>\n",
       "      <th>1</th>\n",
       "      <td>Sure! Here is the JSON response with 'location' and 'toy_list' as keys:\\n\\n{\\n\"location\": \"Sydney, Australia\",\\n\"toy_list\": [\\n\"LeapFrog Magic Adventures Microscope\"\\n]\\n}</td>\n",
       "    </tr>\n",
       "    <tr>\n",
       "      <th>2</th>\n",
       "      <td>Sure! Here is the JSON response with 'location' and 'toy_list' as keys:\\n\\n{\\n\"location\": \"Auckland, New Zealand\",\\n\"toy_list\": [\\n\"Gabbys Dollhouse Cruise Ship\"\\n]\\n}</td>\n",
       "    </tr>\n",
       "    <tr>\n",
       "      <th>3</th>\n",
       "      <td>Sure, here is the JSON response with 'location' and 'toy_list' as keys:\\n\\n{\\n\"location\": \"Los Angeles, United States\",\\n\"toy_list\": [\\n\"Pok\\u00e9mon 8-Inch Plush First Partner Three-Pack\"\\n]\\n}</td>\n",
       "    </tr>\n",
       "    <tr>\n",
       "      <th>4</th>\n",
       "      <td>Sure! Here is the JSON response with 'location' and 'toy_list' as keys:\\n\\n{\\n\"location\": \"Dublin, Ireland\",\\n\"toy_list\": [\\n\"Playfoam Naturals Shape &amp; Learn Letters &amp; Numbers set\"\\n]\\n}</td>\n",
       "    </tr>\n",
       "  </tbody>\n",
       "</table>\n",
       "</div>"
      ],
      "text/plain": [
       "                                                                                                                                                                                         generated_text\n",
       "0                Sure! Here is the JSON response with 'location' and 'toy_list' as keys:\\n\\n{\\n\"location\": \"Cape Town, South Africa\",\\n\"toy_list\": [\\n\"Calico Critters Pony's Stylish Hair Salon\"\\n]\\n}\n",
       "1                           Sure! Here is the JSON response with 'location' and 'toy_list' as keys:\\n\\n{\\n\"location\": \"Sydney, Australia\",\\n\"toy_list\": [\\n\"LeapFrog Magic Adventures Microscope\"\\n]\\n}\n",
       "2                               Sure! Here is the JSON response with 'location' and 'toy_list' as keys:\\n\\n{\\n\"location\": \"Auckland, New Zealand\",\\n\"toy_list\": [\\n\"Gabbys Dollhouse Cruise Ship\"\\n]\\n}\n",
       "3    Sure, here is the JSON response with 'location' and 'toy_list' as keys:\\n\\n{\\n\"location\": \"Los Angeles, United States\",\\n\"toy_list\": [\\n\"Pok\\u00e9mon 8-Inch Plush First Partner Three-Pack\"\\n]\\n}\n",
       "4            Sure! Here is the JSON response with 'location' and 'toy_list' as keys:\\n\\n{\\n\"location\": \"Dublin, Ireland\",\\n\"toy_list\": [\\n\"Playfoam Naturals Shape & Learn Letters & Numbers set\"\\n]\\n}"
      ]
     },
     "execution_count": 21,
     "metadata": {},
     "output_type": "execute_result"
    }
   ],
   "source": [
    "llama_model_ref.predict(deployment_name=DEPLOYMENT_NAME,data=eval_df).head()"
   ]
  },
  {
   "cell_type": "markdown",
   "metadata": {},
   "source": [
    "#### Clean Up Resources\n",
    "\n",
    "Delete deployment and the model"
   ]
  },
  {
   "cell_type": "code",
   "execution_count": 22,
   "metadata": {
    "tags": []
   },
   "outputs": [
    {
     "name": "stderr",
     "output_type": "stream",
     "text": [
      "WARNING:snowflake.snowpark:ModelRegistry.delete_deployment() is in private preview since 1.0.1. Do not use it in production. \n",
      "WARNING:snowflake.snowpark:ModelRegistry.delete_model() is in private preview since 0.2.0. Do not use it in production. \n"
     ]
    }
   ],
   "source": [
    "llama_model_ref.delete_deployment(deployment_name=DEPLOYMENT_NAME)\n",
    "llama_model_ref.delete_model(delete_artifact=True)"
   ]
  }
 ],
 "metadata": {
  "kernelspec": {
   "display_name": "snowpark-ml",
   "language": "python",
   "name": "snowpark-ml"
  },
  "language_info": {
   "codemirror_mode": {
    "name": "ipython",
    "version": 3
   },
   "file_extension": ".py",
   "mimetype": "text/x-python",
   "name": "python",
   "nbconvert_exporter": "python",
   "pygments_lexer": "ipython3",
   "version": "3.10.12"
  }
 },
 "nbformat": 4,
 "nbformat_minor": 4
}
